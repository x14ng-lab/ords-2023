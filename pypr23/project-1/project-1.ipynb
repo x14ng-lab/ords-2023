{
 "cells": [
  {
   "cell_type": "markdown",
   "id": "bf361ae8",
   "metadata": {},
   "source": [
    "# Project 1: Ranked-choice voting systems [40 marks]\n",
    "\n",
    "In this project, you will write Python functions to tally election results from a set of ballots submitted by voters, using different vote counting systems.\n",
    "\n",
    "You will write all your code as function definitions, in one of 3 modules: `ballot_data.py`, `pos.py`, `irv.py`, or `stv.py`. The second part of the Week 6 Monday lecture covers writing and using modules.\n",
    "\n",
    "- Each module should **only contain function definitions, and any required `import` statements** (for example if you need to import `numpy`).\n",
    "- For each question, a few simple **tests** will be provided in the notebook. You can use these to start checking that your function works as expected. They work similarly to your Coderunner quizzes.\n",
    "    - In some cases, the tests use `assert` statements (or similar functions from [`np.testing`](https://numpy.org/doc/stable/reference/routines.testing.html)).\n",
    "        - `assert X` will do nothing if `X` is `True`.\n",
    "        - `assert X` will produce an `AssertionError` if `X` is `False`.\n",
    "    - The provided tests are minimal (similar to the \"Examples\" provided for pre-checking in the Coderunner quizzes). To make sure that your function works fully with all possible inputs, you should add more of your own tests.\n",
    "    - Any tests that you write yourself will not be assessed.\n",
    "    - Some of the tests load a small amount of ballot data from a `.txt` file. You can look at the data itself by looking at the content of the files.\n",
    "    - When you submit on Gradescope, more automatic tests will be performed. You will see the results of **some** of these tests when you submit; if any fail, you can try to correct your code, and resubmit as many times as you want (until the deadline).\n",
    "    - Gradescope will also have hidden tests which will test your functions further (similar to the further tests in the Coderunner quizzes, which are run when you click \"Check\"). You will not see the results of these tests until the grades and feedback are returned to the class. This means, in particular, that *passing all the visible tests on Gradescope does not guarantee full marks.*\n",
    "- **Up to half** of the marks for a given question may be deducted for poor readability; missing, incomplete, or inaccurate code comments and/or docstrings; poor code structure and efficiency; or poorly displayed results. You can use the CR marking scheme for reference to make sure you submit good-quality code."
   ]
  },
  {
   "cell_type": "code",
   "execution_count": 1,
   "id": "461c8950",
   "metadata": {},
   "outputs": [],
   "source": [
    "# Run this cell to import modules\n",
    "import ballot_data as bd, pos, irv, stv\n",
    "import numpy as np\n",
    "import importlib"
   ]
  },
  {
   "cell_type": "markdown",
   "id": "f088ff37",
   "metadata": {},
   "source": [
    "---\n",
    "\n",
    "## Ranked-choice voting\n",
    "\n",
    "To experiment with different counting systems, we first need some ballots to count. In all cases for this project, a number of voters have been asked to fill their ballots by **ranking their favourite candidates in order of preference**; this is called _ranked-choice voting_.\n",
    "\n",
    "For ease of reference, we will index voters and candidates from 0, meaning that e.g. the first candidate on the ballot will be referred to as \"Candidate 0\".\n",
    "\n",
    "For example, with 5 candidates, one filled ballot might look like this:\n",
    "\n",
    "<div>\n",
    "<img src=\"img/ballot.png\" width=\"250px\" alt=\"Filled ballot example\"/>\n",
    "</div>\n",
    "\n",
    "This voter has selected Candidate 2 as their favourite candidate, and ranked them as first preference. They then ranked Candidate 4 as their second preference, and Candidate 1 as their third preference. They chose not to rank any other candidate -- presumably they really dislike Candidates 0 and 3.\n",
    "\n",
    "All ballots must have **at least one candidate ranked** as first preference to be valid, but each voter can choose to rank anywhere between 1 and all candidates, in order of preference. The voter in the example above chose to rank 3 candidates.\n",
    "\n",
    "Different vote counting systems can be used to process the ballot data in different ways, which will lead to different results -- this depends largely on how second, third, etc. preferences are counted. This project will explore some of these systems."
   ]
  },
  {
   "cell_type": "markdown",
   "id": "9cc67a4f",
   "metadata": {},
   "source": [
    "## Ballot data representation\n",
    "\n",
    "We choose to represent the ballot data using a rectangular NumPy array, where:\n",
    "\n",
    "- each **row** represents **one ballot** submitted by one voter;\n",
    "- each **column** represents the ranked preferences for **one candidate**;\n",
    "- a value of `0` indicates no ranking.\n",
    "\n",
    "For example, all the ballots for an election with 4 candidates and 10 voters might look like this:\n",
    "\n",
    "```\n",
    "[[1. 0. 0. 0.]\n",
    " [3. 2. 0. 1.]\n",
    " [0. 1. 2. 0.]\n",
    " [3. 2. 1. 4.]\n",
    " [1. 0. 2. 0.]\n",
    " [0. 0. 1. 2.]\n",
    " [0. 3. 2. 1.]\n",
    " [0. 0. 1. 0.]\n",
    " [4. 1. 3. 2.]\n",
    " [0. 1. 0. 0.]]\n",
    "```\n",
    "\n",
    "where, for example:\n",
    "\n",
    "- row 0 showing `[1. 0. 0. 0.]` means that Voter 0 has ranked Candidate 0 as their first preference, and chosen not to rank any other candidates;\n",
    "- row 1 showing `[3. 2. 0. 1.]` means that Voter 1 has ranked Candidate 3 as their first preference, Candidate 1 as their second preference, and Candidate 0 as their third preference;\n",
    "- etc.\n",
    "\n",
    "The function `generate_ballots()` is provided in `ballot_data.py` to generate random ballots for a given number of voters and candidates, and a target distribution of probabilities for each candidate to be ranked as a particular preference. You should not modify it -- it's provided for your information, and you should feel free to use it to generate datasets for testing your functions throughout the assignment."
   ]
  },
  {
   "cell_type": "markdown",
   "id": "a1245b49",
   "metadata": {},
   "source": [
    "## Tallying preferences\n",
    "\n",
    "Before we start calculating election results, we need to be able to tally the total voter preferences allocated to a given candidate, at a given rank.\n",
    "\n",
    "In `ballot_data.py`, you are given a function `select_ballots()` which takes 3 input arguments:\n",
    "\n",
    "- `ballots`, a NumPy array containing ballot data as explained above, with one row per ballot and one column per candidate,\n",
    "- `rank`, an integer between 1 and the total number of candidates (inclusive),\n",
    "- `candidate`, an integer between 0 and the total number of candidates minus 1 (inclusive), corresponding to a particular candidate,\n",
    "\n",
    "and returns a NumPy vector with the same length as the number of rows in `ballots` (the number of voters), containing `True` where the corresponding ballots have ranked candidate `candidate` as their `rank`th preference, and `False` everywhere else.\n",
    "\n",
    "Essentially, this function returns a mask or a stencil which will allow us to select only certain ballots we're interested in. For an example of this, review Exercise 3 in the Week 4 notebook; we can select certain parts of a NumPy array depending on a given condition.\n",
    "\n",
    "For example, `selector = select_ballots(ballots, 2, 1)` returns a NumPy vector, whose `True` values correspond to all the rows of `ballots` where candidate 1 was ranked as 2nd preference. Here is an example with 4 candidates -- the **important feature** is that **candidate 1 is ranked as 2nd preference** in all ballots selected using `selector`. (The selected ballots are indicated with `->` for clarity.)\n",
    "\n",
    "\n",
    "```\n",
    "        ballots          selector       ballots[selector]\n",
    "    \n",
    "->  [[1. 2. 0. 0.]       [True           [[1. 2. 0. 0.]\n",
    "     [0. 0. 1. 0.]        False           [0. 2. 1. 0.]\n",
    "     [1. 0. 3. 2.]        False           [3. 2. 1. 0.]\n",
    "     [0. 0. 0. 1.]        False           [0. 2. 0. 1.]]\n",
    "     [1. 3. 4. 2.]        False\n",
    "->   [0. 2. 1. 0.]        True\n",
    "->   [3. 2. 1. 0.]        True\n",
    "     [1. 4. 3. 2.]        False\n",
    "->   [0. 2. 0. 1.]        True\n",
    "     [0. 0. 1. 2.]]       False]\n",
    "```"
   ]
  },
  {
   "cell_type": "code",
   "execution_count": 2,
   "id": "dda5140f",
   "metadata": {},
   "outputs": [
    {
     "name": "stdout",
     "output_type": "stream",
     "text": [
      "[ True False False False False  True  True False  True False]\n",
      "[[1. 2. 0. 0.]\n",
      " [0. 2. 1. 0.]\n",
      " [3. 2. 1. 0.]\n",
      " [0. 2. 0. 1.]]\n"
     ]
    }
   ],
   "source": [
    "# Run this cell to test your function (don't change this code!)\n",
    "importlib.reload(bd);                        # Refresh any changes made to ballot_data.py\n",
    "ballots = np.loadtxt('testing/tally.txt')    # Load ballot data exactly as in the example above\n",
    "selector = bd.select_ballots(ballots, 2, 1)  # Use the function to select the ballots\n",
    "\n",
    "# This should correspond to the above\n",
    "print(selector)\n",
    "print(ballots[selector])"
   ]
  },
  {
   "cell_type": "markdown",
   "id": "bcfd3988",
   "metadata": {},
   "source": [
    "---\n",
    "\n",
    "#### 🚩 Task 1 [3 marks]\n",
    "\n",
    "In `ballot_data.py`, write a function `tally_preferences()` which takes 2 input arguments:\n",
    "\n",
    "- `ballots`, a NumPy array containing ballot data, with one row per ballot and one column per candidate,\n",
    "- `rank`, an integer between 1 and the total number of candidates (inclusive),\n",
    "\n",
    "and returns `preferences`, a list or a NumPy vector of the same length as the total number of candidates, which contains the total number of preferences at the given `rank` for each candidate, from left to right.\n",
    "\n",
    "For example, `tally_preferences(ballots, 1)` should count the number of 1st preferences given to each candidate. Using the same set of ballots as in the example above, the returned list or NumPy vector should be `[4, 0, 4, 2]`, since candidate 0 received 4 first preference votes; candidate 1 received 0 first preferences; etc."
   ]
  },
  {
   "cell_type": "code",
   "execution_count": 3,
   "id": "526edde4",
   "metadata": {},
   "outputs": [
    {
     "name": "stdout",
     "output_type": "stream",
     "text": [
      "Passed the tests.\n"
     ]
    }
   ],
   "source": [
    "# Run this cell to test your function (don't change this code!)\n",
    "importlib.reload(bd);\n",
    "ballots = np.loadtxt('testing/tally.txt')\n",
    "\n",
    "# Number of first preferences\n",
    "preferences = bd.tally_preferences(ballots, 1)\n",
    "np.testing.assert_equal(preferences, [4, 0, 4, 2])\n",
    "\n",
    "# Number of third preferences\n",
    "preferences = bd.tally_preferences(ballots, 3)\n",
    "np.testing.assert_equal(preferences, [1, 1, 2, 0])\n",
    "\n",
    "print('Passed the tests.')"
   ]
  },
  {
   "cell_type": "markdown",
   "id": "8c7a97cf",
   "metadata": {},
   "source": [
    "---\n",
    "\n",
    "## Electing a candidate\n",
    "\n",
    "Now that we have a way to tally preferences for all candidates at any rank, we can proceed to electing a candidate. There exist many different ways to count votes and elect a candidate from ranked-choice ballots; we will implement some of these.\n",
    "\n",
    "---\n",
    "\n",
    "***Note:*** when writing functions for the rest of the assignment, in `pos.py` and in `irv.py`, you will need to use your functions `select_ballots()` and `tally_preferences()` from `ballot_data.py`.\n",
    "\n",
    "You will see `import ballot_data as bd` at the top of `pos.py` and `irv.py`. **Don't change it**! With this statement, use `bd.select_ballots()` and `bd.tally_preferences()` whenever you need to use any of the functions from `ballot_data.py`, as is done in the notebook.\n",
    "\n",
    "---"
   ]
  },
  {
   "cell_type": "markdown",
   "id": "0b3b4ddf",
   "metadata": {},
   "source": [
    "## Positional voting\n",
    "\n",
    "In **positional voting**, the rank given to each candidate on the ballot is worth a certain weight, or a certain number of points (this is equivalent). Normally, higher-ranked preference votes are given more weight than lower-ranked preferences.\n",
    "\n",
    "Here is an example: with 3 candidates, we could decide that\n",
    "\n",
    "- first preferences are worth 3 points,\n",
    "- second preferences are worth 2 points,\n",
    "- third preferences are worth 1 point.\n",
    "\n",
    "This means that a first-preference vote is worth 3 times the weight of a third-preference vote, for instance.\n",
    "\n",
    "The votes are counted by tallying all the first, second, etc. preferences for each candidate, each time multiplying the count by the corresponding weight, and summing the total. For instance, if there are 7 ballots with ranked preferences for our 3 candidates:\n",
    "\n",
    "```\n",
    "[[0. 1. 0.]\n",
    " [1. 2. 3.]\n",
    " [1. 2. 0.]\n",
    " [1. 2. 3.]\n",
    " [3. 1. 2.]\n",
    " [0. 1. 0.]\n",
    " [1. 2. 0.]]\n",
    "```\n",
    "\n",
    "Counting the number of 1st, 2nd, and 3rd preferences for each candidate, we have:\n",
    "\n",
    "| | Candidate 0 | Candidate 1 | Candidate 2 |\n",
    "|:--:|:--:|:--:|:--:|\n",
    "| 1st preferences (3 pts) | 4 | 3 | 0 |\n",
    "| 2nd preferences (2 pts) | 0 | 4 | 1 |\n",
    "| 3rd preferences (1 pt) | 1 | 0 | 2 |\n",
    "\n",
    "Finally, counting the points:\n",
    "- Candidate 0 gets $4\\times 3 + 0 \\times 2 + 1 \\times 1 = 13$ points.\n",
    "- Candidate 1 gets $3\\times 3 + 4 \\times 2 + 0 \\times 1 = 17$ points.\n",
    "- Candidate 2 gets $0\\times 3 + 1 \\times 2 + 2 \\times 1 = 4$ points.\n",
    "\n",
    "Candidate 1 is elected with 17 points.\n",
    "\n",
    "The weights in this example are `[3, 2, 1]`, but this is not the only possible choice. For instance, some systems would use `[2, 1, 0]`; others use `[1, 1/2, 1/3]`; etc.\n",
    "\n",
    "---\n",
    "\n",
    "#### 🚩 Task 2 [5 marks]\n",
    "\n",
    "In `pos.py`, write a function `positional_voting()` which takes 2 input arguments:\n",
    "\n",
    "- `ballots`, a NumPy array containing ballot data, with one row per ballot and one column per candidate,\n",
    "- `weights`, a list with the same length as the number of candidates, containing the weights attributed to each preference rank, in decreasing order (with the weight for the 1st preference given first, etc.),\n",
    "\n",
    "and returns `results`, a list or NumPy vector with the same length as the number of candidates, containing the total number of points obtained by each candidate using the positional voting system with the weights given in `weights`.\n",
    "\n",
    "For instance, using the example above, `positional_voting(ballots, [3, 2, 1])` should return `[13, 17, 4]`."
   ]
  },
  {
   "cell_type": "code",
   "execution_count": 4,
   "id": "5b1d1c84",
   "metadata": {},
   "outputs": [
    {
     "name": "stdout",
     "output_type": "stream",
     "text": [
      "Passed the tests.\n"
     ]
    }
   ],
   "source": [
    "importlib.reload(pos);\n",
    "ballots = np.array([[0, 1, 0],\n",
    "                    [1, 2, 3],\n",
    "                    [1, 2, 0],\n",
    "                    [1, 2, 3],\n",
    "                    [3, 1, 2],\n",
    "                    [0, 1, 0],\n",
    "                    [1, 2, 0]])\n",
    "\n",
    "# Testing the proposed example\n",
    "results = pos.positional_voting(ballots, [3, 2, 1])\n",
    "np.testing.assert_equal(results, [13, 17, 4])\n",
    "\n",
    "# Choosing weights to only count 3rd preferences\n",
    "results = pos.positional_voting(ballots, [0, 0, 1])\n",
    "np.testing.assert_equal(results, [1, 0, 2])\n",
    "\n",
    "# k+1th preference is half the weight of kth preference\n",
    "results = pos.positional_voting(ballots, [1, 1/2, 1/4])\n",
    "np.testing.assert_equal(results, [4.25, 5, 1])\n",
    "\n",
    "print('Passed the tests.')"
   ]
  },
  {
   "cell_type": "markdown",
   "id": "024d677d",
   "metadata": {},
   "source": [
    "---\n",
    "\n",
    "#### 🚩 Task 3 [6 marks]\n",
    "\n",
    "In `pos.py`, write a function `display_results()` which takes 2 input arguments:\n",
    "\n",
    "- `ballots`, a NumPy array containing ballot data, with one row per ballot and one column per candidate,\n",
    "- `weight_sets`, a **list of `N` lists** containing `N` different `weights` lists as defined in Task 2,\n",
    "\n",
    "and generates a figure containing `N` subplots, stacked **vertically**.\n",
    "\n",
    "- Each subplot should display a **bar chart**, with one bar indicating the overall score for each candidate, calculated with the positional voting method using a given set of weights.\n",
    "- Each subplot should have some indication of what weights were used to calculate the results (e.g. in the title of the plot, or as an annotation).\n",
    "- In each subplot, the winner of the election should be shown clearly. For example, you could display their bar in a different colour.\n",
    "- Your function should work, and display the appropriate number of subplots, for any number of weight sets (for any $N \\geq 1$).\n",
    "- To calculate the results, your function should call `positional_voting()`.\n",
    "\n",
    "You can run the cell below to test your function. Doing so should display 3 charts below the code cell, with appropriate sizes, labels, and clearly displaying the winner, without adding any further code to the cell. In particular, make sure that the last line in your function definition is `plt.show()`.\n",
    "\n",
    "With these particular example ballots and sets of weights, you should see that the 3 different voting systems produce 3 different winners.\n",
    "\n",
    "_For information, the 3 sets of weights used in this example (which has 6 candidates) correspond to actual existing voting systems:_\n",
    "\n",
    "- _The first set corresponds to a variant of the_ Borda count: _first preferences are given 5 points, second preferences 4 points, etc., until 6th preferences which are given 0 points._\n",
    "- _The second set corresponds to_ first-past-the-post: _only first preferences are counted._\n",
    "- _The third set corresponds to the_ Dowdall system: _preferences are weighted by 1, 1/2, 1/3, 1/4, etc. respectively._"
   ]
  },
  {
   "cell_type": "code",
   "execution_count": 5,
   "id": "136a7f69",
   "metadata": {},
   "outputs": [
    {
     "data": {
      "image/png": "[encoded data removed]",
      "text/plain": [
       "<Figure size 800x1500 with 3 Axes>"
      ]
     },
     "metadata": {},
     "output_type": "display_data"
    }
   ],
   "source": [
    "importlib.reload(pos);\n",
    "ballots = np.loadtxt('testing/charts.txt')\n",
    "\n",
    "# weight_sets is a list of 3 lists of weights, therefore we expect to see 3 charts\n",
    "weight_sets = [[5, 4, 3, 2, 1, 0],\n",
    "               [1, 0, 0, 0, 0, 0],\n",
    "               [1/i for i in range(1, 7)]]\n",
    "pos.display_results(ballots, weight_sets)"
   ]
  },
  {
   "cell_type": "markdown",
   "id": "4df2d8f2",
   "metadata": {},
   "source": [
    "## Instant runoff vote\n",
    "\n",
    "Another way to elect a candidate using ranked-choice ballots is called **instant-runoff vote**. To win, a candidate needs to be the last candidate standing after all others are eliminated.\n",
    "\n",
    "Here is how we proceed:\n",
    "\n",
    "1. We start by counting the **first preference** votes. This is our baseline number of votes for each candidate.\n",
    "2. We then **eliminate** the **least popular candidate**, looking at the number of first preference votes.\n",
    "3. We look at all the ballots which had the eliminated candidate as first preference, and **redistribute** the votes according to the **second preferences** on those ballots.\n",
    "4. After eliminating one candidate and redistributing their votes to the others, we go back to step 1 until we have eliminated all candidates except one. They are the winner.\n",
    "\n",
    "We'll break this process down into several parts.\n",
    "\n",
    "---"
   ]
  },
  {
   "cell_type": "markdown",
   "id": "2722d93f",
   "metadata": {},
   "source": [
    "### Eliminating a candidate\n",
    "\n",
    "First, we need a way to find the least popular candidate.\n",
    "\n",
    "#### 🚩 Task 4 [8 marks]\n",
    "\n",
    "In `irv.py`, write a function `find_least_popular()` which takes 2 input arguments:\n",
    "\n",
    "- `ballots`, a NumPy array containing ballot data, with one row per ballot and one column per candidate,\n",
    "- `eliminated`, a list of integers (of variable length between 0 and the number of candidates minus 1) which keeps track of all candidates which have been eliminated previously,\n",
    "\n",
    "and returns an integer between 0 and the total number of candidates minus 1, which corresponds to the index of the next candidate to eliminate.\n",
    "\n",
    "- You may obtain up to 4 marks for this question if you assume that there will be **no ties**. To do this, your function `find_least_popular()` will only need to find which of the _remaining_ candidates has the fewest first-preference votes.\n",
    "  \n",
    "  \n",
    "- For full marks, your function will need to be able to resolve ties, i.e. cases where 2 or more of the remaining candidates have the same smallest number of first preferences. To resolve a tie, compare the number of second preferences between the tied candidates. If there is still a tie, compare the number of third preferences; etc.\n",
    "\n",
    "  In the (extremely unlikely!) event that there is still a tie after checking all preferences, you should eliminate the candidate with the smallest index. For example, if Candidates 2 and 5 are still tied, eliminate Candidate 2.\n",
    "\n",
    "Resolving ties is a harder problem -- it is strongly recommended that you start with the no-ties function, continue with the rest of the assignment, and come back to this question when you are done with the rest.\n",
    "\n",
    "_Hints:_\n",
    "\n",
    "- You will need to use your function `tally_preferences()` to count the number of preferences for each candidate.\n",
    "- You will also need to use the list `eliminated` to keep track of which candidates are no longer in the race. This is to ensure that you don't return a candidate which had already been eliminated in a previous round.\n",
    "- NumPy has [useful functions](https://numpy.org/doc/stable/reference/routines.sort.html#searching) to search for particular values in arrays."
   ]
  },
  {
   "cell_type": "code",
   "execution_count": 6,
   "id": "fd1474b3",
   "metadata": {},
   "outputs": [
    {
     "name": "stdout",
     "output_type": "stream",
     "text": [
      "Tests passed for no-tie\n"
     ]
    }
   ],
   "source": [
    "importlib.reload(irv);\n",
    "ballots = np.loadtxt('testing/task4_notie.txt')\n",
    "\n",
    "# First elimination should be candidate 1, then candidate 0\n",
    "assert irv.find_least_popular(ballots, []) == 1\n",
    "assert irv.find_least_popular(ballots, [1]) == 0\n",
    "print('Tests passed for no-tie')"
   ]
  },
  {
   "cell_type": "code",
   "execution_count": 7,
   "id": "d913d038",
   "metadata": {},
   "outputs": [
    {
     "name": "stdout",
     "output_type": "stream",
     "text": [
      "Tests passed for tie\n"
     ]
    }
   ],
   "source": [
    "importlib.reload(irv);\n",
    "ballots = np.loadtxt('testing/task4_tie.txt')\n",
    "\n",
    "# First elimination should be candidate 2, then candidate 1\n",
    "assert irv.find_least_popular(ballots, []) == 2\n",
    "assert irv.find_least_popular(ballots, [2]) == 1\n",
    "print('Tests passed for tie')"
   ]
  },
  {
   "cell_type": "markdown",
   "id": "9abcfeca",
   "metadata": {},
   "source": [
    "---\n",
    "\n",
    "### Redistributing the votes\n",
    "\n",
    "After a candidate is eliminated, we need to update the ballots to redistribute the votes. For brevity, let's call the currently eliminated candidate E.\n",
    "\n",
    "- Ballots which did **not** rank E as any of their preferences are unchanged.\n",
    "- Ballots which ranked E as their `n`th preference (with `n` between 1 and the total number of candidates) are updated as follows:\n",
    "    - Stronger preferences (i.e. `m`th preference, where `m` < `n`) for other candidates are left unchanged.\n",
    "    - The preference for E is changed from `n` to `0`.\n",
    "    - Weaker preferences (i.e. `m`th preference, where `m` > `n`) for other candidates are upgraded by 1 rank.\n",
    "\n",
    "Here is an example, with 3 ballots and 5 candidates. If Candidate 2 is eliminated, those ballots then become:\n",
    "\n",
    "```\n",
    "     before               after      \n",
    "[1. 0. 0. 2. 0.]     [1. 0. 0. 2. 0.]\n",
    "[1. 4. 3. 5. 2.]     [1. 3. 0. 4. 2.]\n",
    "[4. 0. 1. 3. 2.]     [3. 0. 0. 2. 1.]\n",
    "```\n",
    "\n",
    "- The first ballot hadn't ranked Candidate 2 as one of their choices; it's left unchanged.\n",
    "- The second ballot had ranked Candidate 2 as their third preference.\n",
    "    - Since Candidate 2 is eliminated, they're now unranked.\n",
    "    - Candidate 1's rank is upgraded from 4 to 3.\n",
    "    - Candidate 3's rank is upgraded from 5 to 4.\n",
    "    - First and second preferences are still unchanged by the elimination of Candidate 2.\n",
    "- The third ballot had ranked Candidate 2 as their first preference.\n",
    "    - Since Candidate 2 is eliminated, they're now unranked.\n",
    "    - All other candidates which had been ranked below, are upgraded by 1 rank.\n",
    "\n",
    "The effects of this are:\n",
    "\n",
    "- Candidate 2 is now unranked in all ballots -- they are effectively eliminated from the competition.\n",
    "- The first-preference vote in the third ballot for Candidate 2 (now eliminated) is redistributed to Candidate 4 (which was the voter's second preference) -- this is exactly what we needed.\n",
    "- Preferences are still given consecutively, without gaps -- this makes it easier to deal with future eliminations.\n",
    "\n",
    "---\n",
    "\n",
    "#### 🚩 Task 5 [6 marks]\n",
    "\n",
    "In `irv.py`, write a function `update_ballots()` which takes 2 input arguments:\n",
    "\n",
    "- `ballots`, a NumPy array containing ballot data, with one row per ballot and one column per candidate,\n",
    "- `to_eliminate`, an integer between 0 and the number of candidates minus 1 (inclusive), which corresponds to the candidate eliminated this round,\n",
    "\n",
    "and returns the modified array `ballots`, where the relevant ballots have been updated as explained above."
   ]
  },
  {
   "cell_type": "code",
   "execution_count": 8,
   "id": "a0180b75",
   "metadata": {},
   "outputs": [
    {
     "name": "stdout",
     "output_type": "stream",
     "text": [
      "Passed test.\n"
     ]
    }
   ],
   "source": [
    "importlib.reload(irv);\n",
    "ballots = np.array([[1, 0, 0, 2, 0],\n",
    "                    [1, 4, 3, 5, 2],\n",
    "                    [4, 0, 1, 3, 2]])\n",
    "expected = np.array([[1, 0, 0, 2, 0],\n",
    "                     [1, 3, 0, 4, 2],\n",
    "                     [3, 0, 0, 2, 1]])\n",
    "updated_ballots = irv.update_ballots(ballots, 2)\n",
    "np.testing.assert_equal(updated_ballots, expected)\n",
    "print('Passed test.')"
   ]
  },
  {
   "cell_type": "markdown",
   "id": "d593d000",
   "metadata": {},
   "source": [
    "---\n",
    "\n",
    "### Calculating the results\n",
    "\n",
    "Now that we have our functions to find and eliminate one candidate at a time, as well as redistribute their votes, let's run the election!\n",
    "\n",
    "\n",
    "---\n",
    "\n",
    "#### 🚩 Task 6 [6 marks]\n",
    "\n",
    "In `irv.py`, write a function `calculate_results()` which takes 1 input argument:\n",
    "\n",
    "- `ballots`, a NumPy array containing ballot data, with one row per ballot and one column per candidate,\n",
    "\n",
    "and returns two outputs:\n",
    "\n",
    "- `winner`, an integer between 0 and the number of candidates minus 1 (inclusive), which corresponds to the candidate which has won the election,\n",
    "- `eliminated`, a list with the same length as the number of candidates minus 1, containing integers between 0 and the number of candidates minus 1 (inclusive) corresponding to the eliminated candidates, in the order in which they were eliminated.\n",
    "\n",
    "Your function should use `find_least_popular()` and `update_ballots()` to complete each elimination."
   ]
  },
  {
   "cell_type": "code",
   "execution_count": 9,
   "id": "73427b4b",
   "metadata": {},
   "outputs": [
    {
     "name": "stdout",
     "output_type": "stream",
     "text": [
      "Passed test\n"
     ]
    }
   ],
   "source": [
    "importlib.reload(irv);\n",
    "ballots = np.loadtxt('testing/task6.txt')\n",
    "winner, eliminated = irv.calculate_results(ballots)\n",
    "assert winner == 0\n",
    "assert eliminated == [2, 3, 1]\n",
    "print('Passed test')"
   ]
  },
  {
   "cell_type": "code",
   "execution_count": 10,
   "metadata": {},
   "outputs": [
    {
     "name": "stdout",
     "output_type": "stream",
     "text": [
      "Passed test.\n"
     ]
    }
   ],
   "source": [
    "# A test which involves a tie for Task 6.\n",
    "importlib.reload(irv);\n",
    "\n",
    "# This election should elect candidate 3, and eliminate candidates 0, 4, 1, 2 in this order.\n",
    "# If ties are not resolved in Task 4, the result will likely be 0, 1, 4, 2 instead, but this test should still pass and say so.\n",
    "ballots = np.loadtxt('testing/task6_tie.txt')\n",
    "elected, eliminated = irv.calculate_results(ballots)\n",
    "assert elected == 3\n",
    "try:\n",
    "    assert eliminated == [0, 4, 1, 2]\n",
    "    print('Passed test.')\n",
    "except AssertionError:\n",
    "    assert eliminated == [0, 1, 4, 2], 'Incorrect result.'\n",
    "    print('Passed test with no-tie version of Task 4.')"
   ]
  },
  {
   "cell_type": "markdown",
   "id": "e954256e",
   "metadata": {},
   "source": [
    "---\n",
    "\n",
    "## Single transferable vote\n",
    "\n",
    "Finally, here is a more challenging problem. The **single transferable vote** system, or STV, can be seen as an extension to IRV, in the case where there are multiple seats to fill (instead of a single candidate to elect). For instance, Scottish council elections use this system to elect councillors. [This is a great explainer](https://ballotbox.scot/councils/stv-explained/), with an example from Glasgow from the 2017 local elections -- you can refer to this for a more detailed explanation.\n",
    "\n",
    "The basic principle of votes transferring between candidates according to second preferences is broadly the same as in IRV. The key difference is that there are 2 possible situations where votes can be transferred:\n",
    "\n",
    "- When a candidate is eliminated, their second preference votes are fully transferred to the other candidates (exactly as in IRV).\n",
    "- When a candidate is _elected_, their **surplus** second preference votes are also transferred to the other candidates.\n",
    "\n",
    "Instead of eliminating candidates until we are left with just one, we need to first check, at every round, whether any candidates are **elected**. A candidate is elected if they have at least a required quota of first-preference votes. This quota is calculated as:\n",
    "\n",
    "$$\n",
    "\\text{quota} = \\frac{\\text{number of votes}}{\\text{number of seats} + 1} + 1\n",
    "$$\n",
    "\n",
    "where we use integer division.\n",
    "\n",
    "When a candidate is **elected**, their second preference votes are also transferred to other candidates, but with a **weighting** equal to\n",
    "\n",
    "$$\n",
    "\\frac{\\text{number of first preference votes} - \\text{quota}}{\\text{number of first preference votes}}\n",
    "$$\n",
    "\n",
    "For instance, if the quota is 100 first-preference votes to get elected, and a candidate got 120 first-preference votes, the weighting is equal to $\\frac{120 - 100}{120} = 0.167$. The second-preference votes in the ballots which had placed this candidate as first preference are then redistributed amongst the other candidates, with a weighting of 0.167, meaning that each second-preference vote counts for 0.167 vote for the candidate upon which the vote has been redistributed.\n",
    "\n",
    "When no candidates currently have enough votes to go over the quota, we revert back to eliminating the least popular candidate, following the same procedure as for IRV. This time, their second-preference votes are redistributed with a weighting of 1 to the other candidates (as in IRV).\n",
    "\n",
    "---\n",
    "\n",
    "#### 🚩 Task 7 [6 marks]\n",
    "\n",
    "In `stv.py`, write a function `stv_results()` which takes 2 input arguments:\n",
    "\n",
    "- `ballots`, a NumPy array containing ballot data, with one row per ballot and one column per candidate,\n",
    "- `seats`, an integer between 1 and the number of candidates (inclusive), which corresponds to the number of seats up for election,\n",
    "\n",
    "and returns 2 outputs:\n",
    "\n",
    "- `elected`, a list with length `seats` containing the index of the elected candidates, in the order in which they were elected;\n",
    "- `eliminated`, a list with the same length as the number of candidates minus the number of seats, containing the index of the eliminated candidates, in the order in which they were eliminated.\n",
    "\n",
    "_Partial marks can be achieved for partially correct attempts._"
   ]
  },
  {
   "cell_type": "code",
   "execution_count": 11,
   "id": "1fc8a2ad",
   "metadata": {
    "scrolled": false
   },
   "outputs": [
    {
     "name": "stdout",
     "output_type": "stream",
     "text": [
      "Passed test 1.\n",
      "Passed test 2.\n"
     ]
    }
   ],
   "source": [
    "# 2 simple tests for STV -- you can copy/paste this code into the last cell in the notebook.\n",
    "importlib.reload(stv);\n",
    "\n",
    "# This election should elect candidates 3 and 2, and eliminate candidates 0 and 1.\n",
    "ballots = np.loadtxt('testing/task7_1.txt')\n",
    "elected, eliminated = stv.stv_results(ballots, seats=2)\n",
    "assert elected == [3, 2]\n",
    "assert eliminated == [0, 1]\n",
    "print('Passed test 1.')\n",
    "\n",
    "# This election should elect candidates 2 and 1, and eliminate candidate 3.\n",
    "# Candidate 0 should also be eliminated by default after candidates 2 and 1 are elected,\n",
    "# as there are only 2 seats available.\n",
    "ballots = np.loadtxt('testing/task7_2.txt')\n",
    "elected, eliminated = stv.stv_results(ballots, seats=2)\n",
    "assert elected == [1, 2]\n",
    "# Pass the test whether algorithm proceeded with the final elimination,\n",
    "# or stopped early as soon as 2 candidates were elected\n",
    "assert eliminated in [[0], [0, 3]]\n",
    "print('Passed test 2.')"
   ]
  },
  {
   "cell_type": "code",
   "execution_count": 12,
   "metadata": {},
   "outputs": [
    {
     "name": "stdout",
     "output_type": "stream",
     "text": [
      "[2, 3, 4, 5]\n",
      "[0, 1, 7, 6]\n"
     ]
    },
    {
     "ename": "AssertionError",
     "evalue": "",
     "output_type": "error",
     "traceback": [
      "\u001b[0;31m---------------------------------------------------------------------------\u001b[0m",
      "\u001b[0;31mAssertionError\u001b[0m                            Traceback (most recent call last)",
      "\u001b[1;32m/Users/xiang/Library/CloudStorage/OneDrive-UniversityofEdinburgh/UoE - 1 year/P1S1/MATH11199_Python Programming/project-1-x14ng-lab/project-1.ipynb Cell 25\u001b[0m line \u001b[0;36m1\n\u001b[1;32m      <a href='vscode-notebook-cell:/Users/xiang/Library/CloudStorage/OneDrive-UniversityofEdinburgh/UoE%20-%201%20year/P1S1/MATH11199_Python%20Programming/project-1-x14ng-lab/project-1.ipynb#X33sZmlsZQ%3D%3D?line=7'>8</a>\u001b[0m \u001b[39mprint\u001b[39m(elected)\n\u001b[1;32m      <a href='vscode-notebook-cell:/Users/xiang/Library/CloudStorage/OneDrive-UniversityofEdinburgh/UoE%20-%201%20year/P1S1/MATH11199_Python%20Programming/project-1-x14ng-lab/project-1.ipynb#X33sZmlsZQ%3D%3D?line=8'>9</a>\u001b[0m \u001b[39mprint\u001b[39m(eliminated)\n\u001b[0;32m---> <a href='vscode-notebook-cell:/Users/xiang/Library/CloudStorage/OneDrive-UniversityofEdinburgh/UoE%20-%201%20year/P1S1/MATH11199_Python%20Programming/project-1-x14ng-lab/project-1.ipynb#X33sZmlsZQ%3D%3D?line=9'>10</a>\u001b[0m \u001b[39massert\u001b[39;00m elected \u001b[39m==\u001b[39m [\u001b[39m2\u001b[39m, \u001b[39m3\u001b[39m, \u001b[39m5\u001b[39m, \u001b[39m4\u001b[39m]\n\u001b[1;32m     <a href='vscode-notebook-cell:/Users/xiang/Library/CloudStorage/OneDrive-UniversityofEdinburgh/UoE%20-%201%20year/P1S1/MATH11199_Python%20Programming/project-1-x14ng-lab/project-1.ipynb#X33sZmlsZQ%3D%3D?line=10'>11</a>\u001b[0m \u001b[39massert\u001b[39;00m eliminated \u001b[39m==\u001b[39m [\u001b[39m0\u001b[39m, \u001b[39m1\u001b[39m, \u001b[39m7\u001b[39m, \u001b[39m6\u001b[39m]\n\u001b[1;32m     <a href='vscode-notebook-cell:/Users/xiang/Library/CloudStorage/OneDrive-UniversityofEdinburgh/UoE%20-%201%20year/P1S1/MATH11199_Python%20Programming/project-1-x14ng-lab/project-1.ipynb#X33sZmlsZQ%3D%3D?line=11'>12</a>\u001b[0m \u001b[39mprint\u001b[39m(\u001b[39m'\u001b[39m\u001b[39mPassed test with Glasgow data.\u001b[39m\u001b[39m'\u001b[39m)\n",
      "\u001b[0;31mAssertionError\u001b[0m: "
     ]
    }
   ],
   "source": [
    "# Another test for STV -- you can copy/paste this code into the last cell in the notebook.\n",
    "importlib.reload(stv);\n",
    "\n",
    "# This tests your algorithm on the same data as in the ballotbox.scot explainer.\n",
    "\n",
    "ballots = np.loadtxt('testing/task7_glasgow.txt')\n",
    "elected, eliminated = stv.stv_results(ballots, seats=4)\n",
    "print(elected)\n",
    "print(eliminated)\n",
    "assert elected == [2, 3, 5, 4]\n",
    "assert eliminated == [0, 1, 7, 6]\n",
    "print('Passed test with Glasgow data.')\n",
    "\n",
    "# To make sure you transfer surplus votes correctly, you can also make your function\n",
    "# print out the first-preference vote tally (appropriately weighted) at every round,\n",
    "# and check that you get the same numbers in each stage as on the webpage.\n"
   ]
  }
 ],
 "metadata": {
  "kernelspec": {
   "display_name": "Python 3 (ipykernel)",
   "language": "python",
   "name": "python3"
  },
  "language_info": {
   "codemirror_mode": {
    "name": "ipython",
    "version": 3
   },
   "file_extension": ".py",
   "mimetype": "text/x-python",
   "name": "python",
   "nbconvert_exporter": "python",
   "pygments_lexer": "ipython3",
   "version": "3.11.5"
  }
 },
 "nbformat": 4,
 "nbformat_minor": 5
}
