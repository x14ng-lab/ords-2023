{
 "cells": [
  {
   "cell_type": "markdown",
   "metadata": {},
   "source": [
    "# Project 2 report (Group 15)\n",
    "GitHub repository: https://github.com/pypr23/project-2-group-15"
   ]
  },
  {
   "cell_type": "markdown",
   "metadata": {},
   "source": [
    "# Introduction"
   ]
  },
  {
   "cell_type": "markdown",
   "metadata": {},
   "source": [
    "The public health system is increasingly worried in the post-pandemic age. The public health system in the United Kingdom (UK) is primarily centered on the National Health Service (NHS), which offers free health care to all UK residents based on need rather than ability to pay. One component of NHS is the GP service, which refers to primary health care provided by general practitioners (GPs) in the United Kingdom. In recent years, GP services have always been criticized, such as long wait times and poor quality. Patients at a Lanarkshire practice, for example, claim they have been unable to schedule appointments due to unmanageably long waiting lists and overworked physicians, putting their lives in danger (https://www.heraldscotland.com/news/23917188.scottish-gp-group-looked-serious-complaints/). GP services can be roughly thought of as a demand and supply issue. Infection concerns are represented by demand, and GP services are represented by supply.Therefore, in order to determine the true situation of UK public healthcare, an investigation into infection situation and GP supply will be conducted, employing Python to present and assess data. There is also would like to give some advice. To begin with, please run the following code in order to make sure every code is runable in coming sections."
   ]
  },
  {
   "cell_type": "markdown",
   "metadata": {},
   "source": [
    "## Package Going to Be Used"
   ]
  },
  {
   "cell_type": "code",
   "execution_count": null,
   "metadata": {},
   "outputs": [],
   "source": [
    "import importlib\n",
    "import numpy as np\n",
    "import pandas as pd\n",
    "import requests\n",
    "from bs4 import BeautifulSoup\n",
    "import seaborn as sns\n",
    "from matplotlib import pyplot as plt\n",
    "import datetime as dt\n",
    "import ipywidgets as widgets\n",
    "from IPython.display import display\n",
    "from plotly.subplots import make_subplots\n",
    "import plotly.graph_objects as go\n",
    "import geopandas\n",
    "import mapclassify\n",
    "from plotly.subplots import make_subplots\n",
    "import plotly.express as px\n",
    "import branca as bc\n",
    "import folium\n",
    "from folium import plugins\n",
    "\n",
    "\n",
    "### General Function\n",
    "import Functions.General as general\n",
    "\n",
    "### Infection Issuses Investigation Functions\n",
    "import Functions.prevalence as pr\n",
    "\n",
    "### GP Analysis Functions\n",
    "import Functions.GP as gp_func\n",
    "\n",
    "### Prescription Functions\n",
    "import Functions.prescription as rx"
   ]
  },
  {
   "cell_type": "markdown",
   "metadata": {},
   "source": [
    "## Data Going to be Used"
   ]
  },
  {
   "cell_type": "markdown",
   "metadata": {},
   "source": [
    "### Prevalence Data"
   ]
  },
  {
   "cell_type": "code",
   "execution_count": null,
   "metadata": {},
   "outputs": [],
   "source": [
    "redownload = True\n",
    "#reloading used library for this subsection\n",
    "importlib.reload(general);"
   ]
  },
  {
   "cell_type": "code",
   "execution_count": null,
   "metadata": {},
   "outputs": [],
   "source": [
    "prevalence_data = general.get_data(\"diseaseprevalence_scotland_total.csv\", 'https://publichealthscotland.scot/media/21148/diseaseprevalence_scotland_total.xlsx', redownload, sheet_name=\"DP_Scotland_total\")\n",
    "prevalence_data_female = general.get_data('diseaseprevalence_scotland_f.csv','https://publichealthscotland.scot/media/21146/diseaseprevalence_scotland_f.xlsx', redownload, sheet_name=\"DP_Scotland_F\")\n",
    "prevalence_data_male = general.get_data('diseaseprevalence_scotland_m.csv','https://publichealthscotland.scot/media/21147/diseaseprevalence_scotland_m.xlsx', redownload, sheet_name=\"DP_Scotland_M\")"
   ]
  },
  {
   "cell_type": "code",
   "execution_count": null,
   "metadata": {},
   "outputs": [],
   "source": [
    "#General Data Cleaning\n",
    "prevalence_data_all_age = prevalence_data[prevalence_data['Age']==\"All\"].copy()\n",
    "prevalence_data_all_age = prevalence_data.groupby(['Year']).sum(numeric_only = True)\n",
    "\n",
    "#Calculating Infection Population, this means that it's regardless of demographics or illness kind\n",
    "prevalence_data_all_age_total = pd.DataFrame()\n",
    "prevalence_data_all_age_count = prevalence_data_all_age.iloc[0:,1:20].copy()\n",
    "prevalence_data_all_age_total[\"Total (Count)\"] = prevalence_data_all_age_count.sum(axis=1)"
   ]
  },
  {
   "cell_type": "markdown",
   "metadata": {},
   "source": [
    "Data Resource: https://www.scotlandscensus.gov.uk/documents/scotland-s-census-2022-rounded-population-estimates-data/"
   ]
  },
  {
   "cell_type": "code",
   "execution_count": null,
   "metadata": {},
   "outputs": [],
   "source": [
    "#Population Data\n",
    "population = general.get_data('scotland-s-census-2022-first-results-rounded-population-estimates-data.csv','Data/Population/scotland-s-census-2022-first-results-rounded-population-estimates-data.xlsx', redownload, sheet_name=\"Figure 1\", skiprows=[0,1,2])\n",
    "population = population[17:].set_index('Year')"
   ]
  },
  {
   "cell_type": "code",
   "execution_count": null,
   "metadata": {},
   "outputs": [],
   "source": [
    "#Prevalence Data Divided by Board Division\n",
    "prevalence_data_board = general.get_data('diseaseprevalence_board_total.csv','https://publichealthscotland.scot/media/21136/diseaseprevalence_board_total.xlsx', redownload, sheet_name = \"DP_Board_total\")"
   ]
  },
  {
   "cell_type": "markdown",
   "metadata": {},
   "source": [
    "### GP Data"
   ]
  },
  {
   "cell_type": "code",
   "execution_count": null,
   "metadata": {},
   "outputs": [],
   "source": [
    "redownload = False\n",
    "#reloading used library for this subsection\n",
    "importlib.reload(general);"
   ]
  },
  {
   "cell_type": "code",
   "execution_count": null,
   "metadata": {},
   "outputs": [],
   "source": [
    "GP_workforce = general.get_data('table1_number_of_gps_in_scotland_by_age_designation_sex_2012_2022.csv','https://publichealthscotland.scot/media/16746/table1_number_of_gps_in_scotland_by_age_designation_sex_2012_2022.xlsx', redownload, sheet_name=\"Sex\", header=5, skipfooter=3)\n",
    "GP_workforce = GP_workforce.rename(columns={\"Unnamed: 0\":\"Gender\"})"
   ]
  },
  {
   "cell_type": "code",
   "execution_count": null,
   "metadata": {},
   "outputs": [],
   "source": [
    "GP_practice_list = general.get_data('practice_contactdetails_oct2023.csv','https://publichealthscotland.scot/media/23639/practice_contactdetails_oct2023.xlsx', redownload, sheet_name=\"Practice_ContactDetails\", skiprows=5)\n",
    "GP_practice_list[\"NHS Board Name\"] = GP_practice_list[\"NHS Board Name\"].str.replace(\"&\",\"and\")"
   ]
  },
  {
   "cell_type": "code",
   "execution_count": null,
   "metadata": {},
   "outputs": [],
   "source": [
    "#GP demographics data\n",
    "GP_demographics = general.get_data('demographics_2023_q1.csv','https://publichealthscotland.scot/media/22255/demographics_2023_q1.xlsx', redownload, sheet_name = \"Age-Gender\")\n",
    "GP_demographics.rename(columns={\"Board\":\"HBName\"}, inplace=True)\n",
    "GP_demographics[\"Year\"] = GP_demographics[\"Quarter\"].str.slice(stop=4)\n",
    "GP_demographics[\"HBName\"] = GP_demographics[\"HBName\"].str.slice(start=3)\n",
    "GP_demographics[\"HBName\"] = GP_demographics[\"HBName\"].str.replace(\"&\",\"and\")"
   ]
  },
  {
   "cell_type": "code",
   "execution_count": null,
   "metadata": {},
   "outputs": [],
   "source": [
    "#GP workforce data divided by Board\n",
    "GP_board = general.get_data('table2_number_of_gps_nhsboard_designation_sex_2012_2022.csv','https://publichealthscotland.scot/media/16747/table2_number_of_gps_nhsboard_designation_sex_2012_2022.xlsx', redownload, sheet_name=\"Data\", header=2)\n",
    "GP_board.drop(\"Lookup\", axis=\"columns\", inplace=True)\n",
    "GP_board[\"NHS Board\"] = GP_board[\"NHS Board\"].str.replace(\"&\",\"and\")"
   ]
  },
  {
   "cell_type": "markdown",
   "metadata": {},
   "source": [
    "Data Resource: https://www.nrscotland.gov.uk/statistics-and-data/geography/our-products/scottish-postcode-directory/2023-2"
   ]
  },
  {
   "cell_type": "code",
   "execution_count": null,
   "metadata": {},
   "outputs": [],
   "source": [
    "#There will be a DtypeWarning but that problematic columns will not be used\n",
    "Small_user = general.get_data_zip('SmallUser.csv','https://www.nrscotland.gov.uk/files//geography/2023-2/SPD_PostcodeIndex_Cut_2023_2_CSV.zip', redownload)\n",
    "Small_user = Small_user[Small_user['DateOfDeletion'].isnull()].copy()\n",
    "\n",
    "Large_user = general.get_data_zip('LargeUser.csv','https://www.nrscotland.gov.uk/files//geography/2023-2/SPD_PostcodeIndex_Cut_2023_2_CSV.zip', redownload)\n",
    "Large_user = Large_user[Large_user['DateOfDeletion'].isnull()].copy()\n"
   ]
  },
  {
   "cell_type": "markdown",
   "metadata": {},
   "source": [
    "### Prescription Data"
   ]
  },
  {
   "cell_type": "markdown",
   "metadata": {},
   "source": [
    "Researchers can import the necessary data files in this section of the code."
   ]
  },
  {
   "cell_type": "code",
   "execution_count": null,
   "metadata": {},
   "outputs": [],
   "source": [
    "redownload = False\n",
    "#reloading used library for this subsection\n",
    "importlib.reload(general);\n",
    "importlib.reload(rx);"
   ]
  },
  {
   "cell_type": "markdown",
   "metadata": {},
   "source": [
    "Resources: https://applications.nhsbsa.nhs.uk/infosystems/data/showDataSelector.do?reportId=126"
   ]
  },
  {
   "cell_type": "code",
   "execution_count": null,
   "metadata": {},
   "outputs": [],
   "source": [
    "#BNF Item Code Reference 2023\n",
    "prescription_code = general.get_data(\"20231101_1698828903284_BNF_Code_Information.csv\", \"Data/BNF Code/20231101_1698828903284_BNF_Code_Information.csv\", redownload)\n",
    "prescription_code['BNF Presentation'] = prescription_code['BNF Presentation'].str.lower()"
   ]
  },
  {
   "cell_type": "code",
   "execution_count": null,
   "metadata": {},
   "outputs": [],
   "source": [
    "#Prescription data in 07/2023\n",
    "prescription_data = general.get_data(\"pitc202307.csv\", \"https://www.opendata.nhs.scot/dataset/84393984-14e9-4b0d-a797-b288db64d088/resource/7bb45ee6-6f1c-45f4-933b-958bdbe0ca4f/download/pitc202307.csv\", redownload)\n",
    "prescription_data = rx.unify(prescription_data)\n",
    "prescription_data['BNF Presentation Code'] = prescription_data['BNF Presentation Code'].astype(str)"
   ]
  },
  {
   "cell_type": "code",
   "execution_count": null,
   "metadata": {},
   "outputs": [],
   "source": [
    "#Prescription data over three years (202007 - 202306)\n",
    "base_dir = r\"Data\"\n",
    "dates = [f'{year}{month:02d}' for year in range(2020, 2023+1) for month in range(1, 13)]\n",
    "dates = [date for date in dates if not (date.startswith(\"2020\") and int(date[-2:]) < 7) and not (date.startswith(\"2023\") and int(date[-2:]) > 6)]\n",
    "\n",
    "#Get the file link from the website\n",
    "url = 'https://www.opendata.nhs.scot/dataset/prescriptions-in-the-community'\n",
    "web = requests.get(url)                        \n",
    "soup = BeautifulSoup(web.text, \"html.parser\")  \n",
    "result = soup.findAll('a', attrs={'class':'resource-url-analytics'})\n",
    "links = []\n",
    "for h in result:\n",
    "    link = h.get('href')\n",
    "    if any(date in link for date in dates):\n",
    "        links.append(link)\n",
    "        \n",
    "#Import all datasets, including the columns 'BNFItemCode' and 'PaidDateMonth'. \n",
    "#Rename the column 'BNFItemCode' to 'BNFCode'.   \n",
    "prescription_data_3yrs = pd.concat(\n",
    "    [general.get_data(f\"pitc{dates[n]}.csv\", links[n], redownload, usecols=['BNFItemCode', 'PaidDateMonth']).rename(columns={'BNFItemCode': 'BNFCode'}) \n",
    "     for n in range(len(links))]\n",
    ")\n",
    "\n",
    "#Sort the data by the 'PaidDateMonth' column in date order.\n",
    "prescription_data_3yrs = prescription_data_3yrs.sort_values(by='PaidDateMonth')"
   ]
  },
  {
   "cell_type": "markdown",
   "metadata": {},
   "source": [
    "### Shape File for Plotting Maps"
   ]
  },
  {
   "cell_type": "code",
   "execution_count": null,
   "metadata": {},
   "outputs": [],
   "source": [
    "#Loading the shape file\n",
    "path = \"Data/shapefile/SG_NHS_HealthBoards_2019.shp\"\n",
    "shape_df = geopandas.read_file(path)\n",
    "shape_df = shape_df.set_index('HBName')"
   ]
  },
  {
   "cell_type": "markdown",
   "metadata": {},
   "source": [
    "# Analysis"
   ]
  },
  {
   "cell_type": "markdown",
   "metadata": {},
   "source": [
    "As the **Board division** is the **largest division of NHS Services**, to obtain an **overview geographic distribution** for each data, the Board division will be used in this report."
   ]
  },
  {
   "cell_type": "markdown",
   "metadata": {},
   "source": [
    "### Prevalence Study (Demand)"
   ]
  },
  {
   "cell_type": "code",
   "execution_count": null,
   "metadata": {},
   "outputs": [],
   "source": [
    "#reloading used library for this subsection\n",
    "importlib.reload(pr);"
   ]
  },
  {
   "cell_type": "markdown",
   "metadata": {},
   "source": [
    "#### Trend of Infected Population"
   ]
  },
  {
   "cell_type": "code",
   "execution_count": null,
   "metadata": {},
   "outputs": [],
   "source": [
    "fig = make_subplots(rows=1, cols=2, shared_yaxes=True, subplot_titles=('Infectious Population from 2018 to 2023','Population Trend from 1981 to 2022'))\n",
    "#Scatter Plot of Infectious Population\n",
    "fig.add_trace(go.Scatter(x=prevalence_data_all_age_total.index, y=prevalence_data_all_age_total[\"Total (Count)\"],name='Infectious Population'),row=1, col=1)\n",
    "\n",
    "#Scatter Plot of Population\n",
    "fig.add_trace(go.Scatter(x=population.index, y=population[\"All persons\\n[Note 2]\"], name='Population'), row=1, col=2)\n",
    "\n",
    "#Setting up the axes\n",
    "fig.update_yaxes(title_text=\"Population\", row=1, col=1)\n",
    "fig.update_xaxes(title_text=\"Year\", row=1, col=1)\n",
    "fig.update_xaxes(title_text=\"Year\", row=1, col=2)\n",
    "fig.update_traces(marker=dict(color='#638583'), row=1, col=1)\n",
    "fig.update_traces(marker=dict(color='#ECC558'), row=1, col=2)\n",
    "\n",
    "fig.update_layout(height=600, width=1300, title_text=\"Comparision between Infectious Population and Population\", xaxis2=dict(tickvals=population.index))\n",
    "fig.show()"
   ]
  },
  {
   "cell_type": "markdown",
   "metadata": {},
   "source": [
    "It is more fair to make the visual comparison with the y-axis limit set to the same.\n",
    "\n",
    "Observations:\n",
    "1.   Surprisingly, the **diseased population fell from 2020 to 2021**. It is speculated that this is due to the UK government implementing lockdown from 2020 to 2021.\n",
    "2.   Besides, According to the graph above, both the **population** and the **diseased population** are **growing**. From 2018 to 2023, **infectious population increases around 8.9%**. To elaborate, the number of infections should be proportional to the population. The **[National Records of Scotland](https://www.nrscotland.gov.uk/statistics-and-data/statistics/statistics-by-theme/population/population-projections/population-projections-scotland/2020-based)** state that higher migration estimates will cause the **population to grow until roughly mid-2033**, when it is expected to peak at 5.53 million, increasing the number of affected people. It is expected to fall by 0.6% to 5.49 million by 2045, but if the 2018 baseline is used, the projection could ascend. Simply speaking, the **demand of GP services will be increased**. To be more certain, the infectious population will also be predicted."
   ]
  },
  {
   "cell_type": "markdown",
   "metadata": {},
   "source": [
    "#### Infectious Population Prediction"
   ]
  },
  {
   "cell_type": "markdown",
   "metadata": {},
   "source": [
    "Common Prediction Methodologies:\n",
    "\n",
    "1.   **Regression models:** It is assumed that the residual follows a **normal distribution**, which has a high probability of being true when the amount of data is substantial. However, because there is insufficient data, Regression is **NOT** possible.\n",
    "2.   **Time Series Analysis (e.g., the ARIMA model):** The charts above have previously demonstrated that the data is not steady, hence **invalidating the ARIMA model's stationary assumption**. Again, because the amount of data is small, alternative time series analyses, such as the GARCH model or even taking a difference to do the ARIMA model, will not function well. Time Series Analysis is thus **NOT** feasible.\n",
    "\n",
    "Eventually, there is going to attempt to employ **Monte-Carlo Forecasting**."
   ]
  },
  {
   "cell_type": "markdown",
   "metadata": {},
   "source": [
    "Remarks:\n",
    "\n",
    "1. `Prediction Year`: means how many years would like to predict (e.g. 10 means 10 years from 2023). This value must be **larger than 1**. Since prediction error will increase according to the increasing of year, the **maximum** of this value should be **100**.\n",
    "2. `Trials`: means how many possibilities would like to see (e.g. 50 means 50 lines/possibliities). This value must be **larger than 0**. Since increasing the number of trials will increase the computational time and it is not necessary for too many possibilities, the **maximum** of this value should be **500**"
   ]
  },
  {
   "cell_type": "markdown",
   "metadata": {},
   "source": [
    "*If you are unable to run the code, please refer to the two demonstration videos in the 'Interactive Plots Demonstration' folder.*"
   ]
  },
  {
   "cell_type": "code",
   "execution_count": null,
   "metadata": {},
   "outputs": [],
   "source": [
    "semi_inter = True #Change it to be False to display a full auto simulation plot\n",
    "if semi_inter:    \n",
    "    pr.mc_sim_semi_interactive(df = prevalence_data_all_age_total)\n",
    "else:\n",
    "    pr.mc_sim_interactive(df = prevalence_data_all_age_total)"
   ]
  },
  {
   "cell_type": "code",
   "execution_count": null,
   "metadata": {},
   "outputs": [],
   "source": [
    "sns.set()\n",
    "pr.mc_sim_non_interactive(prevalence_data_all_age_total)"
   ]
  },
  {
   "cell_type": "markdown",
   "metadata": {},
   "source": [
    "The infectious population for the **current year (2023) is represented by the black horizontal line**. Each line represents a distinct possibility. While the infected population may drop in the coming years, the **infectious population will increase overall**, according to the line chart below. Therefore, before resolving this issue, the existing situation should be reviewed."
   ]
  },
  {
   "cell_type": "markdown",
   "metadata": {},
   "source": [
    "#### Current Status of Infection Statistics"
   ]
  },
  {
   "cell_type": "markdown",
   "metadata": {},
   "source": [
    "##### Common Diseases"
   ]
  },
  {
   "cell_type": "code",
   "execution_count": null,
   "metadata": {},
   "outputs": [],
   "source": [
    "plot_df = prevalence_data_all_age.copy()\n",
    "type = ['Patients Counting','Rate']\n",
    "for t in type:\n",
    "  pr.bar_visual(t,plot_df)"
   ]
  },
  {
   "cell_type": "markdown",
   "metadata": {},
   "source": [
    "As can be seen from the above plots, the average number of persons affected by **hypertension *(1057758)***, **depression *(6189370)***, and **asthma *(5184187)*** between 2018 and 2023 is a clear indication of the prevalent illnesses.  Their relative prevalence rates are *338.6*, *137.1*, and *123.8*. In the United Kingdom, for example, an estimated 339 individuals out of every 100,000 have hypertension."
   ]
  },
  {
   "cell_type": "code",
   "execution_count": null,
   "metadata": {},
   "outputs": [],
   "source": [
    "plot_df = prevalence_data_all_age.copy()\n",
    "pr.bar_visual(\"Change\",plot_df)"
   ]
  },
  {
   "cell_type": "markdown",
   "metadata": {},
   "source": [
    "Surprisingly, the **top three diseases that are increasing** in prevalence are **eating disorders**, **COPD**, and **stroke and TIA**."
   ]
  },
  {
   "cell_type": "markdown",
   "metadata": {},
   "source": [
    "##### Prevalence vs Demographics Satitistics (i.e. age group and gender)"
   ]
  },
  {
   "cell_type": "markdown",
   "metadata": {},
   "source": [
    "According to the dataset's definition of prevalence rate, **prevalence is how widespread an illness is in a population**. **Prevalence rate** will therefore be used in this section to determine the distribution within a given population group."
   ]
  },
  {
   "cell_type": "code",
   "execution_count": null,
   "metadata": {},
   "outputs": [],
   "source": [
    "top_num = 3 #Change this number if you want to see more diseases distribution\n",
    "prevalence_data_age = prevalence_data[prevalence_data['Age']!=\"All\"].copy()\n",
    "prevalence_data_age = prevalence_data_age.groupby(['Age']).mean(numeric_only = True)\n",
    "prevalence_data_age_count = prevalence_data_age.iloc[:,40:].copy()\n",
    "top = [t.replace(\"Rate_\", \"\" ) for t in pr.sorting(prevalence_data_age_count.mean(numeric_only=True),top_num)]\n",
    "print(f\"Distribution plot for showing {top_num} most common diseases distribution on averge from 2018 to 2023 by gender\")\n",
    "pr.dist_visual(top,prevalence_data_male, prevalence_data_female)"
   ]
  },
  {
   "cell_type": "markdown",
   "metadata": {},
   "source": [
    "The graph above illustrates the spread of three most prevalent illnesses in the United Kingdom by **gender** and **age group**.\n",
    "\n",
    "1. It clearly demonstrates that age is connected to the type of disease.  For instance,  **when a person reach a certain age, he/she is more prone to get hypertension**.\n",
    "2. It also states unequivocally that gender is related to the infection. **Females** have an **increased risk of contracting these three common diseases**. **Female *depression prevalence* is substantially higher than male depression prevalence.** In other words, greater attention should be paid to female mental health."
   ]
  },
  {
   "cell_type": "markdown",
   "metadata": {},
   "source": [
    "##### Prevalence vs Location"
   ]
  },
  {
   "cell_type": "code",
   "execution_count": null,
   "metadata": {},
   "outputs": [],
   "source": [
    "#Preparing Data for Analysis\n",
    "prevalence_data_board_all_age_board = prevalence_data_board[prevalence_data_board['Age'] == \"All\"].copy()\n",
    "prevalence_data_board_all_age_board = prevalence_data_board_all_age_board.groupby(['GPPractice/Area', 'Year']).sum(numeric_only = True)\n",
    "prevalence_data_board_all_age_board = prevalence_data_board_all_age_board.groupby([ 'GPPractice/Area']).mean(numeric_only = True)\n",
    "index = [id.replace(\"NHS \", \"\") for id in prevalence_data_board_all_age_board.index]\n",
    "prevalence_data_board_all_age_board['HBName'] = index\n",
    "prevalence_data_board_all_age_board = prevalence_data_board_all_age_board.set_index('HBName')\n",
    "prevalence_data_board_all_age_board['HBName'] = index\n",
    "prevalence_data_board_all_age_board['HBName'] = prevalence_data_board_all_age_board['HBName'].str.replace(\"&\",\"and\")\n",
    "df_plot_map = pd.melt(prevalence_data_board_all_age_board.iloc[:,39:], id_vars=\"HBName\", var_name=\"Diseases\", value_name=\"Prevalence Rates\")\n",
    "df_plot_map[\"Diseases\"]= df_plot_map[\"Diseases\"].str.replace(\"Rate_\",\"\")\n",
    "df_plot_map['Info'] = [f'{df_plot_map.iloc[i,0]} : {round(df_plot_map.iloc[i,2],2)}' for i in  range(df_plot_map.shape[0])]\n",
    "df_plot_map = df_plot_map.set_index('HBName')"
   ]
  },
  {
   "cell_type": "code",
   "execution_count": null,
   "metadata": {},
   "outputs": [],
   "source": [
    "top_num = 3 #Change this number if you want to see more diseases distribution\n",
    "prevalence_data_age = prevalence_data[prevalence_data['Age']!=\"All\"].copy()\n",
    "prevalence_data_age = prevalence_data_age.groupby(['Age']).mean(numeric_only = True)\n",
    "prevalence_data_age_count = prevalence_data_age.iloc[:,40:].copy()\n",
    "top = [t.replace('Rate_','') for t in pr.sorting(prevalence_data_age_count.mean(numeric_only=True), top_num)]\n",
    "print(f\"Map for showing {top_num} most common diseases distribution on averge from 2018 to 2023\")\n",
    "pr.map_visual(df_plot_map, shape_df, top)"
   ]
  },
  {
   "cell_type": "markdown",
   "metadata": {},
   "source": [
    "The graph above depicts the geographic distribution of three most prevalent diseases in the United Kingdom.\n",
    "\n",
    "1. It (the most left graph) appears that the **prevalence of hypertension** will be **higher in more northern NHS Board areas**.\n",
    "2. For **others top spread diseases**, the **distribution appears to be uniform**.\n",
    "3. There should be awared that the **prevalence of three diseases are also very high in  Shetland**"
   ]
  },
  {
   "cell_type": "code",
   "execution_count": null,
   "metadata": {},
   "outputs": [],
   "source": [
    "top_num = 3 #Change this number if you want to see more diseases distribution\n",
    "prevalence_data_age = prevalence_data[prevalence_data['Age']!=\"All\"].copy()\n",
    "prevalence_data_age = prevalence_data_age.groupby(['Age']).mean(numeric_only = True)\n",
    "prevalence_data_age_count = prevalence_data_age.iloc[:,40:].copy()\n",
    "top = [t.replace('Rate_','') for t in pr.sorting(prevalence_data_age_count.mean(numeric_only=True),top_num)]\n",
    "disease = 0\n",
    "index = []\n",
    "while True:\n",
    "    print(\"Which interactive map would like to display?\")\n",
    "    print(\"Common Diseases:\")\n",
    "    for t in range(len(top)):\n",
    "        print(f\"{t}. {top[t]}\")\n",
    "        index.append(str(t))\n",
    "    disease = input(f\"Please enter {[t for t in range(len(top))]}\")\n",
    "    if disease not in index:\n",
    "        print(f\"Please Enter {[t for t in range(len(top))]}, {disease} is not a appropriate input!\")\n",
    "    else:\n",
    "        disease = int(disease)\n",
    "        break;\n",
    "print(f\"Generating Interactive Map for {top[disease]}...\")\n",
    "df_plot = df_plot_map[df_plot_map['Diseases']==top[disease]].copy()\n",
    "geo_df_prevalence = shape_df.join(df_plot)\n",
    "geo_df_prevalence['Board'] = geo_df_prevalence.index\n",
    "geo_df_prevalence['Info'] = [f'{geo_df_prevalence.iloc[i,-1]} : {round(geo_df_prevalence.iloc[i,5],2)}' for i in  range(geo_df_prevalence.shape[0])]\n",
    "geo_df_prevalence.explore(column = \"Prevalence Rates\", tooltip = \"Info\", legend=True, cmap='YlOrRd', missing_kwds={'color': 'white', 'edgecolor': 'red','hatch': '///','label': 'Missing values'})"
   ]
  },
  {
   "cell_type": "markdown",
   "metadata": {},
   "source": [
    "### GP Practice Analysis (Supply)"
   ]
  },
  {
   "cell_type": "code",
   "execution_count": null,
   "metadata": {},
   "outputs": [],
   "source": [
    "#reloading used library for this subsection\n",
    "importlib.reload(gp_func); "
   ]
  },
  {
   "cell_type": "markdown",
   "metadata": {},
   "source": [
    "#### Trend of GP Workforce"
   ]
  },
  {
   "cell_type": "code",
   "execution_count": null,
   "metadata": {},
   "outputs": [],
   "source": [
    "GP_workforce_plot = pd.melt(GP_workforce, id_vars=\"Gender\", var_name=\"Year\", value_name=\"Number of Workforce\")\n",
    "gp_func.line_chart(GP_workforce_plot)\n"
   ]
  },
  {
   "cell_type": "markdown",
   "metadata": {},
   "source": [
    "From **2018 to 2022**, the **overall GP workforce increased by about 4.5%**, whereas the **infectious population increased by about 7%**. To further explain, the **growing GP workforce cannot keep up with the growing infectious population**. Besides, the number of **men** in the GP workforce **exceeds** that of **female**, and it is **increasing**. The **chasm between the two is growing bigger**. In other words, ***female's* labor-force participation is dropping while *men's* labor-force participation is increasing**."
   ]
  },
  {
   "cell_type": "markdown",
   "metadata": {},
   "source": [
    "#### GP Location Distribution"
   ]
  },
  {
   "cell_type": "code",
   "execution_count": null,
   "metadata": {},
   "outputs": [],
   "source": [
    "GP_practice_list_count = pd.DataFrame({\"Number of GP\":GP_practice_list.groupby(\"NHS Board Name\").size()})\n",
    "GP_practice_list_count[\"HBName\"] = GP_practice_list_count.index\n",
    "px.bar(GP_practice_list_count,x=\"HBName\",y=\"Number of GP\", color=\"HBName\", height=800, title=\"Number of GP by Board Region in 2023\")"
   ]
  },
  {
   "cell_type": "code",
   "execution_count": null,
   "metadata": {},
   "outputs": [],
   "source": [
    "GP_demographics_patients = GP_demographics.groupby([\"Year\",\"HBName\"]).sum(numeric_only = True)\n",
    "GP_demographics_patients = GP_demographics_patients.reset_index(level=[0,1])\n",
    "px.bar(GP_demographics_patients,x=\"HBName\",y=\"Total Patients\", color=\"Year\", barmode=\"group\", height=800, title=\"Number of Patients by Board Region from 2018 to 2023\")"
   ]
  },
  {
   "cell_type": "code",
   "execution_count": null,
   "metadata": {},
   "outputs": [],
   "source": [
    "#Cleaning workforce dataset for plotting map\n",
    "workforce_map = GP_board.groupby(\"NHS Board\").sum(numeric_only = True).iloc[:,6:]\n",
    "workforce_map = pd.DataFrame(workforce_map.mean(axis=1))\n",
    "workforce_map.rename(columns={0:\"Number of Workforce\"}, inplace=True)\n",
    "\n",
    "#Cleaning \"number of patients\" dataset for plotting map\n",
    "GP_demographics_patients_map = GP_demographics_patients[GP_demographics_patients[\"Year\"]!=\"2023\"]\n",
    "GP_demographics_patients_map= GP_demographics_patients_map.set_index(\"HBName\")\n",
    "GP_demographics_patients_map = GP_demographics_patients_map.iloc[:,:3]\n",
    "GP_demographics_patients_map.drop(\"Practice\", axis=\"columns\", inplace=True)\n",
    "GP_demographics_patients_map[\"HBName\"] = GP_demographics_patients_map.index\n",
    "GP_demographics_patients_map = pd.DataFrame(GP_demographics_patients_map.pivot(index=\"HBName\", columns='Year').mean(axis=1))\n",
    "GP_demographics_patients_map.rename(columns={0:\"Number of Patients\"}, inplace=True)\n",
    "GP_demographics_patients_map = GP_demographics_patients_map.sort_index()\n",
    "\n",
    "geo_df_GP = shape_df.join(workforce_map).join(GP_practice_list_count.drop(columns=\"HBName\"))\n",
    "geo_df_GP.sort_index()\n",
    "geo_df_GP[\"Number of Patients\"] = GP_demographics_patients_map[\"Number of Patients\"].values"
   ]
  },
  {
   "cell_type": "code",
   "execution_count": null,
   "metadata": {},
   "outputs": [],
   "source": [
    "fig, axes = plt.subplots(1,3,figsize=(25,8))\n",
    "geo_df_GP.plot('Number of Workforce', legend=True, cmap='BuPu', legend_kwds={\"label\":\"Number of Workforce\"}, ax=axes[0]).set(title=f\"Location Distribution of Amount of Patients\");\n",
    "geo_df_GP.plot('Number of GP', legend=True, cmap='BuPu', legend_kwds={\"label\":\"Number of GP\"}, ax=axes[1]).set(title=f\"Location Distribution of Number of GP\");\n",
    "geo_df_GP.plot('Number of Patients', legend=True, cmap='BuPu', legend_kwds={\"label\":\"Number of Patients\"}, ax=axes[2]).set(title=f\"Location Distribution of Amount of Patients\");\n",
    "plt.suptitle(\"Location Distribution of 5 Years Average Values (from 2018 to 2022)\");"
   ]
  },
  {
   "cell_type": "markdown",
   "metadata": {},
   "source": [
    "1. The bar chart plainly shows that **Greater Glasgow and Clyde** has the **greatest number of GPs**, **patients** and **workforce**.\n",
    "2. The map shows that the **number of GPs** in **Shetland** is very **low**, yet the prevalence rate of the three prevalent diseases listed in the preceding section is relatively high in that region. Furthermore, the **number of patients** is **NOT as low as** in **other places** such as Highland."
   ]
  },
  {
   "cell_type": "code",
   "execution_count": null,
   "metadata": {},
   "outputs": [],
   "source": [
    "All_user = Large_user.merge(Small_user,how='outer')\n",
    "ALL = All_user.merge(GP_practice_list, on='Postcode')\n",
    "\n",
    "practice_location = ALL[[\"Practice Name\",\"Latitude\",\"Longitude\"]].copy()\n",
    "# Create point geometries\n",
    "geometry = geopandas.points_from_xy(practice_location.Longitude, practice_location.Latitude)\n",
    "geo_df_heat_GP = geopandas.GeoDataFrame(practice_location, geometry=geometry)\n",
    "\n",
    "map = folium.Map(location=[57.490669, -4.202646], tiles=\"OpenStreetMap\", zoom_start=6.5)\n",
    "heat_data = [[point.xy[1][0], point.xy[0][0]] for point in geo_df_heat_GP.geometry]\n",
    "plugins.HeatMap(heat_data).add_to(map)\n",
    "#Heatmap CANNOT display in Jupyter notebook\n",
    "map.save(\"HeatMap/heatmap.html\")\n",
    "#map #for showing the map\n",
    "#map.show_in_browser() #for showing the map directly in browser\n",
    "print(\"The heatmap is succedssfully generated. You can find and check the map in folder called 'HeatMap'.\")"
   ]
  },
  {
   "cell_type": "markdown",
   "metadata": {},
   "source": [
    "According to the heatmap, **GP practice** is obviously **concentrated in the south of Scotland**, particularly in **Edinburgh** and **Glasgow**, Scotland's two major cities."
   ]
  },
  {
   "cell_type": "markdown",
   "metadata": {},
   "source": [
    "### Prescription Research (Resources)"
   ]
  },
  {
   "cell_type": "markdown",
   "metadata": {},
   "source": [
    "#### Trend of Medication"
   ]
  },
  {
   "cell_type": "markdown",
   "metadata": {},
   "source": [
    "Due to the limited resources of GPs, we have decided to redistribute medical resources to improve the medical service in the future.   To achieve this, we plan to identify the categories of medicine with the highest and lowest demand over a past period.   Based on this data, we will reduce the stock of medicines with lower demand and increase the supply of those with higher demand.   First, we need to import the database of prescriptions from the past period"
   ]
  },
  {
   "cell_type": "markdown",
   "metadata": {},
   "source": [
    "##### Most In-demand Drugs"
   ]
  },
  {
   "cell_type": "code",
   "execution_count": null,
   "metadata": {},
   "outputs": [],
   "source": [
    "#reloading used library for this subsection\n",
    "importlib.reload(rx);"
   ]
  },
  {
   "cell_type": "markdown",
   "metadata": {},
   "source": [
    "Below is an interactive plot where you type one month (YYYYMM) that you are interested, then enter the range of the top sales drugs you want to have a look."
   ]
  },
  {
   "cell_type": "code",
   "execution_count": null,
   "metadata": {},
   "outputs": [],
   "source": [
    "#Date input\n",
    "#Get the minimum and maximum dates from the 'PaidDateMonth' column in the 'prescription_data_3yrs' dataframe.\n",
    "min_date = prescription_data_3yrs['PaidDateMonth'].min()\n",
    "max_date = prescription_data_3yrs['PaidDateMonth'].max()\n",
    "\n",
    "#Ask the user to enter a start month in the format YYYYMM.\n",
    "start_month = input(f\"Enter the start month (from {min_date} to {max_date}) in format YYYYMM: \")\n",
    "\n",
    "#Check if the entered start month is within the range of dates in the dataset.\n",
    "if not (min_date <= int(start_month) <= max_date):\n",
    "    # If not, print an error message with the valid date range.\n",
    "    print(f\"Error: The input range is beyond the date range. You should input a date from {min_date} to {max_date}\")\n",
    "else:\n",
    "\n",
    "    # Process data to obtain section_counts for the entered start month.\n",
    "    # Determine the range of data that user want to obtain\n",
    "    # Filter the data for entries on and after the specified start month.\n",
    "    filtered_data = prescription_data_3yrs[prescription_data_3yrs['PaidDateMonth'] >= int(start_month)]\n",
    "\n",
    "    # Merge the filtered data with the BNF reference data.\n",
    "    # We were given a dataset that recorded the use of different classes of drugs over a specified period of time. \n",
    "    # We grouped different drugs into categories according to their function and recorded their appearance of different categories.\n",
    "    merged_data = pd.merge(filtered_data[['BNFCode']],\n",
    "                           prescription_code[['BNF Presentation Code', 'BNF Section']],\n",
    "                           left_on='BNFCode',\n",
    "                           right_on='BNF Presentation Code',\n",
    "                           how='left').drop(columns=['BNFCode', 'BNF Presentation Code'])\n",
    "\n",
    "    # Count the occurrences of each BNF section (Therapeutic effect).\n",
    "    section_counts = merged_data['BNF Section'].value_counts()\n",
    "\n",
    "    # Get the total number of unique BNF sections (Therapeutic effect).\n",
    "    max_sections = section_counts.count()\n",
    "\n",
    "    # Ask the user to enter the number of top n popular medicine to be displayed, up to the maximum number of BNF sections in the user selected database.\n",
    "    top_n_input = input(f\"Enter the number of type of medicine to display (up to {max_sections}): \")\n",
    "    top_n = int(top_n_input)\n",
    "\n",
    "    # Check if the entered number is within the valid range.\n",
    "    if not (0 < top_n <= max_sections):\n",
    "        # If not, print an error message with the valid range.\n",
    "        print(f\"Error: The input range exceeds the maximum number of drug categories. Please input a number between 0 and {max_sections}\")\n",
    "    else:\n",
    "        # If the inputs are valid, call the draw_charts function to display the charts.\n",
    "        rx.draw_charts(top_n, start_month, prescription_data_3yrs, prescription_code, filtered_data, section_counts)"
   ]
  },
  {
   "cell_type": "markdown",
   "metadata": {},
   "source": [
    "Based on the data from our pie and bar charts, medications such as **analgesics** and **drugs used in diabetes** have had the highest demand over the past three years, occupying a significant portion of the pie chart. Healthcare departments can increase the supply of these types of medications in the future to meet the potential future demand of the public."
   ]
  },
  {
   "cell_type": "markdown",
   "metadata": {},
   "source": [
    "##### The Least Demanded Medicines"
   ]
  },
  {
   "cell_type": "markdown",
   "metadata": {},
   "source": [
    "Below is another interactive plot where you simply enter the range of the top sales drugs you want to have a look, then it will process a horizontal bar chart displaying the least demanded medicine categories in the same timeperiod of the top ones."
   ]
  },
  {
   "cell_type": "code",
   "execution_count": null,
   "metadata": {},
   "outputs": [],
   "source": [
    "#Ask the user to enter the number of least demand medicine categories to display, up to the maximum number of BNF sections\n",
    "least_m_input = input(f\"Enter the number of least demand medicine types to display (up to {max_sections}): \")\n",
    "\n",
    "#Convert the input to integer and check if it's within the valid range\n",
    "least_m = int(least_m_input)\n",
    "if 0 < least_m <= max_sections:\n",
    "    # Get the least demanding m drugs\n",
    "    least_demand_sections = section_counts.nsmallest(least_m)\n",
    "\n",
    "    # Call the function to draw the chart\n",
    "    rx.draw_least_demand_chart(least_demand_sections, least_m, start_month)\n",
    "else:\n",
    "    print(f\"Error: The input number should be between 1 and {max_sections}.\")"
   ]
  },
  {
   "cell_type": "markdown",
   "metadata": {},
   "source": [
    "After identifying the medications with the highest demand, there should also need to analyze those with the least demand over the same period for resource allocation. \n",
    "\n",
    "From the bar charts, there can be observe that categories like **Drainable Dribbling Appliance** and **Stoma care** have had almost no demand during this time. Excessive stock in these areas could lead to wastage of medical resources, as a large quantity of these medications may remain unused.\n",
    "\n",
    "Healthcare departments can modify different inputs and use the provided code to generate charts, identifying the medications they consider to be in low demand.\n",
    " \n",
    "Consequently, they can adjust the inventory of these categories, reallocating these resources to replenish the inventory of medications with higher demand, thereby enhancing the efficiency of medical resource utilization."
   ]
  },
  {
   "cell_type": "markdown",
   "metadata": {},
   "source": [
    "#### Prescription Resources Analysis"
   ]
  },
  {
   "cell_type": "markdown",
   "metadata": {},
   "source": [
    "According to the previous section, the three most prevalent illnesses from 2018 to 2023 were **Hypertension**, **Depression**, and **Asthma**, while the three diseases that showed the highest rise in occurence were **Eating Disorders**, **Chronic Obstructive Pulmonary Disease (COPD)**, and **Stroke and Transient Ischemic Attack (TIA)**. In this section, we will have a look on the distributions of prescription sales of these diseases among all the Scotland NHS health boards in July of 2023. \n",
    "\n",
    "The description of certain drugs in the BNF reference can differ from the disease name. After doing some research, we found the following corresponding treatments that appear in the reference for the diseases:\n",
    "- **Hypertension** ---- Hypertension and heart failure (BNF Section Code: 0205)\n",
    "- **Depression** ---- Antidepressant drugs (BNF Section Code: 0403)\n",
    "- **Asthma** ---- Antihistamines, hyposensitisation and allergic emergencies (BNF Section Code: 0304)\n",
    "- **COPD** ---- Bronchodilators (BNF Section Code: 0301)\n",
    "- **Stroke and TIA** ---- Antiplatelet drugs (BNF Section Code: 0209)\n",
    "\n",
    "Note that **Eating Disorders** are not discussed here since it uses the same medications with **Depression** and what's more,  the primary treatment for eating disorders is usually a combination of psychological therapy and supervised weight gain, not medication.\n",
    "\n",
    "Also note that there could be various treatments for one disease aiming at different effects. For instance, anti-dementia drugs are also used to treat **Depression** in some circumstances. Here we only consider the most popular prescription for simplexity."
   ]
  },
  {
   "cell_type": "markdown",
   "metadata": {},
   "source": [
    "##### Filter Out the Data of Targeted Prescription"
   ]
  },
  {
   "cell_type": "markdown",
   "metadata": {},
   "source": [
    "Firstly, there is required to attain the data of targeted prescription for the disease that it is going to investigate. Here it is used customised function `flt_dict` in \"prescription.py\" to filter out the DataFrames for the prescription and store them in a dictionary."
   ]
  },
  {
   "cell_type": "code",
   "execution_count": null,
   "metadata": {},
   "outputs": [],
   "source": [
    "#Dictionary of BNF Section Code for the prescription of three prevalent diseases\n",
    "bnf_code_curr = {\n",
    "    'Hypertension': '0205',\n",
    "    'Depression': '0403',\n",
    "    'Asthma': '0304',\n",
    "}\n",
    "\n",
    "#Dictionary of the filtered DataFrames for the prescription of three prevalent diseases\n",
    "prescription_data_dict_curr = rx.flt_dict(prescription_data, bnf_code_curr)"
   ]
  },
  {
   "cell_type": "code",
   "execution_count": null,
   "metadata": {},
   "outputs": [],
   "source": [
    "#Dictionary of BNF Section Code for the prescription of two increasingly popular diseases\n",
    "bnf_code_rise = {\n",
    "    'COPD': '0301',\n",
    "    'Stroke and TIA': '0209'\n",
    "}\n",
    "\n",
    "#Dictionary of the filtered DataFrames for the prescription of two increasingly popular diseases\n",
    "prescription_data_dict_rise = rx.flt_dict(prescription_data, bnf_code_rise)"
   ]
  },
  {
   "cell_type": "markdown",
   "metadata": {},
   "source": [
    "##### Choropleth Maps for Total Paid Quantity"
   ]
  },
  {
   "cell_type": "markdown",
   "metadata": {},
   "source": [
    "In this part, there is going to use choropleth maps for the analysis since it could clearly show the distributions on the map. Procedures:\n",
    "1. Load the shape file of Scotland maps, which is stored as GeoDataFrames. \n",
    "2. Use `groupsum` and `gdf_dict` functions to merge the shape file with the prescription dictionaries that previously set, resulting in dictionaries of GeoDataFrames for different prescriptions, which will be used for plotting.\n",
    "3. Use `plot_single_choropleth` and `plot_multiple_choropleth` to make the choropleth maps for all, the top three prevalent, and the two increasingly popular diseases."
   ]
  },
  {
   "cell_type": "code",
   "execution_count": null,
   "metadata": {},
   "outputs": [],
   "source": [
    "#The GeoDataFrames for the prescription of all diseases (Paid Quantity)\n",
    "prescription_gdf_all = rx.groupsum(prescription_data, shape_df, 'HBCode', 'PaidQuantity')\n",
    "\n",
    "#Dictionary of the GeoDataFrames for the prescription of three prevalent diseases (Paid Quantity)\n",
    "prescription_gdf_dict_curr = rx.gdf_dict(prescription_data, prescription_data_dict_curr, shape_df, 'HBCode', 'PaidQuantity')\n",
    "\n",
    "#Dictionary of the GeoDataFrames for the prescription of two increasingly popular diseases (Paid Quantity)\n",
    "prescription_gdf_dict_rise = rx.gdf_dict(prescription_data, prescription_data_dict_rise, shape_df, 'HBCode', 'PaidQuantity')"
   ]
  },
  {
   "cell_type": "code",
   "execution_count": null,
   "metadata": {},
   "outputs": [],
   "source": [
    "#Choropleth Maps - all diseases (Paid Quantity)\n",
    "print(\"Map for showing the distribution of prescription paid quantity for all diseases in July, 2023\")\n",
    "rx.plot_single_choropleth(prescription_gdf_all, \"PaidQuantity\", 'Purples', title='Prescriptions')"
   ]
  },
  {
   "cell_type": "code",
   "execution_count": null,
   "metadata": {},
   "outputs": [],
   "source": [
    "#Choropleth Maps - top three prevalent diseases (Paid Quantity)\n",
    "print(\"Map for showing the distribution of prescription paid quantity for the top three prevalent diseases in July, 2023\")\n",
    "rx.plot_multiple_choropleths(prescription_gdf_dict_curr, 'PaidQuantity', 'PuBu')"
   ]
  },
  {
   "cell_type": "code",
   "execution_count": null,
   "metadata": {},
   "outputs": [],
   "source": [
    "#Choropleth Maps - two increasingly popular diseases (Paid Quantity)\n",
    "print(\"Map for showing the distribution of prescription paid quantity for the two increasingly popular diseases in July, 2023\")\n",
    "rx.plot_multiple_choropleths(prescription_gdf_dict_rise, 'PaidQuantity', 'PuBu')"
   ]
  },
  {
   "cell_type": "markdown",
   "metadata": {},
   "source": [
    "Here are the observations, for all the diseases:\n",
    "\n",
    "- In July 2023 (lastest data), the prescriptions' paid quantity was high in the mid-southern part of Scotland, while that was relatively low in the northern islands.\n",
    "- Total paid quantity was extremely high in *Greater Glasgow and Clyde* region, indicating high prevelance rate and high medication demand (parts of the reason could be higher population densities or greater access to medical facilities)."
   ]
  },
  {
   "cell_type": "markdown",
   "metadata": {},
   "source": [
    "For the top three prevalent diseases (**Hypertension**, **Depression**, **Asthma**):\n",
    "\n",
    "- The distribution patterns of the average prevalence rate over five years (plotted in the previous section) and prescription sales in July 2023 of these three diseases are not identical. This could suggest that medication prescription rates do not strictly follow prevalence patterns and might be influenced by other factors such as uneven investment of medical resourses. For instance, while the prevalence rates of these three diseases are very high in the north islands, the paid quantities of certain medication are very low, which could be a representation of insufficient medical resources in these areas. (<u>combine with the GP analysis</u>)\n",
    "\n",
    "- Asthma prescriptions are relatively low in quantity compared to Hypertension and Depression, which could imply a lower demand for asthma-related medications or a lower rate of medication-controlled asthma."
   ]
  },
  {
   "cell_type": "markdown",
   "metadata": {},
   "source": [
    "For the two increasingly popular diseases (**COPD**, **Stroke and TIA**):\n",
    "\n",
    "- The distribution of **COPD** prescription shares common pattern with most of the diseases, while there was low demand for **Stroke and TIA** treatments in this month.\n",
    "- Among these five diseases, **COPD** has overall higher prescription quantities in all regions than other diseases, which might suggest **COPD** has a higher treatment rate with medication."
   ]
  },
  {
   "cell_type": "markdown",
   "metadata": {},
   "source": [
    "##### Choropleth Maps for Gross Ingredient Cost"
   ]
  },
  {
   "cell_type": "markdown",
   "metadata": {},
   "source": [
    "This part analysis of prescriptions' gross ingredient cost aimed at finding regions where the paid quantity is high but the gross ingredient cost is relatively low, which may indicate cost-effective prescribing practices or the use of cheaper but effective medications."
   ]
  },
  {
   "cell_type": "code",
   "execution_count": null,
   "metadata": {},
   "outputs": [],
   "source": [
    "#The GeoDataFrames for the prescription of all diseases (Gross Ingredient Cost)\n",
    "prescription_gdf_all2 = rx.groupsum(prescription_data, shape_df, 'HBCode', 'GrossIngredientCost')\n",
    "\n",
    "#Dictionary of the GeoDataFrames for the prescription of three prevalent diseases (Gross Ingredient Cost)\n",
    "prescription_gdf_dict_curr2 = rx.gdf_dict(prescription_data, prescription_data_dict_curr, shape_df, 'HBCode', 'GrossIngredientCost')\n",
    "\n",
    "#Dictionary of the GeoDataFrames for the prescription of two increasingly popular diseases (Gross Ingredient Cost)\n",
    "prescription_gdf_dict_rise2 = rx.gdf_dict(prescription_data, prescription_data_dict_rise, shape_df, 'HBCode', 'GrossIngredientCost')"
   ]
  },
  {
   "cell_type": "code",
   "execution_count": null,
   "metadata": {},
   "outputs": [],
   "source": [
    "#Choropleth Maps - all diseases (Gross Ingredient Cost)\n",
    "print(\"Map for showing the distribution of prescription Gross Ingredient Cost for all diseases in July, 2023\")\n",
    "rx.plot_single_choropleth(prescription_gdf_all2, \"GrossIngredientCost\", 'Greens', title='Prescriptions (Total Gross Ingredient Cost)')"
   ]
  },
  {
   "cell_type": "code",
   "execution_count": null,
   "metadata": {},
   "outputs": [],
   "source": [
    "#Choropleth Maps - top three prevalent diseases (Gross Ingredient Cost)\n",
    "print(\"Map for showing the distribution of prescription Gross Ingredient Cost for the top three prevalent diseases in July, 2023\")\n",
    "rx.plot_multiple_choropleths(prescription_gdf_dict_curr2, \"GrossIngredientCost\", 'YlGn')"
   ]
  },
  {
   "cell_type": "code",
   "execution_count": null,
   "metadata": {},
   "outputs": [],
   "source": [
    "#Choropleth Maps - two increasingly popular diseases (Gross Ingredient Cost)\n",
    "print(\"Map for showing the distribution of prescription Gross Ingredient Cost for the two increasingly popular diseases in July, 2023\")\n",
    "rx.plot_multiple_choropleths(prescription_gdf_dict_rise2, \"GrossIngredientCost\", 'YlGn')"
   ]
  },
  {
   "cell_type": "markdown",
   "metadata": {},
   "source": [
    "There appears to be a correlation between the paid quantity of prescriptions and their gross ingredient cost among all the regions. Areas with a higher volume of prescriptions often have higher costs, which is expected as cost is typically a function of the quantity of items dispensed and their individual prices. \n",
    "\n",
    "Note that the exclusion of broken bulk in the cost measure might affect the accuracy of cost representations, particularly in areas where bulk prescriptions might be common."
   ]
  },
  {
   "cell_type": "markdown",
   "metadata": {},
   "source": [
    "## Conclusion"
   ]
  },
  {
   "cell_type": "markdown",
   "metadata": {},
   "source": [
    "In conclusion, the analysis of the projected population and prevalent diseases in Scotland has provided valuable insights. The **population** and **diseased population** are both **growing**, with the number of infections expected to increase along with the population. Regression models and time series analysis are not feasible due to limited data and non-stationarity. Monte-Carlo Forecasting with Bayesian Theory is eventually proposed for future predictions. **Hypertension**, **depression**, and **asthma** are prevalent illnesses in Scotland, with age and gender being significant factors, such as **female** are more likely to get depression. The geographic distribution shows variations in disease prevalence, with higher rates in **northern regions**, especially in **Shetland**. These findings highlight the need for targeted healthcare interventions and greater attention to female mental health and resources allocation in Shetland.\n",
    "\n",
    "Moreover, there is also reveals a **disparity** between the growing infectious population and the GP workforce in Scotland. The number of **male GPs exceeds that of females**, indicating a widening gender gap. **Greater Glasgow and Clyde** have the highest number of GPs, patients, and workforce. The low number of GPs in **Shetland** contrasts with the region's comparatively high prevalence rates for prevalent diseases. GP practices are **concentrated in the southern part of Scotland**, particularly in Edinburgh and Glasgow.\n",
    "\n",
    "Last but not least, the analysis of prescription data and disease prevalence in Scotland provides valuable insights into medication demand and distribution across different **diseases** and **regions**. Medications such as **analgesics** and **drugs used in diabetes** have consistently had the **highest demand** over the past three years, while categories like **Drainable Dribbling Appliance** and **Stoma care** have shown **minimal demand**. The distribution of prescription sales for prevalent diseases also **does not strictly follow the prevalence patterns**, indicating potential disparities in medical resource allocation. Additionally, the analysis reveals variations in prescription quantities for different diseases, suggesting differences in treatment rates. Overall, these insights can guide healthcare departments in **improving medication supply** and **optimizing resource utilization**.\n",
    "\n",
    "\n",
    "Base on all the above findings, there is going to give three suggestions:\n",
    "\n",
    "1. **Improving Female Welfare in Working with NHS**: Female labor-force participation should be prioritized, since it continues to decline. Furthermore, according to the findings of this study, women are more prone to have a disease, particularly depression. Therefore, it is advised to give females greater metheal health assistance. In addition, there are welfare programs specifically designed for women that can be implemented. For example, Menstrual Leave helps female employees deal with the stress of approaching menstruation, and Childcare Support establishes or funds on-site childcare facilities or collaborates with nearby daycare centers to offer working mothers high-quality, reasonably priced childcare options.\n",
    "2. **Enhancing Healthcare Resource Allocation System:** As the demand for medications varied across different diseases, it is recommended to allocate resources based on demand patterns. Medications with high demand, such as analgesics and diabetes drugs, should be adequately supplied, while low-demand medications should be carefully managed to avoid wastage.\n",
    "3. **Addressing Regional Disparities:** Efforts should be undertaken to address regional inequities in healthcare resources and services. This includes ensuring a proper distribution of GP workforce, especially in places with high disease prevalence but low GP availability, such as Shetland. For example, workers who choose to work in locations with high prevalence of illnesses but poor GP availability may be paid more.\n"
   ]
  }
 ],
 "metadata": {
  "kernelspec": {
   "display_name": "Python 3 (ipykernel)",
   "language": "python",
   "name": "python3"
  },
  "language_info": {
   "codemirror_mode": {
    "name": "ipython",
    "version": 3
   },
   "file_extension": ".py",
   "mimetype": "text/x-python",
   "name": "python",
   "nbconvert_exporter": "python",
   "pygments_lexer": "ipython3",
   "version": "3.11.5"
  }
 },
 "nbformat": 4,
 "nbformat_minor": 4
}
