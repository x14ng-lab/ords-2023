{
 "cells": [
  {
   "cell_type": "markdown",
   "metadata": {},
   "source": [
    "### Question 3\n",
    "\n",
    "The code below defines and displays a variable \"deg_far\", a number representing a temperature in degrees Fahrenheit.\n",
    "\n",
    "Complete the code to define a variable \"deg_cel\", which is the same temperature in degrees Celsius, rounded to 2 decimal places.\n",
    "\n",
    "\n",
    "The formula to convert Farenheit (F) to Celsius (C) is:\n",
    "\n",
    "$$\n",
    "C = \\frac{5(F − 32)}{9}.\n",
    "$$\n",
    "\n",
    "\n",
    "Include code to print the value of \"deg_cel\" on the screen after you calculate it, exactly as in the examples. You can copy/paste the sentence directly from the examples to avoid typos and make sure your sentence matches exactly. Be careful with spaces and punctuation!\n",
    "\n",
    "Note that you don't need to print the value of \"deg_far\" again, as the first line of the code will already display it. You just need to print the sentence, followed by the value of \"deg_cel\".\n",
    "\n",
    "*Hint: the function round() may be useful.*"
   ]
  },
  {
   "cell_type": "code",
   "execution_count": 2,
   "metadata": {},
   "outputs": [
    {
     "name": "stdout",
     "output_type": "stream",
     "text": [
      "In degrees Celsius, this is:  26.67\n"
     ]
    }
   ],
   "source": [
    "deg_far = float(input())\n",
    "\n",
    "# Add code below...\n",
    "deg_cel = round((5 * (deg_far - 32)) / 9, 2)\n",
    "print(\"In degrees Celsius, this is: \", deg_cel)"
   ]
  }
 ],
 "metadata": {
  "kernelspec": {
   "display_name": "base",
   "language": "python",
   "name": "python3"
  },
  "language_info": {
   "codemirror_mode": {
    "name": "ipython",
    "version": 3
   },
   "file_extension": ".py",
   "mimetype": "text/x-python",
   "name": "python",
   "nbconvert_exporter": "python",
   "pygments_lexer": "ipython3",
   "version": "3.11.5"
  }
 },
 "nbformat": 4,
 "nbformat_minor": 2
}
