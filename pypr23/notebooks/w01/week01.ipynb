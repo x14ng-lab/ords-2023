{
 "cells": [
  {
   "cell_type": "markdown",
   "id": "91e888e3",
   "metadata": {},
   "source": [
    "# Week 1: Getting started with Python and Jupyter\n",
    "\n",
    "This is a first notebook to get yourself used to the idea of doing some programming in Python, and to familiarise yourself with the Jupyter notebook format.\n",
    "\n",
    "The best way to learn programming is to write code. Don't hesitate to edit the code in the example cells, or add your own code, to test your understanding. You will find practice exercises throughout the notebook, denoted by 🚩 **Exercise $x$:**.\n",
    "\n",
    "#### Displaying solutions\n",
    "\n",
    "Solutions will be released at the end of each week, and will show up as a new `.md` file in the same GitHub repository (in the `solutions` folder). **After pulling** the file to your codespace (or computer):\n",
    "- **Run this cell** to enable solution widgets:"
   ]
  },
  {
   "cell_type": "code",
   "execution_count": 2,
   "id": "069cc050",
   "metadata": {
    "tags": [
     "remove-cell"
    ]
   },
   "outputs": [],
   "source": [
    "from show_solutions import show, initialise_path\n",
    "show = initialise_path(show, '../solutions/w01_solutions.md')"
   ]
  },
  {
   "cell_type": "markdown",
   "id": "8556448e",
   "metadata": {},
   "source": [
    "- **Run the cell below each question** to create clickable buttons under each exercise, which will allow you to reveal the solutions.\n",
    "\n",
    "*How it works: You will see cells located below each exercise, each containing a command which looks like `show('Exercise Y')`. This command displays the solution for the corresponding exercise, as long as the file `wXX_solutions.md` is in the `solutions` folder. The Python code to achieve this is contained in `show_solutions.py`, and relies on [IPython widgets](https://ipywidgets.readthedocs.io/en/latest/examples/Widget%20Basics.html) --- feel free to take a look at the code if you are curious.*"
   ]
  },
  {
   "cell_type": "markdown",
   "id": "cee305de",
   "metadata": {},
   "source": [
    "---\n",
    "**Note: Running code**\n",
    "\n",
    "If you are reading this as a webpage, or _previewing_ the notebook in your browser from a GitHub repository, you won't be able to edit it or run the code inside.<br><br>\n",
    "To edit a notebook and run the code inside it, you need to launch a **Codespace**, or use software which can launch and run notebooks (e.g. the Jupyter Notebook software, JupyterLab, VSCode, Binder, etc.).\n",
    "\n",
    "---\n",
    "\n",
    "---\n",
    "\n",
    "## Jupyter notebooks\n",
    "\n",
    "A **Jupyter notebook** allows to present text, typeset maths, images, and interactive Python code together in one document. Jupyter notebooks are edited and viewed in a web browser. This document is a Jupyter notebook, with extension `.ipynb` (which comes from its old name: \"**I**[nteractive]**Py**thon **n**ote**b**ook\").\n",
    "\n",
    "A notebook consists of several **cells**, which can be of 2 main types:\n",
    "* **Markdown cells**, like this one, contain text formatted using Markdown. They can be edited by double-clicking on them. Markdown syntax is straightforward -- you can double-click on the Markdown cells in this notebook to view the source text. Markdown syntax also supports LaTeX typesetting for maths, both inline using `$...$`, e.g. $f: \\mathbb{R}^2 \\to \\mathbb{R}$, and in display mode using `$$...$$`, e.g.\n",
    "\n",
    "$$\n",
    "\\frac{\\partial f}{\\partial y} = 2e^{-x} \\cos(y).\n",
    "$$\n",
    "\n",
    "* **Code cells**, like the one below, in which we can type and run Python code interactively:"
   ]
  },
  {
   "cell_type": "code",
   "execution_count": 3,
   "id": "296de71d",
   "metadata": {},
   "outputs": [
    {
     "name": "stdout",
     "output_type": "stream",
     "text": [
      "This is a Python code cell!\n"
     ]
    }
   ],
   "source": [
    "print('This is a Python code cell!')"
   ]
  },
  {
   "cell_type": "markdown",
   "id": "306cdafd",
   "metadata": {},
   "source": [
    "To **run** a cell (i.e. to typeset Markdown cells or to execute code cells), click the \"<kbd>>| Run</kbd>\" button on the toolbar above, or press <kbd>Ctrl</kbd> + <kbd>Enter</kbd>.\n",
    "\n",
    "\n",
    "---\n",
    "**📚 Learn more**\n",
    "\n",
    "* [Jupyter Notebook documentation](https://jupyter-notebook.readthedocs.io/en/stable/)\n",
    "* [Project Jupyter](https://jupyter.org/)\n",
    "* [A gallery of interesting Jupyter notebooks](https://github.com/jupyter/jupyter/wiki#a-gallery-of-interesting-jupyter-notebooks)\n",
    "* [Markdown cheat sheet](https://github.com/adam-p/markdown-here/wiki/Markdown-Cheatsheet)\n",
    "\n",
    "---\n",
    "\n",
    "\n",
    "### Python code cells\n",
    "\n",
    "Let's look at a Python code cell. Select the cell below by clicking on it, and run it:"
   ]
  },
  {
   "cell_type": "code",
   "execution_count": 5,
   "id": "cf117c82",
   "metadata": {},
   "outputs": [
    {
     "name": "stdout",
     "output_type": "stream",
     "text": [
      "1259\n"
     ]
    }
   ],
   "source": [
    "print(530 + 729)"
   ]
  },
  {
   "cell_type": "markdown",
   "id": "0cb60b4d",
   "metadata": {},
   "source": [
    "If this worked correctly, you should now see the result displayed just under the code cell. You can edit the code -- try changing the numbers and running the cell again.\n",
    "\n",
    "How it works:\n",
    "* `print()` is a Python **function**.\n",
    "* A function performs some predefined tasks given some *input arguments*.\n",
    "* Here, we have one input argument (the result of `21 + 456`).\n",
    "* The function `print()` performs the task of displaying that input on the screen.\n",
    "\n",
    "Note that each time you run the cell, the number inside `[ ]` on the left of the code cell increments by 1 -- this indicates the number of inputs made to Python in a session (i.e. the total number of times you ran a code cell since you launched the notebook).\n",
    "\n",
    "While we are here, let's do the typical first program that you are usually directed to write in a new programming language -- a \"Hello World!\" program. This is to get the computer to print out\n",
    "\n",
    "```\n",
    "Hello World!\n",
    "```\n",
    "\n",
    "to the screen. It is a task which has become a cliche to write as a first program (see [here](http://helloworldcollection.de/) for lots of different examples). In Python, it looks like:"
   ]
  },
  {
   "cell_type": "code",
   "execution_count": 6,
   "id": "94f2c810",
   "metadata": {},
   "outputs": [
    {
     "name": "stdout",
     "output_type": "stream",
     "text": [
      "Hello World!\n"
     ]
    }
   ],
   "source": [
    "print('Hello World!')"
   ]
  },
  {
   "cell_type": "markdown",
   "id": "80d146a8",
   "metadata": {},
   "source": [
    "Here, the **quotation marks** `'...'` around the text to be printed out indicate a **string** object, meaning a string of characters --- more on this later.\n",
    "\n",
    "\n",
    "---\n",
    "**🚩 Exercise 1**\n",
    "\n",
    "Type Python code to display the string `I have solved Exercise 1!`, and run the cell."
   ]
  },
  {
   "cell_type": "code",
   "execution_count": 8,
   "id": "b996b862",
   "metadata": {
    "tags": [
     "remove-cell"
    ]
   },
   "outputs": [
    {
     "name": "stdout",
     "output_type": "stream",
     "text": [
      "I have solved Exercise 1!\n"
     ]
    }
   ],
   "source": [
    "print(\"I have solved Exercise 1!\")"
   ]
  },
  {
   "cell_type": "code",
   "execution_count": 3,
   "id": "868966ce",
   "metadata": {
    "tags": [
     "remove-cell"
    ]
   },
   "outputs": [
    {
     "data": {
      "application/vnd.jupyter.widget-view+json": {
       "model_id": "86e22df1e03940a6ad7ba40b7acd890c",
       "version_major": 2,
       "version_minor": 0
      },
      "text/plain": [
       "Accordion(children=(Output(layout=Layout(border_bottom='1px solid green', border_left='1px solid green', borde…"
      ]
     },
     "metadata": {},
     "output_type": "display_data"
    }
   ],
   "source": [
    "show('Exercise 1')"
   ]
  },
  {
   "cell_type": "markdown",
   "id": "4e961415",
   "metadata": {},
   "source": [
    "---\n",
    "\n",
    "\n",
    "### Creating new cells\n",
    "\n",
    "Most Jupyter interfaces include a <kbd>+</kbd> button to create new cells in a notebook, as well as a way to choose between code and Markdown cells.\n",
    "\n",
    "- Jupyter Notebook (classic), JupyterLab: in the toolbar, <kbd>+</kbd> button to create a new code cell, drop-down menu to select `Code` or `Markdown`\n",
    "- VSCode: in the toolbar, <kbd>+ Code</kbd> and <kbd>+ Markdown</kbd> are separate buttons. To change cell type of an existing cell, <kbd>...</kbd> on the top right of the cell, then `Change Cell to ...`\n",
    "\n",
    "Try it: create a new code cell and a new Markdown cell below, write some code and some text in them, and run them."
   ]
  },
  {
   "cell_type": "markdown",
   "id": "4e6fc320",
   "metadata": {},
   "source": [
    "I have created a new Markdown cell!"
   ]
  },
  {
   "cell_type": "code",
   "execution_count": 4,
   "id": "1d382825",
   "metadata": {},
   "outputs": [
    {
     "name": "stdout",
     "output_type": "stream",
     "text": [
      "I have created a new code cell!\n"
     ]
    }
   ],
   "source": [
    "print(\"I have created a new code cell!\")"
   ]
  },
  {
   "cell_type": "markdown",
   "id": "c7f42049",
   "metadata": {},
   "source": [
    "---\n",
    "\n",
    "## Using Python as a calculator\n",
    "\n",
    "Python is basically an incredibly powerful and full-featured calculator. It understands basic operations, like addition, subtraction, multiplication, etc.\n",
    "\n",
    "Like a regular calculator, Python uses the BODMAS/PEMDAS order of operations. You can use **brackets** `(...)` to make sure that operations are done in the correct order.\n",
    "\n",
    "\n",
    "---\n",
    "**🚩 Exercise 2**\n",
    "\n",
    "Try to figure out what the **operators** do in the following examples:\n",
    "\n",
    "```python\n",
    "print(2 + 3)\n",
    "print(2 - 3)\n",
    "print(2 * 3)\n",
    "print(2 / 3)\n",
    "print(2 ** 3)\n",
    "```\n",
    "\n",
    "```python\n",
    "print(38 / 5)\n",
    "print(38 // 5)\n",
    "print(38 % 5)\n",
    "```"
   ]
  },
  {
   "cell_type": "code",
   "execution_count": 5,
   "id": "155810f8",
   "metadata": {
    "tags": [
     "remove-cell"
    ]
   },
   "outputs": [
    {
     "name": "stdout",
     "output_type": "stream",
     "text": [
      "5\n",
      "-1\n",
      "6\n",
      "0.6666666666666666\n",
      "8\n",
      "7.6\n",
      "7\n",
      "3\n"
     ]
    }
   ],
   "source": [
    "print(2 + 3)\n",
    "print(2 - 3)\n",
    "print(2 * 3)\n",
    "print(2 / 3)\n",
    "print(2 ** 3)\n",
    "\n",
    "print(38 / 5)\n",
    "print(38 // 5)\n",
    "print(38 % 5)"
   ]
  },
  {
   "cell_type": "code",
   "execution_count": 6,
   "id": "f2d548bb",
   "metadata": {
    "tags": [
     "remove-cell"
    ]
   },
   "outputs": [
    {
     "data": {
      "application/vnd.jupyter.widget-view+json": {
       "model_id": "9c6e8d26f3024d7dac499e41a63c59c2",
       "version_major": 2,
       "version_minor": 0
      },
      "text/plain": [
       "Accordion(children=(Output(layout=Layout(border_bottom='1px solid green', border_left='1px solid green', borde…"
      ]
     },
     "metadata": {},
     "output_type": "display_data"
    }
   ],
   "source": [
    "show('Exercise 2')"
   ]
  },
  {
   "cell_type": "markdown",
   "id": "63820fcf",
   "metadata": {},
   "source": [
    "---\n",
    "\n",
    "\n",
    "---\n",
    "**🚩 Exercise 3**\n",
    "\n",
    "The commands below are used to calculate and display the following number:\n",
    "\n",
    "$$\n",
    "\\frac{2 + 5}{5 + 7} = \\frac{7}{12}\n",
    "$$\n",
    "\n",
    "However, the results are different. Can you find and fix the problem(s)?\n",
    "```python\n",
    "print(2+5 / 5+7)\n",
    "print(7/12)\n",
    "```"
   ]
  },
  {
   "cell_type": "code",
   "execution_count": 8,
   "id": "81a971da",
   "metadata": {
    "tags": [
     "remove-cell"
    ]
   },
   "outputs": [
    {
     "name": "stdout",
     "output_type": "stream",
     "text": [
      "10.0\n",
      "0.5833333333333334\n",
      "0.5833333333333334\n"
     ]
    }
   ],
   "source": [
    "print(2+5 / 5+7)\n",
    "print(7/12)\n",
    "print((2+5) / (5+7))"
   ]
  },
  {
   "cell_type": "code",
   "execution_count": 9,
   "id": "d549c33d",
   "metadata": {
    "tags": [
     "remove-cell"
    ]
   },
   "outputs": [
    {
     "data": {
      "application/vnd.jupyter.widget-view+json": {
       "model_id": "17098f1b032d4754bf22956c2f1dc62a",
       "version_major": 2,
       "version_minor": 0
      },
      "text/plain": [
       "Accordion(children=(Output(layout=Layout(border_bottom='1px solid green', border_left='1px solid green', borde…"
      ]
     },
     "metadata": {},
     "output_type": "display_data"
    }
   ],
   "source": [
    "show('Exercise 3')"
   ]
  },
  {
   "cell_type": "markdown",
   "id": "bd076c8d",
   "metadata": {},
   "source": [
    "---\n",
    "\n",
    "---\n",
    "\n",
    "## Variables and objects\n",
    "\n",
    "In Python, all data is represented as **objects** of different **types**. So far, we have used *number objects* to manipulate numerical data and do some basic arithmetic (e.g. `0.5`, `np.pi`...). We have also used *string objects* to manipulate text (`'Hello World!'`).\n",
    "\n",
    "A **variable** in Python is simply a **name**, a *label* to a location in memory, where an object (i.e. data) is stored -- we often say that a variable *points* or *refers* to an object. Variables are what allows you, as the programmer, to interact with data.\n",
    "\n",
    "In short: a **variable** is a **name** you give to an **object**; a label you put on a piece of data.\n",
    "\n",
    "\n",
    "---\n",
    "**📚 Learn more**\n",
    "\n",
    "* [Basic Python semantics: Variables and objects](https://jakevdp.github.io/WhirlwindTourOfPython/03-semantics-variables.html) - Whirlwind Tour of Python, Jake VanderPlas\n",
    "* [Data model: objects, values, and types](https://docs.python.org/3/reference/datamodel.html) - Python documentation\n",
    "* [Introducing Python object types](https://www.oreilly.com/library/view/learning-python-3rd/9780596513986/ch04.html) - Learning Python, 3rd ed., Mark Lutz, O'Reilly\n",
    "* [Naming and binding](https://docs.python.org/3/reference/executionmodel.html#naming-and-binding) - Python documentation\n",
    "\n",
    "---\n",
    "\n",
    "---\n",
    "\n",
    "## Variable assignment\n",
    "\n",
    "The equal sign `=` is used to **assign** an object with a particular value to a variable -- to give it a **name**. In Python, this operation is referred to as *name binding* --- a name is bound to an object.\n",
    "\n",
    "For example, let's create 3 variables `a`, `b`, and `c`, and assign them the values $1/2$, $6$, and $1/2 + 6$ respectively:"
   ]
  },
  {
   "cell_type": "code",
   "execution_count": 10,
   "id": "61961b08",
   "metadata": {},
   "outputs": [],
   "source": [
    "a = 0.5\n",
    "b = 6\n",
    "c = a + b"
   ]
  },
  {
   "cell_type": "markdown",
   "id": "ab3ebe08",
   "metadata": {},
   "source": [
    "What happens exactly? We can visualise the computer's memory as a lot of \"boxes\" or \"drawers\", in which we can store some objects:\n",
    "\n",
    "| `a = 0.5` | `b = 6` |\n",
    "|:---:|:---:|\n",
    "| ![Assigning 0.5 to a](img/var1.png) | ![Assigning 6 to b](img/var2.png) |\n",
    "| **1.** A number object is created with value 0.5, and stored somewhere in memory. We label its location `a` -- we *assign* the value 0.5 to the variable `a`. | **2.** A number object is created with value 6, and assigned to the variable `b`. |\n",
    "    \n",
    "---\n",
    "    \n",
    "| `a + b` | `c = a + b` |\n",
    "|:---:|:---:|\n",
    "| ![Reading a and b from memory](img/var3.png) | ![Computing a+b, assigning result to c](img/var4.png) |\n",
    "| **3.** Two number objects are *read* from the memory using their *names*, `a` and `b`. | **4.** Their values are added together, and the result (a new number object, with value 6.5) is assigned to the variable `c`. |\n",
    "\n",
    "The memory now holds three number objects, with values $0.5$, $6$, and $6.5$, in locations labelled `a`, `b`, and `c` respectively:\n",
    "\n",
    "<img alt=\"Final state of the memory\" src=\"img/var5.png\" width=400 /><br>\n",
    "\n",
    "To display these values on the screen, we must explicitly instruct Python to `print()` them, as before:"
   ]
  },
  {
   "cell_type": "code",
   "execution_count": 11,
   "id": "a61c59dc",
   "metadata": {},
   "outputs": [
    {
     "name": "stdout",
     "output_type": "stream",
     "text": [
      "6\n",
      "6.5\n"
     ]
    }
   ],
   "source": [
    "print(b)\n",
    "print(c)"
   ]
  },
  {
   "cell_type": "markdown",
   "id": "cf406a6f",
   "metadata": {},
   "source": [
    "The `print()` function will look for the locations in memory labelled `b` and `c`, and display the contents on the screen.\n",
    "\n",
    "Note that in an assignment, the right-hand side of the `=` sign is always *evaluated* (calculated) first; then, the resulting value is assigned to the variable on the left-hand side. That is, Python first creates the object and stores it in memory, and then sticks the label on the drawer.\n",
    "\n",
    "\n",
    "---\n",
    "**Note: Interactive sessions**\n",
    "\n",
    "When starting a Jupyter Notebook, we start an interactive _session_. This means that if a variable is created somewhere in the notebook, then it will be available for the rest of the session (unless explicitly deleted), and accessible from any code cell. A session in a Jupyter notebook lasts until you shut down the notebook, or _restart the kernel_.<br><br>\n",
    "For example, after assigning values to `a`, `b`, and `c` here (and running the cell), typing `print(a)` in the first (or any other) code cell in the notebook will display `0.5` -- try it for yourself.\n",
    "\n",
    "---\n",
    "\n",
    "\n",
    "---\n",
    "**🚩 Exercise 4**\n",
    "\n",
    "In the following example, try to work out what the output will be, _before_ running the code. Then, paste it in a code cell and run it to check the result.\n",
    "\n",
    "```python\n",
    "x = 1\n",
    "y = x\n",
    "x = 2\n",
    "print(y)\n",
    "\n",
    "a = 8\n",
    "a = a + 1\n",
    "print(a)\n",
    "```"
   ]
  },
  {
   "cell_type": "code",
   "execution_count": 12,
   "id": "57339290",
   "metadata": {
    "tags": [
     "remove-cell"
    ]
   },
   "outputs": [
    {
     "name": "stdout",
     "output_type": "stream",
     "text": [
      "1\n",
      "9\n"
     ]
    }
   ],
   "source": [
    "x = 1\n",
    "y = x\n",
    "x = 2\n",
    "print(y)\n",
    "\n",
    "a = 8\n",
    "a = a + 1\n",
    "print(a)"
   ]
  },
  {
   "cell_type": "markdown",
   "id": "e8d61b23",
   "metadata": {},
   "source": [
    "Let's go through the first example with the drawer analogy:\n",
    "\n",
    "| `x = 1 ` | `y = x` | `x = 2` |\n",
    "|:---:|:---:|:---:|\n",
    "| ![x = 1](img/w1_ex4_1.png) | ![y = x](img/w1_ex4_2.png) | ![x = 2](img/w1_ex4_3.png) |\n",
    "\n",
    "The key here is that `y = x` does *not* mathematically equate `x` and `y`. Think like a computer (or a robot), not a mathematician --- these are commands, with specific results, which Python executes in the order you specify.\n",
    "\n",
    "There is another interesting feature here which is particular to Python, and will have important consequences later. Here, when executing the line `y = x`, **no new object is actually created**, because that is simply not necessary. We are not asking Python to compute (or *interpret*) any new values: the right-hand side of `y = x` is just `x`, a variable -- that is, if you recall, a direct reference to an object in memory. Python simply follows that reference to find the drawer where that object is stored, and adds an extra label to it. Now, both `x` and `y` refer to the same object.\n",
    "\n",
    "Then, on the next line, the right-hand side of `x = 2` is a number --- now, Python does need to create a new object with value 2. Since `x` cannot refer to two different objects at once (otherwise, for instance, what would be the result of `print(x)`?), the label `x` is removed from the first object, and assigned to the new object. Now, only `y` is left pointing at 1.\n",
    "\n",
    "---"
   ]
  },
  {
   "cell_type": "markdown",
   "id": "0578c49f",
   "metadata": {},
   "source": [
    "## Object types\n",
    "\n",
    "All Python objects have a specific **type**, meaning that they contain a certain type of data (e.g. letters, numbers, arrays...). Objects of different types are stored differently in memory, have different *attributes*, and different operations can be performed with them.\n",
    "\n",
    "In this section, we'll review some of the most common (and useful!) built-in object types, and explore some of the ways in which Python deals with different data types."
   ]
  },
  {
   "cell_type": "markdown",
   "id": "dc77c9d2",
   "metadata": {},
   "source": [
    "---\n",
    "\n",
    "### `type()`\n",
    "\n",
    "The function `type()` can be used to find out the type of an object. Here is an example of 3 different types of object, `int`, `float`, and `str` -- we will learn more about them later:"
   ]
  },
  {
   "cell_type": "code",
   "execution_count": 13,
   "id": "1720de7c",
   "metadata": {},
   "outputs": [
    {
     "name": "stdout",
     "output_type": "stream",
     "text": [
      "<class 'int'> <class 'float'> <class 'str'>\n"
     ]
    }
   ],
   "source": [
    "x = 2\n",
    "y = 3.5\n",
    "z = 'abc'\n",
    "\n",
    "print(type(x), type(y), type(z))"
   ]
  },
  {
   "cell_type": "markdown",
   "id": "3c802df4",
   "metadata": {},
   "source": [
    "### Strings\n",
    "\n",
    "**String** objects are defined as a collection of text characters, surrounded by quotation marks, single or double. The string type is denoted by `str`. For example:"
   ]
  },
  {
   "cell_type": "code",
   "execution_count": 14,
   "id": "4721cfb3",
   "metadata": {},
   "outputs": [
    {
     "name": "stdout",
     "output_type": "stream",
     "text": [
      "Hello I am a string of letters!\n",
      "<class 'str'>\n",
      "I am also a string\n"
     ]
    }
   ],
   "source": [
    "test_string = \"Hello I am a string of letters!\"\n",
    "print(test_string)\n",
    "print(type(test_string))\n",
    "\n",
    "second_test_string = 'I am also a string'\n",
    "print(second_test_string)"
   ]
  },
  {
   "cell_type": "markdown",
   "id": "bc92faed",
   "metadata": {},
   "source": [
    "It is possible to access a particular character in a string given its position, by **indexing** the string variable. The command `test_string[i]` returns the $i+1$ th character in `test_string` (indices start from zero), and the command `test_string[-j]` returns the $j$ th character, *starting from the end*. For example"
   ]
  },
  {
   "cell_type": "code",
   "execution_count": 15,
   "id": "23ac291e",
   "metadata": {},
   "outputs": [
    {
     "name": "stdout",
     "output_type": "stream",
     "text": [
      "H\n",
      "o\n",
      "!\n",
      "r\n"
     ]
    }
   ],
   "source": [
    "print(test_string[0])\n",
    "print(test_string[4])\n",
    "print(test_string[-1])\n",
    "print(test_string[-3])"
   ]
  },
  {
   "cell_type": "markdown",
   "id": "a1e50a4e",
   "metadata": {},
   "source": [
    "---\n",
    "**🚩 Exercise 5**\n",
    "\n",
    "Create a string variable called `my_string`, holding some text characters of your choice. Create an integer variable `m` with some value $m$, and use it to print **every $m$ th character** of `my_string`.\n",
    "\n",
    "For example, if $m=3$, print the 3rd, 6th, 9th, etc. characters.\n",
    "\n",
    "_Hint:_ if you try to print `my_string[i]`, where `i` is greater than the number of characters in `my_string` (minus one, since indices start at zero), you will get an `IndexError` (more on errors in [](exceptions)). The function `len()` can be used to find the length of `my_string`.\n",
    "\n",
    "```python\n",
    "# Starter code\n",
    "my_string = \n",
    "m = \n",
    "```"
   ]
  },
  {
   "cell_type": "code",
   "execution_count": 20,
   "id": "cc2d2728",
   "metadata": {
    "tags": [
     "remove-cell"
    ]
   },
   "outputs": [
    {
     "name": "stdout",
     "output_type": "stream",
     "text": [
      "5\n",
      "a\n",
      "i\n",
      "i\n",
      "i\n",
      "e\n"
     ]
    }
   ],
   "source": [
    "my_string = \"I am invincible!\"\n",
    "m = 3\n",
    "# Find out how many times we can print the mth character before exceeding the string length\n",
    "N = len(my_string)\n",
    "print(N // m)\n",
    "\n",
    "print(my_string[m - 1])\n",
    "print(my_string[2 * m - 1])\n",
    "print(my_string[3 * m - 1])\n",
    "print(my_string[4 * m - 1])\n",
    "print(my_string[5 * m - 1])"
   ]
  },
  {
   "cell_type": "code",
   "execution_count": 3,
   "id": "2788cc05",
   "metadata": {
    "tags": [
     "remove-cell"
    ]
   },
   "outputs": [
    {
     "data": {
      "application/vnd.jupyter.widget-view+json": {
       "model_id": "5b732c1a77424131ab9e3dfcd45baaef",
       "version_major": 2,
       "version_minor": 0
      },
      "text/plain": [
       "Accordion(children=(Output(layout=Layout(border_bottom='1px solid green', border_left='1px solid green', borde…"
      ]
     },
     "metadata": {},
     "output_type": "display_data"
    }
   ],
   "source": [
    "show('Exercise 5')"
   ]
  },
  {
   "cell_type": "markdown",
   "id": "8a84eeb8",
   "metadata": {},
   "source": [
    "---\n",
    "\n",
    "### Booleans\n",
    "\n",
    "A Boolean object can only take one of two values: `True` or `False`. The Boolean type is denoted by `bool`. Later, we will learn how to use these to make decisions in our programs.\n",
    "\n",
    "\n",
    "---\n",
    "**Note: Boolean logic**\n",
    "\n",
    "- **x** AND **y** is true if **both x and y** are true, and false otherwise.\n",
    "- **x** OR **y** is true if **at least one of x or y** is true, and false otherwise.\n",
    "- NOT **x** is true if **x** is false, and vice versa.\n",
    "\n",
    "---\n",
    "\n",
    "We can use **simple logical operators** such as `and`, `or`, and `not` with Booleans. For example"
   ]
  },
  {
   "cell_type": "code",
   "execution_count": 21,
   "id": "816133b0",
   "metadata": {},
   "outputs": [
    {
     "name": "stdout",
     "output_type": "stream",
     "text": [
      "<class 'bool'>\n",
      "False\n",
      "True\n",
      "False\n"
     ]
    }
   ],
   "source": [
    "a = True\n",
    "b = False\n",
    "\n",
    "print(type(b))\n",
    "print(a and b)\n",
    "print(a or b)\n",
    "print((not a) or b)"
   ]
  },
  {
   "cell_type": "markdown",
   "id": "d950d4bb",
   "metadata": {},
   "source": [
    "We can also use **comparison operators** on number and string objects to construct Boolean objects. For example"
   ]
  },
  {
   "cell_type": "code",
   "execution_count": 22,
   "id": "209f8e6d",
   "metadata": {},
   "outputs": [
    {
     "name": "stdout",
     "output_type": "stream",
     "text": [
      "True\n"
     ]
    }
   ],
   "source": [
    "x = 3\n",
    "y = 4\n",
    "\n",
    "# shows True if x < y, shows False otherwise\n",
    "print(x < y)"
   ]
  },
  {
   "cell_type": "code",
   "execution_count": 23,
   "id": "0175407d",
   "metadata": {},
   "outputs": [
    {
     "name": "stdout",
     "output_type": "stream",
     "text": [
      "False\n",
      "True\n",
      "True\n"
     ]
    }
   ],
   "source": [
    "# What do these do?\n",
    "print(x == y)\n",
    "print(x == y or 5 >= 2)\n",
    "print(x != y)"
   ]
  },
  {
   "cell_type": "code",
   "execution_count": 24,
   "id": "7f5591e5",
   "metadata": {},
   "outputs": [
    {
     "name": "stdout",
     "output_type": "stream",
     "text": [
      "False\n"
     ]
    }
   ],
   "source": [
    "z = x > y\n",
    "print(z)"
   ]
  },
  {
   "cell_type": "markdown",
   "id": "5bbcadb4",
   "metadata": {},
   "source": [
    "Note, in particular, that `==` tests whether two values are equal, and `!=` tests whether they are different.\n",
    "\n",
    "\n",
    "---\n",
    "**🚩 Exercise 6**\n",
    "\n",
    "Create two variables `u` and `v`, assigned with real non-zero values $u$, $v$ of your choice. Create a third variable, called `same_sign`, assigned with a Boolean object which takes the value `True` if $u$ and $v$ have the same sign, and `False` if they have different signs. Test that `same_sign` is assigned with the correct value for different choices of `u` and `v`."
   ]
  },
  {
   "cell_type": "code",
   "execution_count": 27,
   "id": "82128806",
   "metadata": {
    "tags": [
     "remove-cell"
    ]
   },
   "outputs": [
    {
     "name": "stdout",
     "output_type": "stream",
     "text": [
      "True\n",
      "True\n"
     ]
    }
   ],
   "source": [
    "u = 3\n",
    "v = 5\n",
    "same_sign = u * v > 0\n",
    "print(same_sign)\n",
    "\n",
    "# Another way...\n",
    "same_sign = (u > 0 and v > 0) or (u < 0 and v < 0)\n",
    "print(same_sign)"
   ]
  },
  {
   "cell_type": "code",
   "execution_count": 26,
   "id": "4896c56e",
   "metadata": {
    "tags": [
     "remove-cell"
    ]
   },
   "outputs": [
    {
     "data": {
      "application/vnd.jupyter.widget-view+json": {
       "model_id": "570b2045ec04466ea938f6808737ae3a",
       "version_major": 2,
       "version_minor": 0
      },
      "text/plain": [
       "Accordion(children=(Output(layout=Layout(border_bottom='1px solid green', border_left='1px solid green', borde…"
      ]
     },
     "metadata": {},
     "output_type": "display_data"
    }
   ],
   "source": [
    "show('Exercise 6')"
   ]
  },
  {
   "cell_type": "markdown",
   "id": "4e420cf9",
   "metadata": {},
   "source": [
    "---\n",
    "\n",
    "### Integers\n",
    "\n",
    "Python can represent integers with unlimited precision (i.e., arbitrarily large, as long as there is space left in memory to store them!). The integer type is denoted by `int`. We can add, subtract, multiply, and divide integers in the usual way:"
   ]
  },
  {
   "cell_type": "code",
   "execution_count": 28,
   "id": "7b10542c",
   "metadata": {},
   "outputs": [
    {
     "name": "stdout",
     "output_type": "stream",
     "text": [
      "10\n",
      "-2183\n",
      "2004811912265250\n",
      "6628604650429381411030994053290341677785852032240966734916752011875046065226849212544518749011235196437080686738791703396456346507989122736407730087175025745973944468858394831115453205834567163802135857322817343707111647064949082721543445931003408907702695401012081967252498211853048757323682650680092972869568712201407858929208808823038702433692420753857902772125744915235844644837505472070180195471621626366348486168500589857359485796827554403611932753308905789688138019373056\n"
     ]
    }
   ],
   "source": [
    "print(3 + 7)\n",
    "print(375 - 2558)\n",
    "print(913875 * 2193748502)\n",
    "print(34 ** 312)"
   ]
  },
  {
   "cell_type": "code",
   "execution_count": 29,
   "id": "8fc04c12",
   "metadata": {},
   "outputs": [
    {
     "name": "stdout",
     "output_type": "stream",
     "text": [
      "7\n",
      "7\n",
      "0\n",
      "4\n"
     ]
    }
   ],
   "source": [
    "print(35 // 5)\n",
    "print(39 // 5)\n",
    "print(35 % 5)\n",
    "print(39 % 5)"
   ]
  },
  {
   "cell_type": "markdown",
   "id": "c716a586",
   "metadata": {},
   "source": [
    "### Floating point numbers\n",
    "\n",
    "Floating point numbers are the ubiquitous way to represent real numbers on a computer. Let's try using Python's `float` number objects:"
   ]
  },
  {
   "cell_type": "code",
   "execution_count": 30,
   "id": "963879f3",
   "metadata": {},
   "outputs": [
    {
     "name": "stdout",
     "output_type": "stream",
     "text": [
      "15.344\n",
      "999.0\n",
      "22.8\n",
      "1.6e-05\n",
      "<class 'float'>\n"
     ]
    }
   ],
   "source": [
    "print(3.456 + 11.888)\n",
    "print(99.9 / 0.1)\n",
    "print(2.0 * 11.4)\n",
    "print(1.5e-5 + 1.0e-6)\n",
    "\n",
    "print(type(2.0 * 11.4))"
   ]
  },
  {
   "cell_type": "markdown",
   "id": "6367430c",
   "metadata": {},
   "source": [
    "Here, we have done some basic calculations using floating point numbers. Note that the way to write, e.g., $1 \\times 10^{-5}$ is to write `1.0e-5`, the `e` here meaning \"$\\times 10$ to a power\" (*not* $e$ as in $e^x$).\n",
    "\n",
    "\n",
    "---\n",
    "**A bit of background on floating point numbers**\n",
    "\n",
    "Python's `float` type corresponds to the IEEE 754 double-precision format. In this representation, a fixed amount of memory (64 bits) is allocated to store a binary number (a number made of 0s and 1s): 1 bit for its sign, 52 bits for its *significand* (corresponding to ~16 decimal digits), and 11 bits for its *exponent*.\n",
    "\n",
    "This representation is analogous to what we call \"scientific notation\" for decimal numbers. A rational number $x$ can be represented in scientific notation as\n",
    "\n",
    "$$\n",
    "x = m \\times 10^n,\n",
    "$$\n",
    "\n",
    "where $m$ is the significand and $n$ the exponent. Representing a real number in double-precision floating-point format can be compared to writing $m$ using only the first significant digits of $x$ -- for example, $x = 1234567 \\approx 1.23 \\times 10^6$.\n",
    "\n",
    "---\n",
    "\n",
    "\n",
    "---\n",
    "**📚 Learn more**\n",
    "\n",
    "* [Double-precision floating-point format - Wikipedia](https://en.wikipedia.org/wiki/Double-precision_floating-point_format)\n",
    "* [What Every Computer Scientist Should Know About Floating-Point Arithmetic](https://docs.oracle.com/cd/E19957-01/806-3568/ncg_goldberg.html) -- a great reference!\n",
    "* [Floating point arithmetic: Issues and limitations - Python documentation](https://docs.python.org/3/tutorial/floatingpoint.html)\n",
    "\n",
    "---\n",
    "\n",
    "\n",
    "---\n",
    "**🚩 Exercise 7**\n",
    "\n",
    "Find a *small* floating-point value `x` such that `print(x == 0)` displays `False`, but `print(x + 1 == 1)` displays `True`. Can you explain what you think is happening?\n",
    "\n",
    "_Hint:_ the explanation above contains a clue as to what the order of magnitude of `x` may be."
   ]
  },
  {
   "cell_type": "code",
   "execution_count": 31,
   "id": "d4f50fc8",
   "metadata": {
    "tags": [
     "remove-cell"
    ]
   },
   "outputs": [
    {
     "name": "stdout",
     "output_type": "stream",
     "text": [
      "False\n",
      "True\n"
     ]
    }
   ],
   "source": [
    "x = 1.0e-16\n",
    "print(x == 0)\n",
    "print(x + 1 == 1)"
   ]
  },
  {
   "cell_type": "code",
   "execution_count": 32,
   "id": "a5d573d3",
   "metadata": {
    "tags": [
     "remove-cell"
    ]
   },
   "outputs": [
    {
     "data": {
      "application/vnd.jupyter.widget-view+json": {
       "model_id": "382d75fc2da548a4a43e7042e5e0988d",
       "version_major": 2,
       "version_minor": 0
      },
      "text/plain": [
       "Accordion(children=(Output(layout=Layout(border_bottom='1px solid green', border_left='1px solid green', borde…"
      ]
     },
     "metadata": {},
     "output_type": "display_data"
    }
   ],
   "source": [
    "show('Exercise 7')"
   ]
  },
  {
   "cell_type": "markdown",
   "id": "ffe3969f",
   "metadata": {},
   "source": [
    "---\n",
    "## Importing extra tools\n",
    "\n",
    "Python extends its basic functionality by having many additional **packages** and **modules**, which provide more commands (e.g. functions, constants...). A _package_ is simply a collection of individual _modules_ -- for now you don't have to worry too much about the difference.\n",
    "\n",
    "Some packages are built-in (i.e. they come with Python); some are third-party libraries that need to be installed separately.\n",
    "\n",
    "---\n",
    "**Note: Anaconda**\n",
    "\n",
    "The Anaconda distribution comes with Python and its built-in tools, as well as many useful third-party libraries. If you have installed Anaconda, or are working in a cloud environment which includes it (e.g. a Codespace), then all the libraries used in this section (and, in fact, in most of this course!) are already installed, and you should be able to use them without issues or further configuration.\n",
    "\n",
    "---\n",
    "### Importing modules and packages\n",
    "\n",
    "In order to use any commands provided by a package or module, we need to **import** it first.\n",
    "\n",
    "Let's take an example: the **`math` module** is one of Python's built-in modules, which contains lots of useful mathematical tools. For instance, we can use it to calculate $\\sin(\\pi/4)$, as long as we first import it:"
   ]
  },
  {
   "cell_type": "code",
   "execution_count": 33,
   "id": "1ca1bcba",
   "metadata": {},
   "outputs": [
    {
     "name": "stdout",
     "output_type": "stream",
     "text": [
      "0.7071067811865475\n"
     ]
    }
   ],
   "source": [
    "import math\n",
    "print(math.sin(math.pi / 4))"
   ]
  },
  {
   "cell_type": "markdown",
   "id": "af321ab5",
   "metadata": {},
   "source": [
    "Running this cell should display the value of $\\sin(\\pi/4)$, using the _function_ `sin()` and the _constant_ `pi` provided by the `math` module. Note that the functions, constants, etc. contained in a module are accessed by prefixing them with the name of the module, followed by a `.` -- in the example above, we tell Python to find the `sin()` function in the `math` module, by typing `math.sin(...)`.\n",
    "\n",
    "---\n",
    "### Consulting documentation\n",
    "\n",
    "To see the full list of functionalities available with a module or a package, we need to consult its **documentation**. This is usually hosted online -- for example, [here is the documentation for `math`](https://docs.python.org/3/library/math.html). An easy way to find it is to use your favourite web search engine -- for instance, search for \"python math documentation\".\n",
    "\n",
    "You can also consult documentation from inside Python, using the `help()` function. After running the cell above (to make sure that `math` is imported), run the cell below:"
   ]
  },
  {
   "cell_type": "code",
   "execution_count": 34,
   "id": "c1bf8b7c",
   "metadata": {},
   "outputs": [
    {
     "name": "stdout",
     "output_type": "stream",
     "text": [
      "Help on module math:\n",
      "\n",
      "NAME\n",
      "    math\n",
      "\n",
      "MODULE REFERENCE\n",
      "    https://docs.python.org/3.11/library/math.html\n",
      "    \n",
      "    The following documentation is automatically generated from the Python\n",
      "    source files.  It may be incomplete, incorrect or include features that\n",
      "    are considered implementation detail and may vary between Python\n",
      "    implementations.  When in doubt, consult the module reference at the\n",
      "    location listed above.\n",
      "\n",
      "DESCRIPTION\n",
      "    This module provides access to the mathematical functions\n",
      "    defined by the C standard.\n",
      "\n",
      "FUNCTIONS\n",
      "    acos(x, /)\n",
      "        Return the arc cosine (measured in radians) of x.\n",
      "        \n",
      "        The result is between 0 and pi.\n",
      "    \n",
      "    acosh(x, /)\n",
      "        Return the inverse hyperbolic cosine of x.\n",
      "    \n",
      "    asin(x, /)\n",
      "        Return the arc sine (measured in radians) of x.\n",
      "        \n",
      "        The result is between -pi/2 and pi/2.\n",
      "    \n",
      "    asinh(x, /)\n",
      "        Return the inverse hyperbolic sine of x.\n",
      "    \n",
      "    atan(x, /)\n",
      "        Return the arc tangent (measured in radians) of x.\n",
      "        \n",
      "        The result is between -pi/2 and pi/2.\n",
      "    \n",
      "    atan2(y, x, /)\n",
      "        Return the arc tangent (measured in radians) of y/x.\n",
      "        \n",
      "        Unlike atan(y/x), the signs of both x and y are considered.\n",
      "    \n",
      "    atanh(x, /)\n",
      "        Return the inverse hyperbolic tangent of x.\n",
      "    \n",
      "    cbrt(x, /)\n",
      "        Return the cube root of x.\n",
      "    \n",
      "    ceil(x, /)\n",
      "        Return the ceiling of x as an Integral.\n",
      "        \n",
      "        This is the smallest integer >= x.\n",
      "    \n",
      "    comb(n, k, /)\n",
      "        Number of ways to choose k items from n items without repetition and without order.\n",
      "        \n",
      "        Evaluates to n! / (k! * (n - k)!) when k <= n and evaluates\n",
      "        to zero when k > n.\n",
      "        \n",
      "        Also called the binomial coefficient because it is equivalent\n",
      "        to the coefficient of k-th term in polynomial expansion of the\n",
      "        expression (1 + x)**n.\n",
      "        \n",
      "        Raises TypeError if either of the arguments are not integers.\n",
      "        Raises ValueError if either of the arguments are negative.\n",
      "    \n",
      "    copysign(x, y, /)\n",
      "        Return a float with the magnitude (absolute value) of x but the sign of y.\n",
      "        \n",
      "        On platforms that support signed zeros, copysign(1.0, -0.0)\n",
      "        returns -1.0.\n",
      "    \n",
      "    cos(x, /)\n",
      "        Return the cosine of x (measured in radians).\n",
      "    \n",
      "    cosh(x, /)\n",
      "        Return the hyperbolic cosine of x.\n",
      "    \n",
      "    degrees(x, /)\n",
      "        Convert angle x from radians to degrees.\n",
      "    \n",
      "    dist(p, q, /)\n",
      "        Return the Euclidean distance between two points p and q.\n",
      "        \n",
      "        The points should be specified as sequences (or iterables) of\n",
      "        coordinates.  Both inputs must have the same dimension.\n",
      "        \n",
      "        Roughly equivalent to:\n",
      "            sqrt(sum((px - qx) ** 2.0 for px, qx in zip(p, q)))\n",
      "    \n",
      "    erf(x, /)\n",
      "        Error function at x.\n",
      "    \n",
      "    erfc(x, /)\n",
      "        Complementary error function at x.\n",
      "    \n",
      "    exp(x, /)\n",
      "        Return e raised to the power of x.\n",
      "    \n",
      "    exp2(x, /)\n",
      "        Return 2 raised to the power of x.\n",
      "    \n",
      "    expm1(x, /)\n",
      "        Return exp(x)-1.\n",
      "        \n",
      "        This function avoids the loss of precision involved in the direct evaluation of exp(x)-1 for small x.\n",
      "    \n",
      "    fabs(x, /)\n",
      "        Return the absolute value of the float x.\n",
      "    \n",
      "    factorial(n, /)\n",
      "        Find n!.\n",
      "        \n",
      "        Raise a ValueError if x is negative or non-integral.\n",
      "    \n",
      "    floor(x, /)\n",
      "        Return the floor of x as an Integral.\n",
      "        \n",
      "        This is the largest integer <= x.\n",
      "    \n",
      "    fmod(x, y, /)\n",
      "        Return fmod(x, y), according to platform C.\n",
      "        \n",
      "        x % y may differ.\n",
      "    \n",
      "    frexp(x, /)\n",
      "        Return the mantissa and exponent of x, as pair (m, e).\n",
      "        \n",
      "        m is a float and e is an int, such that x = m * 2.**e.\n",
      "        If x is 0, m and e are both 0.  Else 0.5 <= abs(m) < 1.0.\n",
      "    \n",
      "    fsum(seq, /)\n",
      "        Return an accurate floating point sum of values in the iterable seq.\n",
      "        \n",
      "        Assumes IEEE-754 floating point arithmetic.\n",
      "    \n",
      "    gamma(x, /)\n",
      "        Gamma function at x.\n",
      "    \n",
      "    gcd(*integers)\n",
      "        Greatest Common Divisor.\n",
      "    \n",
      "    hypot(...)\n",
      "        hypot(*coordinates) -> value\n",
      "        \n",
      "        Multidimensional Euclidean distance from the origin to a point.\n",
      "        \n",
      "        Roughly equivalent to:\n",
      "            sqrt(sum(x**2 for x in coordinates))\n",
      "        \n",
      "        For a two dimensional point (x, y), gives the hypotenuse\n",
      "        using the Pythagorean theorem:  sqrt(x*x + y*y).\n",
      "        \n",
      "        For example, the hypotenuse of a 3/4/5 right triangle is:\n",
      "        \n",
      "            >>> hypot(3.0, 4.0)\n",
      "            5.0\n",
      "    \n",
      "    isclose(a, b, *, rel_tol=1e-09, abs_tol=0.0)\n",
      "        Determine whether two floating point numbers are close in value.\n",
      "        \n",
      "          rel_tol\n",
      "            maximum difference for being considered \"close\", relative to the\n",
      "            magnitude of the input values\n",
      "          abs_tol\n",
      "            maximum difference for being considered \"close\", regardless of the\n",
      "            magnitude of the input values\n",
      "        \n",
      "        Return True if a is close in value to b, and False otherwise.\n",
      "        \n",
      "        For the values to be considered close, the difference between them\n",
      "        must be smaller than at least one of the tolerances.\n",
      "        \n",
      "        -inf, inf and NaN behave similarly to the IEEE 754 Standard.  That\n",
      "        is, NaN is not close to anything, even itself.  inf and -inf are\n",
      "        only close to themselves.\n",
      "    \n",
      "    isfinite(x, /)\n",
      "        Return True if x is neither an infinity nor a NaN, and False otherwise.\n",
      "    \n",
      "    isinf(x, /)\n",
      "        Return True if x is a positive or negative infinity, and False otherwise.\n",
      "    \n",
      "    isnan(x, /)\n",
      "        Return True if x is a NaN (not a number), and False otherwise.\n",
      "    \n",
      "    isqrt(n, /)\n",
      "        Return the integer part of the square root of the input.\n",
      "    \n",
      "    lcm(*integers)\n",
      "        Least Common Multiple.\n",
      "    \n",
      "    ldexp(x, i, /)\n",
      "        Return x * (2**i).\n",
      "        \n",
      "        This is essentially the inverse of frexp().\n",
      "    \n",
      "    lgamma(x, /)\n",
      "        Natural logarithm of absolute value of Gamma function at x.\n",
      "    \n",
      "    log(...)\n",
      "        log(x, [base=math.e])\n",
      "        Return the logarithm of x to the given base.\n",
      "        \n",
      "        If the base not specified, returns the natural logarithm (base e) of x.\n",
      "    \n",
      "    log10(x, /)\n",
      "        Return the base 10 logarithm of x.\n",
      "    \n",
      "    log1p(x, /)\n",
      "        Return the natural logarithm of 1+x (base e).\n",
      "        \n",
      "        The result is computed in a way which is accurate for x near zero.\n",
      "    \n",
      "    log2(x, /)\n",
      "        Return the base 2 logarithm of x.\n",
      "    \n",
      "    modf(x, /)\n",
      "        Return the fractional and integer parts of x.\n",
      "        \n",
      "        Both results carry the sign of x and are floats.\n",
      "    \n",
      "    nextafter(x, y, /)\n",
      "        Return the next floating-point value after x towards y.\n",
      "    \n",
      "    perm(n, k=None, /)\n",
      "        Number of ways to choose k items from n items without repetition and with order.\n",
      "        \n",
      "        Evaluates to n! / (n - k)! when k <= n and evaluates\n",
      "        to zero when k > n.\n",
      "        \n",
      "        If k is not specified or is None, then k defaults to n\n",
      "        and the function returns n!.\n",
      "        \n",
      "        Raises TypeError if either of the arguments are not integers.\n",
      "        Raises ValueError if either of the arguments are negative.\n",
      "    \n",
      "    pow(x, y, /)\n",
      "        Return x**y (x to the power of y).\n",
      "    \n",
      "    prod(iterable, /, *, start=1)\n",
      "        Calculate the product of all the elements in the input iterable.\n",
      "        \n",
      "        The default start value for the product is 1.\n",
      "        \n",
      "        When the iterable is empty, return the start value.  This function is\n",
      "        intended specifically for use with numeric values and may reject\n",
      "        non-numeric types.\n",
      "    \n",
      "    radians(x, /)\n",
      "        Convert angle x from degrees to radians.\n",
      "    \n",
      "    remainder(x, y, /)\n",
      "        Difference between x and the closest integer multiple of y.\n",
      "        \n",
      "        Return x - n*y where n*y is the closest integer multiple of y.\n",
      "        In the case where x is exactly halfway between two multiples of\n",
      "        y, the nearest even value of n is used. The result is always exact.\n",
      "    \n",
      "    sin(x, /)\n",
      "        Return the sine of x (measured in radians).\n",
      "    \n",
      "    sinh(x, /)\n",
      "        Return the hyperbolic sine of x.\n",
      "    \n",
      "    sqrt(x, /)\n",
      "        Return the square root of x.\n",
      "    \n",
      "    tan(x, /)\n",
      "        Return the tangent of x (measured in radians).\n",
      "    \n",
      "    tanh(x, /)\n",
      "        Return the hyperbolic tangent of x.\n",
      "    \n",
      "    trunc(x, /)\n",
      "        Truncates the Real x to the nearest Integral toward 0.\n",
      "        \n",
      "        Uses the __trunc__ magic method.\n",
      "    \n",
      "    ulp(x, /)\n",
      "        Return the value of the least significant bit of the float x.\n",
      "\n",
      "DATA\n",
      "    e = 2.718281828459045\n",
      "    inf = inf\n",
      "    nan = nan\n",
      "    pi = 3.141592653589793\n",
      "    tau = 6.283185307179586\n",
      "\n",
      "FILE\n",
      "    /Users/xiang/anaconda3/lib/python3.11/lib-dynload/math.cpython-311-darwin.so\n",
      "\n",
      "\n"
     ]
    }
   ],
   "source": [
    "help(math)"
   ]
  },
  {
   "cell_type": "markdown",
   "id": "3cfd7749",
   "metadata": {},
   "source": [
    "We can also use `help()` to get the documentation for one specific function:"
   ]
  },
  {
   "cell_type": "code",
   "execution_count": 35,
   "id": "aecc0440",
   "metadata": {},
   "outputs": [
    {
     "name": "stdout",
     "output_type": "stream",
     "text": [
      "Help on built-in function sin in module math:\n",
      "\n",
      "sin(x, /)\n",
      "    Return the sine of x (measured in radians).\n",
      "\n"
     ]
    }
   ],
   "source": [
    "help(math.sin)"
   ]
  },
  {
   "cell_type": "markdown",
   "id": "02c3a4f5",
   "metadata": {},
   "source": [
    "---\n",
    "**🚩 Exercise 8**\n",
    "\n",
    "Consult the `math` documentation, then calculate and display $\\cos(119^{\\circ})$ using `math` functions. (The result should be close to $-0.5$.)"
   ]
  },
  {
   "cell_type": "code",
   "execution_count": 40,
   "id": "ec23843c",
   "metadata": {},
   "outputs": [
    {
     "name": "stdout",
     "output_type": "stream",
     "text": [
      "Help on built-in function cos in module math:\n",
      "\n",
      "cos(x, /)\n",
      "    Return the cosine of x (measured in radians).\n",
      "\n",
      "Help on built-in function radians in module math:\n",
      "\n",
      "radians(x, /)\n",
      "    Convert angle x from degrees to radians.\n",
      "\n",
      "-0.484809620246337\n"
     ]
    }
   ],
   "source": [
    "help(math.cos)\n",
    "help(math.radians)\n",
    "print(math.cos(math.radians(119)))"
   ]
  },
  {
   "cell_type": "code",
   "execution_count": 38,
   "id": "5cf26d9b",
   "metadata": {},
   "outputs": [
    {
     "data": {
      "application/vnd.jupyter.widget-view+json": {
       "model_id": "dd4ee66f41ff415c9a62f8650d53dc60",
       "version_major": 2,
       "version_minor": 0
      },
      "text/plain": [
       "Accordion(children=(Output(layout=Layout(border_bottom='1px solid green', border_left='1px solid green', borde…"
      ]
     },
     "metadata": {},
     "output_type": "display_data"
    }
   ],
   "source": [
    "show('Exercise 8')"
   ]
  },
  {
   "cell_type": "markdown",
   "id": "caa0de4c",
   "metadata": {},
   "source": [
    "---\n",
    "### Shorter names\n",
    "\n",
    "Many module names are typically abbreviated, in order to avoid cluttered code. Let's look at another example, also very useful for maths: the `numpy` package ([documentation](https://numpy.org/doc/stable/)). Numpy is a huge package with many features, including (but very much not limited to!) its own functions to perform mathematical operations (similar to the ones available with `math`). So, for example, we could also use this for the same calculation as above:"
   ]
  },
  {
   "cell_type": "code",
   "execution_count": 41,
   "id": "c02a3fac",
   "metadata": {},
   "outputs": [
    {
     "name": "stdout",
     "output_type": "stream",
     "text": [
      "0.7071067811865475\n"
     ]
    }
   ],
   "source": [
    "import numpy\n",
    "print(numpy.sin(numpy.pi / 4))"
   ]
  },
  {
   "cell_type": "markdown",
   "id": "828d3bc9",
   "metadata": {},
   "source": [
    "However, programmers generally prefer uncluttered code. To avoid having to prefix everything with `numpy.`, we can choose a shorter name at import time. For example, `numpy` is conventionally abbreviated to `np`, like so:"
   ]
  },
  {
   "cell_type": "code",
   "execution_count": 42,
   "id": "4ec450c4",
   "metadata": {},
   "outputs": [
    {
     "name": "stdout",
     "output_type": "stream",
     "text": [
      "0.7071067811865475\n"
     ]
    }
   ],
   "source": [
    "import numpy as np\n",
    "print(np.sin(np.pi / 4))"
   ]
  },
  {
   "cell_type": "markdown",
   "id": "bbe271d6",
   "metadata": {},
   "source": [
    "---\n",
    "**📚 Learn more**\n",
    "\n",
    "* [Mathematical functions - Numpy](https://docs.scipy.org/doc/numpy/reference/routines.math.html)\n",
    "* [Modules - The Python Tutorial](https://docs.python.org/3/tutorial/modules.html)\n",
    "\n",
    "\n",
    "---\n",
    "**🚩 Exercise 9**\n",
    "\n",
    "Using Numpy functions and constants, compute and print $\\sqrt{2} \\cos(\\frac{2\\pi}{5})$."
   ]
  },
  {
   "cell_type": "code",
   "execution_count": 45,
   "id": "98433714",
   "metadata": {},
   "outputs": [
    {
     "name": "stdout",
     "output_type": "stream",
     "text": [
      "0.43701602444882115\n"
     ]
    }
   ],
   "source": [
    "print(np.sqrt(2) * np.cos(2 * np.pi / 5))"
   ]
  },
  {
   "cell_type": "code",
   "execution_count": 46,
   "id": "4341b0e6",
   "metadata": {},
   "outputs": [
    {
     "data": {
      "application/vnd.jupyter.widget-view+json": {
       "model_id": "691fb2cd48b24d48b677f459c89d5699",
       "version_major": 2,
       "version_minor": 0
      },
      "text/plain": [
       "Accordion(children=(Output(layout=Layout(border_bottom='1px solid green', border_left='1px solid green', borde…"
      ]
     },
     "metadata": {},
     "output_type": "display_data"
    }
   ],
   "source": [
    "show('Exercise 9')"
   ]
  }
 ],
 "metadata": {
  "kernelspec": {
   "display_name": "Python 3 (ipykernel)",
   "language": "python",
   "name": "python3"
  },
  "language_info": {
   "codemirror_mode": {
    "name": "ipython",
    "version": 3
   },
   "file_extension": ".py",
   "mimetype": "text/x-python",
   "name": "python",
   "nbconvert_exporter": "python",
   "pygments_lexer": "ipython3",
   "version": "3.11.4"
  }
 },
 "nbformat": 4,
 "nbformat_minor": 5
}
