{
 "cells": [
  {
   "cell_type": "markdown",
   "metadata": {},
   "source": [
    "### Question 1 - sin_calc()\n",
    "Import NumPy, and complete the function \"sin_calc()\" to calculate the following:\n",
    "\n",
    "$ c = sin(\\frac{\\pi}{3}) $\n",
    "\n",
    "Your function should print the result rounded to 3 decimal places."
   ]
  },
  {
   "cell_type": "code",
   "execution_count": 2,
   "metadata": {},
   "outputs": [
    {
     "name": "stdout",
     "output_type": "stream",
     "text": [
      "0.866\n"
     ]
    }
   ],
   "source": [
    "import numpy as np\n",
    "\n",
    "def sin_calc():\n",
    "    c = np.sin(np.pi/3)\n",
    "    print(round(c, 3))\n",
    "\n",
    "sin_calc()"
   ]
  },
  {
   "cell_type": "code",
   "execution_count": 19,
   "metadata": {},
   "outputs": [
    {
     "name": "stdout",
     "output_type": "stream",
     "text": [
      "0.866\n"
     ]
    }
   ],
   "source": [
    "import numpy as np\n",
    "\n",
    "def sin_calc():\n",
    "    c = np.sin(np.pi/3)\n",
    "    print(f'{c:.3f}')\n",
    "\n",
    "sin_calc()"
   ]
  },
  {
   "cell_type": "markdown",
   "metadata": {},
   "source": [
    "### Question 2 - sphere_volume(a)\n",
    "Write a function \"sphere_volume(a)\" which takes one input argument \"a\", a positive number representing the length of the side of a cube, and returns the volume of the sphere inscribed in the cube of side \"a\", rounded to 2 decimal places."
   ]
  },
  {
   "cell_type": "code",
   "execution_count": 3,
   "metadata": {},
   "outputs": [
    {
     "name": "stdout",
     "output_type": "stream",
     "text": [
      "4.19\n"
     ]
    }
   ],
   "source": [
    "import numpy as np\n",
    "\n",
    "def sphere_volume(a):\n",
    "    volume = (4/3) * np.pi * (a/2)**3\n",
    "    return round(volume, 2)\n",
    "\n",
    "print(sphere_volume(2))"
   ]
  },
  {
   "cell_type": "markdown",
   "metadata": {},
   "source": [
    "### Question 3 - quadratic intersection\n",
    "The following curves intersect at two points.\n",
    "\n",
    "$$\n",
    "f(x) = x^{2} + 3x + \\sqrt{5}\n",
    "$$\n",
    "\n",
    "$$\n",
    "g(x) = -x^{2} - 2x + 1\n",
    "$$\n",
    "\n",
    "Find the coordinates of the points of intersection, i.e. the solutions of the equation 𝑓(𝑥)=𝑔(𝑥)\n",
    ". You will need to use the quadratic formula, but you should use Python to do the calculations.\n",
    "\n",
    "Print out your findings in the format shown below:\n",
    "\n",
    "Root 1:\n",
    "\n",
    "(__, __)\n",
    "\n",
    "Root 2:\n",
    "\n",
    "(__, __)\n",
    "\n",
    "with the $(x, y)$ coordinates of each root to fill in the blanks. Root 2 should be the point of intersection that has a lower y-value.\n",
    "\n",
    "You need to pay extra attention to the output format!"
   ]
  },
  {
   "cell_type": "code",
   "execution_count": null,
   "metadata": {},
   "outputs": [],
   "source": [
    "import math\n",
    "\n",
    "def intersection():\n",
    "    # f(x) - g(x) = 0 is simplified to a quadratic with the following coefficients:\n",
    "    # (2x^2 + 5x + sqrt(5) - 1 = 0)\n",
    "    a = 2\n",
    "    b = 5\n",
    "    c = math.sqrt(5) - 1\n",
    "\n",
    "    # Calculate the discriminant\n",
    "    d = b**2 - 4*a*c\n",
    "\n",
    "    # Using the quadratic formula to find the roots\n",
    "    x1 = (-b-math.sqrt(d))/(2*a)\n",
    "    x2 = (-b+math.sqrt(d))/(2*a)\n",
    "\n",
    "    # Finding the location in the y-direction of the two roots.\n",
    "    y1 = -(x1**2) - (2*x1) + 1\n",
    "    y2 = -(x2**2) - (2*x2) + 1      # if use f(x) = x^2 + 5x + sqrt(5)?\n",
    "\n",
    "    print(\"Root 1:\")\n",
    "    print(f'({x2}, {y2})')\n",
    "    print(\"Root 2:\")\n",
    "    print(f'({x1}, {y1})')\n",
    "    \n",
    "\n",
    "intersection()"
   ]
  },
  {
   "cell_type": "markdown",
   "metadata": {},
   "source": [
    "### Question 4 - numpy_log()\n",
    "Import NumPy.\n",
    "\n",
    "Write a function \"numpy_log()\" to find the first positive integer $n$ for which $ln(n)>\\frac{10}{n}$.\n",
    "\n",
    "Print out the integer you found."
   ]
  },
  {
   "cell_type": "code",
   "execution_count": 9,
   "metadata": {},
   "outputs": [
    {
     "name": "stdout",
     "output_type": "stream",
     "text": [
      "6\n"
     ]
    }
   ],
   "source": [
    "import numpy as np\n",
    "\n",
    "def numpy_log():\n",
    "    # Initialise the value of n\n",
    "    n = 1\n",
    "\n",
    "    # Check when ln(n) > 10/n using a while loop\n",
    "    while np.log(n) <= 10/n:\n",
    "        n += 1\n",
    "    \n",
    "    # Return the first positive integer n which satisfy the condition\n",
    "    print(n)\n",
    "\n",
    "numpy_log()"
   ]
  },
  {
   "cell_type": "code",
   "execution_count": 21,
   "metadata": {},
   "outputs": [
    {
     "name": "stdout",
     "output_type": "stream",
     "text": [
      "6\n"
     ]
    }
   ],
   "source": [
    "import numpy as np\n",
    "\n",
    "def numpy_log():\n",
    "    # Initialise n, start at 1\n",
    "    n = 1\n",
    "    \n",
    "    # Loop until we find it\n",
    "    while True:\n",
    "        if np.log(n) > 10/n:\n",
    "            # Found it, display and stop the loop\n",
    "            print(n)\n",
    "            break\n",
    "        \n",
    "        # If we haven't broken the loop yet, go to next integer\n",
    "        n += 1\n",
    "\n",
    "numpy_log()"
   ]
  },
  {
   "cell_type": "markdown",
   "metadata": {},
   "source": [
    "### Question 5 - vector angles\n",
    "Write a function \"vector_angles(r1, r2)\" which takes two inputs, both 1-dimensionals numpy arrays (of floats) representing vectors $r_{1}$ and $r_{2}$, and:\n",
    "\n",
    "* (i) computes $r_{1} \\cdot r_{2}$, the dot product of the two vectors.\n",
    "\n",
    "* (ii) computes $\\theta$, the angle between the two vectors. (Recall that $cos(\\theta) = \\frac{r_{1} \\cdot r_{2}}{||r_{1}||||r_{2}||}$.)\n",
    "\n",
    "Your function should return both the dot product and the angle.\n",
    "\n",
    " *** Note that 𝜃 should be outputted in degrees, not radians, and the value should be rounded to one decimal place."
   ]
  },
  {
   "cell_type": "code",
   "execution_count": 22,
   "metadata": {},
   "outputs": [
    {
     "name": "stdout",
     "output_type": "stream",
     "text": [
      "(1.0, 45.0)\n"
     ]
    }
   ],
   "source": [
    "import numpy as np\n",
    "\n",
    "def vector_angles(r1, r2):\n",
    "    # Compute the dot product \n",
    "    dot_r = np.dot(r1, r2)\n",
    "\n",
    "    # Compute the magnitudes of the vectors\n",
    "    mag1 = np.linalg.norm(r1)\n",
    "    mag2 = np.linalg.norm(r2)\n",
    "\n",
    "    # Solving for theta in cos(theta) = (r1.r2)/(|r1|*|r2|)\n",
    "    theta = np.arccos(dot_r / (mag1*mag2))\n",
    "    theta = round(np.degrees(theta), 1)\n",
    "\n",
    "    return dot_r, theta \n",
    "\n",
    "\n",
    "r1 = np.array([1., 1., 0.])\n",
    "r2 = np.array([0., 1., 0.])\n",
    "\n",
    "print(vector_angles(r1, r2))"
   ]
  },
  {
   "cell_type": "markdown",
   "metadata": {},
   "source": [
    "`Question: Why 'return dot_r, theta' automatically print out in a parenthesis?`"
   ]
  },
  {
   "cell_type": "markdown",
   "metadata": {},
   "source": [
    "### Question 6 - Roman numeral\n",
    "Write a function \"roman_numeral(integer)\" that converts a given positive integer (< 2000) into the corresponding Roman numeral, and prints the result.\n",
    "\n",
    "Use the following values: I = 1, V = 5, X = 10, L = 50, C = 100, D = 500, M = 1000\n",
    "\n",
    "If the integer is greater than or equal to 2000, your program should print out: \n",
    "\n",
    "Invalid integer - pick a smaller number.\n",
    "\n",
    "Note that you should write \"IIII\" to represent 4, for instance (not \"IV\"). Also, note that roman numerals are written with larger values first, so \"M\" comes before \"D\", etc."
   ]
  },
  {
   "cell_type": "code",
   "execution_count": 18,
   "metadata": {},
   "outputs": [
    {
     "name": "stdout",
     "output_type": "stream",
     "text": [
      "MCCCCXXXVIII\n",
      "Invalid integer - pick a smaller number.\n"
     ]
    }
   ],
   "source": [
    "def roman_numeral(integer):\n",
    "    '''\n",
    "    Converts a given positive integer (< 2000) \n",
    "    into the corresponding Roman numeral\n",
    "    '''\n",
    "    if integer < 2000:\n",
    "        roman_symbols = [\"M\", \"D\", \"C\", \"L\", \"X\", \"V\", \"I\"]\n",
    "        roman_values = [1000, 500, 100, 50, 10, 5, 1]\n",
    "    \n",
    "        # Initialize the Roman numeral representation\n",
    "        roman_numeral = \"\"\n",
    "\n",
    "        # Convert the integer to Roman numeral\n",
    "        i = 0\n",
    "        while integer > 0:\n",
    "            if integer >= roman_values[i]:\n",
    "                roman_numeral += roman_symbols[i]\n",
    "                integer -= roman_values[i]\n",
    "            else:\n",
    "                i += 1\n",
    "\n",
    "        print(roman_numeral)\n",
    "\n",
    "    else:\n",
    "        print(\"Invalid integer - pick a smaller number.\")\n",
    "\n",
    "roman_numeral(1438)\n",
    "roman_numeral(2021)"
   ]
  },
  {
   "cell_type": "code",
   "execution_count": 23,
   "metadata": {},
   "outputs": [
    {
     "name": "stdout",
     "output_type": "stream",
     "text": [
      "MCCCCXXXVIII\n",
      "Invalid integer - pick a smaller number.\n"
     ]
    }
   ],
   "source": [
    "def roman_numeral(integer):\n",
    "    if integer < 2000:\n",
    "        I = 1\n",
    "        V = 5\n",
    "        X = 10\n",
    "        L = 50\n",
    "        C = 100\n",
    "        D = 500\n",
    "        M = 1000\n",
    "        # The number of ones (Is) is the remainder after the number is divided by 5\n",
    "        Is = integer % V\n",
    "        # The fives (Vs) will be in the remainder after the integer is divided by ten\n",
    "        Vr = integer % X\n",
    "        # The number of fives will equals (remainder - # of ones)/5\n",
    "        Vs = (Vr - Is)/V\n",
    "        # The remainder after dividing the integer by 50\n",
    "        Xr = integer % L\n",
    "        # The number of tens will by (remainder of 50 - remainder of 10)/10\n",
    "        Xs = (Xr - Vr)/X\n",
    "        # The remainder after dividing the integer by 100\n",
    "        Lr = integer % C\n",
    "        # The number of 50s is (remainder of 100 - remainder of 50)/50\n",
    "        Ls = (Lr - Xr)/L\n",
    "        # The remainder after dividing the integer by 500\n",
    "        Cr = integer % D\n",
    "        # The number of 100s is (remainder of 500 - remainder of 100)/100\n",
    "        Cs = (Cr - Lr)/C\n",
    "        # The remainder after dividing the integer by 1000\n",
    "        Dr = integer % M\n",
    "        # The number of 500s is (remainder of 1000 - remainder of 500)/500\n",
    "        Ds = (Dr - Cr)/D\n",
    "        # The number of 1000s is just how many times the integer is divisible by 1000\n",
    "        Ms = integer // 1000\n",
    "        # The count for each of the roman numerals (i.e. \"M\" shows up Ms times.)\n",
    "        romans = [Ms, Ds, Cs, Ls, Xs, Vs, Is]\n",
    "        numerals = [\"M\", \"D\", \"C\", \"L\", \"X\", \"V\", \"I\"]\n",
    "\n",
    "        # Creates an empty string so we can add roman numerals\n",
    "        roman_numerals = \"\"\n",
    "        # For loop to add to our string, with i being a spot in the romans list\n",
    "        for i in range(0,7):\n",
    "            # For loop to add letters to our string using the number from romans \n",
    "            for j in range(0, int(romans[i])):\n",
    "                # condition so we eliminate the letters we don't need to add\n",
    "                if int(romans[i]) > 0:\n",
    "                    # adding to our string\n",
    "                    roman_numerals = roman_numerals + numerals[i]\n",
    "\n",
    "        print(roman_numerals)\n",
    "        \n",
    "    else:\n",
    "        print(\"Invalid integer - pick a smaller number.\")\n",
    "\n",
    "roman_numeral(1438)\n",
    "roman_numeral(2021)"
   ]
  }
 ],
 "metadata": {
  "kernelspec": {
   "display_name": "base",
   "language": "python",
   "name": "python3"
  },
  "language_info": {
   "codemirror_mode": {
    "name": "ipython",
    "version": 3
   },
   "file_extension": ".py",
   "mimetype": "text/x-python",
   "name": "python",
   "nbconvert_exporter": "python",
   "pygments_lexer": "ipython3",
   "version": "3.11.5"
  }
 },
 "nbformat": 4,
 "nbformat_minor": 2
}
