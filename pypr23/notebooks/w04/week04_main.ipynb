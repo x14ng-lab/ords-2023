{
 "cells": [
  {
   "cell_type": "markdown",
   "metadata": {},
   "source": [
    "# Week 4: Namespaces, NumPy, and plotting with matplotlib\n",
    "\n",
    "In this worksheet, we discuss the important concepts of *namespace* and *scope* in Python. We also (re-)introduce the **NumPy** module -- and specifically, how we can use **NumPy arrays** to handle mathematical problems. Finally, we introduce the module **matplotlib**, and its interface **pyplot**, to create plots and graphs and visualise data and results.\n",
    "\n",
    "The best way to learn programming is to write code. Don't hesitate to edit the code in the example cells, or add your own code, to test your understanding. You will find practice exercises throughout the notebook, denoted by 🚩 **Exercise $x$**."
   ]
  },
  {
   "cell_type": "code",
   "execution_count": 1,
   "metadata": {},
   "outputs": [],
   "source": [
    "from show_solutions import show, initialise_path\n",
    "show = initialise_path(show, '../solutions/w04_solutions.md')"
   ]
  },
  {
   "cell_type": "markdown",
   "metadata": {},
   "source": [
    "---\n",
    "## Namespaces and scope\n",
    "\n",
    "Namespaces and scope are important concepts to understand, particularly now that you know how to write your own functions, and now that we are going to start using more modules.\n",
    "\n",
    "#### Namespace\n",
    "\n",
    "Roughly speaking, a **namespace** is a collection of names, together with the objects they refer to. It's the lookup table that Python uses to find objects in memory by their labels.\n",
    "\n",
    "If we go back once again to the drawer or box analogy, sticking a new label on a box is *adding that name to the namespace*."
   ]
  },
  {
   "cell_type": "code",
   "execution_count": 2,
   "metadata": {},
   "outputs": [
    {
     "name": "stdout",
     "output_type": "stream",
     "text": [
      "7\n"
     ]
    },
    {
     "ename": "NameError",
     "evalue": "name 'd' is not defined",
     "output_type": "error",
     "traceback": [
      "\u001b[0;31m---------------------------------------------------------------------------\u001b[0m",
      "\u001b[0;31mNameError\u001b[0m                                 Traceback (most recent call last)",
      "\u001b[1;32m/Users/xiang/Library/CloudStorage/OneDrive-UniversityofEdinburgh/UoE - 1 year/P1S1/MATH11199_Python Programming/pypr-notebooks-x14ng-lab/w04/week04.ipynb Cell 4\u001b[0m line \u001b[0;36m4\n\u001b[1;32m      <a href='vscode-notebook-cell:/Users/xiang/Library/CloudStorage/OneDrive-UniversityofEdinburgh/UoE%20-%201%20year/P1S1/MATH11199_Python%20Programming/pypr-notebooks-x14ng-lab/w04/week04.ipynb#W3sZmlsZQ%3D%3D?line=1'>2</a>\u001b[0m b \u001b[39m=\u001b[39m \u001b[39m2\u001b[39m\n\u001b[1;32m      <a href='vscode-notebook-cell:/Users/xiang/Library/CloudStorage/OneDrive-UniversityofEdinburgh/UoE%20-%201%20year/P1S1/MATH11199_Python%20Programming/pypr-notebooks-x14ng-lab/w04/week04.ipynb#W3sZmlsZQ%3D%3D?line=2'>3</a>\u001b[0m \u001b[39mprint\u001b[39m(a \u001b[39m+\u001b[39m b)\n\u001b[0;32m----> <a href='vscode-notebook-cell:/Users/xiang/Library/CloudStorage/OneDrive-UniversityofEdinburgh/UoE%20-%201%20year/P1S1/MATH11199_Python%20Programming/pypr-notebooks-x14ng-lab/w04/week04.ipynb#W3sZmlsZQ%3D%3D?line=3'>4</a>\u001b[0m \u001b[39mprint\u001b[39m(d)\n",
      "\u001b[0;31mNameError\u001b[0m: name 'd' is not defined"
     ]
    }
   ],
   "source": [
    "a = 5\n",
    "b = 2\n",
    "print(a + b)\n",
    "print(d)"
   ]
  },
  {
   "cell_type": "markdown",
   "metadata": {},
   "source": [
    "Here, we first add the names `a` and `b` to the namespace -- that is, we stick the labels `a` and `b` on 2 boxes in memory. Then, when we tell Python to compute and print `a + b`, it looks at the *namespace* to find the boxes with *names* (labels) `a` and `b`. It also looks for the box named `print` (which contains the function that allows us to display things on the screen).\n",
    "\n",
    "Since `d` is not in the namespace (there is no box with label `d`), Python cannot find it, and it returns a `NameError`.\n",
    "\n",
    "#### Scope\n",
    "\n",
    "When you run a Python script, generally, more than one namespace is created. A **scope** is a part of your code from where you can access a certain namespace -- that is, where you can find the variables in that namespace by just typing their names.\n",
    "\n",
    "This should be clearer with an example:"
   ]
  },
  {
   "cell_type": "code",
   "execution_count": 3,
   "metadata": {},
   "outputs": [
    {
     "name": "stdout",
     "output_type": "stream",
     "text": [
      "Inside the function...\n",
      "7\n",
      "2\n",
      "Now we are outside...\n",
      "7\n"
     ]
    },
    {
     "ename": "NameError",
     "evalue": "name 'inside' is not defined",
     "output_type": "error",
     "traceback": [
      "\u001b[0;31m---------------------------------------------------------------------------\u001b[0m",
      "\u001b[0;31mNameError\u001b[0m                                 Traceback (most recent call last)",
      "\u001b[1;32m/Users/xiang/Library/CloudStorage/OneDrive-UniversityofEdinburgh/UoE - 1 year/P1S1/MATH11199_Python Programming/pypr-notebooks-x14ng-lab/w04/week04.ipynb Cell 6\u001b[0m line \u001b[0;36m1\n\u001b[1;32m     <a href='vscode-notebook-cell:/Users/xiang/Library/CloudStorage/OneDrive-UniversityofEdinburgh/UoE%20-%201%20year/P1S1/MATH11199_Python%20Programming/pypr-notebooks-x14ng-lab/w04/week04.ipynb#W5sZmlsZQ%3D%3D?line=10'>11</a>\u001b[0m \u001b[39mprint\u001b[39m(\u001b[39m'\u001b[39m\u001b[39mNow we are outside...\u001b[39m\u001b[39m'\u001b[39m)\n\u001b[1;32m     <a href='vscode-notebook-cell:/Users/xiang/Library/CloudStorage/OneDrive-UniversityofEdinburgh/UoE%20-%201%20year/P1S1/MATH11199_Python%20Programming/pypr-notebooks-x14ng-lab/w04/week04.ipynb#W5sZmlsZQ%3D%3D?line=11'>12</a>\u001b[0m \u001b[39mprint\u001b[39m(outside)\n\u001b[0;32m---> <a href='vscode-notebook-cell:/Users/xiang/Library/CloudStorage/OneDrive-UniversityofEdinburgh/UoE%20-%201%20year/P1S1/MATH11199_Python%20Programming/pypr-notebooks-x14ng-lab/w04/week04.ipynb#W5sZmlsZQ%3D%3D?line=12'>13</a>\u001b[0m \u001b[39mprint\u001b[39m(inside)\n",
      "\u001b[0;31mNameError\u001b[0m: name 'inside' is not defined"
     ]
    }
   ],
   "source": [
    "outside = 7\n",
    "\n",
    "def func():\n",
    "    inside = 2\n",
    "    print('Inside the function...')\n",
    "    print(outside)\n",
    "    print(inside)\n",
    "\n",
    "func()\n",
    "\n",
    "print('Now we are outside...')\n",
    "print(outside)\n",
    "print(inside)"
   ]
  },
  {
   "cell_type": "markdown",
   "metadata": {},
   "source": [
    "Functions in Python have their own namespaces. When we run the command `func()` on line 9, a namespace is created for that function, and any variables *created* when the function is called (here, the variable `inside`) are added to the function's namespace. These variables can be referred to *inside the function* by using their names -- for example, we are able to `print(inside)` on line 7. Any code which is also part of the function definition can access this namespace. At this point in the code (here, lines 4-7), we are in the **local scope**.\n",
    "\n",
    "Note that we can also `print(outside)` on line 6, even though `outside` is not part of the function's namespace. From the point of view of the code inside the function, `outside` is part of the **global scope**. In the local scope (lines 4-7), Python first tries to search the local scope's namespace for the name `outside`; since it can't find anything, it then tries to search in the global scope's namespace, where `outside` does exist.\n",
    "\n",
    "The function's namespace is **deleted** once the function exits (that is, once the command `func()` has finished executing). The global scope does *not* have access to the local scope inside it, and trying to `print(inside)` outside the function on line 13 leads to a `NameError`.\n",
    "\n",
    "The following example is another interesting consequence of the function creating and then deleting its own namespace:"
   ]
  },
  {
   "cell_type": "code",
   "execution_count": 4,
   "metadata": {},
   "outputs": [
    {
     "name": "stdout",
     "output_type": "stream",
     "text": [
      "12\n",
      "7\n"
     ]
    }
   ],
   "source": [
    "outside = 7\n",
    "\n",
    "def func():\n",
    "    outside = 12\n",
    "    # The name \"outside\" refers to 12 here locally...\n",
    "    print(outside)\n",
    "\n",
    "func()\n",
    "\n",
    "# ...but here, \"outside\" still refers to the one defined globally\n",
    "print(outside)"
   ]
  },
  {
   "cell_type": "markdown",
   "metadata": {},
   "source": [
    "Another interesting one -- `print(outside)` works in the first function, but not in the second function, because Python now detects that there _will be_ a name `outside` in the function's namespace. The error message says that this `local variable` is used in the function before actually being assigned a value -- when we ran the code that defines the function, Python prepared a label `outside` to add to the function's namespace, but hasn't stuck it on a box yet (that would happen on line 8). But because the label exists in the local scope, it supersedes the one defined on line 1 in the global scope."
   ]
  },
  {
   "cell_type": "code",
   "execution_count": 5,
   "metadata": {},
   "outputs": [
    {
     "name": "stdout",
     "output_type": "stream",
     "text": [
      "7\n"
     ]
    },
    {
     "ename": "UnboundLocalError",
     "evalue": "cannot access local variable 'outside' where it is not associated with a value",
     "output_type": "error",
     "traceback": [
      "\u001b[0;31m---------------------------------------------------------------------------\u001b[0m",
      "\u001b[0;31mUnboundLocalError\u001b[0m                         Traceback (most recent call last)",
      "\u001b[1;32m/Users/xiang/Library/CloudStorage/OneDrive-UniversityofEdinburgh/UoE - 1 year/P1S1/MATH11199_Python Programming/pypr-notebooks-x14ng-lab/w04/week04.ipynb Cell 10\u001b[0m line \u001b[0;36m1\n\u001b[1;32m      <a href='vscode-notebook-cell:/Users/xiang/Library/CloudStorage/OneDrive-UniversityofEdinburgh/UoE%20-%201%20year/P1S1/MATH11199_Python%20Programming/pypr-notebooks-x14ng-lab/w04/week04.ipynb#X12sZmlsZQ%3D%3D?line=7'>8</a>\u001b[0m     outside \u001b[39m=\u001b[39m \u001b[39m1\u001b[39m\n\u001b[1;32m     <a href='vscode-notebook-cell:/Users/xiang/Library/CloudStorage/OneDrive-UniversityofEdinburgh/UoE%20-%201%20year/P1S1/MATH11199_Python%20Programming/pypr-notebooks-x14ng-lab/w04/week04.ipynb#X12sZmlsZQ%3D%3D?line=9'>10</a>\u001b[0m func()\n\u001b[0;32m---> <a href='vscode-notebook-cell:/Users/xiang/Library/CloudStorage/OneDrive-UniversityofEdinburgh/UoE%20-%201%20year/P1S1/MATH11199_Python%20Programming/pypr-notebooks-x14ng-lab/w04/week04.ipynb#X12sZmlsZQ%3D%3D?line=10'>11</a>\u001b[0m func2()\n",
      "\u001b[1;32m/Users/xiang/Library/CloudStorage/OneDrive-UniversityofEdinburgh/UoE - 1 year/P1S1/MATH11199_Python Programming/pypr-notebooks-x14ng-lab/w04/week04.ipynb Cell 10\u001b[0m line \u001b[0;36m7\n\u001b[1;32m      <a href='vscode-notebook-cell:/Users/xiang/Library/CloudStorage/OneDrive-UniversityofEdinburgh/UoE%20-%201%20year/P1S1/MATH11199_Python%20Programming/pypr-notebooks-x14ng-lab/w04/week04.ipynb#X12sZmlsZQ%3D%3D?line=5'>6</a>\u001b[0m \u001b[39mdef\u001b[39;00m \u001b[39mfunc2\u001b[39m():\n\u001b[0;32m----> <a href='vscode-notebook-cell:/Users/xiang/Library/CloudStorage/OneDrive-UniversityofEdinburgh/UoE%20-%201%20year/P1S1/MATH11199_Python%20Programming/pypr-notebooks-x14ng-lab/w04/week04.ipynb#X12sZmlsZQ%3D%3D?line=6'>7</a>\u001b[0m     \u001b[39mprint\u001b[39m(outside)\n\u001b[1;32m      <a href='vscode-notebook-cell:/Users/xiang/Library/CloudStorage/OneDrive-UniversityofEdinburgh/UoE%20-%201%20year/P1S1/MATH11199_Python%20Programming/pypr-notebooks-x14ng-lab/w04/week04.ipynb#X12sZmlsZQ%3D%3D?line=7'>8</a>\u001b[0m     outside \u001b[39m=\u001b[39m \u001b[39m1\u001b[39m\n",
      "\u001b[0;31mUnboundLocalError\u001b[0m: cannot access local variable 'outside' where it is not associated with a value"
     ]
    }
   ],
   "source": [
    "outside = 7\n",
    "\n",
    "def func():\n",
    "    print(outside)\n",
    "\n",
    "def func2():\n",
    "    print(outside)\n",
    "    outside = 1\n",
    "\n",
    "func()\n",
    "func2()"
   ]
  },
  {
   "cell_type": "markdown",
   "metadata": {},
   "source": [
    "### Importing modules\n",
    "\n",
    "We saw in Week 1 how to import the Numpy module to get more functions. There are different ways you can import a module -- you can also only import selected functions or attributes from a particular module, if you need just a few specific things, instead of importing the whole module.\n",
    "\n",
    "For example, when we `import numpy as np`, we import all functions and attributes of `numpy` as a *separate* namespace, which we call `np`. This means that, for example, the `cos()` function of Numpy can only be accessed by specifically indicating that Python should look in the `np` namespace, by typing `np.cos()`.\n",
    "\n",
    "If we know that we just want the function `cos()`, we could also choose to import only that function into the main namespace, with `from numpy import cos`. This means that we won't need to prefix `cos()`, but this also means that if the name `cos` already existed in the main namespace, it gets overwritten."
   ]
  },
  {
   "cell_type": "code",
   "execution_count": 6,
   "metadata": {},
   "outputs": [
    {
     "name": "stdout",
     "output_type": "stream",
     "text": [
      "-1.0\n",
      "-1.0\n"
     ]
    }
   ],
   "source": [
    "# Import a module as a separate namespace\n",
    "import numpy as np\n",
    "\n",
    "print(np.cos(np.pi))\n",
    "\n",
    "# Import something from a module into the main namespace\n",
    "from numpy import cos, pi\n",
    "\n",
    "print(cos(pi))"
   ]
  },
  {
   "cell_type": "markdown",
   "metadata": {},
   "source": [
    "\n",
    "\n",
    "---\n",
    "**📚 Learn more:**\n",
    "\n",
    "- [Python scopes and namespaces](https://docs.python.org/3/tutorial/classes.html#python-scopes-and-namespaces) - The Python tutorial\n",
    "- [Modules](https://docs.python.org/3/tutorial/modules.html#modules) - The Python tutorial\n",
    "- [Mastering Python Namespaces and Scopes](https://www.adrianperea.dev/mastering-python-namespaces-and-scopes/) - Adrian Perea - A very nicely explained tutorial on namespaces and scopes in Python.\n",
    "\n",
    "---"
   ]
  },
  {
   "cell_type": "markdown",
   "metadata": {},
   "source": [
    "---\n",
    "## Numpy arrays\n",
    "\n",
    "We introduced the Numpy module when we needed to use some mathematical functions to compute values (e.g. `np.cos()`, `np.sqrt()`...). Another one of Numpy's useful functionalities is the **`ndarray` type** (stands for \"N-dimensional array\", usually referred to as \"Numpy array\"). Numpy arrays are *containers*, like lists, which allow us to store and handle vectors and matrices efficiently. (If you are familiar with MATLAB, Numpy arrays are quite similar to MATLAB arrays.)\n"
   ]
  },
  {
   "cell_type": "markdown",
   "metadata": {},
   "source": [
    "### Creating arrays manually\n",
    "\n",
    "The function `np.array()` is used to create an array. It takes a **list** as an input argument, and returns an array where the rows are the elements of the list. For example, to create a vector or a matrix:"
   ]
  },
  {
   "cell_type": "code",
   "execution_count": 7,
   "metadata": {},
   "outputs": [
    {
     "name": "stdout",
     "output_type": "stream",
     "text": [
      "[ 3.   4.  -2.8  0. ]\n",
      "<class 'numpy.ndarray'>\n",
      "[[1 0 0 0]\n",
      " [0 1 0 0]\n",
      " [0 0 1 0]\n",
      " [0 0 0 1]]\n",
      "[[1. 0. 0. 0.]\n",
      " [0. 1. 0. 0.]\n",
      " [0. 0. 1. 0.]\n",
      " [0. 0. 0. 1.]]\n"
     ]
    }
   ],
   "source": [
    "# Start by importing Numpy\n",
    "import numpy as np\n",
    "\n",
    "# Create a vector\n",
    "v = np.array([3, 4, -2.8, 0])\n",
    "print(v)\n",
    "print(type(v))\n",
    "\n",
    "# Create a matrix: pass a list of lists to np.array(),\n",
    "# each element of which is a row of the matrix\n",
    "id_4 = np.array([[1, 0, 0, 0],\n",
    "                 [0, 1, 0, 0],\n",
    "                 [0, 0, 1, 0],\n",
    "                 [0, 0, 0, 1]])\n",
    "print(id_4)\n",
    "\n",
    "# Use the second (optional) input argument of np.array()\n",
    "# to specify the type of its elements:\n",
    "id_4_float = np.array([[1, 0, 0, 0],\n",
    "                       [0, 1, 0, 0],\n",
    "                       [0, 0, 1, 0],\n",
    "                       [0, 0, 0, 1]], dtype=float)\n",
    "print(id_4_float)"
   ]
  },
  {
   "cell_type": "markdown",
   "metadata": {},
   "source": [
    "---\n",
    "**Note:** 1-D Numpy arrays (vectors) are *not* row vectors or column vectors -- they are similar to lists, in this sense.\n",
    "\n",
    "---"
   ]
  },
  {
   "cell_type": "markdown",
   "metadata": {},
   "source": [
    "### Some useful functions to construct arrays\n",
    "\n",
    "Numpy also has many useful functions to construct arrays with particular properties, for example:\n",
    "- `np.zeros()`, `np.ones()` to create arrays full of zeros or ones\n",
    "- `np.eye()` for the identity matrix\n",
    "- `np.random.random()`, `np.random.randint()` for matrices of random real numbers or random integers\n",
    "- `np.arange()`, `np.linspace()` for vectors of equally spaced values\n",
    "- `array.shape` to retrieve the dimensions of an array as a tuple"
   ]
  },
  {
   "cell_type": "code",
   "execution_count": 10,
   "metadata": {},
   "outputs": [
    {
     "name": "stdout",
     "output_type": "stream",
     "text": [
      "[[0. 0. 0. 0. 0. 0. 0.]\n",
      " [0. 0. 0. 0. 0. 0. 0.]\n",
      " [0. 0. 0. 0. 0. 0. 0.]]\n",
      "u = [1. 1. 1. 1. 1.]\n",
      "[[1. 0. 0. 0.]\n",
      " [0. 1. 0. 0.]\n",
      " [0. 0. 1. 0.]\n",
      " [0. 0. 0. 1.]]\n",
      "B = [[0.62423892 0.39800652 0.8268505 ]\n",
      " [0.28522594 0.19316358 0.99284291]\n",
      " [0.66983106 0.05881884 0.94925006]]\n",
      "v = [3.1 3.4 3.7 4.  4.3 4.6 4.9 5.2]\n",
      "w = [0.  0.2 0.4 0.6 0.8 1.  1.2 1.4 1.6 1.8 2.  2.2 2.4 2.6 2.8 3.  3.2 3.4\n",
      " 3.6 3.8 4. ]\n",
      "The shape of A is (3, 7).\n"
     ]
    }
   ],
   "source": [
    "# Create a matrix of zeros\n",
    "A = np.zeros([3, 7])\n",
    "print(A)\n",
    "\n",
    "# Create a vector of ones\n",
    "u = np.ones(5)\n",
    "print(f'u = {u}')\n",
    "\n",
    "# Create the 4x4 identity matrix, as above\n",
    "id_4_mat = np.eye(4)\n",
    "print(id_4_mat)\n",
    "\n",
    "# Create a matrix of pseudo-random numbers between 0 and 1,\n",
    "# sampled from a uniform distribution\n",
    "B = np.random.random([3, 3])\n",
    "print(f'B = {B}')\n",
    "\n",
    "# Create a 1D array (a vector) with a range of floats\n",
    "v = np.arange(3.1, 5.2, 0.3)\n",
    "print(f'v = {v}')\n",
    "\n",
    "# Create a 1D array (a vector) of 21 linearly spaced values\n",
    "w = np.linspace(0, 4, 21)\n",
    "print(f'w = {w}')\n",
    "\n",
    "# Retrieve the dimensions of an array, as a tuple\n",
    "print(f'The shape of A is {A.shape}.')"
   ]
  },
  {
   "cell_type": "markdown",
   "metadata": {},
   "source": [
    "Note that the `.shape` *attribute* of `ndarray` objects is a *tuple* `(n_rows, n_columns)` (a little bit like a list -- we'll see those in more detail in a few weeks), taking as values the dimensions of an array. (`.shape` is *not* a method -- it doesn't perform any operations, like a function would do, it is simply a property of `ndarray` objects, a value associated with the object. **Note that it is not followed by parentheses, like a method would be**.)\n",
    "\n",
    "For those functions which require to specify the dimensions of the target array, these dimensions are given as *one argument* -- a **sequence of integers**. For example, a *range* and a *list* are two different types of sequence -- here, we've used a list, `[n_rows, n_columns]` when creating `A` and `B`:\n",
    "\n",
    "```python\n",
    "A = np.zeros([3, 7])\n",
    "B = np.random.random([3, 3])\n",
    "```\n",
    "\n",
    "\n",
    "Another useful functionality for constructing arrays is the `.reshape()` *method* of the `ndarray` type. It takes one input argument, the shape of the target array, and broadcasts the values in the array to which it is applied into this new shape. For instance, here are four ways to construct the matrix\n",
    "\n",
    "$$\n",
    "M =\n",
    "\\begin{pmatrix}\n",
    "0.1 & 0.2 & 0.3 \\\\\n",
    "0.4 & 0.5 & 0.6 \\\\\n",
    "0.7 & 0.8 & 0.9\n",
    "\\end{pmatrix}\n",
    "$$"
   ]
  },
  {
   "cell_type": "code",
   "execution_count": 14,
   "metadata": {},
   "outputs": [
    {
     "name": "stdout",
     "output_type": "stream",
     "text": [
      "[[0.1 0.2 0.3]\n",
      " [0.4 0.5 0.6]\n",
      " [0.7 0.8 0.9]]\n",
      "[[0.1 0.2 0.3]\n",
      " [0.4 0.5 0.6]\n",
      " [0.7 0.8 0.9]]\n",
      "[[0.1 0.2 0.3]\n",
      " [0.4 0.5 0.6]\n",
      " [0.7 0.8 0.9]]\n",
      "[[0.1 0.2 0.3]\n",
      " [0.4 0.5 0.6]\n",
      " [0.7 0.8 0.9]]\n"
     ]
    }
   ],
   "source": [
    "# First way: giving the list of rows explicitly\n",
    "M1 = np.array([[0.1, 0.2, 0.3],\n",
    "               [0.4, 0.5, 0.6],\n",
    "               [0.7, 0.8, 0.9]])\n",
    "print(M1)\n",
    "\n",
    "# Second way: using range() and .reshape()\n",
    "# Note that range() returns a sequence, which we can therefore use\n",
    "# directly as the input argument for np.array()\n",
    "M2 = 0.1 * np.array(range(1, 10)).reshape((3, 3))\n",
    "print(M2)\n",
    "\n",
    "# Third way: using np.arange() and .reshape\n",
    "M3 = np.arange(0.1, 1, 0.1).reshape((3, 3))\n",
    "print(M3)\n",
    "\n",
    "# Fourth way: using np.linspace() and .reshape()\n",
    "M4 = np.linspace(0.1, 0.9, 9).reshape([3, 3])\n",
    "print(M4)"
   ]
  },
  {
   "cell_type": "markdown",
   "metadata": {},
   "source": [
    "---\n",
    "**📚 Learn more:**\n",
    "* [NumPy: the absolute basics for beginners](https://numpy.org/doc/stable/user/absolute_beginners.html)\n",
    "* [NumPy User Guide](https://docs.scipy.org/doc/numpy/user/)\n",
    "* [NumPy Reference](https://docs.scipy.org/doc/numpy/reference/index.html)\n",
    "* [NumPy array function](https://docs.scipy.org/doc/numpy/reference/generated/numpy.array.html)\n",
    "* [The N-dimensional array (ndarray)](https://docs.scipy.org/doc/numpy-1.12.0/reference/arrays.ndarray.html)\n",
    "* [Array creation routines](https://docs.scipy.org/doc/numpy-1.12.0/reference/routines.array-creation.html#routines-array-creation)\n",
    "* [Generate random arrays with Numpy](https://numpy.org/doc/stable/reference/random/generated/numpy.random.Generator.random.html#numpy.random.Generator.random)\n",
    "\n",
    "---\n",
    "\n",
    "🚩 **Exercise 1**\n",
    "\n",
    "Create two variables `M` and `y`, assigned with Numpy arrays representing the matrix $M$ and vector $y$ defined as\n",
    "\n",
    "$$\n",
    "M =\n",
    "\\begin{pmatrix}\n",
    "9 & 3 & 0 \\\\\n",
    "-2 & -2 & 1 \\\\\n",
    "0 & -1 & 1\n",
    "\\end{pmatrix}, \\qquad\n",
    "y =\n",
    "\\begin{pmatrix}\n",
    "0.4 \\\\ -3 \\\\ -0.3\n",
    "\\end{pmatrix}.\n",
    "$$"
   ]
  },
  {
   "cell_type": "code",
   "execution_count": 17,
   "metadata": {},
   "outputs": [
    {
     "name": "stdout",
     "output_type": "stream",
     "text": [
      "[[ 9  3  0]\n",
      " [-2 -2  1]\n",
      " [ 0 -1  1]]\n",
      "[ 0.4 -3.  -0.3]\n"
     ]
    }
   ],
   "source": [
    "import numpy as np\n",
    "\n",
    "# Create the matrix M\n",
    "M = np.array([[9, 3, 0], [-2, -2, 1], [0, -1, 1]])\n",
    "print(M)\n",
    "\n",
    "# Create the vector y\n",
    "y = np.array([0.4, -3, -0.3])\n",
    "print(y)"
   ]
  },
  {
   "cell_type": "code",
   "execution_count": 18,
   "metadata": {
    "tags": [
     "solution_cell"
    ]
   },
   "outputs": [
    {
     "data": {
      "application/vnd.jupyter.widget-view+json": {
       "model_id": "0a29202d59c545a7ab4d8776c07765a1",
       "version_major": 2,
       "version_minor": 0
      },
      "text/plain": [
       "Accordion(children=(Output(layout=Layout(border_bottom='1px solid green', border_left='1px solid green', borde…"
      ]
     },
     "metadata": {},
     "output_type": "display_data"
    }
   ],
   "source": [
    "show('Exercise 1')"
   ]
  },
  {
   "cell_type": "markdown",
   "metadata": {},
   "source": [
    "---\n",
    "### Element-wise operations\n",
    "\n",
    "The basic operators `+`, `-`, `*`, `/`, and `**` can be used to perform **element-wise** operations between\n",
    "* two arrays of the *same size*, or\n",
    "* an array and a number."
   ]
  },
  {
   "cell_type": "code",
   "execution_count": 19,
   "metadata": {},
   "outputs": [
    {
     "name": "stdout",
     "output_type": "stream",
     "text": [
      "A = \n",
      "[[0.1 0.2 0.3]\n",
      " [0.4 0.5 0.6]\n",
      " [0.7 0.8 0.9]]\n",
      "\n",
      "A + B =\n",
      "[[1.1 0.2 0.3]\n",
      " [0.4 1.5 0.6]\n",
      " [0.7 0.8 1.9]]\n",
      "\n",
      "A - B =\n",
      "[[-0.9  0.2  0.3]\n",
      " [ 0.4 -0.5  0.6]\n",
      " [ 0.7  0.8 -0.1]]\n",
      "\n",
      "A * B =\n",
      "[[0.1 0.  0. ]\n",
      " [0.  0.5 0. ]\n",
      " [0.  0.  0.9]]\n",
      "\n",
      "A ** 2 =\n",
      "[[0.01 0.04 0.09]\n",
      " [0.16 0.25 0.36]\n",
      " [0.49 0.64 0.81]]\n",
      "\n",
      " B / A =\n",
      "[[10.          0.          0.        ]\n",
      " [ 0.          2.          0.        ]\n",
      " [ 0.          0.          1.11111111]]\n"
     ]
    }
   ],
   "source": [
    "# Yet another way to construct the matrix from earlier...\n",
    "A = 0.1 * np.array([[1, 2, 3],\n",
    "                    [4, 5, 6],\n",
    "                    [7, 8, 9]])\n",
    "print(\"A = \")\n",
    "print(A)\n",
    "\n",
    "B = np.eye(3)\n",
    "\n",
    "print(\"\\nA + B =\")\n",
    "print(A + B)\n",
    "\n",
    "print(\"\\nA - B =\")\n",
    "print(A - B)\n",
    "\n",
    "print(\"\\nA * B =\")\n",
    "print(A * B)\n",
    "\n",
    "print(\"\\nA ** 2 =\")\n",
    "print(A ** 2)\n",
    "\n",
    "print(\"\\n B / A =\")\n",
    "print(B / A)"
   ]
  },
  {
   "cell_type": "markdown",
   "metadata": {},
   "source": [
    "---\n",
    "🚩 **Exercise 2**\n",
    "\n",
    "Write a function `dot_prod()`, which takes 2 input arguments `u` and `v`, both 1D NumPy arrays (vectors), and returns the dot product of the 2 vectors, **in one line of code** (two lines total, including the `def` statement). You are not allowed to use the function `np.dot()` from NumPy -- code it yourself. You can test your function on any two vectors by comparing the result to the output of `np.dot(u, v)`.\n",
    "\n",
    "The dot product of 2 vectors $\\mathbf{u}, \\mathbf{v} \\in \\mathbb{R}^n$ is given by\n",
    "$$\n",
    "\\mathbf{u} \\cdot \\mathbf{v} = \\sum_{i=1}^n u_i v_i.\n",
    "$$"
   ]
  },
  {
   "cell_type": "code",
   "execution_count": 25,
   "metadata": {},
   "outputs": [
    {
     "name": "stdout",
     "output_type": "stream",
     "text": [
      "32\n",
      "32\n"
     ]
    }
   ],
   "source": [
    "import numpy as np\n",
    "\n",
    "def dot_prod(u, v):\n",
    "    '''\n",
    "    Returns the dot product of vectors u and v.\n",
    "    '''\n",
    "    return np.sum(u * v)\n",
    "\n",
    "a = np.array([1, 2, 3])\n",
    "b = np.array([4, 5, 6])\n",
    "print(dot_prod(a, b))\n",
    "print(np.dot(a, b))"
   ]
  },
  {
   "cell_type": "code",
   "execution_count": 20,
   "metadata": {
    "tags": [
     "solution_cell"
    ]
   },
   "outputs": [
    {
     "data": {
      "application/vnd.jupyter.widget-view+json": {
       "model_id": "7f8165126c1c4460bf6afb33b152a11c",
       "version_major": 2,
       "version_minor": 0
      },
      "text/plain": [
       "Accordion(children=(Output(layout=Layout(border_bottom='1px solid green', border_left='1px solid green', borde…"
      ]
     },
     "metadata": {},
     "output_type": "display_data"
    }
   ],
   "source": [
    "show('Exercise 2')"
   ]
  },
  {
   "cell_type": "markdown",
   "metadata": {},
   "source": [
    "---\n",
    "### Indexing and slicing Numpy arrays\n",
    "\n",
    "To access an element in a Numpy array in a given position, we can use **indexing**, just like for other sequences. The main difference is that an element in an $N$-dimensional Numpy array is indexed by $N$ integers, each representing the element's position along a dimension.\n",
    "\n",
    "Concretely:\n",
    "* `v[i]` is the ($i+1$)th element of the vector `v`.\n",
    "* `A[i, j]` is the element in the ($i+1$)th row and ($j+1$)th column of the matrix `A`.\n",
    "* `X[i, j, k, h, ...]` is used to index elements for tensors in higher dimensions.\n",
    "\n",
    "Everything we have seen when **slicing** lists and strings also works on Numpy arrays. A few examples:"
   ]
  },
  {
   "cell_type": "code",
   "execution_count": 26,
   "metadata": {
    "scrolled": true
   },
   "outputs": [
    {
     "name": "stdout",
     "output_type": "stream",
     "text": [
      "[[0.25 0.5  0.75 1.  ]\n",
      " [1.25 1.5  1.75 2.  ]\n",
      " [2.25 2.5  2.75 3.  ]\n",
      " [3.25 3.5  3.75 4.  ]]\n",
      "2.0\n",
      "[0.25 0.5  0.75 1.  ]\n",
      "[0.75 1.75 2.75 3.75]\n",
      "[[2.25 2.5  2.75]\n",
      " [3.25 3.5  3.75]]\n",
      "[0.5 2.5]\n"
     ]
    }
   ],
   "source": [
    "# Create a 4x4 matrix\n",
    "A = np.arange(1/4, 17/4, 1/4).reshape((4, 4))\n",
    "print(A)\n",
    "\n",
    "# Print some slices\n",
    "print(A[1, 3])\n",
    "print(A[0, :])    # row 0, all elements\n",
    "print(A[:, 2])    # all elements, columns 2\n",
    "print(A[2:, :-1]) # rows 2 to the last, columns 0 to the second-to-last\n",
    "\n",
    "print(A[0::2, 1]) # every second row starting from 0, column 1"
   ]
  },
  {
   "cell_type": "markdown",
   "metadata": {},
   "source": [
    "---\n",
    "**📚 Learn more:**\n",
    "\n",
    "- [Indexing](https://numpy.org/doc/stable/reference/arrays.indexing.html) - Numpy documentation\n",
    "- [Indexing basics](https://numpy.org/doc/stable/user/basics.indexing.html#basics-indexing) - Numpy documentation\n",
    "\n",
    "---\n",
    "🚩 **Exercise 3**\n",
    "\n",
    "What does this code do?"
   ]
  },
  {
   "cell_type": "code",
   "execution_count": 29,
   "metadata": {},
   "outputs": [
    {
     "name": "stdout",
     "output_type": "stream",
     "text": [
      "[[ 4  9  4  2  6]\n",
      " [ 9 10  9  9  7]\n",
      " [ 4  6  1  6  2]] \n",
      "\n",
      "[[ True False  True  True False]\n",
      " [False False False False False]\n",
      " [ True False  True False  True]] \n",
      "\n",
      "[4 4 2 4 1 2] \n",
      "\n",
      "[[ 9 10  9]\n",
      " [ 4  6  1]] \n",
      "\n",
      "[4 1] \n",
      "\n",
      "[[  4 100   4   2 100]\n",
      " [100 100 100 100 100]\n",
      " [  4 100   1 100   2]]\n"
     ]
    }
   ],
   "source": [
    "# Create a random number generator\n",
    "rng = np.random.default_rng()\n",
    "\n",
    "# Create a random 3x5 matrix of integers between 1 and 10\n",
    "A = rng.integers(1, 11, size=[3, 5])\n",
    "print(A, '\\n')\n",
    "\n",
    "# Create a Boolean array the same shape as A, with True when the corresponding \n",
    "# elements of A are smaller than 5, and False elsewhere\n",
    "A5 = A < 5\n",
    "print(A5, '\\n')\n",
    "\n",
    "# Use A5 to return all elements of A smaller than 5 (in a 1D array)\n",
    "print(A[A5], '\\n')\n",
    "\n",
    "# Display the rows of A starting at row 1, and columns ending at column 2\n",
    "print(A[1:, :3], '\\n')\n",
    "\n",
    "# Display the element of that sub-matrix which are smaller than 5\n",
    "print(A[1:, :3][A5[1:, :3]], '\\n')\n",
    "\n",
    "# Reassign all elements of A which are greater than or equal to 5 with the value 100\n",
    "A[np.logical_not(A5)] = 100\n",
    "print(A)"
   ]
  },
  {
   "cell_type": "code",
   "execution_count": 30,
   "metadata": {
    "tags": [
     "solution_cell"
    ]
   },
   "outputs": [
    {
     "data": {
      "application/vnd.jupyter.widget-view+json": {
       "model_id": "d77e4f4f18aa4f08a5fce92f9515896f",
       "version_major": 2,
       "version_minor": 0
      },
      "text/plain": [
       "Accordion(children=(Output(layout=Layout(border_bottom='1px solid green', border_left='1px solid green', borde…"
      ]
     },
     "metadata": {},
     "output_type": "display_data"
    }
   ],
   "source": [
    "show('Exercise 3')"
   ]
  },
  {
   "cell_type": "markdown",
   "metadata": {},
   "source": [
    "---\n",
    "🚩 **Exercise 4**\n",
    "\n",
    "Define a variable `n` with some integer value $2 \\leq n \\leq 50$ of your choice. Using two nested for-loops, create an array `A` representing a matrix $A \\in \\mathbb{R}^{n\\times n}$, where the element $(i, j)$ in row $i$, column $j$ is given by\n",
    "$$\n",
    "a_{ij} = \\begin{cases}\n",
    "i + 2j, \\quad & \\text{if } i < j, \\\\\n",
    "ij, \\quad &\\text{otherwise,}\n",
    "\\end{cases}\n",
    "\\quad \\text{for } i, j = 0, 1, 2, \\dots, n-1.\n",
    "$$\n",
    "\n",
    "To check your code, for example, for $n=4$, you should have\n",
    "$$\n",
    "A = \\begin{pmatrix}\n",
    "0 & 2 & 4 & 6 \\\\\n",
    "0 & 1 & 5 & 7 \\\\\n",
    "0 & 2 & 4 & 8 \\\\\n",
    "0 & 3 & 6 & 9\n",
    "\\end{pmatrix}.\n",
    "$$"
   ]
  },
  {
   "cell_type": "code",
   "execution_count": 31,
   "metadata": {},
   "outputs": [
    {
     "name": "stdout",
     "output_type": "stream",
     "text": [
      "[[0. 2. 4. 6.]\n",
      " [0. 1. 5. 7.]\n",
      " [0. 2. 4. 8.]\n",
      " [0. 3. 6. 9.]]\n"
     ]
    }
   ],
   "source": [
    "import numpy as np\n",
    "\n",
    "# Defina a variable n\n",
    "n = 4\n",
    "\n",
    "# Create an empty matrix with all zeros\n",
    "A = np.zeros([n, n])\n",
    "\n",
    "# Loop over the rows...\n",
    "for i in range(n):\n",
    "    # Loop over the columns...\n",
    "    for j in range(n):\n",
    "        if i < j:\n",
    "            A[i, j] = i + 2*j\n",
    "        else:\n",
    "            A[i, j] = i*j\n",
    "\n",
    "print(A)"
   ]
  },
  {
   "cell_type": "code",
   "execution_count": 32,
   "metadata": {
    "tags": [
     "solution_cell"
    ]
   },
   "outputs": [
    {
     "data": {
      "application/vnd.jupyter.widget-view+json": {
       "model_id": "e21c9996273647988913bd5da8d3d2a2",
       "version_major": 2,
       "version_minor": 0
      },
      "text/plain": [
       "Accordion(children=(Output(layout=Layout(border_bottom='1px solid green', border_left='1px solid green', borde…"
      ]
     },
     "metadata": {},
     "output_type": "display_data"
    }
   ],
   "source": [
    "show('Exercise 4')"
   ]
  },
  {
   "cell_type": "markdown",
   "metadata": {},
   "source": [
    "---\n",
    "🚩 **Exercise 5**\n",
    "\n",
    "Define a variable `n` with value $n = 2000$. Create an array `A` representing a random matrix $A \\in \\mathbb{R}^{n\\times n}$, with elements taking values between $-1$ and $1.05$. What is the proportion of rows of $A$ which have a positive row sum?\n",
    "\n",
    "If you're not sure how to create a random matrix, you can search the Numpy documentation, or look back at previous examples where we used random arrays."
   ]
  },
  {
   "cell_type": "code",
   "execution_count": 47,
   "metadata": {},
   "outputs": [
    {
     "name": "stdout",
     "output_type": "stream",
     "text": [
      "The probability that a row of A is positive is approximately  96.9%.\n"
     ]
    }
   ],
   "source": [
    "import numpy as np\n",
    "\n",
    "# Define a variable n with value n = 2000\n",
    "n = 2000\n",
    "\n",
    "# Create a random number generator\n",
    "rng = np.random.default_rng()\n",
    "\n",
    "# Create a random nxn matrix A with elements taking values between -1 and 1.05\n",
    "A = (1.05 + 1) * rng.random([n, n]) - 1.\n",
    "\n",
    "# Get the sum of all rows of A\n",
    "row_sums = np.sum(A, axis=1)\n",
    "\n",
    "# Display the proportion of rows with a positive sum\n",
    "positive_sum_rows = np.sum(row_sums >= 0)\n",
    "print(f'The probability that a row of A is positive',\n",
    "      f'is approximately {100 * positive_sum_rows / n : .1f}%.')\n",
    "\n"
   ]
  },
  {
   "cell_type": "code",
   "execution_count": 33,
   "metadata": {
    "tags": [
     "solution_cell"
    ]
   },
   "outputs": [
    {
     "data": {
      "application/vnd.jupyter.widget-view+json": {
       "model_id": "c6626604b5a146cca6ea55e49939fd19",
       "version_major": 2,
       "version_minor": 0
      },
      "text/plain": [
       "Accordion(children=(Output(layout=Layout(border_bottom='1px solid green', border_left='1px solid green', borde…"
      ]
     },
     "metadata": {},
     "output_type": "display_data"
    }
   ],
   "source": [
    "show('Exercise 5')"
   ]
  },
  {
   "cell_type": "markdown",
   "metadata": {},
   "source": [
    "---\n",
    "### Creating arrays by copying other arrays\n",
    "\n",
    "Sometimes, it's convenient to create a copy of an existing array. The **safest** way to do this is by using the `.copy()` method:"
   ]
  },
  {
   "cell_type": "code",
   "execution_count": 48,
   "metadata": {},
   "outputs": [
    {
     "name": "stdout",
     "output_type": "stream",
     "text": [
      "[  0.  10.  20.  30.  40.  50.  60.  70.  80.  90. 100.]\n",
      "[  0.  10.  20.  30.  40.  50.  60.  70.  80.  90. 100.]\n"
     ]
    }
   ],
   "source": [
    "# Create a vector A\n",
    "A = np.linspace(0, 100, 11)\n",
    "\n",
    "# Create another vector B, with the same elements as A\n",
    "B = A.copy()\n",
    "\n",
    "# Display both\n",
    "print(A)\n",
    "print(B)"
   ]
  },
  {
   "cell_type": "markdown",
   "metadata": {},
   "source": [
    "This makes a **copy** of all the numbers in memory currently stored in the box labelled `A`, puts them in their own drawers, and creates another box called `B` to put them in. Then, we can make changes to the elements of `A` or `B` without affecting the other:"
   ]
  },
  {
   "cell_type": "code",
   "execution_count": 49,
   "metadata": {},
   "outputs": [
    {
     "name": "stdout",
     "output_type": "stream",
     "text": [
      "[  1.   1.   1.  30.  40.  50.  60.  70.  80.  90. 100.]\n",
      "[  0.  10.  20.  30.  40.  50.  60.  70.  80.  90. 100.]\n"
     ]
    }
   ],
   "source": [
    "# Change the first 3 elements of A\n",
    "A[:3] = 1\n",
    "\n",
    "# Display A and B\n",
    "print(A)\n",
    "print(B)"
   ]
  },
  {
   "cell_type": "markdown",
   "metadata": {},
   "source": [
    "But what happens if we don't use `.copy()`?"
   ]
  },
  {
   "cell_type": "code",
   "execution_count": 50,
   "metadata": {},
   "outputs": [
    {
     "name": "stdout",
     "output_type": "stream",
     "text": [
      "[  0.  10.  20.  30.  40.  50.  60.  70.  80.  90. 100.]\n",
      "[  0.  10.  20.  30.  40.  50.  60.  70.  80.  90. 100.]\n",
      "[  1.   1.   1.  30.  40.  50.  60.  70.  80.  90. 100.]\n",
      "[  1.   1.   1.  30.  40.  50.  60.  70.  80.  90. 100.]\n"
     ]
    }
   ],
   "source": [
    "# Create a vector A\n",
    "A = np.linspace(0, 100, 11)\n",
    "\n",
    "# Create another vector B, with the same elements as A\n",
    "B = A\n",
    "\n",
    "# Display both; so far, so good\n",
    "print(A)\n",
    "print(B)\n",
    "\n",
    "# Change the first 3 elements of A\n",
    "A[:3] = 1\n",
    "\n",
    "# Display A and B; B has also been changed!\n",
    "print(A)\n",
    "print(B)"
   ]
  },
  {
   "cell_type": "markdown",
   "metadata": {},
   "source": [
    "Remember **Exercise 4** from the Week 1 notebook. If we don't explicitly ask Python to create a copy of the values in `A` (by using `.copy()`), it simply *reuses* the values that are already stored in memory in the box labelled `A`, and just sticks another label on the same box, called `B`. Now, the **same objects** can be referred to using either the label `A` or the label `B`; this means that if we change some of the contents of `A`, we automatically change the same elements in `B`.\n",
    "\n",
    "---\n",
    "**📚 Learn more:**\n",
    "- [ndarray.copy()](https://numpy.org/doc/stable/reference/generated/numpy.ndarray.copy.html)\n",
    "- [Copies and Views](https://numpy.org/doc/stable/user/quickstart.html#copies-and-views) - NumPy documentation\n",
    "- [How to create an array from existing data](https://numpy.org/doc/stable/user/absolute_beginners.html#how-to-create-an-array-from-existing-data) - NumPy beginner's guide\n",
    "\n",
    "---"
   ]
  },
  {
   "cell_type": "markdown",
   "metadata": {},
   "source": [
    "### Matrix operations and linear algebra\n",
    "\n",
    "We saw in a previous section that `A * B` returns the *element-wise* product of `A` and `B`. The function `np.matmul()` (and its operator alias, `@`) allows to compute **matrix products**:"
   ]
  },
  {
   "cell_type": "code",
   "execution_count": 51,
   "metadata": {},
   "outputs": [
    {
     "name": "stdout",
     "output_type": "stream",
     "text": [
      "A =\n",
      "[[2. 2. 2. 2.]\n",
      " [2. 2. 2. 2.]]\n",
      "B =\n",
      "[[0.4 0.  0.  0. ]\n",
      " [0.  0.4 0.  0. ]\n",
      " [0.  0.  0.4 0. ]\n",
      " [0.  0.  0.  0.4]]\n",
      "v =\n",
      "[0.15346302 0.70713279 0.68065276 0.13681588]\n",
      "[[0.8 0.8 0.8 0.8]\n",
      " [0.8 0.8 0.8 0.8]]\n",
      "[[0.8 0.8]\n",
      " [0.8 0.8]\n",
      " [0.8 0.8]\n",
      " [0.8 0.8]]\n",
      "[[0.8 0.8]\n",
      " [0.8 0.8]\n",
      " [0.8 0.8]\n",
      " [0.8 0.8]]\n",
      "[3.3561289 3.3561289]\n",
      "[0.06138521 0.28285312 0.2722611  0.05472635]\n",
      "1.005594447635939\n",
      "[[0.8 0.8]\n",
      " [0.8 0.8]\n",
      " [0.8 0.8]\n",
      " [0.8 0.8]]\n",
      "[3.3561289 3.3561289]\n",
      "[0.06138521 0.28285312 0.2722611  0.05472635]\n",
      "1.005594447635939\n"
     ]
    }
   ],
   "source": [
    "A = 2 * np.ones([2, 4])\n",
    "print(\"A =\")\n",
    "print(A)\n",
    "\n",
    "B = 0.4 * np.eye(4)\n",
    "print(\"B =\")\n",
    "print(B)\n",
    "\n",
    "v = np.random.random(4)\n",
    "print(\"v =\")\n",
    "print(v)\n",
    "\n",
    "# Products AB and BA^T\n",
    "print(np.matmul(A, B))\n",
    "print(np.matmul(B, A.T))\n",
    "print(np.matmul(B, A.transpose()))\n",
    "\n",
    "# Products Av and v^T B\n",
    "print(np.matmul(A, v))\n",
    "print(np.matmul(v, B))\n",
    "\n",
    "# Dot product of v with itself\n",
    "print(np.matmul(v, v))\n",
    "\n",
    "# We can also use the operator @ to do exactly the same thing:\n",
    "print(B @ A.T)\n",
    "print(A @ v)\n",
    "print(v @ B)\n",
    "print(v @ v)"
   ]
  },
  {
   "cell_type": "markdown",
   "metadata": {},
   "source": [
    "Note the different behaviours of `np.matmul()`, depending on the dimensions of its arguments. All cases are outlined in the documentation linked below. Also note the `.T` notation used to **transpose** arrays.\n",
    "\n",
    "Numpy has a **sub-module** called `linalg`, which contains many useful functions for linear algebra and matrix operations. If we imported Numpy as `np`, for example, then to use the functions in `linalg`, you will need to prefix them with `np.linalg.`. Some of the functions provided by the `np.linalg` submodule are:"
   ]
  },
  {
   "cell_type": "code",
   "execution_count": 52,
   "metadata": {},
   "outputs": [
    {
     "name": "stdout",
     "output_type": "stream",
     "text": [
      "[ 1.89488758 -0.21675294  0.04829347]\n",
      "Eigenvalues:  [ 1.89488758 -0.21675294  0.04829347]\n",
      "Eigenvectors:  [[ 0.72924755  0.65589712  0.01080301]\n",
      " [ 0.44563934 -0.54835864 -0.72053463]\n",
      " [ 0.51923366 -0.51875021  0.69333479]]\n",
      "\n",
      "QR and SVD:\n",
      "Q = [[-0.65540365  0.75161286  0.07432479]\n",
      " [-0.49931692 -0.35735172 -0.78929232]\n",
      " [-0.56668216 -0.55441669  0.60950263]]\n",
      "R = [[-1.44534876 -0.85367844 -0.8674488 ]\n",
      " [ 0.          0.19859177  0.19810827]\n",
      " [ 0.          0.          0.06910397]]\n",
      "U = [[-0.72599051  0.68498711 -0.06107742]\n",
      " [-0.44908896 -0.53947867 -0.71223723]\n",
      " [-0.52082328 -0.48964828  0.69927654]]\n",
      "S = [1.89851663 0.21689289 0.04817006]\n",
      "V = [[-0.75764679 -0.45758198 -0.46539239]\n",
      " [-0.65241223  0.51114331  0.55954517]\n",
      " [ 0.01815558 -0.72756529  0.68579817]]\n",
      "\n",
      "Inverse and determinant:\n",
      "A^(-1) = [[ -1.7937334    1.5335207    1.94426645]\n",
      " [  2.71178137   9.59457163 -11.59034769]\n",
      " [  1.07555018 -11.42180874   8.82008136]]\n",
      "det(A) = -0.019835214680195737\n",
      "\n",
      "Solution of Ax = b:\n",
      "x = [ 1.68405375  0.71600531 -1.5261772 ]\n"
     ]
    }
   ],
   "source": [
    "# Create a random 3x3 matrix and a vector of three 1s\n",
    "A = np.random.random([3, 3])\n",
    "b = np.ones(3)\n",
    "\n",
    "print(np.linalg.eigvals(A))              # Eigenvalues of a matrix: note the complex values here, j=sqrt(-1)\n",
    "eig_val_A, eig_vec_A = np.linalg.eig(A)  # Eigenvalues and right eigenvectors\n",
    "print(\"Eigenvalues: \", eig_val_A)\n",
    "print(\"Eigenvectors: \", eig_vec_A)\n",
    "\n",
    "print('\\nQR and SVD:')\n",
    "Q, R = np.linalg.qr(A)       # Q-R matrix decomposition\n",
    "print(\"Q =\", Q)\n",
    "print(\"R =\", R)\n",
    "U, S, V = np.linalg.svd(A)   # Singular value decomposition\n",
    "print(\"U =\", U)\n",
    "print(\"S =\", S)\n",
    "print(\"V =\", V)\n",
    "\n",
    "print('\\nInverse and determinant:')\n",
    "print(\"A^(-1) =\", np.linalg.inv(A))  # Inverse of a matrix\n",
    "print(\"det(A) =\", np.linalg.det(A))  # Determinant of a matrix\n",
    "\n",
    "print('\\nSolution of Ax = b:')\n",
    "print(\"x =\", np.linalg.solve(A, b))  # Solve Ax = b for x"
   ]
  },
  {
   "cell_type": "markdown",
   "metadata": {},
   "source": [
    "---\n",
    "**📚 Learn more:**\n",
    "* [numpy.linalg](https://docs.scipy.org/doc/numpy/reference/routines.linalg.html)\n",
    "* [numpy.matmul](https://docs.scipy.org/doc/numpy/reference/generated/numpy.matmul.html#numpy.matmul)\n",
    "\n",
    "---\n",
    "\n",
    "🚩 **Exercise 6**\n",
    "\n",
    "Solve $Mx = y$ for $x$, using `np.linalg.solve()`, where $M$ and $y$ are defined as in Exercise 1.\n",
    "\n",
    "*For checking:* the result should be `[-2.56666667  7.83333333  7.53333333]`.\n",
    "\n",
    "Print the $2$-norm  and the $\\infty$-norm of $x$. (Search the `np.linalg` documentation!)"
   ]
  },
  {
   "cell_type": "code",
   "execution_count": 57,
   "metadata": {},
   "outputs": [
    {
     "name": "stdout",
     "output_type": "stream",
     "text": [
      "[[ 9  3  0]\n",
      " [-2 -2  1]\n",
      " [ 0 -1  1]]\n",
      "[ 0.4 -3.  -0.3]\n",
      "\n",
      "Solution of Mx = y:\n",
      "x = [-2.56666667  7.83333333  7.53333333]\n",
      "The 2-norm of x is 11.166915420114895.\n",
      "The infinity-norm of x is 7.833333333333329.\n"
     ]
    }
   ],
   "source": [
    "import numpy as np\n",
    "\n",
    "# Create the matrix M\n",
    "M = np.array([[9, 3, 0], [-2, -2, 1], [0, -1, 1]])\n",
    "print(M)\n",
    "\n",
    "# Create the vector y\n",
    "y = np.array([0.4, -3, -0.3])\n",
    "print(y)\n",
    "\n",
    "# Solve Mx = y for x\n",
    "x = np.linalg.solve(M, y)\n",
    "print('\\nSolution of Mx = y:')\n",
    "print(f'x = {x}')\n",
    "\n",
    "# Print the norms\n",
    "print(f'The 2-norm of x is {np.linalg.norm(x, 2)}.')\n",
    "print(f'The infinity-norm of x is {np.linalg.norm(x, np.inf)}.')\n"
   ]
  },
  {
   "cell_type": "code",
   "execution_count": 55,
   "metadata": {
    "tags": [
     "solution_cell"
    ]
   },
   "outputs": [
    {
     "data": {
      "application/vnd.jupyter.widget-view+json": {
       "model_id": "d2266433fdcc4cf085c19b38a3b9fb61",
       "version_major": 2,
       "version_minor": 0
      },
      "text/plain": [
       "Accordion(children=(Output(layout=Layout(border_bottom='1px solid green', border_left='1px solid green', borde…"
      ]
     },
     "metadata": {},
     "output_type": "display_data"
    }
   ],
   "source": [
    "show('Exercise 6')"
   ]
  },
  {
   "cell_type": "markdown",
   "metadata": {},
   "source": [
    "---\n",
    "## Plotting with `matplotlib.pyplot`"
   ]
  },
  {
   "cell_type": "markdown",
   "metadata": {},
   "source": [
    "### A first plot\n",
    "\n",
    "The `matplotlib` library and its `pyplot` interface contain a very large number of built-in functions for plotting data.\n",
    "\n",
    "We import the plotting tools with\n",
    "\n",
    "```python\n",
    "import matplotlib.pyplot as plt\n",
    "```\n",
    "\n",
    "A basic line plot is generated using the `plt.plot()` function. For example, to plot $x \\sin \\left( x \\right)$ for $x \\in \\left[ 0, 2 \\pi \\right]$:\n",
    "* first, create a reasonably large number of values of $x$ at which to plot the function, for example using `np.linspace()` from the Numpy module;\n",
    "* then, evaluate the function at these values;\n",
    "* finally, **create** a line plot with `plt.plot()`, and **display it** with `plt.show()`."
   ]
  },
  {
   "cell_type": "code",
   "execution_count": 58,
   "metadata": {},
   "outputs": [
    {
     "data": {
      "image/png": "[encoded data removed]",
      "text/plain": [
       "<Figure size 640x480 with 1 Axes>"
      ]
     },
     "metadata": {},
     "output_type": "display_data"
    }
   ],
   "source": [
    "import numpy as np\n",
    "import matplotlib.pyplot as plt\n",
    "\n",
    "# Create an x-axis with 1000 points\n",
    "x = np.linspace(0., 2*np.pi, 1000)\n",
    "\n",
    "# Evaluate the function at all these points\n",
    "y = x * np.sin(x)\n",
    "\n",
    "# Create the plot and display it\n",
    "plt.plot(x, y, 'k-')\n",
    "plt.show()"
   ]
  },
  {
   "cell_type": "markdown",
   "metadata": {},
   "source": [
    "The final argument of `plt.plot()` defines the line colour and line type: here `'k'` indicates black, and `'-'` indicates a solid line.\n",
    "\n",
    "The `plt.plot` function can be used to generate scatter plots by replacing the character indicating the line style (for example `-` for a solid line) with a symbol to indicate a marker style. For example\n",
    "\n",
    "```python\n",
    "plt.plot(x, y, 'kx')\n",
    "```\n",
    "\n",
    "plots a scatter plot with black crosses. Here the `x` character in the final argument indicates the marker type.\n",
    "    \n",
    "---\n",
    "**📚 Learn more:**\n",
    "* [Matplotlib: Python plotting](https://matplotlib.org/contents.html) - Matplotlib documentation\n",
    "* [Matplotlib gallery](https://matplotlib.org/gallery/index.html)\n",
    "* [Pyplot tutorial](https://matplotlib.org/tutorials/introductory/pyplot.html) - Matplotlib documentation\n",
    "* [Matplotlib line style reference](https://matplotlib.org/gallery/lines_bars_and_markers/line_styles_reference.html)\n",
    "* [Matplotlib: Specifying Colors](https://matplotlib.org/users/colors.html) - Matplotlib documentation\n",
    "* [Matplotlib: markers](https://matplotlib.org/api/markers_api.html) - Matplotlib documentation\n",
    "* [numpy.linspace](https://docs.scipy.org/doc/numpy/reference/generated/numpy.linspace.html) - Numpy documentation\n",
    "* [Chapter 4: Visualization with Matplotlib](https://jakevdp.github.io/PythonDataScienceHandbook/#4.-Visualization-with-Matplotlib) - J. VanderPlas, *The Python Data Science Handbook*\n",
    "\n",
    "---\n",
    "\n",
    "When plotting functions you should ensure that you evaluate the function at a sufficient number of points (typically at least $100$). `plt.plot(x, y)` draws one point per element in `x` and `y` (coordinates (`x[0], y[0]`), (`x[1], y[1]`), etc.), and joins these points with straight lines; a line plot therefore only looks smooth if the grid of points is dense enough. Try replacing `1000` with `10` in the code cell above to see this.\n",
    "\n",
    "---\n",
    "🚩 **Exercise 7**\n",
    "\n",
    "Create a plot of the following functions on the interval $x \\in \\left[ -\\pi, \\pi \\right]$. Try different line colours and types. Don't forget to `import matplotlib.pyplot as plt`, or to run the previous example cell to import it.\n",
    "* a) $f_1(x) = \\sin \\left( x \\right)$,  \n",
    "* b) $f_2(x) = \\tan \\left( \\frac{49}{100} x \\right)$,  \n",
    "* c) $f_3(x) = \\sin \\left( x \\right) \\cos \\left( 2 x \\right)$."
   ]
  },
  {
   "cell_type": "code",
   "execution_count": 61,
   "metadata": {},
   "outputs": [
    {
     "data": {
      "image/png": "[encoded data removed]",
      "text/plain": [
       "<Figure size 640x480 with 1 Axes>"
      ]
     },
     "metadata": {},
     "output_type": "display_data"
    }
   ],
   "source": [
    "import numpy as np\n",
    "import matplotlib.pyplot as plt\n",
    "\n",
    "# Create an x-axis with 1000 points\n",
    "x = np.linspace(-np.pi, np.pi, 1000)\n",
    "\n",
    "# Evaluate the functions at all these points\n",
    "f1 = np.sin(x)\n",
    "f2 = np.tan(0.49*x)\n",
    "f3 = np.sin(x) * np.cos(2*x)\n",
    "\n",
    "# Create the plots in the same axes\n",
    "plt.plot(x, f1, 'r-.')\n",
    "plt.plot(x, f2, 'g:')\n",
    "plt.plot(x, f3, 'b--')\n",
    "\n",
    "# Display the plot\n",
    "plt.show()\n"
   ]
  },
  {
   "cell_type": "code",
   "execution_count": 60,
   "metadata": {
    "tags": [
     "solution_cell"
    ]
   },
   "outputs": [
    {
     "data": {
      "application/vnd.jupyter.widget-view+json": {
       "model_id": "8709e0caab7143f39e3e5a16fad298b1",
       "version_major": 2,
       "version_minor": 0
      },
      "text/plain": [
       "Accordion(children=(Output(layout=Layout(border_bottom='1px solid green', border_left='1px solid green', borde…"
      ]
     },
     "metadata": {},
     "output_type": "display_data"
    }
   ],
   "source": [
    "show('Exercise 7')"
   ]
  },
  {
   "cell_type": "markdown",
   "metadata": {},
   "source": [
    "---\n",
    "### Figures and axes as objects\n",
    "\n",
    "By default, if no plot exists, `plt.plot()` creates a *figure* window, and adds a set of *axes* to the figure. If a set of axes has already been created, when running `plt.plot()` a second time, the same axes are re-used, and the second plot is drawn over the first one. (This is true until you call `plt.show()`; further `plt.plot()` commands after a `plt.show()` will start another figure in your notebook.)\n",
    "\n",
    "Like everything in Python, figures and axes are **objects**. The `plt.subplots()` function can used to create a new figure object, along with one or more set(s) of axes inside it. The statement\n",
    "\n",
    "```python\n",
    "fig, ax = plt.subplots(m, n)\n",
    "```\n",
    "\n",
    "creates a figure object, which we assign to the variable `fig`, and an **array** of axes, assigned to the variable `ax`, tiled in `m` rows and `n` columns.\n",
    "\n",
    "Then, we can select individual axes in the array, and use `.plot()` as before (this time, as a **method** of the `Axes` object). Try it:"
   ]
  },
  {
   "cell_type": "code",
   "execution_count": 64,
   "metadata": {},
   "outputs": [
    {
     "data": {
      "image/png": "[encoded data removed]",
      "text/plain": [
       "<Figure size 640x480 with 6 Axes>"
      ]
     },
     "metadata": {},
     "output_type": "display_data"
    },
    {
     "data": {
      "image/png": "[encoded data removed]",
      "text/plain": [
       "<Figure size 1200x200 with 4 Axes>"
      ]
     },
     "metadata": {},
     "output_type": "display_data"
    }
   ],
   "source": [
    "import numpy as np\n",
    "import matplotlib.pyplot as plt\n",
    "\n",
    "# Define x\n",
    "x = np.linspace(0, 2*np.pi, 1000)\n",
    "\n",
    "# Create figure and axes\n",
    "fig_1, ax_1 = plt.subplots(2, 3)\n",
    "\n",
    "# We can also create a second figure, with the optional\n",
    "# \"figsize\" argument of plt.subplots()\n",
    "fig_2, ax_2 = plt.subplots(1, 4, figsize=(12, 2))\n",
    "\n",
    "# Plot on 1st row, 2nd column of the first figure\n",
    "ax_1[0, 1].plot(x, np.sin(x), 'm-')\n",
    "\n",
    "# Plot on 2nd row, 3rd column\n",
    "ax_1[1, 2].plot(x, np.cos(x), 'c-')\n",
    "\n",
    "# Plot on 4th plot of the second figure\n",
    "ax_2[3].plot(x, np.sinc(x), 'g-.')\n",
    "\n",
    "# Show the result\n",
    "plt.show()"
   ]
  },
  {
   "cell_type": "markdown",
   "metadata": {},
   "source": [
    "Try changing the axes onto which these appear (for instance, try the second set of axes in the second figure).\n",
    "\n",
    "Note that, when using `plt.subplots(m, n)` with `m` or `n` equal to `1` (that is, when creating a **single** row or column of plots), as is the case for `ax_2`, you only need **one index** to access a given subplot.\n",
    "\n",
    "---\n",
    "**📚 Learn more:**\n",
    "* [Matplotlib Usage Guide: Parts of a figure](https://matplotlib.org/tutorials/introductory/usage.html#parts-of-a-figure) -- **highly recommended read!**\n",
    "\n",
    "---\n",
    "\n",
    "🚩 **Exercise 8**\n",
    "\n",
    "Use the `plt.subplots()` function to plot the three functions in the previous exercise in one figure, with a different subplot for each."
   ]
  },
  {
   "cell_type": "code",
   "execution_count": 69,
   "metadata": {},
   "outputs": [
    {
     "data": {
      "image/png": "[encoded data removed]",
      "text/plain": [
       "<Figure size 1000x400 with 3 Axes>"
      ]
     },
     "metadata": {},
     "output_type": "display_data"
    }
   ],
   "source": [
    "import numpy as np\n",
    "import matplotlib.pyplot as plt\n",
    "\n",
    "# Create an x-axis with 1000 points\n",
    "x = np.linspace(-np.pi, np.pi, 1000)\n",
    "\n",
    "# Evaluate the functions at all these points\n",
    "f1 = np.sin(x)\n",
    "f2 = np.tan(0.49*x)\n",
    "f3 = np.sin(x) * np.cos(2*x)\n",
    "\n",
    "# Create figure and axes\n",
    "fig, ax = plt.subplots(1, 3, figsize=(10, 4))\n",
    "\n",
    "# Plot each function in a different subplot\n",
    "ax[0].plot(x, f1, 'r-.')\n",
    "ax[1].plot(x, f2, 'g:')\n",
    "ax[2].plot(x, f3, 'b--')\n",
    "\n",
    "# Display the plot\n",
    "plt.show()"
   ]
  },
  {
   "cell_type": "code",
   "execution_count": 68,
   "metadata": {
    "tags": [
     "solution_cell"
    ]
   },
   "outputs": [
    {
     "data": {
      "application/vnd.jupyter.widget-view+json": {
       "model_id": "43f9a585f9bf409aa24352885ffc7b55",
       "version_major": 2,
       "version_minor": 0
      },
      "text/plain": [
       "Accordion(children=(Output(layout=Layout(border_bottom='1px solid green', border_left='1px solid green', borde…"
      ]
     },
     "metadata": {},
     "output_type": "display_data"
    }
   ],
   "source": [
    "show('Exercise 8')"
   ]
  },
  {
   "cell_type": "markdown",
   "metadata": {},
   "source": [
    "---\n",
    "## Basic reading and writing data from/to an external file\n",
    "\n",
    "One of the buzzwords that you hear frequently in our time is \"data\". It is not an exaggeration to say “data” is changing the face of our world and it has becoming the capital of our era. Python is great at working with data and that is one of the reasons it has received so much love and attention in the last decade or so. There are many different types of data developed for different applications (texts, binaries, spreadsheets and so on), and there are also various ways to access data from a file, and to save the results to a file. Here we will discuss the basic way to open and read data from a **text** file. Later in the course, we will learn more about dealing with table-like data such as Excel files.\n",
    "\n",
    "In the directory containing this notebook you should find the text file `mytextfile.txt`. \n",
    "In Python, we can **open** files by creating a **file object** with a name. It is also very important to **close** the file when we are done with it to avoid losing data or corrupting our files.\n"
   ]
  },
  {
   "cell_type": "markdown",
   "metadata": {},
   "source": [
    "### Using `open()` and `.close()`\n",
    "\n",
    "In the cell below:\n",
    "- First, we open our file with the Python function `open()`, and assign it as a file object to the name `myfile`.\n",
    "- Then we read its content, and save it in a variable `contents`.\n",
    "- At the end, we close our file using the method `.close()`.\n",
    "\n",
    "The content of this file can now be viewed by printing the variable `contents`. Try to check the type of this variable with `print(type(contents))`. "
   ]
  },
  {
   "cell_type": "code",
   "execution_count": 3,
   "metadata": {},
   "outputs": [
    {
     "name": "stdout",
     "output_type": "stream",
     "text": [
      "Hello I am text for your Python Programming Course. This is my first line.\n",
      "I want to tell you: YOU ARE WONDERFUL! Now I am finishing my second line.\n",
      "It is rude not to say goodbye, so I am finishing my third line by saying BYE!\n",
      "<class 'str'>\n"
     ]
    }
   ],
   "source": [
    "myfile = open('mytextfile.txt','r')\n",
    "contents = myfile.read()\n",
    "myfile.close()\n",
    "\n",
    "print(contents)\n",
    "print(type(contents))"
   ]
  },
  {
   "cell_type": "markdown",
   "metadata": {},
   "source": [
    "In Python, we can open a file in different **modes**, which will allow us to do different things with it. In the example above, we opened the file `mytextfile.txt` using the argument `'r'`, which means \"**r**ead mode\", so that we are able to read the contents, but cannot write anything into the file. Alternatively, we could have used `'r+'` to be able to both read from and write to the file."
   ]
  },
  {
   "cell_type": "code",
   "execution_count": null,
   "metadata": {},
   "outputs": [],
   "source": [
    "myfile = open('mytextfile.txt','r+')\n",
    "contents = myfile.read()\n",
    "myfile.close()\n",
    "\n",
    "print(contents)"
   ]
  },
  {
   "cell_type": "markdown",
   "metadata": {},
   "source": [
    "### Using the `with` statement\n",
    "\n",
    "Instead of using `open()` and `.close()` to open and close a file each time we want to access it, we can use the `with` statement as shown below, which automatically closes the file when the *block* ends. We can also read the file line by line by using the `.readline()` method of file objects:"
   ]
  },
  {
   "cell_type": "code",
   "execution_count": 15,
   "metadata": {},
   "outputs": [
    {
     "name": "stdout",
     "output_type": "stream",
     "text": [
      "['Hello I am text for your Python Programming Course. This is my first line.\\n', 'I want to tell you: YOU ARE WONDERFUL! Now I am finishing my second line.\\n', 'It is rude not to say goodbye, so I am finishing my third line by saying BYE!']\n"
     ]
    }
   ],
   "source": [
    "with open('mytextfile.txt','r') as myfile:\n",
    "    lines_content = myfile.readline()\n",
    "\n",
    "print(lines_content)"
   ]
  },
  {
   "cell_type": "markdown",
   "metadata": {},
   "source": [
    "As you can see, only the first line is read. Try to use `.readline()` three times to read all the lines in the file.\n",
    "\n",
    "---\n",
    "🚩 **Exercise 9** \n",
    "\n",
    "Complete the following code to read all the lines in the file one by one until the end of the file, and store them in the list `all_lines`. You can either use `.readlines()` (search the documentation!), or use a `while` loop to read the text line by line using `.readline()`."
   ]
  },
  {
   "cell_type": "code",
   "execution_count": 18,
   "metadata": {},
   "outputs": [
    {
     "name": "stdout",
     "output_type": "stream",
     "text": [
      "['Hello I am text for your Python Programming Course. This is my first line.\\n', 'I want to tell you: YOU ARE WONDERFUL! Now I am finishing my second line.\\n', 'It is rude not to say goodbye, so I am finishing my third line by saying BYE!']\n",
      "I want to tell you: YOU ARE WONDERFUL! Now I am finishing my second line.\n",
      "\n"
     ]
    }
   ],
   "source": [
    "# first approach: using 'readline'\n",
    "with open('mytextfile.txt','r') as myfile:\n",
    "    # Initialise an empty list to store the lines\n",
    "    all_lines = []\n",
    "\n",
    "    # if line is empty, the end of file is reached \n",
    "    while True:\n",
    "        # use readline to read the next line...\n",
    "        line = myfile.readline()\n",
    "\n",
    "        # Break the loop when we reach an empty line (remember Boolean casting!)\n",
    "        if not line:\n",
    "            break\n",
    "\n",
    "        # Append to the list if we still have non-empty lines\n",
    "        all_lines.append(line)\n",
    "\n",
    "# second approach: using 'readlines'\n",
    "with open('mytextfile.txt', 'r') as myfile:\n",
    "    all_lines = myfile.readlines()\n",
    "\n",
    "print(all_lines)\n",
    "print(all_lines[1])\n",
    "        "
   ]
  },
  {
   "cell_type": "code",
   "execution_count": 12,
   "metadata": {
    "tags": [
     "solution_cell"
    ]
   },
   "outputs": [
    {
     "data": {
      "application/vnd.jupyter.widget-view+json": {
       "model_id": "2cc872582ceb48ba9fdfdf7577fc4026",
       "version_major": 2,
       "version_minor": 0
      },
      "text/plain": [
       "Accordion(children=(Output(layout=Layout(border_bottom='1px solid green', border_left='1px solid green', borde…"
      ]
     },
     "metadata": {},
     "output_type": "display_data"
    }
   ],
   "source": [
    "show('Exercise 9')"
   ]
  },
  {
   "cell_type": "markdown",
   "metadata": {},
   "source": [
    "Note the `'\\n'` characters in the strings of each line when we do this. They are **newline** characters, a hidden character which encodes in the string that at that point a new line should begin. Try `print(all_lines[1])` and see what happens."
   ]
  },
  {
   "cell_type": "markdown",
   "metadata": {},
   "source": [
    "### Writing to a file\n",
    "\n",
    "We can also write text to a file, and this is often the best way to store the results of our computations, as we will often want to calculate an answer and be able to refer back to it. \n",
    "\n",
    "In Python we can **create** a new file and **open** it, by using `open()` with the argument `'w'` (meaning \"**w**rite mode\") to be able to write into it. We also need to write the output into the file rather than display it on the screen. Here is how we do it -- using the `.write()` method of file objects:"
   ]
  },
  {
   "cell_type": "code",
   "execution_count": 19,
   "metadata": {},
   "outputs": [],
   "source": [
    "text1 = 'Here is the text to write into the file.'\n",
    "text2 = 'Here is the second line of text to write into the file.'\n",
    "\n",
    "with open('mytextfile_new.txt', 'w') as mynewfile:\n",
    "    mynewfile.write(text1)\n",
    "    mynewfile.write(text2)"
   ]
  },
  {
   "cell_type": "markdown",
   "metadata": {},
   "source": [
    "Now you should find a text file called `mytextfile_new.txt` in the directory where this notebook is running. Open the file and look at it. You will notice that both of our strings were added on one line. If we want them to appear on different lines we need to add the `'\\n'` character ourselves at the end of each line, like so:"
   ]
  },
  {
   "cell_type": "code",
   "execution_count": 22,
   "metadata": {},
   "outputs": [],
   "source": [
    "text1 = 'Here is the text to write into the file.'\n",
    "text2 = 'Here is the second line of text to write into the file.'\n",
    "\n",
    "with open('mytextfile_new.txt', 'w') as mynewfile:\n",
    "    mynewfile.write(text1 + '\\n')\n",
    "    mynewfile.write(text2 + '\\n')"
   ]
  },
  {
   "cell_type": "markdown",
   "metadata": {},
   "source": [
    "Now open the file `mytextfile_new.txt` and check its content. Do you see a difference?\n",
    "\n",
    "---\n",
    "🚩 **Exercise 10**\n",
    "\n",
    "Write a script that reads the content of `mytextfile.txt` line by line, and adds a line number followed by `': '` before each line. For example, the first line turns into \n",
    "\n",
    "```python\n",
    "'1: Hello I am text for your Python Programming Course. This is my first line'\n",
    "```\n",
    "\n",
    "After adding the line numbers, the script should write all the new lines in a new file `textfile_linenumber.txt`. Your final file should contain three lines. "
   ]
  },
  {
   "cell_type": "code",
   "execution_count": 23,
   "metadata": {},
   "outputs": [],
   "source": [
    "# Method 1\n",
    "# Read the file, store the lines in three variables\n",
    "with open('mytextfile.txt', 'r') as myfile:\n",
    "    line1 = myfile.readline()\n",
    "    line2 = myfile.readline()\n",
    "    line3 = myfile.readline()\n",
    "\n",
    "# Edit and write each new line to a new file\n",
    "with open('textfile_linenumber.txt', 'w') as linenumber:\n",
    "    linenumber.write('1: ' + line1)\n",
    "    linenumber.write('2: ' + line2)\n",
    "    linenumber.write('3: ' + line3)"
   ]
  },
  {
   "cell_type": "code",
   "execution_count": 25,
   "metadata": {},
   "outputs": [],
   "source": [
    "# Method 2\n",
    "# Read the file, store the lines in a list\n",
    "with open('mytextfile.txt', 'r') as myfile:\n",
    "    all_lines = myfile.readlines()\n",
    "\n",
    "# Edit and write each new line to a new file\n",
    "with open('textfile_linenumber.txt', 'w') as newfile:\n",
    "    count = 1\n",
    "    for line in all_lines:\n",
    "        newfile.write(f'{count}: {line}')\n",
    "        count += 1"
   ]
  },
  {
   "cell_type": "code",
   "execution_count": 24,
   "metadata": {
    "tags": [
     "solution_cell"
    ]
   },
   "outputs": [
    {
     "data": {
      "application/vnd.jupyter.widget-view+json": {
       "model_id": "12062d9d1a204adabc93049528e845cf",
       "version_major": 2,
       "version_minor": 0
      },
      "text/plain": [
       "Accordion(children=(Output(layout=Layout(border_bottom='1px solid green', border_left='1px solid green', borde…"
      ]
     },
     "metadata": {},
     "output_type": "display_data"
    }
   ],
   "source": [
    "show('Exercise 10')"
   ]
  }
 ],
 "metadata": {
  "kernelspec": {
   "display_name": "Python 3 (ipykernel)",
   "language": "python",
   "name": "python3"
  },
  "language_info": {
   "codemirror_mode": {
    "name": "ipython",
    "version": 3
   },
   "file_extension": ".py",
   "mimetype": "text/x-python",
   "name": "python",
   "nbconvert_exporter": "python",
   "pygments_lexer": "ipython3",
   "version": "3.11.5"
  }
 },
 "nbformat": 4,
 "nbformat_minor": 4
}
