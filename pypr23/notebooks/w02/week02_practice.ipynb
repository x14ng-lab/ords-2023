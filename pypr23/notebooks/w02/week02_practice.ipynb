{
 "cells": [
  {
   "cell_type": "markdown",
   "metadata": {},
   "source": [
    "### Question 1\n",
    "Two important notes in CodeRunner quizzes: \n",
    "1. You need to pay attention if the question is asking you to print something (a statement or value) or return it. If you use print statement when you are asked to return a value (and vice versa), your answer is not accepted by CodeRunner.\n",
    "2. Make sure you used the same name for the function as it is stated in the question. If you use different name for the function but your algorithm does the same task, CodeRunner marks it as a wrong answer.\n",
    "\n",
    "\n",
    "Now try to write a function called \"stringprint\" that takes an input of a string, and prints it out."
   ]
  },
  {
   "cell_type": "code",
   "execution_count": 3,
   "metadata": {},
   "outputs": [
    {
     "name": "stdout",
     "output_type": "stream",
     "text": [
      "Hi\n",
      "How are you?\n"
     ]
    }
   ],
   "source": [
    "def stringprint(string_argument):\n",
    "    return print(string_argument)\n",
    "\n",
    "stringprint(\"Hi\")\n",
    "stringprint(\"How are you?\")"
   ]
  },
  {
   "cell_type": "markdown",
   "metadata": {},
   "source": [
    "### Question 2\n",
    "In the function calculation_number1, calculate the following, and return the value:\n",
    "\n",
    "$$\n",
    "(0.87+3.14+0.63+297)^{3/2}\n",
    "$$\n",
    "\n",
    "\n",
    "\n",
    "Just to test, try to use print instead of return and see what happens. Remember the notes from the first question! (Do not worry, you will not be penalised for wrong answer here)"
   ]
  },
  {
   "cell_type": "code",
   "execution_count": 12,
   "metadata": {},
   "outputs": [
    {
     "name": "stdout",
     "output_type": "stream",
     "text": [
      "5238.819\n"
     ]
    }
   ],
   "source": [
    "def calculation_number1():\n",
    "    return((0.87 + 3.14 + 0.63 + 297)**(3/2))\n",
    "\n",
    "print(round(calculation_number1(),3))"
   ]
  },
  {
   "cell_type": "markdown",
   "metadata": {},
   "source": [
    "### Question 3\n",
    "This is another CodeRunner warm-up question:\n",
    "\n",
    "Write a function called y_calculation(), which calculates the following:\n",
    "\n",
    "$$\n",
    "𝑦=𝑥^3+3𝑥^2+2𝑥+1\n",
    "$$\n",
    "\n",
    "for $𝑥=0.45$\n",
    " and returns the value of $𝑦$\n",
    ".\n",
    "\n",
    "\n",
    "Note that the function should not take any inputs and the value of  $𝑥=0.45$ is set inside the function. Remember from the first question that the name of the function should be the same as what is asked in the question. You can try to change the name and see what happens (you won't get a correct answer even if your algorithm is correct)."
   ]
  },
  {
   "cell_type": "code",
   "execution_count": 5,
   "metadata": {},
   "outputs": [
    {
     "name": "stdout",
     "output_type": "stream",
     "text": [
      "2.598625\n"
     ]
    }
   ],
   "source": [
    "def y_calculation():\n",
    "    x = 0.45\n",
    "    y = x**3 + 3*x**2 + 2*x + 1\n",
    "    return(y)\n",
    "\n",
    "\t\n",
    "print(y_calculation())"
   ]
  },
  {
   "cell_type": "markdown",
   "metadata": {},
   "source": [
    "### Question 4\n",
    "Write a program that asks for the user's name and prints out a hello.\n",
    "\n",
    "Name your function \"hello_user\" and ask the user to input their name by asking \"What is your name?\"\n",
    "\n",
    "Print out the string \"Hello username!\""
   ]
  },
  {
   "cell_type": "code",
   "execution_count": 15,
   "metadata": {},
   "outputs": [
    {
     "name": "stdout",
     "output_type": "stream",
     "text": [
      "Hello X14ng!\n"
     ]
    }
   ],
   "source": [
    "def hello_user():\n",
    "    # you can ask for the user's name as below and store it in the variable \"username\" \n",
    "    username = input(\"What is your name? \")\n",
    "    return print(\"Hello \" + username + \"!\")\n",
    "\n",
    "\n",
    "hello_user()"
   ]
  },
  {
   "cell_type": "markdown",
   "metadata": {},
   "source": [
    "### Question 5\n",
    "Write a function that computes the following sum:\n",
    "\n",
    "$$\n",
    "\\sum_{i}^{10} (i+1) \n",
    "$$\n",
    "\n",
    "You should use a for loop, and you will need a variable to represent the running total of the summation (total).\n",
    "\n",
    "Remember that the running total variable should equal zero before entering the loop.\n",
    "\n",
    "Think clearly about what range to iterate over.  \n",
    "\n",
    "Finally, print the value of the sum (total) to the screen. Your function should not return anything."
   ]
  },
  {
   "cell_type": "code",
   "execution_count": 6,
   "metadata": {},
   "outputs": [
    {
     "name": "stdout",
     "output_type": "stream",
     "text": [
      "65\n"
     ]
    }
   ],
   "source": [
    "def easy_sum():\n",
    "    total = 0\n",
    "    # Insert a for loop here\n",
    "    for i in range(1, 11):\n",
    "        total = total + i + 1\n",
    "    print(total)\n",
    "\n",
    "\n",
    "easy_sum()"
   ]
  },
  {
   "cell_type": "markdown",
   "metadata": {},
   "source": [
    "### Question 6 - The Fibonacci sequence\n",
    "The Fibonacci sequence is $1,1,2,3,5,8,13...$\n",
    "\n",
    "Every number is the sum of the previous two ones. \n",
    "\n",
    "Write a function that computes the Fibonacci sequence and prints the first 20 numbers as a list. \n",
    "\n",
    "The function should use a for loop, remember the previous two values at every iteration, and use them to calculate the new value."
   ]
  },
  {
   "cell_type": "code",
   "execution_count": 7,
   "metadata": {},
   "outputs": [
    {
     "name": "stdout",
     "output_type": "stream",
     "text": [
      "[1, 1, 2, 3, 5, 8, 13, 21, 34, 55, 89, 144, 233, 377, 610, 987, 1597, 2584, 4181, 6765]\n"
     ]
    }
   ],
   "source": [
    "def fibonacci():\n",
    "    # Initialize the first two numbers of the sequence\n",
    "    fib_sequence = [1, 1]\n",
    "\n",
    "    # Use a for loop to calculate the next 18 numbers\n",
    "    for i in range(2, 20):\n",
    "        next_number = fib_sequence[i - 1] + fib_sequence[i - 2]\n",
    "        fib_sequence.append(next_number)\n",
    "        \n",
    "    print(fib_sequence)\n",
    "    \n",
    "\n",
    "fibonacci()"
   ]
  },
  {
   "cell_type": "markdown",
   "metadata": {},
   "source": [
    "### Question 7\n",
    "Write a function that takes three floating point numbers as input arguments, and prints them out in increasing order.\n",
    "\n",
    "(Hint: put the three numbers into a list, and sort them with sorted. Make sure you are printing the numbers as shown in the example!)"
   ]
  },
  {
   "cell_type": "code",
   "execution_count": 8,
   "metadata": {},
   "outputs": [
    {
     "name": "stdout",
     "output_type": "stream",
     "text": [
      "3.5, 5.55, 8.2\n",
      "1.0, 1.1, 1.2\n",
      "-1.0, 4.2, 16\n",
      "-5, 0, 3\n"
     ]
    }
   ],
   "source": [
    "def floats(num1,num2,num3):\n",
    "    # Create a list with the input numbers\n",
    "    numbers = [num1, num2, num3]\n",
    "    \n",
    "    # Sort the list in increasing order\n",
    "    sorted_numbers = sorted(numbers)\n",
    "    \n",
    "    # Print the sorted numbers with specific formatting\n",
    "    print(\"{}, {}, {}\".format(sorted_numbers[0], sorted_numbers[1], sorted_numbers[2]))\n",
    "\n",
    "\n",
    "floats(5.55,8.2,3.5)\n",
    "floats(1.2,1.1,1.0)\n",
    "floats(16,4.2,-1.0)\n",
    "floats(0,3,-5)"
   ]
  },
  {
   "cell_type": "markdown",
   "metadata": {},
   "source": [
    "### Question 8 - The infinite series\n",
    "The infinite series:\n",
    "\n",
    "       \n",
    "$$\n",
    "1 + \\frac{1}{4} + \\frac{1}{9} + \\frac{1}{16} + \\frac{1}{25} + ... + \\frac{1}{𝑘^{2}} + ... = \\frac{\\pi^{2}}{6} \n",
    "$$\n",
    "\n",
    "Write a function \"infinite_series()\" which sums up the first 200 terms in this series and compares the result to the exact value.\n",
    "\n",
    "You will need to think clearly about the range to use for the for loop needed to perform the summation.\n",
    "\n",
    "Round all answers to 4 decimal places using the round() function.\n",
    "\n",
    "\n",
    "\n",
    "Your function should not return anything, but should display the text (with values rounded to 4 decimal places): \n",
    "\n",
    "The exact value of this infinite series is ____.\n",
    "\n",
    "The first 200 terms in the series give a total of ____.\n",
    "\n",
    "The absolute difference between these two values is ____."
   ]
  },
  {
   "cell_type": "code",
   "execution_count": 9,
   "metadata": {},
   "outputs": [
    {
     "name": "stdout",
     "output_type": "stream",
     "text": [
      "The exact value of this infinite series is 1.6449.\n",
      "The first 200 terms in the series give a total of 1.6399.\n",
      "The difference between these two values is 0.005.\n"
     ]
    }
   ],
   "source": [
    "import math\n",
    "\n",
    "def infinite_series():\n",
    "    # Initialise the value\n",
    "    n = 0\n",
    "    \n",
    "    # For loop to calculate the series\n",
    "    for k in range(1, 201):\n",
    "        n = n + 1/k**2\n",
    "    \n",
    "    # Rounding up series summation\n",
    "    series_summation = round(n, 4)\n",
    "    \n",
    "    # Calculate for the exact value\n",
    "    exact_value = round(math.pi**2/6, 4)\n",
    "    \n",
    "    # Calculate the absolute difference\n",
    "    difference = round(abs(n - exact_value), 4)\n",
    "    \n",
    "    # Insert your calculated values into the statements below:\n",
    "    print(f\"The exact value of this infinite series is {exact_value}.\")\n",
    "    print(f\"The first 200 terms in the series give a total of {series_summation}.\")\n",
    "    print(f\"The difference between these two values is {difference}.\")\n",
    "\n",
    "\n",
    "infinite_series()"
   ]
  },
  {
   "cell_type": "markdown",
   "metadata": {},
   "source": [
    "### Question 9 - String reverse\n",
    "Write a function string_rev_ext(x) that takes a string as an argument, and returns a string consisting of the original string joined with a colon and then a reversed version of the original string.\n",
    "\n",
    "Eg. if the argument is 'abc' your function should return 'abc:cba'\n",
    "\n",
    "\n",
    "\n",
    "(By a proper slicing of string, you should be able to do this task in one line)"
   ]
  },
  {
   "cell_type": "code",
   "execution_count": 10,
   "metadata": {},
   "outputs": [
    {
     "name": "stdout",
     "output_type": "stream",
     "text": [
      "abc:cba\n",
      "xyz:zyx\n"
     ]
    }
   ],
   "source": [
    "def string_rev_ext(x):\n",
    "    return x + ':' + x[::-1]\n",
    "\n",
    "\t\n",
    "print(string_rev_ext('abc'))\n",
    "print(string_rev_ext('xyz'))"
   ]
  },
  {
   "cell_type": "markdown",
   "metadata": {},
   "source": [
    "### Question 10\n",
    "Write a function \"geometric(a, r)\" to calculate the sum of the geometric progression:\n",
    "\n",
    "$$ \n",
    "\\sum_{m}^{25} ar^{m} = a + ar + ar^{2} + ... + ar^{25} \n",
    "$$\n",
    "\n",
    "where $a$ is the first term and $r$ is the common ratio. \n",
    "\n",
    "Your function should take 2 input arguments, \"a\" and \"r\", and return the value of the sum."
   ]
  },
  {
   "cell_type": "code",
   "execution_count": 16,
   "metadata": {},
   "outputs": [
    {
     "name": "stdout",
     "output_type": "stream",
     "text": [
      "26\n",
      "201326589\n"
     ]
    }
   ],
   "source": [
    "def geometric(a, r):\n",
    "    N = 25\n",
    "    m = 0\n",
    "    S = 0\n",
    "    for i in range(m, N+1):\n",
    "        S = S + a * r**i\n",
    "    return S\n",
    "\n",
    "\n",
    "print(geometric(1, 1))\n",
    "print(geometric(3, 2))"
   ]
  }
 ],
 "metadata": {
  "kernelspec": {
   "display_name": "base",
   "language": "python",
   "name": "python3"
  },
  "language_info": {
   "codemirror_mode": {
    "name": "ipython",
    "version": 3
   },
   "file_extension": ".py",
   "mimetype": "text/x-python",
   "name": "python",
   "nbconvert_exporter": "python",
   "pygments_lexer": "ipython3",
   "version": "3.11.5"
  }
 },
 "nbformat": 4,
 "nbformat_minor": 2
}
