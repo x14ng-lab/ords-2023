{
 "cells": [
  {
   "cell_type": "markdown",
   "metadata": {
    "slideshow": {
     "slide_type": "slide"
    }
   },
   "source": [
    "# Week 7: SciPy and pandas\n",
    "\n",
    "Charlotte Desvages"
   ]
  },
  {
   "cell_type": "markdown",
   "metadata": {
    "slideshow": {
     "slide_type": "slide"
    }
   },
   "source": [
    "## pandas\n",
    "\n",
    "pandas is a package for **data analysis and manipulation**.\n",
    "\n",
    "It introduces 2 new container types: `Series` (for 1D data, e.g. time series) and `DataFrame` (for 2D data, e.g. something you could see in a spreadsheet)."
   ]
  },
  {
   "cell_type": "code",
   "execution_count": 38,
   "metadata": {
    "slideshow": {
     "slide_type": "fragment"
    }
   },
   "outputs": [
    {
     "data": {
      "text/html": [
       "<div>\n",
       "<style scoped>\n",
       "    .dataframe tbody tr th:only-of-type {\n",
       "        vertical-align: middle;\n",
       "    }\n",
       "\n",
       "    .dataframe tbody tr th {\n",
       "        vertical-align: top;\n",
       "    }\n",
       "\n",
       "    .dataframe thead th {\n",
       "        text-align: right;\n",
       "    }\n",
       "</style>\n",
       "<table border=\"1\" class=\"dataframe\">\n",
       "  <thead>\n",
       "    <tr style=\"text-align: right;\">\n",
       "      <th></th>\n",
       "      <th>age</th>\n",
       "      <th>name</th>\n",
       "    </tr>\n",
       "  </thead>\n",
       "  <tbody>\n",
       "    <tr>\n",
       "      <th>Contestant 3</th>\n",
       "      <td>33</td>\n",
       "      <td>Ayesha</td>\n",
       "    </tr>\n",
       "    <tr>\n",
       "      <th>Contestant 5</th>\n",
       "      <td>29</td>\n",
       "      <td>Louisa</td>\n",
       "    </tr>\n",
       "    <tr>\n",
       "      <th>Contestant 6</th>\n",
       "      <td>44</td>\n",
       "      <td>Benjamin</td>\n",
       "    </tr>\n",
       "  </tbody>\n",
       "</table>\n",
       "</div>"
      ],
      "text/plain": [
       "              age      name\n",
       "Contestant 3   33    Ayesha\n",
       "Contestant 5   29    Louisa\n",
       "Contestant 6   44  Benjamin"
      ]
     },
     "execution_count": 38,
     "metadata": {},
     "output_type": "execute_result"
    }
   ],
   "source": [
    "import pandas as pd\n",
    "\n",
    "contestants = {'name': ['Mariam', 'Hashim', 'Ayesha', 'Ronan', 'Louisa', 'Benjamin'],\n",
    "               'age': [51, 32, 33, 46, 29, 44],\n",
    "               'city': ['Perth', 'Edinburgh', 'Glasgow', 'Inverness', 'Falkirk', 'Aberdeen'],\n",
    "               'team': ['red', 'red', 'blue', 'red', 'blue', 'blue']}\n",
    "\n",
    "# df = pd.DataFrame(contestants, index=range(1, 7))\n",
    "df = pd.DataFrame(contestants, index=[f'Contestant {i}' for i in range(1, 7)])\n",
    "\n",
    "df.loc[df['team'] == 'blue', ['age', 'name']]"
   ]
  },
  {
   "cell_type": "markdown",
   "metadata": {
    "slideshow": {
     "slide_type": "slide"
    }
   },
   "source": [
    "## pandas\n",
    "\n",
    "There is a **lot** that pandas can do. We'll see more examples next week, but as for SciPy, consulting the documentation is always a good idea."
   ]
  }
 ],
 "metadata": {
  "celltoolbar": "Slideshow",
  "kernelspec": {
   "display_name": "Python 3.9.12 ('base')",
   "language": "python",
   "name": "python3"
  },
  "language_info": {
   "codemirror_mode": {
    "name": "ipython",
    "version": 3
   },
   "file_extension": ".py",
   "mimetype": "text/x-python",
   "name": "python",
   "nbconvert_exporter": "python",
   "pygments_lexer": "ipython3",
   "version": "3.9.12"
  },
  "vscode": {
   "interpreter": {
    "hash": "1df752c025e8c43310a3c7617ba5088fb32d27e63d0f8dffd12edb538c90af2b"
   }
  }
 },
 "nbformat": 4,
 "nbformat_minor": 4
}
