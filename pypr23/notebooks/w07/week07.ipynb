{
 "cells": [
  {
   "cell_type": "markdown",
   "metadata": {},
   "source": [
    "# Week 7: Iterators, generators, and introduction to Pandas\n",
    "\n",
    "This week, we introduce **iterators and generators** as tools to generate sequences. We also introduce the module **pandas**, a very popular package for data analysis.\n",
    "\n",
    "The best way to learn programming is to write code. Don't hesitate to edit the code in the example cells, or add your own code, to test your understanding. You will find practice exercises throughout the notebook, denoted by 🚩 **Exercise $x$**."
   ]
  },
  {
   "cell_type": "code",
   "execution_count": null,
   "metadata": {},
   "outputs": [],
   "source": [
    "from show_solutions import show, initialise_path\n",
    "show = initialise_path(show, '../solutions/w07_solutions.md')"
   ]
  },
  {
   "cell_type": "markdown",
   "metadata": {},
   "source": [
    "---\n",
    "\n",
    "## Iterables and iterators\n",
    "\n",
    "**Iterables** in Python are the technical name for anything that has an **order** and can be enumerated. For instance, when we make a loop `for ... in ...`, the sequence we are looping over is an iterable.\n",
    "- Some of the examples of iterables that we have seen so far are lists, strings, tuples, and ranges.\n",
    "- On the other hand, for example, `float`, `bool`, or `int` are not iterables (try starting a loop with `for i in 5:` and watch the error message!)\n",
    "\n",
    "**Iterators** are value producers which yield successive values from their associated iterable. In simple words, they are like bookmarks: whenever we call them, they return the value of a particular element of the iterable they are associated with, and then move the bookmark to the next element. The next time we call them, they pick the new element and move the bookmark forward again.  \n",
    "\n",
    "Below we create a list of powers of two using a list comprehension, and then create an iterator associated with this list using the function `iter()`. Once you created your iterator, you can call the function `next()` on it, and it yields the value of the element that your iterator is pointing at, and moves the bookmark forward. Next time you call `next()`, you get a next element of your list."
   ]
  },
  {
   "cell_type": "code",
   "execution_count": null,
   "metadata": {},
   "outputs": [],
   "source": [
    "# create the list of powers of 2 from 1 to 2**12\n",
    "powers_two = [2**n for n in range(12)]\n",
    "print(powers_two)\n",
    "\n",
    "# create an iterator associated with 'powers_two'\n",
    "my_iter = iter(powers_two)\n",
    "\n",
    "# starting from the beginning call your iterator, see what happens\n",
    "print(next(my_iter))\n",
    "print(next(my_iter))"
   ]
  },
  {
   "cell_type": "markdown",
   "metadata": {
    "tags": [
     "solution_cell"
    ]
   },
   "source": [
    "In the following loop, we try to pick the rest of the values of `powers_two`, from where it was left off.  "
   ]
  },
  {
   "cell_type": "code",
   "execution_count": null,
   "metadata": {},
   "outputs": [],
   "source": [
    "for i in range(10):\n",
    "    print(f'iteration number {i}, and iterator is returning {next(my_iter)}')"
   ]
  },
  {
   "cell_type": "markdown",
   "metadata": {},
   "source": [
    "What will happen if you call `next()` one more time? Does the error make sense to you?"
   ]
  },
  {
   "cell_type": "code",
   "execution_count": null,
   "metadata": {},
   "outputs": [],
   "source": [
    "print(next(my_iter))"
   ]
  },
  {
   "cell_type": "markdown",
   "metadata": {},
   "source": [
    "The advantage of iterators is that they don't need to occupy too much memory, because they only need to keep track of where they are and then how to generate the next value (as opposed to keeping all the values in the iterables like lists)!\n",
    "\n",
    "---\n",
    "**📚 Learn more:**\n",
    "\n",
    "- [Iterators](https://docs.python.org/3/tutorial/classes.html#iterators) - The Python tutorial\n",
    "\n",
    "From the Python documentation:\n",
    "- [The `iter` object](https://docs.python.org/3/glossary.html#term-iterator)\n",
    "- [Iterator](https://docs.python.org/3/glossary.html#term-iterator)\n",
    "- [`next()`](https://docs.python.org/3/library/functions.html#next)\n",
    "- [`StopIteration` exception](https://docs.python.org/3/library/exceptions.html#StopIteration)\n",
    "\n",
    "---\n",
    "\n",
    "## Generators\n",
    "\n",
    "Another object type that is closely related to iterators is the **generator**. Generators can be counted as one of the strengths of Python relative to other programming languages that don't have this feature.\n",
    "\n",
    "Generators are a way of defining a procedure to get the next number in a sequence. They can remember where they were left off in a sequence, and generate the next number each time they are called. To understand them let's consider the *infinite* sequence of square numbers\n",
    "\n",
    "$$\n",
    "{1,\\ 4,\\ 9,\\ 16,\\ 25,\\ ...,\\ n^2,\\ ...}\n",
    "$$\n",
    "\n",
    "Using functions and lists, we cannot produce an infinite sequence. At best we can write a function that takes an argument $N$ as an input and returns a list of square numbers up to $N^2$. This is not ideal! We want an object that can remember what the last square number it calculated was, and then generate the next square number the next time we call it. In this way, we have no limitation on the number of times we call this sequence producer (and we don't take up much memory). The beloved object that can manage to do this for us is **generator**.\n",
    "\n",
    "\n",
    "To define a generator, we write something that looks a little like a function, but instead of the `return` keyword we use `yield` to give a result from the generator.\n",
    "\n",
    "Note that each time a function reaches `return` statement, it returns its output and the compiler completely forgets what values were stored inside the function variables. Next time we call the function, it starts from the beginning and does not remember anything from the last time it was called. A generator is very different though:\n",
    "- The first time it is called (using `next()`), it starts from the beginning and executes commands until it reaches the first `yield` statement. At this point, it stops and yields the value.\n",
    "- The second time it is called, it starts from the previous `yield` statement and continues executing commands until it reaches the next `yield` statement. Then it stops again and yields the new value.\n",
    "- This procedure goes on each time we call the generator.\n",
    "\n",
    "In the example below we create the infinite sequence of square numbers and examine it:"
   ]
  },
  {
   "cell_type": "code",
   "execution_count": null,
   "metadata": {},
   "outputs": [],
   "source": [
    "def squares_func():\n",
    "    num = 1\n",
    "    while True:\n",
    "        yield num**2\n",
    "        num += 1\n",
    "\n",
    "# squares_func is a generator function:\n",
    "print(type(squares_func))\n",
    "\n",
    "# But the output of squares_func is a generator iterator:\n",
    "squares_gen = squares_func()\n",
    "print(type(squares_gen))\n",
    "\n",
    "print('First for-loop:')\n",
    "for i in range(5):\n",
    "    print(f'My square number is {next(squares_gen)}')\n",
    "    \n",
    "\n",
    "# Do other things in the code\n",
    "print('\\nI am doing other things...')\n",
    "\n",
    "print(f'\\nI am printing the next square number after the first for-loop: {next(squares_gen)}')\n",
    "\n",
    "print('\\nSecond for-loop:')\n",
    "for i in range(5):\n",
    "    print(f'My square number is {next(squares_gen)}')"
   ]
  },
  {
   "cell_type": "markdown",
   "metadata": {},
   "source": [
    "Generators can be a very memory efficient way to deal with a problem - a list is all stored in memory, but a generator is made as you go, you don’t have to store the whole thing at once.\n",
    "\n",
    "---\n",
    "**📚 Learn more:**\n",
    "\n",
    "- [Generators](https://docs.python.org/3/tutorial/classes.html#generators) - The Python tutorial\n",
    "- [generator, generator iterator](https://docs.python.org/3/glossary.html#term-generator) - The Python glossary\n",
    "- [Yield expressions](https://docs.python.org/3/reference/expressions.html#yieldexpr) - Python documentation\n",
    "\n",
    "---\n",
    "🚩 **Exercise 1**\n",
    "\n",
    "In mathematics, the Perrin numbers are defined by the recurrence relation\n",
    "\n",
    "$$\n",
    "P(n) = P(n − 2) + P(n − 3), \\quad n > 2,\n",
    "$$\n",
    "with initial values\n",
    "$$\n",
    "P(0) = 3, P(1) = 0, P(2) = 2.\n",
    "$$\n",
    "\n",
    "Following this relation, the sequence of Perrin numbers starts with\n",
    "\n",
    "3, 0, 2, 3, 2, 5, 5, 7, 10, 12, 17, 22, 29, 39, ...\n",
    "\n",
    "Write a generator that produces an infinite sequence of Perrin numbers."
   ]
  },
  {
   "cell_type": "code",
   "execution_count": null,
   "metadata": {},
   "outputs": [],
   "source": []
  },
  {
   "cell_type": "code",
   "execution_count": null,
   "metadata": {},
   "outputs": [],
   "source": [
    "show('Exercise 1')"
   ]
  },
  {
   "cell_type": "markdown",
   "metadata": {},
   "source": [
    "---\n",
    "## Pandas\n",
    "\n",
    "Pandas is a module which allows the construction of a **dataframe**, an object to store data that looks a little like a spreadsheet (the data is indexed principally by a column name and row name/number). The data contained in a dataframe does *not* have to be of the same type.\n",
    "\n",
    "Pandas is a very popular module for anything to do with data analysis in Python.\n",
    "\n",
    "---\n",
    "**📚 Learn more:**\n",
    "* [Pandas (main website)](http://pandas.pydata.org/index.html)\n",
    "* [Pandas documentation](http://pandas.pydata.org/pandas-docs/stable/).\n",
    "* [A quick introduction to Pandas](https://pandas.pydata.org/pandas-docs/stable/user_guide/10min.html)\n",
    "* There is also a fantastic set of community tutorials [here](https://pandas.pydata.org/pandas-docs/stable/getting_started/tutorials.html). There are plenty of supplementary materials which are well worth working through a little if you want a longer introduction to the basic concepts in Pandas, and more practice examples.\n",
    "---\n",
    "\n",
    "Here are some basic examples, the first uses the same file `oil_reserve_data.csv` from Week 5."
   ]
  },
  {
   "cell_type": "code",
   "execution_count": null,
   "metadata": {},
   "outputs": [],
   "source": [
    "# First, import the pandas module\n",
    "import pandas as pd\n",
    "\n",
    "# Use the read_csv method to read the CSV file into a dataframe\n",
    "oil_data = pd.read_csv('oil_reserve_data.csv')\n",
    "\n",
    "# Look at what the dataframe contains\n",
    "oil_data"
   ]
  },
  {
   "cell_type": "code",
   "execution_count": null,
   "metadata": {},
   "outputs": [],
   "source": [
    "# Get the column headers\n",
    "print('Column headers:')\n",
    "print(oil_data.columns, '\\n')\n",
    "\n",
    "# Pull the data from a particular column by referring to it by name\n",
    "print('Data from Germany:')\n",
    "print(oil_data['Germany'])"
   ]
  },
  {
   "cell_type": "markdown",
   "metadata": {},
   "source": [
    "We can also specify a column to use as row labels when reading the file -- note the difference with the previous command here:"
   ]
  },
  {
   "cell_type": "code",
   "execution_count": null,
   "metadata": {},
   "outputs": [],
   "source": [
    "# Use the first column in the file as row index\n",
    "oil_data = pd.read_csv('oil_reserve_data.csv', index_col=0)\n",
    "\n",
    "# Print the column names and the row names\n",
    "print(oil_data.columns)\n",
    "print(oil_data.index)\n",
    "\n",
    "# Look at what the dataframe contains\n",
    "oil_data"
   ]
  },
  {
   "cell_type": "markdown",
   "metadata": {},
   "source": [
    "There are plenty of other optional arguments of `pd.read_csv()` which are very helpful to read CSV files with different properties and layouts -- [have a look at the documentation](https://pandas.pydata.org/pandas-docs/stable/reference/api/pandas.read_csv.html).\n",
    "\n",
    "---\n",
    "### Indexing dataframes\n",
    "\n",
    "[The user guide in the pandas documentation is a must-read](https://pandas.pydata.org/pandas-docs/stable/user_guide/indexing.html). Here is a summary:\n",
    "\n",
    "- **`.iloc`** is used for indexing by number (like in Numpy arrays)."
   ]
  },
  {
   "cell_type": "code",
   "execution_count": null,
   "metadata": {},
   "outputs": [],
   "source": [
    "oil_data = pd.read_csv('oil_reserve_data.csv', index_col=0)\n",
    "\n",
    "# Select a row from our data, by numerical index (here, the second row)\n",
    "print(oil_data.iloc[1], '\\n')\n",
    "\n",
    "# We can also grab a column by number - here, the second column\n",
    "print(oil_data.iloc[:, 1])"
   ]
  },
  {
   "cell_type": "markdown",
   "metadata": {},
   "source": [
    "- **`.loc`** is used for indexing by label (row or column header), and also for Boolean indexing.\n",
    "\n",
    "In the second example here:\n",
    "- we use `.loc` to return all the data for Bulgaria,\n",
    "- we create a Boolean dataframe using `<` which is `True` where the reserves for Bulgaria are below 1000,\n",
    "- we use `.index` with the Boolean array to return the names of all the **rows** (i.e. the dates) where this happened."
   ]
  },
  {
   "cell_type": "code",
   "execution_count": null,
   "metadata": {},
   "outputs": [],
   "source": [
    "# Print data for June 2019 in Germany, using row and column labels\n",
    "print(oil_data.loc['2019M06', 'Germany'], '\\n')\n",
    "\n",
    "# Print the dates when the reserves in Bulgaria are below 1000\n",
    "bulgaria_below_1000 = oil_data.loc[:, 'Bulgaria'] < 1000\n",
    "print(bulgaria_below_1000, '\\n')\n",
    "print(oil_data.index[bulgaria_below_1000], '\\n')"
   ]
  },
  {
   "cell_type": "markdown",
   "metadata": {},
   "source": [
    "Note that `.columns`, `.index`, `.loc` and `.iloc` **are not functions** (i.e. you don't use parentheses when using them, but square brackets)."
   ]
  },
  {
   "cell_type": "markdown",
   "metadata": {},
   "source": [
    "---\n",
    "🚩 **Exercise 2**\n",
    "\n",
    "Display the oil reserves in Denmark, but only at the dates when the reserves in Germany are below 20000 **and** the reserves in Belgium are above 4000. [You might find this helpful...](https://pandas.pydata.org/pandas-docs/stable/user_guide/indexing.html#boolean-indexing)"
   ]
  },
  {
   "cell_type": "code",
   "execution_count": null,
   "metadata": {},
   "outputs": [],
   "source": []
  },
  {
   "cell_type": "code",
   "execution_count": null,
   "metadata": {
    "tags": [
     "solution_cell"
    ]
   },
   "outputs": [],
   "source": [
    "show('Exercise 2')"
   ]
  },
  {
   "cell_type": "markdown",
   "metadata": {},
   "source": [
    "---\n",
    "Let us look at a different dataset. The file `r_and_d_spend.csv` comes from an [open European dataset](http://data.europa.eu/euodp/en/data/dataset/Lnlc8Fcv5u1RYlfjnsKxg) describing the GDP spend of different countries on research and development work."
   ]
  },
  {
   "cell_type": "code",
   "execution_count": null,
   "metadata": {},
   "outputs": [],
   "source": [
    "import numpy as np\n",
    "import scipy.stats as st\n",
    "import matplotlib.pyplot as plt\n",
    "\n",
    "# Read in our data\n",
    "randd = pd.read_csv('r_and_d_spend.csv')\n",
    "print(randd)\n",
    "\n",
    "# Plot the data for Austria\n",
    "fig, ax = plt.subplots()\n",
    "ax.plot(randd['Year'], randd['Austria'], 'bo')\n",
    "\n",
    "# Fit a line through the Austria data\n",
    "LR_aus = st.linregress(randd['Year'], randd['Austria'])\n",
    "# slope, intercept = LR_aus[0], LR_aus[1]\n",
    "y_aus = LR_aus.intercept + LR_aus.slope * randd['Year']\n",
    "\n",
    "ax.plot(randd['Year'], y_aus, 'b-')\n",
    "plt.show()"
   ]
  },
  {
   "cell_type": "markdown",
   "metadata": {},
   "source": [
    "---\n",
    "**📚 Learn more:**\n",
    "* [pandas.DataFrame.loc - Pandas documentation](https://pandas.pydata.org/pandas-docs/stable/reference/api/pandas.DataFrame.loc.html)\n",
    "* [pandas.DataFrame.iloc - Pandas documentation](https://pandas.pydata.org/pandas-docs/stable/reference/api/pandas.DataFrame.iloc.html)\n",
    "* [Indexing, iteration - Pandas documentation](https://pandas.pydata.org/pandas-docs/stable/reference/frame.html#indexing-iteration)\n",
    "* [Plotting - Pandas documentation](https://pandas.pydata.org/pandas-docs/stable/reference/frame.html#plotting)\n",
    "* [Boolean indexing - Pandas documentation](https://pandas.pydata.org/pandas-docs/stable/user_guide/indexing.html#boolean-indexing)\n",
    "\n",
    "---\n",
    "🚩 **Exercise 3**\n",
    "\n",
    "Look at the other columns in the `r_and_d_spend.csv` file. Fit linear best fit lines to the other columns, make plots of them similar to the one shown above. Try putting them all in the same figure but on different subplots. Add legends, titles, and axis labels as necessary."
   ]
  },
  {
   "cell_type": "code",
   "execution_count": null,
   "metadata": {},
   "outputs": [],
   "source": []
  },
  {
   "cell_type": "code",
   "execution_count": null,
   "metadata": {
    "tags": [
     "solution_cell"
    ]
   },
   "outputs": [],
   "source": [
    "show('Exercise 3')"
   ]
  },
  {
   "cell_type": "markdown",
   "metadata": {},
   "source": [
    "---\n",
    "🚩 **Exercise 4**\n",
    "\n",
    "Plot the data for all countries on the same graph between 2000 and 2010."
   ]
  },
  {
   "cell_type": "code",
   "execution_count": null,
   "metadata": {},
   "outputs": [],
   "source": []
  },
  {
   "cell_type": "code",
   "execution_count": null,
   "metadata": {
    "tags": [
     "solution_cell"
    ]
   },
   "outputs": [],
   "source": [
    "show('Exercise 4')"
   ]
  }
 ],
 "metadata": {
  "kernelspec": {
   "display_name": "Python 3 (ipykernel)",
   "language": "python",
   "name": "python3"
  },
  "language_info": {
   "codemirror_mode": {
    "name": "ipython",
    "version": 3
   },
   "file_extension": ".py",
   "mimetype": "text/x-python",
   "name": "python",
   "nbconvert_exporter": "python",
   "pygments_lexer": "ipython3",
   "version": "3.9.12"
  }
 },
 "nbformat": 4,
 "nbformat_minor": 4
}
