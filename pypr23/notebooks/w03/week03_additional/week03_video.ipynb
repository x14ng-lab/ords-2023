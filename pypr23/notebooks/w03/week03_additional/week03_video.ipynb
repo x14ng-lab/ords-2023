{
 "cells": [
  {
   "cell_type": "markdown",
   "metadata": {
    "slideshow": {
     "slide_type": "slide"
    }
   },
   "source": [
    "# Week 3: Conditional statements, while loops, and debugging basics\n",
    "\n",
    "Charlotte Desvages"
   ]
  },
  {
   "cell_type": "markdown",
   "metadata": {
    "slideshow": {
     "slide_type": "slide"
    }
   },
   "source": [
    "## Conditional statements\n",
    "\n",
    "Conditional statements allow you to **create branches** in your code, and with the help of Booleans, to **make decisions** about which path(s) to take.\n",
    "\n",
    "They are another **control flow** tool (like loops or functions)."
   ]
  },
  {
   "cell_type": "code",
   "execution_count": null,
   "metadata": {
    "slideshow": {
     "slide_type": "fragment"
    }
   },
   "outputs": [],
   "source": [
    "age = int(input('How old are you? '))\n",
    "license = input('Do you have a driving license? Y/N ')\n",
    "\n",
    "if age >= 17:\n",
    "    if license in ['Y', 'y', 'yes']:\n",
    "        print('You can drive in the UK.')\n",
    "    elif license in ['N', 'n', 'no']:\n",
    "        print('Get your license!')\n",
    "    else:\n",
    "        print('I didn\\'t get that...')\n",
    "else:\n",
    "    print('You are too young to drive!')"
   ]
  },
  {
   "cell_type": "markdown",
   "metadata": {
    "slideshow": {
     "slide_type": "slide"
    }
   },
   "source": [
    "## `while` loops\n",
    "\n",
    "`while` loops continue looping *as long as* a certain condition is `True`."
   ]
  },
  {
   "cell_type": "code",
   "execution_count": null,
   "metadata": {
    "slideshow": {
     "slide_type": "fragment"
    }
   },
   "outputs": [],
   "source": [
    "def GCD(m, n):\n",
    "    '''\n",
    "    Returns the greatest common divisor of integers m and n.\n",
    "    '''\n",
    "    d = min(m, n)\n",
    "    while m % d != 0 or n % d != 0:\n",
    "        d = d - 1\n",
    "    return d\n",
    "\n",
    "print(GCD(1, 40))"
   ]
  },
  {
   "cell_type": "markdown",
   "metadata": {
    "slideshow": {
     "slide_type": "slide"
    }
   },
   "source": [
    "## Stopping a loop early with `break`\n",
    "\n",
    "It is useful sometimes to interrupt a loop early if a given condition is satisfied."
   ]
  },
  {
   "cell_type": "code",
   "execution_count": null,
   "metadata": {
    "slideshow": {
     "slide_type": "slide"
    }
   },
   "outputs": [],
   "source": [
    "import time\n",
    "import numpy as np\n",
    "\n",
    "road_size = 4\n",
    "max_steps = 20\n",
    "\n",
    "rng = np.random.default_rng()    # random number generator\n",
    "pos = 0    # start from the middle of the road\n",
    "steps = 0\n",
    "\n",
    "while True:    # keep walking...\n",
    "    n = rng.choice([-1, 1])    # Random choice: left (-1) or right (+1)\n",
    "    pos += n                   # Update position\n",
    "    steps += 1                 # Update number of steps\n",
    "\n",
    "    if abs(pos) > road_size:   # If we went off the road, stop the loop early, display a message\n",
    "        print('Went into the ditch! :(')\n",
    "        break\n",
    "\n",
    "    # Show the step\n",
    "    print('|' + ' '*(road_size + pos) + 'o' + ' '*(road_size - pos) + '|')\n",
    "    time.sleep(.3)\n",
    "\n",
    "    if steps >= max_steps:\n",
    "        print('Success! :)')\n",
    "        break"
   ]
  },
  {
   "cell_type": "markdown",
   "metadata": {
    "slideshow": {
     "slide_type": "slide"
    }
   },
   "source": [
    "## Understanding runtime errors\n",
    "\n",
    "A **runtime error** happens when Python doesn't know how to deal with something. Luckily, when this happens, Python tries to help you find the error by showing you an **error trace**."
   ]
  },
  {
   "cell_type": "code",
   "execution_count": null,
   "metadata": {
    "slideshow": {
     "slide_type": "fragment"
    }
   },
   "outputs": [],
   "source": [
    "# Trying to compute the square of a string...\n",
    "def my_func(x):\n",
    "    return x ** 2\n",
    "\n",
    "print(my_func(4))\n",
    "print(my_func('Why hello there'))"
   ]
  }
 ],
 "metadata": {
  "kernelspec": {
   "display_name": "Python 3",
   "language": "python",
   "name": "python3"
  },
  "language_info": {
   "codemirror_mode": {
    "name": "ipython",
    "version": 3
   },
   "file_extension": ".py",
   "mimetype": "text/x-python",
   "name": "python",
   "nbconvert_exporter": "python",
   "pygments_lexer": "ipython3",
   "version": "3.7.6"
  }
 },
 "nbformat": 4,
 "nbformat_minor": 4
}
