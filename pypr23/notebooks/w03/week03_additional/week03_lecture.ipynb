{
 "cells": [
  {
   "cell_type": "markdown",
   "id": "76e82b94-46bd-49d3-8c4e-31eece70f871",
   "metadata": {},
   "source": [
    "# Week 3 lecture"
   ]
  },
  {
   "cell_type": "markdown",
   "id": "86777830-c692-4d9b-87b4-ae2cc385a7b9",
   "metadata": {},
   "source": [
    "## Lists\n",
    "\n",
    "What is the output of this code?"
   ]
  },
  {
   "cell_type": "code",
   "execution_count": 3,
   "id": "c130ce39-a655-430a-91f8-195511d1c2d6",
   "metadata": {},
   "outputs": [
    {
     "name": "stdout",
     "output_type": "stream",
     "text": [
      "[1, 2, 3] [1, 6, 3]\n",
      "5 2\n"
     ]
    }
   ],
   "source": [
    "a = [1, 2, 3]\n",
    "b = a.copy()\n",
    "b[1] = 6\n",
    "print(a, b)\n",
    "\n",
    "c = 5\n",
    "d = c\n",
    "d = 2\n",
    "print(c, d)"
   ]
  },
  {
   "cell_type": "code",
   "execution_count": null,
   "id": "175ceca2",
   "metadata": {},
   "outputs": [],
   "source": []
  },
  {
   "cell_type": "code",
   "execution_count": null,
   "id": "7dab2bfd",
   "metadata": {},
   "outputs": [],
   "source": []
  },
  {
   "cell_type": "code",
   "execution_count": null,
   "id": "9c0673c5",
   "metadata": {},
   "outputs": [],
   "source": []
  },
  {
   "cell_type": "code",
   "execution_count": null,
   "id": "40d35a22",
   "metadata": {},
   "outputs": [],
   "source": []
  },
  {
   "cell_type": "code",
   "execution_count": null,
   "id": "aceb1460",
   "metadata": {},
   "outputs": [],
   "source": []
  },
  {
   "cell_type": "code",
   "execution_count": null,
   "id": "5a53ee27",
   "metadata": {},
   "outputs": [],
   "source": []
  },
  {
   "cell_type": "markdown",
   "id": "bbb05fd6-67f0-4de8-a258-83c1893f0519",
   "metadata": {},
   "source": [
    "## List methods\n",
    "\n",
    "[List methods - Python documentation](https://docs.python.org/3/tutorial/datastructures.html)\n",
    "\n",
    "Find the 3 top scores out of a list:"
   ]
  },
  {
   "cell_type": "code",
   "execution_count": 10,
   "id": "e66f1d04-6143-4d57-8ae1-8222d6d9be17",
   "metadata": {},
   "outputs": [
    {
     "name": "stdout",
     "output_type": "stream",
     "text": [
      "92\n",
      "[92, 77, 72, 70, 67, 66, 54, 23]\n",
      "[92, 77, 72]\n"
     ]
    }
   ],
   "source": [
    "all_scores = [23, 67, 92, 54, 77, 66, 72, 70]\n",
    "\n",
    "# Show the biggest score\n",
    "print(max(all_scores))\n",
    "\n",
    "# Sort the list in descending order\n",
    "all_scores.sort(reverse=True)\n",
    "print(all_scores)\n",
    "\n",
    "# Print the top 3 scores\n",
    "# print(list(range(1, 5)))\n",
    "print(all_scores[0:3])"
   ]
  },
  {
   "cell_type": "code",
   "execution_count": 20,
   "id": "05c7abb3",
   "metadata": {},
   "outputs": [
    {
     "name": "stdout",
     "output_type": "stream",
     "text": [
      "[23, 54, 66, 67, 70, 72, 77, 92]\n",
      "[72, 77, 92]\n",
      "[92, 77, 72]\n"
     ]
    }
   ],
   "source": [
    "all_scores = [23, 67, 92, 54, 77, 66, 72, 70]\n",
    "all_scores.sort()\n",
    "print(all_scores)\n",
    "print(all_scores[-3:])\n",
    "print(all_scores[-1:-4:-1])\n",
    "\n",
    "# print(all_scores[-1:-6:-2])"
   ]
  },
  {
   "cell_type": "code",
   "execution_count": null,
   "id": "db8d7677",
   "metadata": {},
   "outputs": [],
   "source": []
  },
  {
   "cell_type": "code",
   "execution_count": null,
   "id": "267a0558",
   "metadata": {},
   "outputs": [],
   "source": []
  },
  {
   "cell_type": "code",
   "execution_count": null,
   "id": "538f8d96",
   "metadata": {},
   "outputs": [],
   "source": []
  },
  {
   "cell_type": "code",
   "execution_count": null,
   "id": "80f603a7",
   "metadata": {},
   "outputs": [],
   "source": []
  },
  {
   "cell_type": "code",
   "execution_count": null,
   "id": "2bcb24d9",
   "metadata": {},
   "outputs": [],
   "source": []
  },
  {
   "cell_type": "code",
   "execution_count": null,
   "id": "b1b6fd9f",
   "metadata": {},
   "outputs": [],
   "source": []
  },
  {
   "cell_type": "markdown",
   "id": "de3f0e6d-dba0-4999-a562-e4df33628182",
   "metadata": {},
   "source": [
    "## Lists of lists\n",
    "\n",
    "[String methods - Python documentation](https://docs.python.org/3/library/stdtypes.html#string-methods)\n",
    "\n",
    "Write a function that takes a string, counts the number of letters in each word, and returns a new list that consists of lists with two elements: each word and the number of letters (in the same order)."
   ]
  },
  {
   "cell_type": "code",
   "execution_count": 3,
   "id": "02544cba",
   "metadata": {},
   "outputs": [
    {
     "name": "stdout",
     "output_type": "stream",
     "text": [
      "[['my', 2], ['cat', 3], ['is', 2], ['fluffy', 6]]\n"
     ]
    }
   ],
   "source": [
    "def count_letters(sentence):\n",
    "    # Separate the words\n",
    "    words = sentence.split()\n",
    "    # print(words)\n",
    "\n",
    "    # Create a big list (empty)\n",
    "    output = []\n",
    "\n",
    "    # For each individual word:\n",
    "    for w in words:\n",
    "        # Check the length of the word\n",
    "        number_of_letters = len(w)\n",
    "\n",
    "        # Create the small list [word, number of letters]\n",
    "        small_list = [w, number_of_letters]\n",
    "        # print(small_list)\n",
    "\n",
    "        # Append the small list to the big list\n",
    "        output.append(small_list)\n",
    "\n",
    "    # Return the big list\n",
    "    return output\n",
    "\n",
    "\n",
    "# Testing\n",
    "my_sentence = 'my cat is fluffy'\n",
    "print(count_letters(my_sentence))\n",
    "\n",
    "# Expected: [['my', 2], ['cat', 3], ['is', 2], ['fluffy', 6]]"
   ]
  },
  {
   "cell_type": "code",
   "execution_count": null,
   "id": "0c59cee3-469c-4959-aacd-dfdf81ee1c23",
   "metadata": {},
   "outputs": [],
   "source": []
  },
  {
   "cell_type": "code",
   "execution_count": null,
   "id": "486a5956",
   "metadata": {},
   "outputs": [],
   "source": []
  },
  {
   "cell_type": "code",
   "execution_count": null,
   "id": "c07349bf",
   "metadata": {},
   "outputs": [],
   "source": []
  },
  {
   "cell_type": "code",
   "execution_count": null,
   "id": "a3951867",
   "metadata": {},
   "outputs": [],
   "source": []
  },
  {
   "cell_type": "code",
   "execution_count": null,
   "id": "f4acb359-55d0-490a-b9e4-845a25eb5bdf",
   "metadata": {},
   "outputs": [],
   "source": [
    "# Exercise:\n",
    "my_sentence = 'Python is SO much fun! I can\\'t wait for the next workshop.'\n",
    "print(count_letters(my_sentence))"
   ]
  },
  {
   "cell_type": "markdown",
   "id": "c34340bd-cb74-4b21-8e22-ae9d7ba70839",
   "metadata": {},
   "source": [
    "## Calculation of $\\pi$ using Leibniz formula\n",
    "\n",
    "[Leibniz formula](https://en.wikipedia.org/wiki/Leibniz_formula_for_%CF%80)\n",
    "\n",
    "$$\n",
    "\\pi = 4 \\times \\left(1 - \\frac{1}{3} + \\frac{1}{5} - \\frac{1}{7} + \\dots\\right)\n",
    "$$\n",
    "\n",
    "Write a function that calculates and displays the accuracy of this formula up to a given term in the series."
   ]
  },
  {
   "cell_type": "code",
   "execution_count": null,
   "id": "4eeda75e-95dc-4875-9911-7bfe461508f5",
   "metadata": {},
   "outputs": [],
   "source": [
    "def estimate_pi_leibniz(N):\n",
    "    pass\n",
    "\n",
    "\n",
    "# Testing\n",
    "print(estimate_pi_leibniz(50000))"
   ]
  }
 ],
 "metadata": {
  "kernelspec": {
   "display_name": "Python 3 (ipykernel)",
   "language": "python",
   "name": "python3"
  },
  "language_info": {
   "codemirror_mode": {
    "name": "ipython",
    "version": 3
   },
   "file_extension": ".py",
   "mimetype": "text/x-python",
   "name": "python",
   "nbconvert_exporter": "python",
   "pygments_lexer": "ipython3",
   "version": "3.10.10"
  }
 },
 "nbformat": 4,
 "nbformat_minor": 5
}
