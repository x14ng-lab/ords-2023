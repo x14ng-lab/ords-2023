{
 "cells": [
  {
   "cell_type": "markdown",
   "metadata": {},
   "source": [
    "# Week 3: Conditional statements, more loops, and code review\n",
    "\n",
    "In this notebook, we introduce conditional statements, another *control flow* tool, which allows us to specify *condition(s)* under which to execute certain parts of our code. We also present the `while` loop, and explore different ways to combine these structures to perform more elaborate computations.\n",
    "\n",
    "The best way to learn programming is to write code. Don't hesitate to edit the code in the example cells, or add your own code, to test your understanding. You will find practice exercises throughout the notebook, denoted by 🚩 **Exercise $x$**."
   ]
  },
  {
   "cell_type": "code",
   "execution_count": 1,
   "metadata": {},
   "outputs": [],
   "source": [
    "from show_solutions import show, initialise_path\n",
    "show = initialise_path(show, '../solutions/w03_solutions.md')"
   ]
  },
  {
   "cell_type": "markdown",
   "metadata": {},
   "source": [
    "---\n",
    "## Conditional statements\n",
    "\n",
    "Conditional statements allow us to create different branches in our code, to separate different instructions to be executed under specific conditions.\n"
   ]
  },
  {
   "cell_type": "markdown",
   "metadata": {},
   "source": [
    "### `if` statements\n",
    "\n",
    "Booleans can be used to execute or skip certain instructions under given conditions, using `if` statements. The syntax is as follows:\n",
    "```python\n",
    "if my_condition:\n",
    "    [some instructions]\n",
    "```\n",
    "where `my_condition` is a Boolean object whose value is either `True` or `False`. A few examples:"
   ]
  },
  {
   "cell_type": "code",
   "execution_count": 2,
   "metadata": {},
   "outputs": [],
   "source": [
    "# Define some variables\n",
    "a = 4.3\n",
    "b = 5.1\n",
    "c = 'hello'\n",
    "i = 1\n",
    "j = 8\n",
    "z = True"
   ]
  },
  {
   "cell_type": "code",
   "execution_count": 3,
   "metadata": {},
   "outputs": [],
   "source": [
    "if i == j:\n",
    "    # This is not true -- any instructions\n",
    "    # in this block are ignored\n",
    "    print('i and j are equal')"
   ]
  },
  {
   "cell_type": "code",
   "execution_count": 4,
   "metadata": {},
   "outputs": [
    {
     "name": "stdout",
     "output_type": "stream",
     "text": [
      "i is less than j\n"
     ]
    }
   ],
   "source": [
    "if i < j:\n",
    "    print('i is less than j')"
   ]
  },
  {
   "cell_type": "code",
   "execution_count": 5,
   "metadata": {},
   "outputs": [
    {
     "name": "stdout",
     "output_type": "stream",
     "text": [
      "i is an integer\n",
      "c is a string and j is not a float\n"
     ]
    }
   ],
   "source": [
    "if type(i) == int:\n",
    "    print('i is an integer')\n",
    "\n",
    "if type(c) == str and type(j) != float:\n",
    "    print('c is a string and j is not a float')"
   ]
  },
  {
   "cell_type": "code",
   "execution_count": 6,
   "metadata": {},
   "outputs": [
    {
     "name": "stdout",
     "output_type": "stream",
     "text": [
      "9.399999999999999\n",
      "4.3\n",
      "j is not zero nor empty\n"
     ]
    }
   ],
   "source": [
    "if (a + b) > 7:\n",
    "    print(a + b)\n",
    "\n",
    "if z:\n",
    "    print(a)\n",
    "\n",
    "if j:\n",
    "    # Recall boolean casting in week 1...\n",
    "    print('j is not zero nor empty')"
   ]
  },
  {
   "cell_type": "markdown",
   "metadata": {},
   "source": [
    "In the last example, although `j` does not point to a Boolean object, it is *interpreted* as a Boolean, because it follows the `if` keyword -- remember type-casting and duck-typing in Week 2. Non-zero numbers and non-empty containers are interpreted as `True`, whereas `0`, `0.0`, `None`, and empty containers (e.g. an empty list `[]` or an empty string `''`) are interpreted as `False`.\n",
    "\n",
    "---\n",
    "**🚩 Exercise 1**\n",
    "\n",
    "The code below generates a list `random_ints` of `n` random integers between 1 and 10 (inclusive). Complete the code to calculate and print the sum of all multiples of 3 in the list.\n",
    "\n",
    "```python\n",
    "import random\n",
    "\n",
    "n = 10\n",
    "random_ints = []\n",
    "for i in range(n):\n",
    "    random_ints.append(random.randint(1, 10))\n",
    "\n",
    "\n",
    "```\n",
    "\n",
    "_Hints:_\n",
    "\n",
    "- You will need to check each element of the list in turn to see if it's a multiple of 3.\n",
    "- Saying that a number is a multiple of 3 is the same as saying that the remainder of dividing the number by 3 is zero."
   ]
  },
  {
   "cell_type": "code",
   "execution_count": 13,
   "metadata": {},
   "outputs": [
    {
     "name": "stdout",
     "output_type": "stream",
     "text": [
      "The sum of all numbers in [8, 9, 6, 7, 7, 3, 6, 9, 7, 2] which are multiples of 3 is 33.\n"
     ]
    }
   ],
   "source": [
    "import random\n",
    "\n",
    "n = 10\n",
    "random_ints = []\n",
    "for i in range(n):\n",
    "    random_ints.append(random.randint(1, 10))\n",
    "\n",
    "# Initialise a variable to store the sum\n",
    "total = 0\n",
    "\n",
    "# Loop over the list of random ints\n",
    "for number in random_ints:\n",
    "    # Check if it's a multiple of 3\n",
    "    if number % 3 == 0:\n",
    "        # Add it to the total\n",
    "        total += number\n",
    "\n",
    "# Display the result\n",
    "print(f\"The sum of all numbers in {random_ints} which are multiples of 3 is {total}.\")\n"
   ]
  },
  {
   "cell_type": "code",
   "execution_count": 11,
   "metadata": {},
   "outputs": [
    {
     "data": {
      "application/vnd.jupyter.widget-view+json": {
       "model_id": "abaf1dca478446cbaf7a82642b594bfc",
       "version_major": 2,
       "version_minor": 0
      },
      "text/plain": [
       "Accordion(children=(Output(layout=Layout(border_bottom='1px solid green', border_left='1px solid green', borde…"
      ]
     },
     "metadata": {},
     "output_type": "display_data"
    }
   ],
   "source": [
    "show('Exercise 1')"
   ]
  },
  {
   "cell_type": "markdown",
   "metadata": {},
   "source": [
    "---\n",
    "\n",
    "### `if`-`else` blocks\n",
    "\n",
    "It's often the case that we want to do two different things depending on whether a condition is `True` or `False`. In that case, an `if` statement alone is not sufficient -- but we can couple it with an **`else` statement**, to specify what to do instead when the `if` clause is not true. The syntax is\n",
    "\n",
    "```python\n",
    "if cond_1:\n",
    "    # [some instructions, executed if cond_1 is true]\n",
    "else:\n",
    "    # [other instructions, executed if cond_1 is false]\n",
    "```\n",
    "\n",
    "Here is an example -- choosing 2 random socks from a drawer with 4 red socks, 4 green socks, and 4 blue socks, and checking that the chosen pair is two socks of the same colour. The random choice is made using [Python's `random.sample()`](https://docs.python.org/3/library/random.html#random.sample)."
   ]
  },
  {
   "cell_type": "code",
   "execution_count": 15,
   "metadata": {},
   "outputs": [
    {
     "name": "stdout",
     "output_type": "stream",
     "text": [
      "['red', 'red', 'red', 'red', 'green', 'green', 'green', 'green', 'blue', 'blue', 'blue', 'blue']\n",
      "['green', 'red']\n",
      "Picked one green sock and one red sock; try again!\n"
     ]
    }
   ],
   "source": [
    "import random\n",
    "\n",
    "# Create the drawer\n",
    "drawer = 4*['red'] + 4*['green'] + 4*['blue']\n",
    "print(drawer)\n",
    "\n",
    "# Choose 2 random socks in the drawer (this returns a list)\n",
    "pair = random.sample(drawer, 2)\n",
    "print(pair)\n",
    "\n",
    "# Are they the same colour?\n",
    "if pair[0] == pair[1]:\n",
    "    print(f'Success! Picked two {pair[0]} socks.')\n",
    "else:\n",
    "    print(f'Picked one {pair[0]} sock and one {pair[1]} sock; try again!')"
   ]
  },
  {
   "cell_type": "markdown",
   "metadata": {},
   "source": [
    "### `if`-`elif`-`else` blocks\n",
    "\n",
    "To check **multiple conditions** one after another, we can use `if`-`elif`-`else` blocks (`elif` is short for \"else if\"). The syntax is\n",
    "\n",
    "```python\n",
    "if cond_1:\n",
    "    # [some instructions, executed if cond_1 is true]\n",
    "elif cond_2:\n",
    "    # [other instructions, executed if cond_1 is false,\n",
    "    # but cond_2 is true]\n",
    "elif cond_3:\n",
    "    # [other instructions, executed if both cond_1 and cond_2\n",
    "    # are false, but cond_3 is true]\n",
    "else:\n",
    "    # [other instructions, executed only if all other conditions\n",
    "    # above are false]\n",
    "```\n",
    "\n",
    "You can have as many or as few branches as you need. Note, in particular, that the conditions in an `if`-`elif`-`else` block are checked **top to bottom, one after the other**, and **only one** branch is executed.\n",
    "\n",
    "Here is an example:"
   ]
  },
  {
   "cell_type": "code",
   "execution_count": 16,
   "metadata": {},
   "outputs": [
    {
     "name": "stdout",
     "output_type": "stream",
     "text": [
      "a is smaller than b\n"
     ]
    }
   ],
   "source": [
    "a = 4.9\n",
    "b = 5.4\n",
    "\n",
    "if a > b:\n",
    "    print('a is greater than b')\n",
    "elif a < b:\n",
    "    print('a is smaller than b')\n",
    "else:\n",
    "    # Here we don't need to check \"if a == b\", as we know for certain\n",
    "    # that the previous two conditions are already false\n",
    "    print('a is equal to b')"
   ]
  },
  {
   "cell_type": "markdown",
   "metadata": {},
   "source": [
    "---\n",
    "**📚 Learn more**\n",
    "\n",
    "* [More flow control tools - Python documentation](https://docs.python.org/3/tutorial/controlflow.html)\n",
    "* [Boolean operations - Python documentation](https://docs.python.org/3/reference/expressions.html#boolean-operations)\n",
    "\n",
    "---\n",
    "\n",
    "\n",
    "---\n",
    "**🚩 Exercise 2**\n",
    "\n",
    "The following code generates a random integer `n` between 1 and 1000. Complete the code such that running the cell displays a sentence indicating whether `n` is a multiple of both 3 and 7, either 3 or 7 (but not both), or neither.\n",
    "\n",
    "_Note: the generated random number will be different every time you run the cell. It is generated using [NumPy's random number functionality](https://numpy.org/doc/stable/reference/random/generated/numpy.random.Generator.integers.html#numpy.random.Generator.integers), instead of Python's `random` module._\n",
    "\n",
    "```python\n",
    "import numpy as np\n",
    "\n",
    "rng = np.random.default_rng()\n",
    "n = rng.integers(1, 1001)\n",
    "\n",
    "```"
   ]
  },
  {
   "cell_type": "code",
   "execution_count": 34,
   "metadata": {},
   "outputs": [
    {
     "name": "stdout",
     "output_type": "stream",
     "text": [
      "872 is not a multiple of 3 nor 7.\n"
     ]
    }
   ],
   "source": [
    "import numpy as np\n",
    "\n",
    "rng = np.random.default_rng()\n",
    "n = rng.integers(1, 1001)\n",
    "\n",
    "if n % 21 == 0:\n",
    "    # if n is a multiple of 3x7, it's a multiple of both 3 and 7\n",
    "    print(n, \"is a multiple of both 3 and 7.\")\n",
    "elif n % 3 == 0 or n % 7 == 0:\n",
    "    # not a multiple of both, but a multiple of either\n",
    "    print(n, \"is a multiple one of 3 or 7.\")\n",
    "else:\n",
    "    # the last possible case: not a multiple of either\n",
    "    print(n, \"is not a multiple of 3 nor 7.\")"
   ]
  },
  {
   "cell_type": "code",
   "execution_count": 32,
   "metadata": {
    "tags": [
     "solution_cell"
    ]
   },
   "outputs": [
    {
     "data": {
      "application/vnd.jupyter.widget-view+json": {
       "model_id": "31b9b8f551c845a4af41c4832b8d3889",
       "version_major": 2,
       "version_minor": 0
      },
      "text/plain": [
       "Accordion(children=(Output(layout=Layout(border_bottom='1px solid green', border_left='1px solid green', borde…"
      ]
     },
     "metadata": {},
     "output_type": "display_data"
    }
   ],
   "source": [
    "show('Exercise 2')"
   ]
  },
  {
   "cell_type": "markdown",
   "metadata": {},
   "source": [
    "---\n",
    "🚩 **Exercise 3**\n",
    "\n",
    "Construct a loop over all words in the string `zen`. For each word:\n",
    "* if it contains an `e`, print the word.\n",
    "* if it does not contain an `e`, but contains an `i`, print the first character of the word.\n",
    "* if it does not contain an `e` nor an `i`, increment `count` by 1.\n",
    "\n",
    "*Notes:*\n",
    "- *You will first need to create a list of words from the string --- luckily, you should find a convenient [method](https://docs.python.org/3/library/stdtypes.html#string-methods) for this if you search the documentation.*\n",
    "- *The text is from the Zen of Python: https://www.python.org/dev/peps/pep-0020/*"
   ]
  },
  {
   "cell_type": "code",
   "execution_count": 42,
   "metadata": {},
   "outputs": [
    {
     "name": "stdout",
     "output_type": "stream",
     "text": [
      "the\n",
      "implementation\n",
      "i\n",
      "explain,\n",
      "i\n",
      "i\n",
      "idea.\n",
      "the\n",
      "implementation\n",
      "i\n",
      "easy\n",
      "explain,\n",
      "i\n",
      "be\n",
      "idea.\n"
     ]
    }
   ],
   "source": [
    "zen = 'If the implementation is hard to explain, it is a bad idea. If the implementation is easy to explain, it may be a good idea.'\n",
    "count = 0\n",
    "\n",
    "# Loop over all words in the list of words from the string using str.split(sep=None, maxsplit=-1)\n",
    "for word in zen.split():\n",
    "    if 'e' in word:\n",
    "        print(word)\n",
    "    elif 'i' in word:\n",
    "        print(word[0])\n",
    "    else:\n",
    "        count += 1\n"
   ]
  },
  {
   "cell_type": "code",
   "execution_count": 38,
   "metadata": {
    "tags": [
     "solution_cell"
    ]
   },
   "outputs": [
    {
     "data": {
      "application/vnd.jupyter.widget-view+json": {
       "model_id": "d6f4ee353e8142f0a171c238fac03e8e",
       "version_major": 2,
       "version_minor": 0
      },
      "text/plain": [
       "Accordion(children=(Output(layout=Layout(border_bottom='1px solid green', border_left='1px solid green', borde…"
      ]
     },
     "metadata": {},
     "output_type": "display_data"
    }
   ],
   "source": [
    "show('Exercise 3')"
   ]
  },
  {
   "cell_type": "markdown",
   "metadata": {},
   "source": [
    "---\n",
    "## `while` loops\n",
    "\n",
    "`while` loops are used to repeat a set of instructions *while* a given condition is true. As soon as the condition becomes false, the loop stops iterating.\n",
    "\n",
    "The `while` statement does *not* use any placeholder variables like the `for` loop does; instead, it must be given a Boolean object (i.e., an expression which evaluates to either `True` or `False`). The syntax is as follows:\n",
    "```python\n",
    "while my_condition:\n",
    "    [some instructions]\n",
    "```\n",
    "where `my_condition` has type `bool`. The instructions in the loop are executed repeatedly, until `my_condition` evaluates to `False`, after which the loop terminates.\n",
    "\n",
    "For example, we can calculate the same sum $S$ as in Week 2, using a `while` loop:\n",
    "$$\n",
    "S = \\sum_{i=0}^{10} i\n",
    "$$"
   ]
  },
  {
   "cell_type": "code",
   "execution_count": 43,
   "metadata": {},
   "outputs": [
    {
     "name": "stdout",
     "output_type": "stream",
     "text": [
      "55\n"
     ]
    }
   ],
   "source": [
    "S = 0\n",
    "i = 0\n",
    "\n",
    "while i <= 10:\n",
    "    S += i\n",
    "    i += 1\n",
    "\n",
    "print(S)"
   ]
  },
  {
   "cell_type": "markdown",
   "metadata": {},
   "source": [
    "Let's break this down:\n",
    "\n",
    "- We start with assigning `S = 0`, as with the `for` loop. Here, because `while` loops don't assign the placeholder variable by themselves, we need to assign and increment `i` manually.\n",
    "\n",
    "- We get to the start of the loop, and the condition is checked. Since we start with `i = 0`, the expression `i <= 10` evaluates to `True`, and we can proceed with the first iteration. `i` is incremented by 1 inside the loop.\n",
    "\n",
    "- For the next iteration, `i = 1`, and `i <= 10` still evaluates to `True` -- we proceed again with the instructions in the loop.\n",
    "\n",
    "- The 11th iteration ends by assigning `i = 11`. Going back up to the `while` statement, the expression `i <= 10` now evaluates to `False`, and the loop terminates immediately.\n",
    "\n",
    "For this example, the `for` loop is clearly the better choice, as we already know how many iterations we need to complete the calculation.\n",
    "\n",
    "---\n",
    "**📚 Learn more:**\n",
    "* [First steps towards programming - The `while` loop - Python documentation](https://docs.python.org/3/tutorial/introduction.html#first-steps-towards-programming)\n",
    "* [The `while` statement](https://docs.python.org/3/reference/compound_stmts.html#while)\n",
    "\n",
    "---\n",
    "**🚩 Exercise 4**\n",
    "\n",
    "The Maclaurin series for the exponential function is\n",
    "\n",
    "$$\n",
    "e^x = \\sum_{n=0}^\\infty \\frac{x^n}{n!} = 1 + x + \\frac{x^2}{2!} + \\frac{x^3}{3!} + \\frac{x^4}{4!} + \\dots\n",
    "$$\n",
    "\n",
    "Using a `while` loop, find out how many terms of this series are needed to obtain an approximation of $e^1$ which is accurate to 6 significant digits.\n",
    "\n",
    "_Hint:_ you will need to compute $e^1$ to check the accuracy of your partial sums, compute a factorial for each term, and formulate a criterion to determine whether your result is accurate enough. The [`math` module](https://docs.python.org/3/library/math.html) includes useful functions to do this."
   ]
  },
  {
   "cell_type": "code",
   "execution_count": null,
   "metadata": {},
   "outputs": [],
   "source": [
    "import math\n",
    "\n",
    "# Initialise the partial sums of the Maclaurin series\n",
    "partial_sum = 1\n",
    "\n",
    "# Initialise a variable to count the number of the terms\n",
    "n = 0\n",
    "\n",
    "# Check the accuracy of the approximation using a while loop\n",
    "while not math.isclose(math.exp(1), partial_sum, rel_tol=1e-6):\n",
    "\n",
    "    # increment the count by 1\n",
    "    n += 1                                  \n",
    "\n",
    "    # add the nth term of the series\n",
    "    partial_sum += 1 / math.factorial(n)\n",
    "\n",
    "    print(f'n = {n}')\n",
    "    print(f'Exact value of exp(1): {math.exp(1):.6f}')\n",
    "    print(f'Approximate value: {e:.6f}\\n')\n",
    "\n",
    "print(f'{n} iterations are needed.')"
   ]
  },
  {
   "cell_type": "code",
   "execution_count": 45,
   "metadata": {
    "tags": [
     "solution_cell"
    ]
   },
   "outputs": [
    {
     "data": {
      "application/vnd.jupyter.widget-view+json": {
       "model_id": "b4c0e453768040819ea1115d1f4c9e00",
       "version_major": 2,
       "version_minor": 0
      },
      "text/plain": [
       "Accordion(children=(Output(layout=Layout(border_bottom='1px solid green', border_left='1px solid green', borde…"
      ]
     },
     "metadata": {},
     "output_type": "display_data"
    }
   ],
   "source": [
    "show('Exercise 4')"
   ]
  },
  {
   "cell_type": "markdown",
   "metadata": {},
   "source": [
    "---\n",
    "### The `break`  statement in loops\n",
    "\n",
    "Sometimes, we may wish to exit a loop early -- for example, when we try to find the first element in a list which matches a condition. Once we find the element, we don't want to keep looping through the rest of the list.\n",
    "\n",
    "The `break` statement can be used to exit a loop conditionally. Here is an example:"
   ]
  },
  {
   "cell_type": "code",
   "execution_count": 52,
   "metadata": {},
   "outputs": [
    {
     "name": "stdout",
     "output_type": "stream",
     "text": [
      "is\n"
     ]
    }
   ],
   "source": [
    "list_of_strings = ['hello', 'this', 'is', 'a', 'lot', 'of', 'text', 'in', 'a', 'list.']\n",
    "\n",
    "# Find and display the first word which starts with an i\n",
    "for word in list_of_strings:\n",
    "    if word[0] == 'i':\n",
    "        print(word)\n",
    "        break    # This stops the loop immediately"
   ]
  },
  {
   "cell_type": "markdown",
   "metadata": {},
   "source": [
    "---\n",
    "**Note:** It is easy to see that a `while` loop can potentially run forever. When this happens, in Jupyter/IPython, `In [*]:` will appear on the top left of the code cell -- click the square button on the toolbar above to interrupt the kernel.\n",
    "\n",
    "It is also usually a good idea to count iterations when using `while` loops, for instance by incrementing a counting variable at every iteration. To safeguard against infinite loops, you can then `break` the loop conditionally, for example if the counter exceeds some maximum number of iterations.\n",
    "\n",
    "---\n",
    "**📚 Learn more:**\n",
    "* [More flow control tools - Python documentation](https://docs.python.org/3/tutorial/controlflow.html)\n",
    "* [`break` and `continue` statements, and `else` clauses on loops - Python documentation](https://docs.python.org/3/tutorial/controlflow.html#break-and-continue-statements-and-else-clauses-on-loops)\n",
    "\n",
    "\n",
    "---\n",
    "🚩 **Exercise 5**\n",
    "\n",
    "The following is an example of *nested loops*. Try to predict the displayed output, and run the cell to verify. How does `break` behave within nested loops?"
   ]
  },
  {
   "cell_type": "code",
   "execution_count": 53,
   "metadata": {},
   "outputs": [
    {
     "name": "stdout",
     "output_type": "stream",
     "text": [
      "5\n",
      "10\n",
      "15\n",
      "18\n",
      "19\n",
      "20\n",
      "21\n",
      "22\n",
      "23\n",
      "24\n"
     ]
    }
   ],
   "source": [
    "count = 0\n",
    "\n",
    "for i in range(10):\n",
    "    for j in range(5):\n",
    "        count += 1\n",
    "        if count > 17:\n",
    "            break\n",
    "    print(count)"
   ]
  },
  {
   "cell_type": "code",
   "execution_count": 54,
   "metadata": {
    "tags": [
     "solution_cell"
    ]
   },
   "outputs": [
    {
     "data": {
      "application/vnd.jupyter.widget-view+json": {
       "model_id": "1df96c574b1f45babae35c415e63c01a",
       "version_major": 2,
       "version_minor": 0
      },
      "text/plain": [
       "Accordion(children=(Output(layout=Layout(border_bottom='1px solid green', border_left='1px solid green', borde…"
      ]
     },
     "metadata": {},
     "output_type": "display_data"
    }
   ],
   "source": [
    "show('Exercise 5')"
   ]
  },
  {
   "cell_type": "markdown",
   "metadata": {},
   "source": [
    "---\n",
    "## Debugging and troubleshooting\n",
    "\n",
    "A **bug** is simply an error or a mistake in your code, which makes it fail and/or produce the wrong result. Debugging is the process of finding and correcting bugs, by inspecting the output of the code under carefully chosen inputs and conditions.\n"
   ]
  },
  {
   "cell_type": "markdown",
   "metadata": {},
   "source": [
    "### Errors and exceptions\n",
    "\n",
    "You have probably already encountered a few **runtime errors** -- this is when Python fails to run your code for any reason, and gives you a short message to explain what went wrong. It is essential to know how to interpret these to debug your code and troubleshoot problems.\n",
    "\n",
    "Here is an example of a runtime error -- run the cell below:"
   ]
  },
  {
   "cell_type": "code",
   "execution_count": 55,
   "metadata": {},
   "outputs": [
    {
     "ename": "SyntaxError",
     "evalue": "expected ':' (243486694.py, line 2)",
     "output_type": "error",
     "traceback": [
      "\u001b[0;36m  Cell \u001b[0;32mIn[55], line 2\u001b[0;36m\u001b[0m\n\u001b[0;31m    if my_string[0] == 'H'\u001b[0m\n\u001b[0m                          ^\u001b[0m\n\u001b[0;31mSyntaxError\u001b[0m\u001b[0;31m:\u001b[0m expected ':'\n"
     ]
    }
   ],
   "source": [
    "my_string = 'Hello world'\n",
    "if my_string[0] == 'H'\n",
    "    print(my_string)"
   ]
  },
  {
   "cell_type": "markdown",
   "metadata": {},
   "source": [
    "Can you spot the error?\n",
    "\n",
    "- The first line of the error message indicates the *file* where the error happened -- this is useful when working on projects with many different Python scripts and custom modules, not so much for us here on Jupyter.\n",
    "- Note that the **line number** also appears in the error message. You can see line numbers in Jupyter notebooks by clicking <kbd>View</kbd> > <kbd>Toggle Line Numbers</kbd> in the menu bar at the top of the page.\n",
    "- The second line repeats the line where the error was detected, and we can check that this is indeed line 2 in our cell, as indicated previously.\n",
    "- The third line only has a `^` character. This is simply an **arrow**, which indicates where the error was detected, on the line printed above. Here, the `^` sits just after the last character in the `if` statement; the colon `:` is missing.\n",
    "- Finally, the very last line indicates two things:\n",
    "    - the **type** of error -- here, a `SyntaxError`. Like everything else in Python, errors and exceptions are also objects with types.\n",
    "    - the **error message**, -- here, `expected ':'`. The error message tries to give you more specific information about what the issue is.\n",
    "\n",
    "_Syntax errors_ are what they sound like -- usually typos. They are detected even before the code is executed. They occur when the code you wrote is not valid Python syntax; in the example above, as pointed out by the little arrow `^`, we forgot the colon `:` at the end of the `if` statement.\n",
    "\n",
    "Here is another example -- a `TypeError`:"
   ]
  },
  {
   "cell_type": "code",
   "execution_count": 56,
   "metadata": {},
   "outputs": [
    {
     "ename": "TypeError",
     "evalue": "'int' object is not subscriptable",
     "output_type": "error",
     "traceback": [
      "\u001b[0;31m---------------------------------------------------------------------------\u001b[0m",
      "\u001b[0;31mTypeError\u001b[0m                                 Traceback (most recent call last)",
      "\u001b[1;32m/Users/xiang/Library/CloudStorage/OneDrive-UniversityofEdinburgh/UoE - 1 year/P1S1/MATH11199_Python Programming/pypr-notebooks-x14ng-lab/w03/week03.ipynb Cell 36\u001b[0m line \u001b[0;36m2\n\u001b[1;32m      <a href='vscode-notebook-cell:/Users/xiang/Library/CloudStorage/OneDrive-UniversityofEdinburgh/UoE%20-%201%20year/P1S1/MATH11199_Python%20Programming/pypr-notebooks-x14ng-lab/w03/week03.ipynb#X46sZmlsZQ%3D%3D?line=0'>1</a>\u001b[0m my_int \u001b[39m=\u001b[39m \u001b[39m4\u001b[39m\n\u001b[0;32m----> <a href='vscode-notebook-cell:/Users/xiang/Library/CloudStorage/OneDrive-UniversityofEdinburgh/UoE%20-%201%20year/P1S1/MATH11199_Python%20Programming/pypr-notebooks-x14ng-lab/w03/week03.ipynb#X46sZmlsZQ%3D%3D?line=1'>2</a>\u001b[0m \u001b[39mprint\u001b[39m(my_int[\u001b[39m2\u001b[39m])\n",
      "\u001b[0;31mTypeError\u001b[0m: 'int' object is not subscriptable"
     ]
    }
   ],
   "source": [
    "my_int = 4\n",
    "print(my_int[2])"
   ]
  },
  {
   "cell_type": "markdown",
   "metadata": {},
   "source": [
    "Here, the pointing arrow is on the side `---->`, as it's not really obvious where exactly on line 2 Python should point -- but it still tells you that the error is on line 2. The error message explains that we are trying to subscript an `int` object -- that is, to index an integer, something which is not a sequence or container."
   ]
  },
  {
   "cell_type": "markdown",
   "metadata": {},
   "source": [
    "### Built-in exception types\n",
    "\n",
    "Simply speaking, when an **error** is detected in your code, an **exception** is raised (triggered), which interrupts execution and gives you some information about what went wrong. There are many built-in exception types in Python -- here are some of the more commonly encountered ones, run the code cells to see an example of the corresponding error **trace**. Note that the offending line is usually printed with a few lines of context.\n"
   ]
  },
  {
   "cell_type": "markdown",
   "metadata": {},
   "source": [
    "#### `IndexError`\n",
    "\n",
    "Occurs when a sequence subscript is out of range. For instance, here, we're trying to access `my_list[4]`, but `my_list` only has elements up to `my_list[3]`."
   ]
  },
  {
   "cell_type": "code",
   "execution_count": 57,
   "metadata": {},
   "outputs": [
    {
     "ename": "IndexError",
     "evalue": "list index out of range",
     "output_type": "error",
     "traceback": [
      "\u001b[0;31m---------------------------------------------------------------------------\u001b[0m",
      "\u001b[0;31mIndexError\u001b[0m                                Traceback (most recent call last)",
      "\u001b[1;32m/Users/xiang/Library/CloudStorage/OneDrive-UniversityofEdinburgh/UoE - 1 year/P1S1/MATH11199_Python Programming/pypr-notebooks-x14ng-lab/w03/week03.ipynb Cell 41\u001b[0m line \u001b[0;36m2\n\u001b[1;32m      <a href='vscode-notebook-cell:/Users/xiang/Library/CloudStorage/OneDrive-UniversityofEdinburgh/UoE%20-%201%20year/P1S1/MATH11199_Python%20Programming/pypr-notebooks-x14ng-lab/w03/week03.ipynb#X51sZmlsZQ%3D%3D?line=0'>1</a>\u001b[0m my_list \u001b[39m=\u001b[39m [\u001b[39m1\u001b[39m, \u001b[39m2\u001b[39m, \u001b[39m3\u001b[39m, \u001b[39m4\u001b[39m]\n\u001b[0;32m----> <a href='vscode-notebook-cell:/Users/xiang/Library/CloudStorage/OneDrive-UniversityofEdinburgh/UoE%20-%201%20year/P1S1/MATH11199_Python%20Programming/pypr-notebooks-x14ng-lab/w03/week03.ipynb#X51sZmlsZQ%3D%3D?line=1'>2</a>\u001b[0m \u001b[39mprint\u001b[39m(my_list[\u001b[39m4\u001b[39m])\n",
      "\u001b[0;31mIndexError\u001b[0m: list index out of range"
     ]
    }
   ],
   "source": [
    "my_list = [1, 2, 3, 4]\n",
    "print(my_list[4])"
   ]
  },
  {
   "cell_type": "markdown",
   "metadata": {},
   "source": [
    "#### `NameError`\n",
    "\n",
    "Occurs when the variable referred to does not exist -- there is no box in memory with this label. This often comes up when you mistype a variable name, or when you try to use a variable which you haven't defined before."
   ]
  },
  {
   "cell_type": "code",
   "execution_count": 58,
   "metadata": {},
   "outputs": [
    {
     "ename": "NameError",
     "evalue": "name 'my_ist' is not defined",
     "output_type": "error",
     "traceback": [
      "\u001b[0;31m---------------------------------------------------------------------------\u001b[0m",
      "\u001b[0;31mNameError\u001b[0m                                 Traceback (most recent call last)",
      "\u001b[1;32m/Users/xiang/Library/CloudStorage/OneDrive-UniversityofEdinburgh/UoE - 1 year/P1S1/MATH11199_Python Programming/pypr-notebooks-x14ng-lab/w03/week03.ipynb Cell 43\u001b[0m line \u001b[0;36m2\n\u001b[1;32m      <a href='vscode-notebook-cell:/Users/xiang/Library/CloudStorage/OneDrive-UniversityofEdinburgh/UoE%20-%201%20year/P1S1/MATH11199_Python%20Programming/pypr-notebooks-x14ng-lab/w03/week03.ipynb#X53sZmlsZQ%3D%3D?line=0'>1</a>\u001b[0m my_list \u001b[39m=\u001b[39m [\u001b[39m1\u001b[39m, \u001b[39m2\u001b[39m, \u001b[39m3\u001b[39m, \u001b[39m4\u001b[39m]\n\u001b[0;32m----> <a href='vscode-notebook-cell:/Users/xiang/Library/CloudStorage/OneDrive-UniversityofEdinburgh/UoE%20-%201%20year/P1S1/MATH11199_Python%20Programming/pypr-notebooks-x14ng-lab/w03/week03.ipynb#X53sZmlsZQ%3D%3D?line=1'>2</a>\u001b[0m \u001b[39mprint\u001b[39m(my_ist)\n",
      "\u001b[0;31mNameError\u001b[0m: name 'my_ist' is not defined"
     ]
    }
   ],
   "source": [
    "my_list = [1, 2, 3, 4]\n",
    "print(my_ist)"
   ]
  },
  {
   "cell_type": "markdown",
   "metadata": {},
   "source": [
    "#### `SyntaxError`\n",
    "\n",
    "Occurs when the code is not syntactically correct --- it is not valid Python, so Python doesn't know how to interpret it."
   ]
  },
  {
   "cell_type": "code",
   "execution_count": 59,
   "metadata": {},
   "outputs": [
    {
     "ename": "SyntaxError",
     "evalue": "expected ':' (243486694.py, line 2)",
     "output_type": "error",
     "traceback": [
      "\u001b[0;36m  Cell \u001b[0;32mIn[59], line 2\u001b[0;36m\u001b[0m\n\u001b[0;31m    if my_string[0] == 'H'\u001b[0m\n\u001b[0m                          ^\u001b[0m\n\u001b[0;31mSyntaxError\u001b[0m\u001b[0;31m:\u001b[0m expected ':'\n"
     ]
    }
   ],
   "source": [
    "my_string = 'Hello world'\n",
    "if my_string[0] == 'H'\n",
    "    print(my_string)"
   ]
  },
  {
   "cell_type": "markdown",
   "metadata": {},
   "source": [
    "#### `TypeError`\n",
    "\n",
    "This is a *very* common error to see when learning Python! This means that an operation or a function is applied to an object of the wrong *type*. A few examples:"
   ]
  },
  {
   "cell_type": "code",
   "execution_count": 60,
   "metadata": {},
   "outputs": [
    {
     "ename": "TypeError",
     "evalue": "'int' object is not subscriptable",
     "output_type": "error",
     "traceback": [
      "\u001b[0;31m---------------------------------------------------------------------------\u001b[0m",
      "\u001b[0;31mTypeError\u001b[0m                                 Traceback (most recent call last)",
      "\u001b[1;32m/Users/xiang/Library/CloudStorage/OneDrive-UniversityofEdinburgh/UoE - 1 year/P1S1/MATH11199_Python Programming/pypr-notebooks-x14ng-lab/w03/week03.ipynb Cell 47\u001b[0m line \u001b[0;36m3\n\u001b[1;32m      <a href='vscode-notebook-cell:/Users/xiang/Library/CloudStorage/OneDrive-UniversityofEdinburgh/UoE%20-%201%20year/P1S1/MATH11199_Python%20Programming/pypr-notebooks-x14ng-lab/w03/week03.ipynb#X60sZmlsZQ%3D%3D?line=0'>1</a>\u001b[0m \u001b[39m# Trying to index something that is not a sequence...\u001b[39;00m\n\u001b[1;32m      <a href='vscode-notebook-cell:/Users/xiang/Library/CloudStorage/OneDrive-UniversityofEdinburgh/UoE%20-%201%20year/P1S1/MATH11199_Python%20Programming/pypr-notebooks-x14ng-lab/w03/week03.ipynb#X60sZmlsZQ%3D%3D?line=1'>2</a>\u001b[0m my_int \u001b[39m=\u001b[39m \u001b[39m4\u001b[39m\n\u001b[0;32m----> <a href='vscode-notebook-cell:/Users/xiang/Library/CloudStorage/OneDrive-UniversityofEdinburgh/UoE%20-%201%20year/P1S1/MATH11199_Python%20Programming/pypr-notebooks-x14ng-lab/w03/week03.ipynb#X60sZmlsZQ%3D%3D?line=2'>3</a>\u001b[0m \u001b[39mprint\u001b[39m(my_int[\u001b[39m2\u001b[39m])\n",
      "\u001b[0;31mTypeError\u001b[0m: 'int' object is not subscriptable"
     ]
    }
   ],
   "source": [
    "# Trying to index something that is not a sequence...\n",
    "my_int = 4\n",
    "print(my_int[2])"
   ]
  },
  {
   "cell_type": "code",
   "execution_count": 61,
   "metadata": {},
   "outputs": [
    {
     "ename": "TypeError",
     "evalue": "can't multiply sequence by non-int of type 'list'",
     "output_type": "error",
     "traceback": [
      "\u001b[0;31m---------------------------------------------------------------------------\u001b[0m",
      "\u001b[0;31mTypeError\u001b[0m                                 Traceback (most recent call last)",
      "\u001b[1;32m/Users/xiang/Library/CloudStorage/OneDrive-UniversityofEdinburgh/UoE - 1 year/P1S1/MATH11199_Python Programming/pypr-notebooks-x14ng-lab/w03/week03.ipynb Cell 48\u001b[0m line \u001b[0;36m4\n\u001b[1;32m      <a href='vscode-notebook-cell:/Users/xiang/Library/CloudStorage/OneDrive-UniversityofEdinburgh/UoE%20-%201%20year/P1S1/MATH11199_Python%20Programming/pypr-notebooks-x14ng-lab/w03/week03.ipynb#X61sZmlsZQ%3D%3D?line=1'>2</a>\u001b[0m my_list \u001b[39m=\u001b[39m [\u001b[39m1\u001b[39m, \u001b[39m2\u001b[39m, \u001b[39m3\u001b[39m, \u001b[39m4\u001b[39m]\n\u001b[1;32m      <a href='vscode-notebook-cell:/Users/xiang/Library/CloudStorage/OneDrive-UniversityofEdinburgh/UoE%20-%201%20year/P1S1/MATH11199_Python%20Programming/pypr-notebooks-x14ng-lab/w03/week03.ipynb#X61sZmlsZQ%3D%3D?line=2'>3</a>\u001b[0m my_other_list \u001b[39m=\u001b[39m [\u001b[39m5\u001b[39m, \u001b[39m6\u001b[39m, \u001b[39m7\u001b[39m, \u001b[39m8\u001b[39m]\n\u001b[0;32m----> <a href='vscode-notebook-cell:/Users/xiang/Library/CloudStorage/OneDrive-UniversityofEdinburgh/UoE%20-%201%20year/P1S1/MATH11199_Python%20Programming/pypr-notebooks-x14ng-lab/w03/week03.ipynb#X61sZmlsZQ%3D%3D?line=3'>4</a>\u001b[0m \u001b[39mprint\u001b[39m(my_list \u001b[39m*\u001b[39m my_other_list)\n",
      "\u001b[0;31mTypeError\u001b[0m: can't multiply sequence by non-int of type 'list'"
     ]
    }
   ],
   "source": [
    "# Trying to multiply two lists together...\n",
    "my_list = [1, 2, 3, 4]\n",
    "my_other_list = [5, 6, 7, 8]\n",
    "print(my_list * my_other_list)"
   ]
  },
  {
   "cell_type": "code",
   "execution_count": 64,
   "metadata": {},
   "outputs": [
    {
     "ename": "TypeError",
     "evalue": "unsupported operand type(s) for ** or pow(): 'str' and 'int'",
     "output_type": "error",
     "traceback": [
      "\u001b[0;31m---------------------------------------------------------------------------\u001b[0m",
      "\u001b[0;31mTypeError\u001b[0m                                 Traceback (most recent call last)",
      "\u001b[1;32m/Users/xiang/Library/CloudStorage/OneDrive-UniversityofEdinburgh/UoE - 1 year/P1S1/MATH11199_Python Programming/pypr-notebooks-x14ng-lab/w03/week03.ipynb Cell 49\u001b[0m line \u001b[0;36m5\n\u001b[1;32m      <a href='vscode-notebook-cell:/Users/xiang/Library/CloudStorage/OneDrive-UniversityofEdinburgh/UoE%20-%201%20year/P1S1/MATH11199_Python%20Programming/pypr-notebooks-x14ng-lab/w03/week03.ipynb#X62sZmlsZQ%3D%3D?line=1'>2</a>\u001b[0m \u001b[39mdef\u001b[39;00m \u001b[39mmy_func\u001b[39m(x):\n\u001b[1;32m      <a href='vscode-notebook-cell:/Users/xiang/Library/CloudStorage/OneDrive-UniversityofEdinburgh/UoE%20-%201%20year/P1S1/MATH11199_Python%20Programming/pypr-notebooks-x14ng-lab/w03/week03.ipynb#X62sZmlsZQ%3D%3D?line=2'>3</a>\u001b[0m     \u001b[39mreturn\u001b[39;00m x \u001b[39m*\u001b[39m\u001b[39m*\u001b[39m \u001b[39m2\u001b[39m\n\u001b[0;32m----> <a href='vscode-notebook-cell:/Users/xiang/Library/CloudStorage/OneDrive-UniversityofEdinburgh/UoE%20-%201%20year/P1S1/MATH11199_Python%20Programming/pypr-notebooks-x14ng-lab/w03/week03.ipynb#X62sZmlsZQ%3D%3D?line=4'>5</a>\u001b[0m \u001b[39mprint\u001b[39m(my_func(\u001b[39m'\u001b[39m\u001b[39mWhy hello there\u001b[39m\u001b[39m'\u001b[39m))\n",
      "\u001b[1;32m/Users/xiang/Library/CloudStorage/OneDrive-UniversityofEdinburgh/UoE - 1 year/P1S1/MATH11199_Python Programming/pypr-notebooks-x14ng-lab/w03/week03.ipynb Cell 49\u001b[0m line \u001b[0;36m3\n\u001b[1;32m      <a href='vscode-notebook-cell:/Users/xiang/Library/CloudStorage/OneDrive-UniversityofEdinburgh/UoE%20-%201%20year/P1S1/MATH11199_Python%20Programming/pypr-notebooks-x14ng-lab/w03/week03.ipynb#X62sZmlsZQ%3D%3D?line=1'>2</a>\u001b[0m \u001b[39mdef\u001b[39;00m \u001b[39mmy_func\u001b[39m(x):\n\u001b[0;32m----> <a href='vscode-notebook-cell:/Users/xiang/Library/CloudStorage/OneDrive-UniversityofEdinburgh/UoE%20-%201%20year/P1S1/MATH11199_Python%20Programming/pypr-notebooks-x14ng-lab/w03/week03.ipynb#X62sZmlsZQ%3D%3D?line=2'>3</a>\u001b[0m     \u001b[39mreturn\u001b[39;00m x \u001b[39m*\u001b[39m\u001b[39m*\u001b[39m \u001b[39m2\u001b[39m\n",
      "\u001b[0;31mTypeError\u001b[0m: unsupported operand type(s) for ** or pow(): 'str' and 'int'"
     ]
    }
   ],
   "source": [
    "# Trying to compute the square of a string...\n",
    "def my_func(x):\n",
    "    return x ** 2\n",
    "\n",
    "print(my_func('Why hello there'))"
   ]
  },
  {
   "cell_type": "markdown",
   "metadata": {},
   "source": [
    "#### `ValueError`\n",
    "\n",
    "Raised when an operation or function is applied to an object with the correct _type_, but an invalid _value_. For example, the `int()` function can cast a string to an integer, *if the string can be interpreted as a number*."
   ]
  },
  {
   "cell_type": "code",
   "execution_count": 65,
   "metadata": {},
   "outputs": [
    {
     "ename": "ValueError",
     "evalue": "invalid literal for int() with base 10: 'hello'",
     "output_type": "error",
     "traceback": [
      "\u001b[0;31m---------------------------------------------------------------------------\u001b[0m",
      "\u001b[0;31mValueError\u001b[0m                                Traceback (most recent call last)",
      "\u001b[1;32m/Users/xiang/Library/CloudStorage/OneDrive-UniversityofEdinburgh/UoE - 1 year/P1S1/MATH11199_Python Programming/pypr-notebooks-x14ng-lab/w03/week03.ipynb Cell 51\u001b[0m line \u001b[0;36m2\n\u001b[1;32m      <a href='vscode-notebook-cell:/Users/xiang/Library/CloudStorage/OneDrive-UniversityofEdinburgh/UoE%20-%201%20year/P1S1/MATH11199_Python%20Programming/pypr-notebooks-x14ng-lab/w03/week03.ipynb#X64sZmlsZQ%3D%3D?line=0'>1</a>\u001b[0m a \u001b[39m=\u001b[39m \u001b[39mint\u001b[39m(\u001b[39m'\u001b[39m\u001b[39m432\u001b[39m\u001b[39m'\u001b[39m)    \u001b[39m# all good\u001b[39;00m\n\u001b[0;32m----> <a href='vscode-notebook-cell:/Users/xiang/Library/CloudStorage/OneDrive-UniversityofEdinburgh/UoE%20-%201%20year/P1S1/MATH11199_Python%20Programming/pypr-notebooks-x14ng-lab/w03/week03.ipynb#X64sZmlsZQ%3D%3D?line=1'>2</a>\u001b[0m b \u001b[39m=\u001b[39m \u001b[39mint\u001b[39m(\u001b[39m'\u001b[39m\u001b[39mhello\u001b[39m\u001b[39m'\u001b[39m)\n",
      "\u001b[0;31mValueError\u001b[0m: invalid literal for int() with base 10: 'hello'"
     ]
    }
   ],
   "source": [
    "a = int('432')    # all good\n",
    "b = int('hello')  # ValueError"
   ]
  },
  {
   "cell_type": "markdown",
   "metadata": {},
   "source": [
    "---\n",
    "🚩 **Exercise**\n",
    "\n",
    "Try to come up with new code examples which trigger each of the above types of error."
   ]
  },
  {
   "cell_type": "code",
   "execution_count": null,
   "metadata": {},
   "outputs": [],
   "source": []
  },
  {
   "cell_type": "markdown",
   "metadata": {},
   "source": [
    "---\n",
    "### Testing\n",
    "\n",
    "When you write or review code, it's important to **test** it often and comprehensively. For instance, in the Coderunner quizzes, the tests are already there, and you write and correct your code until all the tests pass.\n",
    "\n",
    "It's important to test your code for **trivial cases**, for instance **small arrays** or **small numbers**, for which you already know what the result should be. Start off with something you know, and build from there: try trivial inputs and check that you get the correct output; then, try something slightly more complex; and keep iterating until you find the problem, or until you are sure that your code works as it should.\n",
    "\n",
    "A quick and easy way to test your code is to use `print()` commands, to instruct Python to show you some output or results at different stages.\n",
    "\n",
    "Here's an example: the function `find_divisors()` is supposed to find all the divisors of `n` in the list `nums`, but it doesn't work. The programmer or reviewer has done a couple of things:\n",
    "\n",
    "- For **testing**, they added two simple test examples where they know what the result should be, to quickly check the output of the function.\n",
    "- For **debugging**, since the test cases didn't work as expected, they added a few `print()` commands to figure out what is happening inside the function, at different steps."
   ]
  },
  {
   "cell_type": "code",
   "execution_count": null,
   "metadata": {},
   "outputs": [],
   "source": [
    "def find_divisors(nums, n):\n",
    "    '''\n",
    "    Returns a list of all divisors of n\n",
    "    present in the list nums.\n",
    "    '''\n",
    "    divisors = []\n",
    "    for i in nums:\n",
    "        \n",
    "        print(f'Current number being tested is {i}.')\n",
    "        print(f'Is {i} a divisor of {n}?')\n",
    "        \n",
    "        # Check if n/i is an integer\n",
    "        print(f'{n} / {i} = {n / i}')\n",
    "        \n",
    "        if isinstance(n / i, int):\n",
    "            print(f'Yes, adding {n} to the list\\n')\n",
    "            divisors.append(n)\n",
    "        else:\n",
    "            print('No\\n')\n",
    "    \n",
    "    return divisors\n",
    "\n",
    "# Test example: result should be [1, 1, 1, 1] (no matter the choice of n)\n",
    "divisors = find_divisors([1, 1, 1, 1], 97)\n",
    "print(f'Result: {divisors}\\n')\n",
    "\n",
    "# Test example: result should be [1, 2, 3, 4, 6]\n",
    "divisors = find_divisors([1, 2, 3, 4, 5, 6, 7, 8], 12)\n",
    "print(f'Result: {divisors}\\n')"
   ]
  },
  {
   "cell_type": "markdown",
   "metadata": {},
   "source": [
    "---\n",
    "🚩 **Exercise 6**\n",
    "\n",
    "Continue debugging the function `find_divisors()` in the cell above to find and solve the problems. After you find the problem and ensure the first test passes, make sure to write more tests to check that the function will work for any input.\n",
    "\n",
    "For example, what should the result be if `n` is a prime number? What about if `n` is smaller than all the numbers in the list?\n",
    "\n",
    "Once you've finished debugging and testing, you can remove all the helper `print()` statements and the tests. It's always a good idea to keep your code somewhere (you might find it useful later!), so don't delete it -- you could store it away somewhere, in another file, or just rewrite the cleaned-up function definition in another cell."
   ]
  },
  {
   "cell_type": "code",
   "execution_count": null,
   "metadata": {},
   "outputs": [],
   "source": [
    "def find_divisors(nums, n):\n",
    "    '''\n",
    "    Returns a list of all divisors of n\n",
    "    present in the list nums.\n",
    "    '''\n",
    "    divisors = []\n",
    "    for i in nums:\n",
    "        \n",
    "        print(f'Current number being tested is {i}.')\n",
    "        print(f'Is {i} a divisor of {n}?')\n",
    "        \n",
    "        # Check if n/i is an integer number, instead of an 'int' object\n",
    "        if n % i == 0:\n",
    "            print(f'Yes, adding {i} to the list (oops, not n!)\\n')\n",
    "            divisors.append(i)\n",
    "        else:\n",
    "            print('No\\n')\n",
    "    \n",
    "    return divisors\n",
    "\n",
    "# Test example: result should be [1, 1, 1, 1] (no matter the choice of n)\n",
    "divisors = find_divisors([1, 1, 1, 1], 97)\n",
    "print(f'Result: {divisors}\\n')\n",
    "\n",
    "# Test example: result should be [1, 2, 3, 4, 6]\n",
    "divisors = find_divisors([1, 2, 3, 4, 5, 6, 7, 8], 12)\n",
    "print(f'Result: {divisors}\\n')\n",
    "\n",
    "# Test example: result should be [] for any number n smaller than all the list elements\n",
    "divisors = find_divisors([10, 10, 10], 5)\n",
    "print(f'Result: {divisors}\\n')\n",
    "\n",
    "# Test example: result should be [] for any prime number n and any list not containing 1 or n\n",
    "divisors = find_divisors([2, 3, 4, 5, 6, 7, 8, 9, 10, 11, 12], 23)\n",
    "print(f'Result: {divisors}\\n')\n",
    "\n",
    "# Test example: result should be [1] for any prime number n and any list containing 1 but not n\n",
    "divisors = find_divisors([1, 2, 3, 4, 5, 6, 7, 8, 9, 10, 11, 12], 17)\n",
    "print(f'Result: {divisors}\\n')\n",
    "\n",
    "# Test example: result should be [1, n] for any prime number n and any list containing 1 and n\n",
    "divisors = find_divisors([1, 2, 3, 4, 5, 6, 7, 8, 9, 10, 11, 12], 11)\n",
    "print(f'Result: {divisors}\\n')"
   ]
  },
  {
   "cell_type": "code",
   "execution_count": 72,
   "metadata": {
    "tags": [
     "solution_cell"
    ]
   },
   "outputs": [
    {
     "data": {
      "application/vnd.jupyter.widget-view+json": {
       "model_id": "376eeccdb8ff43598bd60671b07a688f",
       "version_major": 2,
       "version_minor": 0
      },
      "text/plain": [
       "Accordion(children=(Output(layout=Layout(border_bottom='1px solid green', border_left='1px solid green', borde…"
      ]
     },
     "metadata": {},
     "output_type": "display_data"
    }
   ],
   "source": [
    "show('Exercise 6')"
   ]
  },
  {
   "cell_type": "markdown",
   "metadata": {},
   "source": [
    "---\n",
    "## Code review: the essentials\n",
    "\n",
    "Code review is an important part of the programming workflow, where one or more programmers review a piece of code written by someone else, give feedback to the author, and suggest improvements. The reviewers typically answer the following questions:\n",
    "\n",
    "- Is the code **easy to read** and to understand?\n",
    "- Are there any **bugs**? Does the code produce the intended result, without errors?\n",
    "- Could this code easily be **re-used** or adapted in other contexts?\n",
    "- Is the implementation **efficient**? Is there too much data stored in memory that we don't need? Is there another way to program this, which takes less time to compute?\n",
    "\n",
    "Of course, you should ask yourself these questions whenever you write code, even if it won't be peer-reviewed --- these are the keys to writing quality code.\n"
   ]
  },
  {
   "cell_type": "markdown",
   "metadata": {},
   "source": [
    "---\n",
    "### Code comments\n",
    "\n",
    "When writing code, it is *always* a good idea to annotate it with **comments** to explain what each step is doing. In Python, code comments start with a `#` character; anything on the same line after the `#` character is **ignored** by the Python interpreter.\n",
    "\n",
    "For example, here is a suitably commented piece of code:"
   ]
  },
  {
   "cell_type": "code",
   "execution_count": 75,
   "metadata": {},
   "outputs": [
    {
     "name": "stdout",
     "output_type": "stream",
     "text": [
      "True\n"
     ]
    }
   ],
   "source": [
    "# Create 2 integer variables a and b\n",
    "a = 4\n",
    "b = -8\n",
    "\n",
    "# Find out whether a divides b\n",
    "print(b % a == 0)"
   ]
  },
  {
   "cell_type": "markdown",
   "metadata": {},
   "source": [
    "Code comments are **essential**, not only if other people read your code (to help them understand what you are doing), but also for yourself! When coming back to a piece of code, even after just a few days, it can be surprisingly difficult to remember what you were doing by just reading the code -- having comments annotating your script is immensely helpful.\n",
    "\n",
    "From now on, all your work for this course (and beyond!) must be sufficiently commented. This means that any step in your code that is not trivial should be **explained** (not simply *described!*) by a brief code comment.\n",
    "\n",
    "---\n",
    "**Note:** while writing a *draft* piece of code and trying different approaches, instead of deleting obsolete or unneeded code, you can simply comment it out. This is an quick-and-easy way to ensure that you don't permanently delete working code by accident, and to keep incomplete or buggy code snippets around for later use.\n",
    "\n",
    "In Jupyter notebooks and VSCode, select any code you'd like to comment out (or uncomment), and press <kbd>Ctrl</kbd>+<kbd>/</kbd> or <kbd>Cmd</kbd>+<kbd>/</kbd> to toggle code comments.\n",
    "\n",
    "---\n",
    "🚩 **Exercise 7**\n",
    "\n",
    "Are these code comments useful for you to understand how the code works? If not, what is the problem with them, and how would you change them?"
   ]
  },
  {
   "cell_type": "code",
   "execution_count": 76,
   "metadata": {},
   "outputs": [
    {
     "name": "stdout",
     "output_type": "stream",
     "text": [
      "[1, 1, 2, 3, 5, 8]\n"
     ]
    }
   ],
   "source": [
    "def fibonacci(n):\n",
    "    '''\n",
    "    Returns the Fibonacci sequence up to xn,\n",
    "    starting with x0 = 1, x1 = 1, as a list.\n",
    "    '''\n",
    "    # Set x as [1, 1]\n",
    "    x = [1, 1]\n",
    "    \n",
    "    # Loop over a range from 0 to n-2\n",
    "    for i in range(n-1):\n",
    "        # Append x[i] + x[i+1] to the list x\n",
    "        x.append(x[i] + x[i+1])\n",
    "    \n",
    "    # Return x\n",
    "    return x\n",
    "\n",
    "# Display fibonacci(5)\n",
    "print(fibonacci(5))"
   ]
  },
  {
   "cell_type": "code",
   "execution_count": 77,
   "metadata": {
    "tags": [
     "solution_cell"
    ]
   },
   "outputs": [
    {
     "data": {
      "application/vnd.jupyter.widget-view+json": {
       "model_id": "2d7a3448e33a40ef85a4c76f68752519",
       "version_major": 2,
       "version_minor": 0
      },
      "text/plain": [
       "Accordion(children=(Output(layout=Layout(border_bottom='1px solid green', border_left='1px solid green', borde…"
      ]
     },
     "metadata": {},
     "output_type": "display_data"
    }
   ],
   "source": [
    "show('Exercise 7')"
   ]
  },
  {
   "cell_type": "markdown",
   "metadata": {},
   "source": [
    "---\n",
    "### Code style\n",
    "\n",
    "Generally, the structure, variable name, and commenting choices are referred to as the **style** of your code. Style is important for code readability, and for consistency when working as part of a team. You may wish to take a look at different style guides, such as e.g. [the official guide for Python developers](https://www.python.org/dev/peps/pep-0008).\n",
    "\n",
    "For the purpose of this course, don't worry too much about following these guidelines too strictly. The important points to take away is that your code should aim to be **easily readable**, and **consistently styled**.\n"
   ]
  },
  {
   "cell_type": "markdown",
   "metadata": {},
   "source": [
    "#### Whitespace\n",
    "\n",
    "One particular practice which is relatively easy to adopt, and makes a big difference in readability, is featured in the [Whitespace in Expressions and Statements](https://www.python.org/dev/peps/pep-0008/#whitespace-in-expressions-and-statements) section of PEP-8. To summarise it:"
   ]
  },
  {
   "cell_type": "code",
   "execution_count": null,
   "metadata": {},
   "outputs": [],
   "source": [
    "import numpy as np\n",
    "\n",
    "#Some not very easily readable code...\n",
    "a=(np.sqrt(5))\n",
    "a +=2 *np.exp(4*np.pi)-np.sin (a**2)\n",
    "s='I am a string!'\n",
    "print(s[ 3 ])\n",
    "\n",
    "\n",
    "# A little better...\n",
    "a = np.sqrt(5)\n",
    "a += 2 * np.cos(4 * np.pi**2) - np.sin(a**2)\n",
    "\n",
    "s = 'I am a string!'\n",
    "print(s[3])"
   ]
  },
  {
   "cell_type": "markdown",
   "metadata": {},
   "source": [
    "#### Naming conventions\n",
    "\n",
    "When writing small, simple code snippets (like many of the examples you have seen so far in these worksheets), using single-letter variable or function names is usually OK. However, for more complex code, it is usually a better idea to name your variables in a way that keeps your code easily understandable.\n",
    "\n",
    "Take a look at the PEP-8 section on [variable names](https://www.python.org/dev/peps/pep-0008/#descriptive-naming-styles).\n",
    "\n",
    "---\n",
    "🚩 **Exercise 8**\n",
    "\n",
    "The following code finds the roots of the quadratic polynomial $p(x) = ax^2 + bx + c$. However, the author wrote it in a hurry. What can you do to improve it?"
   ]
  },
  {
   "cell_type": "code",
   "execution_count": 80,
   "metadata": {},
   "outputs": [
    {
     "data": {
      "text/plain": [
       "0.0"
      ]
     },
     "execution_count": 80,
     "metadata": {},
     "output_type": "execute_result"
    }
   ],
   "source": [
    "a=2\n",
    "b=.5\n",
    "c=- 9\n",
    "\n",
    "import numpy\n",
    "x1=(-b-numpy.sqrt(b**2 -4*a*c)) / (2*a)\n",
    "x2=(-b+numpy.sqrt(b**2 -4*a*c)) / (2*a)\n",
    "a*x1**2+b*x1+c"
   ]
  },
  {
   "cell_type": "code",
   "execution_count": 79,
   "metadata": {},
   "outputs": [
    {
     "name": "stdout",
     "output_type": "stream",
     "text": [
      "First root: x1 = -2.25\n",
      "Second root: x2 = 2.0\n",
      "Is x1 correct? True\n",
      "Is x2 correct? True\n"
     ]
    }
   ],
   "source": [
    "import numpy as np\n",
    "\n",
    "# Set polynomial coefficient values\n",
    "a = 2\n",
    "b = .5\n",
    "c = -9\n",
    "\n",
    "# Compute square root of discriminant\n",
    "sqrt_delta = np.sqrt(b**2 - 4*a*c)\n",
    "\n",
    "# Compute the roots\n",
    "x1 = (-b - sqrt_delta) / (2*a)\n",
    "x2 = (-b + sqrt_delta) / (2*a)\n",
    "\n",
    "# Display the roots\n",
    "print('First root: x1 =', x1)\n",
    "print('Second root: x2 =', x2)\n",
    "\n",
    "# Check the results\n",
    "print('Is x1 correct?', a*x1**2 + b*x1 + c == 0)\n",
    "print('Is x2 correct?', a*x2**2 + b*x2 + c == 0)\n"
   ]
  },
  {
   "cell_type": "code",
   "execution_count": 78,
   "metadata": {
    "tags": [
     "solution_cell"
    ]
   },
   "outputs": [
    {
     "data": {
      "application/vnd.jupyter.widget-view+json": {
       "model_id": "32875abc92174888add3f60320417723",
       "version_major": 2,
       "version_minor": 0
      },
      "text/plain": [
       "Accordion(children=(Output(layout=Layout(border_bottom='1px solid green', border_left='1px solid green', borde…"
      ]
     },
     "metadata": {},
     "output_type": "display_data"
    }
   ],
   "source": [
    "show('Exercise 8')"
   ]
  },
  {
   "cell_type": "markdown",
   "metadata": {},
   "source": [
    "---\n",
    "## Standard input\n",
    "\n",
    "Sometimes, it's useful to ask a user to enter some input interactively. We do this with the `input()` function -- you have seen examples of this in the Quiz Q1 questions.\n",
    "\n",
    "`input()` takes a string as an argument, which will be displayed as a prompt. The user will be prompted to type a value and press Enter -- this value will be returned as a `str` by `input()`."
   ]
  },
  {
   "cell_type": "code",
   "execution_count": 81,
   "metadata": {},
   "outputs": [
    {
     "name": "stdout",
     "output_type": "stream",
     "text": [
      "1234\n",
      "<class 'str'>\n"
     ]
    }
   ],
   "source": [
    "# Ask user to enter a number, assign it to a variable\n",
    "your_number = input('Please enter a number and press Enter: ')\n",
    "print(your_number)\n",
    "print(type(your_number))"
   ]
  },
  {
   "cell_type": "markdown",
   "metadata": {},
   "source": [
    "If you are asking for numeric data, then you will need to *cast* the returned value to `int` or `float`."
   ]
  },
  {
   "cell_type": "code",
   "execution_count": 82,
   "metadata": {},
   "outputs": [
    {
     "name": "stdout",
     "output_type": "stream",
     "text": [
      "1234.0 divided by 3 is 411.3333333333333.\n"
     ]
    }
   ],
   "source": [
    "your_number = float(input('Please enter a number and press Enter: '))\n",
    "print(f'{your_number} divided by 3 is {your_number / 3}.')"
   ]
  },
  {
   "cell_type": "markdown",
   "metadata": {},
   "source": [
    "---\n",
    "🚩 **Exercise 9**\n",
    "\n",
    "The following code generates a random integer `target` between 1 and 100. You will code a number-guessing game: ask the user for an initial guess, and tell them if it's too big, too small, or if they've guessed correctly. **Keep asking them to guess again** as long as they haven't found the number.\n",
    "\n",
    "*Hint:* you will need a `while` loop."
   ]
  },
  {
   "cell_type": "code",
   "execution_count": 85,
   "metadata": {},
   "outputs": [
    {
     "name": "stdout",
     "output_type": "stream",
     "text": [
      "Congratulations! Your guess 52 is correct.\n"
     ]
    }
   ],
   "source": [
    "import numpy as np\n",
    "\n",
    "rng = np.random.default_rng()\n",
    "target = rng.integers(1, 101)\n",
    "\n",
    "# Take a first guess\n",
    "user_guess = int(input('Please guess a number and press Enter: '))\n",
    "\n",
    "# Continue guessing until the user find the answer\n",
    "while True:\n",
    "    if user_guess < target:\n",
    "        user_guess = int(input('Your guess is too small, please try again: '))\n",
    "    elif user_guess > target:\n",
    "        user_guess = int(input('Your guess is too big, please try again: '))\n",
    "    else:\n",
    "        # Found the number -- break the loop\n",
    "        print(f'Congratulations! Your guess {target} is correct.')\n",
    "        break\n"
   ]
  },
  {
   "cell_type": "code",
   "execution_count": 84,
   "metadata": {
    "tags": [
     "solution_cell"
    ]
   },
   "outputs": [
    {
     "data": {
      "application/vnd.jupyter.widget-view+json": {
       "model_id": "a9a58b84e949411784629e938e8cb7d2",
       "version_major": 2,
       "version_minor": 0
      },
      "text/plain": [
       "Accordion(children=(Output(layout=Layout(border_bottom='1px solid green', border_left='1px solid green', borde…"
      ]
     },
     "metadata": {},
     "output_type": "display_data"
    }
   ],
   "source": [
    "show('Exercise 9')"
   ]
  }
 ],
 "metadata": {
  "kernelspec": {
   "display_name": "Python 3 (ipykernel)",
   "language": "python",
   "name": "python3"
  },
  "language_info": {
   "codemirror_mode": {
    "name": "ipython",
    "version": 3
   },
   "file_extension": ".py",
   "mimetype": "text/x-python",
   "name": "python",
   "nbconvert_exporter": "python",
   "pygments_lexer": "ipython3",
   "version": "3.11.5"
  }
 },
 "nbformat": 4,
 "nbformat_minor": 4
}
