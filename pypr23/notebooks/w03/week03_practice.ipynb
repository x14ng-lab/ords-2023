{
 "cells": [
  {
   "cell_type": "markdown",
   "metadata": {},
   "source": [
    "### Question 1 - variables and types\n",
    "This is a warm up question about variables and types from earlier weeks material. Don't worry trickier question are awaiting you in this quiz!\n",
    "\n",
    "\n",
    "\n",
    "Define s1 = '4', s2 = '2', f1 = 4.0, f2 = 2.0, i1 = 4, i2 = 2. \n",
    "\n",
    "The s variables should have type string, f variables are type float, and i type integer.\n",
    "\n",
    "Perform the following operations on these values:\n",
    "\n",
    "(i) s1 + s2, (ii) i1*s1, (iii) i2/i1, (iv) f1/f2, (v) f1/i2, (vi) (f1 + i2)/i2, (vii) s1/f2\n",
    "\n",
    "For each of the operations, think about why each answer is as it is.\n",
    "\n",
    "Print out the values you received for each operation, followed by the variable type.\n",
    "\n",
    "i.e. 'float', 'string', or 'integer'.\n",
    "\n",
    "If an operation produces an error, print out 'error'. \n",
    "\n",
    "For example,\n",
    "\n",
    " * (i) # string\n",
    " * (ii) error\n",
    " * (iii) ...."
   ]
  },
  {
   "cell_type": "code",
   "execution_count": null,
   "metadata": {},
   "outputs": [],
   "source": [
    "s1 = '4'\n",
    "s2 = '2'\n",
    "f1 = 4.0\n",
    "f2 = 2.0\n",
    "i1 = 4\n",
    "i2 = 2\n",
    "\n",
    "# Add your code below...\n",
    "print('(i)', s1 + s2, 'string')\n",
    "print('(ii)', i1*s1, 'string')\n",
    "print('(iii)', i2/i1, 'float')\n",
    "print('(iv)', f1/f2, 'float')\n",
    "print('(v)', f1/i2, 'float')\n",
    "print('(vi)', (f1 + i2)/i2, 'float')\n",
    "print('(vii)', 'error')"
   ]
  },
  {
   "cell_type": "markdown",
   "metadata": {},
   "source": [
    "### Question 2 - sort_names()\n",
    "Write a function which uses the \"input()\" function (documentation) to ask the user to input two names and prints the name that comes first alphabetically.\n",
    "\n",
    "Ask the user to input the names with two separate input prompts as follows:\n",
    "\n",
    "Please enter the first name:\n",
    "\n",
    "Please enter the second name: \n",
    "\n",
    "Then your function should print the following:\n",
    "\n",
    "The name that comes first alphabetically is: \n",
    "\n",
    "followed by the name that comes first alphabetically, as in the example below -- note that each statement is followed by a **single space character.**\n",
    "\n",
    "*(Hint: The function sorted() may be useful.)*"
   ]
  },
  {
   "cell_type": "code",
   "execution_count": 65,
   "metadata": {},
   "outputs": [],
   "source": [
    "def sort_names():\n",
    "    '''\n",
    "    This is a function that asks the user to input two names, puts them into a list\n",
    "    in order to sort them, and then prints out which name comes first alphabetically.\n",
    "    '''\n",
    "    # Ask the user to input the two names\n",
    "    first_name = input(\"Please enter the first name: \")\n",
    "    second_name = input(\"Please enter the second name: \")\n",
    "\n",
    "    # Create a list that contains these two names\n",
    "    name_list = [first_name, second_name]\n",
    "\n",
    "    # Sort the list alphabetically using sorted(iterable, key=key, reverse=reverse)\n",
    "    sorted_names = sorted(name_list, key=str.lower)\n",
    "\n",
    "    # Print the result\n",
    "    print(f\"The name that comes first alphabetically is: {sorted_names[0]}\")\n"
   ]
  },
  {
   "cell_type": "code",
   "execution_count": 12,
   "metadata": {},
   "outputs": [
    {
     "name": "stdout",
     "output_type": "stream",
     "text": [
      "['a', 'b', 'c', 'd', 'e', 'f', 'g', 'h']\n"
     ]
    }
   ],
   "source": [
    "a = (\"b\", \"g\", \"a\", \"d\", \"f\", \"c\", \"h\", \"e\")\n",
    "x = sorted(a)\n",
    "print(x)"
   ]
  },
  {
   "cell_type": "markdown",
   "metadata": {},
   "source": [
    "### Question 3 - Function composition\n",
    "Consider the functions\n",
    "\n",
    "$ f(x) = x^2 + 3x + 3 $\n",
    "\n",
    "$ g(x) = sin(x) + \\frac{2(x - 2)}{x + 1} $\n",
    "\n",
    "$ h(x) = sinh(x+1) - e^{2x} $\n",
    "\n",
    "\n",
    "Write python functions that take $x$ as an argument to represent each of these functions. \n",
    "\n",
    "(You can use functions **math.sin**, **math.sinh** and **math.exp** from the math module for this problem)\n",
    "\n",
    "Then write another function that takes two functions and a value of $x$ as its arguments, and returns the composition of the functions operating on the value of $x$.\n",
    "\n",
    "$ (e.g. f(g(x)) = f \\circ g(x)) $\n",
    "\n",
    "\n",
    "Finally, write code to test your functions for the following cases and display the results:\n",
    "\n",
    "$ (i) g \\circ f(5.0) $\n",
    "\n",
    "$ (ii) g \\circ h(5.0) $\n",
    "\n",
    "$ (iii) f \\circ g(2.1) $\n",
    "\n",
    "$ (iv) h \\circ (g \\circ f) (2\\pi) $\n",
    "\n",
    "\n",
    "Print your results using the statements provided in the answer box.\n",
    "\n",
    "Display the values rounded to 6 decimal places."
   ]
  },
  {
   "cell_type": "code",
   "execution_count": null,
   "metadata": {},
   "outputs": [],
   "source": [
    "import math\n",
    "\n",
    "# Create a function for f(x)\n",
    "def f(x):\n",
    "    return x**2 + 3*x + 3\n",
    "    \n",
    "# Create a function for g(x)\n",
    "def g(x):\n",
    "    return math.sin(x) + 2 * (x - 2) / (x + 1)\n",
    "    \n",
    "# Create a function for h(x)\n",
    "def h(x):\n",
    "    return math.sinh(x + 1) - math.exp(2*x)\n",
    "    \n",
    "# Create a function for the composition of two functions at a certain value\n",
    "def composition(outer_function, inner_function, value):\n",
    "    return outer_function(inner_function(value))\n",
    "    \n",
    "# Insert the values you found for the compositions into the following statements:\n",
    "print(f\"The composition of functions g(f(x)) when x = 5.0 equals {composition(g, f, 5.0):.6f}.\")\n",
    "print(f\"The composition of functions g(h(x)) when x = 5.0 equals {composition(g, h, 5.0):.6f}.\")\n",
    "print(f\"The composition of functions f(g(x)) when x = 2.1 equals {composition(f, g, 2.1):.6f}.\")\n",
    "print(f\"The composition of functions h(g(f(x))) when x = 2pi equals {composition(h, g, f(2 * math.pi)):.6f}.\")"
   ]
  },
  {
   "cell_type": "markdown",
   "metadata": {},
   "source": [
    "### Question 4 - last_two()\n",
    "Write a function last_two(x) which takes a string x as an argument and returns the last two characters of the string. If the string does not have at least two characters, then your method should return the keyword None instead.\n",
    "\n",
    "Eg. if the string is 'xyz', your function should return 'yz'"
   ]
  },
  {
   "cell_type": "code",
   "execution_count": 36,
   "metadata": {},
   "outputs": [
    {
     "name": "stdout",
     "output_type": "stream",
     "text": [
      "yz\n"
     ]
    }
   ],
   "source": [
    "def last_two(x):\n",
    "    '''\n",
    "    Returns the last two characters of a given string.\n",
    "    '''\n",
    "    # Check if the string has more than two characters\n",
    "    if len(x) >= 2:\n",
    "\n",
    "        # Return the last two characters of the string\n",
    "        return x[-2::]\n",
    "    \n",
    "    # Return the keyword None if there is less than two characters\n",
    "    else:\n",
    "        return None\n",
    "\n",
    "print(last_two('xyz'))"
   ]
  },
  {
   "cell_type": "markdown",
   "metadata": {},
   "source": [
    "### Question 5 - Taylor Polynomial\n",
    "The Taylor Polynomial $P_{N}(x)$ for $f(x) = ln(x)$ expanded about $x_{0} = 1$ is:\n",
    "\n",
    "$$\n",
    "P_{N}(x) = \\sum_{i=1}^{N} \\frac{(-1)^{i+1}(x-1)^{i}}{i}\n",
    "$$\n",
    "\n",
    "Create a function \"taylor_ln(N, x)\" that takes 2 input arguments, a positive integer \"N\" to represent the value of $N$ and a positive floating point number \"x\" to represent the value of $x$, and calculates the value of $P_{N}(x)$.\n",
    "\n",
    "Your function should also calculate the error, such that $error = |ln(x) - P_{N}(x)|$.\n",
    "\n",
    "*(use math.log() for natural logarithm)*\n",
    "\n",
    "Your function should print the following statement:\n",
    "\n",
    "For N = ___, the Taylor polynomial equals ___ with an error of ___.\n",
    "\n",
    "Then, create a second function \"taylor_polynomial(x)\" which uses a for loop and calls your previous function \"taylor_ln()\" to print out the values of $P_{N}(x)$ for N in [2,4,6,8,10,12,14,16,18,20].\n",
    "\n",
    "Your values for the Taylor polynomial and the error should be displayed with 7 significant figures. (Hint: you can use the \"g\" option in an f-string (documentation, see also Tuesday week 2 session) to do this.)"
   ]
  },
  {
   "cell_type": "code",
   "execution_count": null,
   "metadata": {},
   "outputs": [],
   "source": [
    "import math\n",
    "\n",
    "def taylor_ln(N, x):\n",
    "    # Initialise the value of the Taylor Polynomial\n",
    "    Taylor_value = 0\n",
    "\n",
    "    # Calculate the sum of the Taylor Polynomial from i=1 to i=N at x\n",
    "    for i in range(1, N+1):\n",
    "        Taylor_value += (-1)**(i+1) * (x-1)**i / i\n",
    "\n",
    "    # Calculate the approximation error\n",
    "    error = abs(math.log(x) - Taylor_value)\n",
    "\n",
    "    # Print a sentence with the N value, the Taylor Polynomial value, and the amount of error\n",
    "    print(f'For N = {N}, the Taylor polynomial equals {Taylor_value:.7g} with an error of {error:.7g}.')\n",
    "\n",
    "def taylor_polynomial(x):\n",
    "    # # Initialise the list to loop over\n",
    "    # list_0 = [2, 4, 6, 8, 10, 12, 14, 16, 18, 20]\n",
    "\n",
    "    # # Loop over the values in the list to calculate the Taylor Polynomial using taylor_ln(N, x)\n",
    "    # for j in range(len(list_0)):\n",
    "    #     taylor_ln(list_0[j], x)\n",
    "\n",
    "    # A for loop to calculate the Taylor Polynomial for each N\n",
    "    for N in range(2, 21, 2):\n",
    "        # Using the function for an N and x\n",
    "        taylor_ln(N, x)\n",
    "\n",
    "taylor_polynomial(1.5)\n"
   ]
  },
  {
   "cell_type": "markdown",
   "metadata": {},
   "source": [
    "### Question 6 - factor_list(n)\n",
    "Write a function \"factor_list(n)\" that **returns a list** of all factors of a given number \"n\". If \"n\" is a prime number, return an empty list.\n",
    "\n",
    "*Hint: For a given number n, try all numbers between 2 and n/2. (Think about the range for a for loop that you would need in order to include n/2). Use the remainder (%) operator.*"
   ]
  },
  {
   "cell_type": "code",
   "execution_count": null,
   "metadata": {},
   "outputs": [],
   "source": [
    "def factor_list(n):\n",
    "    # Create an empty list to store all factors of n\n",
    "    factors = []\n",
    "\n",
    "    # Check if every number between 2 and n/2 is a factor\n",
    "    for i in range(2, int(n/2)+1):\n",
    "        # If n divided by i has a remainder of 0, then i is a factor\n",
    "        if n % i == 0:\n",
    "            # Adding the value of i to the list factors\n",
    "            factors.append(i)\n",
    "    \n",
    "    # Print out the list of factors\n",
    "    return factors\n",
    "\n",
    "print(factor_list(16))\n",
    "print(factor_list(555))"
   ]
  },
  {
   "cell_type": "markdown",
   "metadata": {},
   "source": [
    "### Question 7 - seasons(day, month)\n",
    "Write a function \"seasons(day, month)\" that takes 2 input integer arguments representing day and month, and displays the season that this date belongs to.\n",
    "\n",
    "Let's assume that: \n",
    "\n",
    "- Spring starts on March 21st\n",
    "\n",
    "- Summer starts on June 21st\n",
    "\n",
    "- Autumn starts on September 21st\n",
    "\n",
    "- Winter starts on December 21st\n",
    "\n",
    "Display the sentence\n",
    "\n",
    "The (day) of (month) is in the (season)."
   ]
  },
  {
   "cell_type": "code",
   "execution_count": 64,
   "metadata": {},
   "outputs": [
    {
     "name": "stdout",
     "output_type": "stream",
     "text": [
      "The 23 of March is in the Spring.\n"
     ]
    }
   ],
   "source": [
    "def seasons(day, month):\n",
    "    # Create a list containing all the months\n",
    "    months = ['January', 'February', 'March', 'April', 'May', 'June', 'July', 'August', 'September', 'October', 'November', 'December']\n",
    "\n",
    "    if month == 3 and day >= 21:\n",
    "        print(f'The {day} of {months[month-1]} is in the Spring.')\n",
    "    elif month == 4 or month == 5:\n",
    "        print(f'The {day} of {months[month-1]} is in the Spring.')\n",
    "    elif month == 6 and day <= 20:\n",
    "        print(f'The {day} of {months[month-1]} is in the Spring.')\n",
    "    elif month == 6 and day >= 21:\n",
    "        print(f'The {day} of {months[month-1]} is in the Summer.')\n",
    "    elif month == 7 or month == 8:\n",
    "        print(f'The {day} of {months[month-1]} is in the Summer.')\n",
    "    elif month == 9 and day <= 20:\n",
    "        print(f'The {day} of {months[month-1]} is in the Summer.')\n",
    "    elif month == 9 and day >= 21:\n",
    "        print(f'The {day} of {months[month-1]} is in the Autumn.')\n",
    "    elif month == 10 or month == 11:\n",
    "        print(f'The {day} of {months[month-1]} is in the Autumn.')\n",
    "    elif month == 12 and day <= 20:\n",
    "        print(f'The {day} of {months[month-1]} is in the Autumn.')\n",
    "    elif month == 12 and day >= 21:\n",
    "        print(f'The {day} of {months[month-1]} is in the Winter.')\n",
    "    elif month == 1 or month == 2:\n",
    "        print(f'The {day} of {months[month-1]} is in the Winter.')\n",
    "    elif month == 3 and day <= 20:\n",
    "        print(f'The {day} of {months[month-1]} is in the Winter.')\n",
    "\n",
    "seasons(23, 3)\n",
    "\n"
   ]
  },
  {
   "cell_type": "code",
   "execution_count": null,
   "metadata": {},
   "outputs": [],
   "source": [
    "def seasons(day, month):\n",
    "    # Create a list of months and seasons to display\n",
    "    month_strings = ['January', 'February', 'March', 'April', 'May', 'June', 'July', 'August', 'September', 'October', 'November', 'December']\n",
    "    season_strings = ['Winter', 'Spring', 'Summer', 'Autumn']\n",
    "    \n",
    "    # Unambiguous months\n",
    "    if month in [1, 2]:\n",
    "        season = 0\n",
    "    elif month in [4, 5]:\n",
    "        season = 1\n",
    "    elif month in [7, 8]:\n",
    "        season = 2\n",
    "    elif month in [10, 11]:\n",
    "        season = 3\n",
    "    \n",
    "    # Before or after 21st\n",
    "    if month == 3:\n",
    "        if day < 21:\n",
    "            season = 0\n",
    "        else:\n",
    "            season = 1\n",
    "    elif month == 6:\n",
    "        if day < 21:\n",
    "            season = 1\n",
    "        else:\n",
    "            season = 2\n",
    "    elif month == 9:\n",
    "        if day < 21:\n",
    "            season = 2\n",
    "        else:\n",
    "            season = 3\n",
    "    elif month == 12:\n",
    "        if day < 21:\n",
    "            season = 3\n",
    "        else:\n",
    "            season = 0\n",
    "    \n",
    "    # Display the result\n",
    "    print(f'The {day} of {month_strings[month-1]} is in the {season_strings[season]}.')"
   ]
  }
 ],
 "metadata": {
  "kernelspec": {
   "display_name": "base",
   "language": "python",
   "name": "python3"
  },
  "language_info": {
   "codemirror_mode": {
    "name": "ipython",
    "version": 3
   },
   "file_extension": ".py",
   "mimetype": "text/x-python",
   "name": "python",
   "nbconvert_exporter": "python",
   "pygments_lexer": "ipython3",
   "version": "3.11.5"
  }
 },
 "nbformat": 4,
 "nbformat_minor": 2
}
