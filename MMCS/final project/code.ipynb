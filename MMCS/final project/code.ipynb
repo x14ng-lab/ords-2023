{
 "cells": [
  {
   "cell_type": "markdown",
   "metadata": {},
   "source": [
    "## Notice\n",
    "- remove paid in transactions.\n",
    "- "
   ]
  },
  {
   "cell_type": "markdown",
   "metadata": {},
   "source": [
    "## Thoughts\n",
    "\n",
    "#### For each transaction, our optimization model should decide whether to investigate it or not.\n",
    "\n",
    "Define:\n",
    "- I: set of transaction i.\n",
    "- i: the i_th transaction in today.\n",
    "- X(i) = 1 if we decide to investigate; otherwise 0. \n",
    "\n",
    "#### Transactions between two banks can be investigated by both bank. Each bank have different investigation team size.\n",
    "\n",
    "Define:\n",
    "- banks: A B C D E I.\n",
    "- inve_team_size(b): investigation team size of bank b.\n",
    "- bank_to(i): the bank transaction(i) comes to.\n",
    "- bank_from(i): the bank transaction(i) comes from.\n",
    "\n",
    "#### Calculate the total investigation costs.\n",
    "\n",
    "Define:\n",
    "- priorities: 1 2 3 4\n",
    "- priority(i): priority of transaction i.\n",
    "- inve_time(p): investigation time of priority p.\n",
    "- ex_inve_cost(p): external investigator hire cost of priority p.\n",
    "- ex_inve(b): number of external investigators hired for bank b.\n",
    "- time_cost(b, i): time spend on investigating transaction i for bank b. \n",
    "\n",
    "1. Time spend on investigating transaction i should less than the time spend on transaction i for two banks.\n",
    "- sum(i in I) inve_time(X(i)*priority(i)) <= time_cost(bank_to, i) + time_cost(bank_from, i)"
   ]
  }
 ],
 "metadata": {
  "language_info": {
   "name": "python"
  }
 },
 "nbformat": 4,
 "nbformat_minor": 2
}
