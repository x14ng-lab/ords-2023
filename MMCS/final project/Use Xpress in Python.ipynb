{
 "cells": [
  {
   "cell_type": "markdown",
   "id": "faac84fc",
   "metadata": {},
   "source": [
    "# Using Xpress in python"
   ]
  },
  {
   "cell_type": "markdown",
   "id": "f40ecce6",
   "metadata": {},
   "source": [
    "Before we can start using the Xpress package that we have just installed we will need to begin by importing it."
   ]
  },
  {
   "cell_type": "code",
   "execution_count": 1,
   "id": "6778364c",
   "metadata": {},
   "outputs": [],
   "source": [
    "import xpress as xp\n",
    "import pandas as pd\n",
    "import numpy as np"
   ]
  },
  {
   "cell_type": "markdown",
   "id": "d2a69b7c",
   "metadata": {},
   "source": [
    "Lets begin by writing some code to solve the simple linear programming problem\n",
    "\n",
    "min $z = x +y$\n",
    "\n",
    "s.t. \n",
    "\n",
    "$2x + y \\ge 1$,\n",
    "\n",
    "$x +2y \\ge 1$,\n",
    "     \n",
    "$ -1 \\ge y \\le 1$.\n",
    "\n",
    "The first thing we need to do is create a problem. "
   ]
  },
  {
   "cell_type": "code",
   "execution_count": 2,
   "id": "29f78a81",
   "metadata": {},
   "outputs": [
    {
     "name": "stdout",
     "output_type": "stream",
     "text": [
      "Using the Community license in this session. If you have a full Xpress license, pass the full path to your license file to xpress.init(). If you want to use the FICO Community license and no longer want to see this message, use the following code before using the xpress module:\n",
      "  xpress.init('/home/codespace/.python/current/lib/python3.10/site-packages/xpress/license/community-xpauth.xpr')\n"
     ]
    }
   ],
   "source": [
    "# Create a problem called myproblem\n",
    "\n",
    "prob = xp.problem(name='myproblem')"
   ]
  },
  {
   "cell_type": "markdown",
   "id": "bbe387d6",
   "metadata": {},
   "source": [
    "We are now ready to define our variables using the xp.var function:\n",
    "\n",
    "`var(name, lb, ub, threshold, vartype)`\n",
    " \n",
    "The `name`, `lb` and `up` arguments are self explanatory. The `threshold` argument is the threshold for semi-continuous, semi-integer, and partially integer variables and the `vartype` argument is used to set the variable type (`continuous`, `binary`, `integer` ect.).\n",
    "\n",
    "Once the variables are defined we will add them to our problem."
   ]
  },
  {
   "cell_type": "code",
   "execution_count": 3,
   "id": "0a0582ec",
   "metadata": {},
   "outputs": [],
   "source": [
    "# Create the x and y variables\n",
    "x = xp.var('x')\n",
    "y = xp.var('y',lb=-1, ub=1)\n",
    "\n",
    "# Add the variables to the problem\n",
    "\n",
    "prob.addVariable(x,y)"
   ]
  },
  {
   "cell_type": "markdown",
   "id": "1c881cab",
   "metadata": {},
   "source": [
    "We can now begin to add our constraints. To do this we will use the xp.constraints function:"
   ]
  },
  {
   "cell_type": "code",
   "execution_count": 4,
   "id": "be05e982",
   "metadata": {},
   "outputs": [],
   "source": [
    "prob.addConstraint(2*x + y >= 1)\n",
    "prob.addConstraint(x + 2*y >= 1)"
   ]
  },
  {
   "cell_type": "markdown",
   "id": "8ad053ad",
   "metadata": {},
   "source": [
    "We can now define our objective function using the `xp.setObjective()` function:\n",
    "\n",
    "`setObjective(objective, sense)`\n",
    "\n",
    "The `objective` is the expression defining the new objective and `sense` is either `xp.minimize` or `xp.maximize`(note that it must be American spelling)."
   ]
  },
  {
   "cell_type": "code",
   "execution_count": 5,
   "id": "e1514978",
   "metadata": {},
   "outputs": [],
   "source": [
    "prob.setObjective(x + y, sense = xp.minimize)"
   ]
  },
  {
   "cell_type": "markdown",
   "id": "f1254b78",
   "metadata": {},
   "source": [
    "We can now solve the problem!"
   ]
  },
  {
   "cell_type": "code",
   "execution_count": 6,
   "id": "0b2405a4",
   "metadata": {},
   "outputs": [
    {
     "name": "stdout",
     "output_type": "stream",
     "text": [
      "FICO Xpress v9.2.5, Community, solve started 22:09:42, Nov 22, 2023\n",
      "Heap usage: 388KB (peak 388KB, 103KB system)\n",
      "Minimizing LP myproblem using up to 2 threads and up to 7929MB memory, with these control settings:\n",
      "OUTPUTLOG = 1\n",
      "Original problem has:\n",
      "         2 rows            2 cols            4 elements\n",
      "Presolved problem has:\n",
      "         2 rows            2 cols            4 elements\n",
      "Presolve finished in 0 seconds\n",
      "Heap usage: 388KB (peak 403KB, 103KB system)\n",
      "\n",
      "Coefficient range                    original                 solved        \n",
      "  Coefficients   [min,max] : [ 1.00e+00,  2.00e+00] / [ 5.00e-01,  1.00e+00]\n",
      "  RHS and bounds [min,max] : [ 1.00e+00,  1.00e+00] / [ 5.00e-01,  1.00e+00]\n",
      "  Objective      [min,max] : [ 1.00e+00,  1.00e+00] / [ 1.00e+00,  1.00e+00]\n",
      "Autoscaling applied standard scaling\n",
      "\n",
      " \n",
      "   Its         Obj Value      S   Ninf  Nneg   Sum Dual Inf  Time\n",
      "     0         -1.000000      D      2     0        .000000     0\n",
      "     2           .666667      D      0     0        .000000     0\n",
      "Uncrunching matrix\n",
      "Optimal solution found\n",
      "Dual solved problem\n",
      "  2 simplex iterations in 0.00 seconds at time 0\n",
      "\n",
      "Final objective                       : 6.666666666666667e-01\n",
      "  Max primal violation      (abs/rel) :       0.0 /       0.0\n",
      "  Max dual violation        (abs/rel) :       0.0 /       0.0\n",
      "  Max complementarity viol. (abs/rel) :       0.0 /       0.0\n"
     ]
    },
    {
     "data": {
      "text/plain": [
       "(<SolveStatus.COMPLETED: 3>, <SolStatus.OPTIMAL: 1>)"
      ]
     },
     "execution_count": 6,
     "metadata": {},
     "output_type": "execute_result"
    }
   ],
   "source": [
    "prob.solve()"
   ]
  },
  {
   "cell_type": "markdown",
   "id": "93326524",
   "metadata": {},
   "source": [
    "It might now be a good idea to print out the results."
   ]
  },
  {
   "cell_type": "code",
   "execution_count": 7,
   "id": "637981f5",
   "metadata": {},
   "outputs": [
    {
     "name": "stdout",
     "output_type": "stream",
     "text": [
      "x =  0.3333333333333333\n",
      "y =  0.33333333333333337\n",
      "The objective function value is 0.6666666666666667\n"
     ]
    }
   ],
   "source": [
    "print(f'x =  {prob.getSolution(x)}')\n",
    "print(f'y =  {prob.getSolution(y)}') \n",
    "print(f'The objective function value is {prob.getObjVal()}') "
   ]
  },
  {
   "cell_type": "markdown",
   "id": "e7583302",
   "metadata": {},
   "source": [
    "This is a very simple example, lets try to solve a more complex problem. Remember the sailco example from the week 2 lecture.\n",
    "\n",
    "$$\\begin{array}{lll}\n",
    "\t\t \\min & \\displaystyle\\sum_{t=1}^4 400x_{1t} + \\sum_{t=1}^4 35x_{2t} + \\sum_{t=1}^4 50i_{1t} + \\sum_{t=1}^4 2i_{2t}\\\\\n",
    "\t\t \\text{s.t.} & 20x_{1t} + 3x_{2t} \\leq 1860, & t=1,2,3,4,\\\\\n",
    "\t\t & y_{it}\\geq d_{i,t}, &  t=1,2,3,4,\\\\\n",
    "\t\t & i_{p1} = x_{p1} - y_{p1}, & p=1,2,\\\\\n",
    "\t\t & i_{pt} = i_{p,t-1} + x_{pt} - y_{pt}, & p=1,2, \\ t=2,3,4,\\\\\n",
    "\t\t & i_{pt}, x_{pt}, y_{pt} \\geq 0, & p=1,2, \\ t=1,2,3,4\n",
    "\t\t \\end{array}$$\n",
    "with demand \n",
    "\n",
    "\n",
    "|           | Spring | Summer | Autumn | Winter |\n",
    "|-----------|--------|--------|--------|--------|\n",
    "| Sailboat  | 40     | 60     | 75     | 25     |\n",
    "| Surfboard | 190    | 350    | 130    | 20     |\n",
    "\n",
    "lets solve this problem. Lets begin by creating a numpy array containing our demand data."
   ]
  },
  {
   "cell_type": "code",
   "execution_count": 8,
   "id": "21cc961f",
   "metadata": {},
   "outputs": [
    {
     "name": "stdout",
     "output_type": "stream",
     "text": [
      "[[ 40  60  75  25]\n",
      " [190 350 130  20]]\n"
     ]
    }
   ],
   "source": [
    "# Creating the demand matrix\n",
    "\n",
    "demand = np.array([[ 40, 60, 75, 25],[190, 350, 130, 20]])\n",
    "print(demand)\n",
    "\n",
    "# Creating lists with seasons and products\n",
    "\n",
    "product_names = ['Sailboat', 'Surfboard']\n",
    "season_names = ['Spring', 'Summer', 'Autumn', 'Winter']"
   ]
  },
  {
   "cell_type": "markdown",
   "id": "9431a44b",
   "metadata": {},
   "source": [
    "Now lets define our index sets."
   ]
  },
  {
   "cell_type": "code",
   "execution_count": 9,
   "id": "a1c66d13",
   "metadata": {},
   "outputs": [],
   "source": [
    "# Defining the index sets\n",
    "\n",
    "number_of_products = 2\n",
    "number_of_periods = 4\n",
    "Products = range(number_of_products)\n",
    "Periods = range(number_of_periods)"
   ]
  },
  {
   "cell_type": "markdown",
   "id": "4ac9e5d7",
   "metadata": {},
   "source": [
    "Now lets define our problem and decision variables using numpy arrays."
   ]
  },
  {
   "cell_type": "code",
   "execution_count": 10,
   "id": "fdd76c6f",
   "metadata": {},
   "outputs": [
    {
     "name": "stdout",
     "output_type": "stream",
     "text": [
      "[[make_1_1 make_1_2 make_1_3 make_1_4]\n",
      " [make_2_1 make_2_2 make_2_3 make_2_4]]\n"
     ]
    }
   ],
   "source": [
    "# Define the problem\n",
    "prob = xp.problem('Sailco')\n",
    "\n",
    "# Define our decision variable as a numpy array\n",
    "# We use the reshape function to make the numpy array a matrix\n",
    "make = np.array([xp.var( name='make_{0}_{1}'.format(i+1,j+1))\n",
    "                    for i in Products for j in Periods], dtype=xp.npvar).reshape(number_of_products,number_of_periods)\n",
    "sell = np.array([xp.var( name='sell_{0}_{1}'.format(i+1,j+1))\n",
    "                    for i in Products for j in Periods], dtype=xp.npvar).reshape(number_of_products,number_of_periods)\n",
    "inventory = np.array([xp.var( name='inventory_{0}_{1}'.format(i+1,j+1))\n",
    "                    for i in Products for j in Periods], dtype=xp.npvar).reshape(number_of_products,number_of_periods)\n",
    "\n",
    "print(make)\n",
    "\n",
    "prob.addVariable(make,sell,inventory)"
   ]
  },
  {
   "cell_type": "markdown",
   "id": "cd51bc7f",
   "metadata": {},
   "source": [
    "Lets add our constraints"
   ]
  },
  {
   "cell_type": "code",
   "execution_count": 11,
   "id": "0ef6fa2d",
   "metadata": {},
   "outputs": [],
   "source": [
    "# Labour restriction\n",
    "prob.addConstraint(20*make[0,t] + 3*make[1,t] <= 1860 for t in Periods)\n",
    "\n",
    "# Demand constraints\n",
    "prob.addConstraint(sell[i,t] >= demand[i,t] for i in Products for t in Periods)\n",
    "\n",
    "# Inventory ballance for all times except first time period\n",
    "prob.addConstraint(inventory[i,t] == inventory[i,t-1] + make[i,t] - sell[i,t] for i in Products for t in Periods if t != 0)\n",
    "\n",
    "\n",
    "# Inventory ballance for first time period\n",
    "prob.addConstraint(inventory[i,0] == make[i,0] -sell[i,0] for i in Products)"
   ]
  },
  {
   "cell_type": "markdown",
   "id": "68c5e534",
   "metadata": {},
   "source": [
    "Now lets add our objective function. Note how we use the the sum function contained in the Xpress module rather than the native python operator. This is for efficiency reasons "
   ]
  },
  {
   "cell_type": "code",
   "execution_count": 12,
   "id": "a3d4cce5",
   "metadata": {},
   "outputs": [],
   "source": [
    "# Define the objective function\n",
    "\n",
    "prob.setObjective(400*xp.Sum(make[0,t] for t in Periods) + 35*xp.Sum(make[1,t] for t in Periods) + \n",
    "                  50*xp.Sum(inventory[0,t] for t in Periods) +  2*xp.Sum(inventory[1,t] for t in Periods), \n",
    "                  sense = xp.minimize)"
   ]
  },
  {
   "cell_type": "markdown",
   "id": "4cdc8c45",
   "metadata": {},
   "source": [
    "Sometimes it is good to check our problem before we solve it, we can do this by saving the corresponding `lp` file. This is very useful for debugging."
   ]
  },
  {
   "cell_type": "code",
   "execution_count": 13,
   "id": "8cb3dd4e",
   "metadata": {},
   "outputs": [],
   "source": [
    "prob.write(\"problem\",\"lp\")"
   ]
  },
  {
   "cell_type": "code",
   "execution_count": 14,
   "id": "37c80722",
   "metadata": {},
   "outputs": [
    {
     "name": "stdout",
     "output_type": "stream",
     "text": [
      "FICO Xpress v9.2.5, Community, solve started 22:09:42, Nov 22, 2023\n",
      "Heap usage: 395KB (peak 427KB, 106KB system)\n",
      "Minimizing LP noname using up to 2 threads and up to 7929MB memory, with these control settings:\n",
      "OUTPUTLOG = 1\n",
      "Original problem has:\n",
      "        20 rows           24 cols           46 elements\n",
      "Presolved problem has:\n",
      "        10 rows           12 cols           24 elements\n",
      "Presolve finished in 0 seconds\n",
      "Heap usage: 397KB (peak 427KB, 106KB system)\n",
      "\n",
      "Coefficient range                    original                 solved        \n",
      "  Coefficients   [min,max] : [ 1.00e+00,  2.00e+01] / [ 1.88e-01,  1.25e+00]\n",
      "  RHS and bounds [min,max] : [ 2.00e+01,  1.86e+03] / [ 2.00e+01,  3.50e+02]\n",
      "  Objective      [min,max] : [ 2.00e+00,  4.00e+02] / [ 2.00e+00,  4.50e+02]\n",
      "Autoscaling applied standard scaling\n",
      "\n",
      " \n",
      "   Its         Obj Value      S   Ninf  Nneg   Sum Dual Inf  Time\n",
      "     0       50383.32319      D      6     0        .000000     0\n",
      "     9       104450.0000      D      0     0        .000000     0\n",
      "Uncrunching matrix\n",
      "Optimal solution found\n",
      "Dual solved problem\n",
      "  9 simplex iterations in 0.00 seconds at time 0\n",
      "\n",
      "Final objective                       : 1.044500000000000e+05\n",
      "  Max primal violation      (abs/rel) :       0.0 /       0.0\n",
      "  Max dual violation        (abs/rel) :       0.0 /       0.0\n",
      "  Max complementarity viol. (abs/rel) :       0.0 /       0.0\n"
     ]
    },
    {
     "data": {
      "text/plain": [
       "(<SolveStatus.COMPLETED: 3>, <SolStatus.OPTIMAL: 1>)"
      ]
     },
     "execution_count": 14,
     "metadata": {},
     "output_type": "execute_result"
    }
   ],
   "source": [
    "prob.solve()"
   ]
  },
  {
   "cell_type": "markdown",
   "id": "461232db",
   "metadata": {},
   "source": [
    "Lets add our solutions to data frames. "
   ]
  },
  {
   "cell_type": "code",
   "execution_count": 15,
   "id": "15c5ca5b",
   "metadata": {},
   "outputs": [
    {
     "data": {
      "text/html": [
       "<style type=\"text/css\">\n",
       "</style>\n",
       "<table id=\"T_4a88b\">\n",
       "  <caption>Make</caption>\n",
       "  <thead>\n",
       "    <tr>\n",
       "      <th class=\"blank level0\" >&nbsp;</th>\n",
       "      <th id=\"T_4a88b_level0_col0\" class=\"col_heading level0 col0\" >Spring</th>\n",
       "      <th id=\"T_4a88b_level0_col1\" class=\"col_heading level0 col1\" >Summer</th>\n",
       "      <th id=\"T_4a88b_level0_col2\" class=\"col_heading level0 col2\" >Autumn</th>\n",
       "      <th id=\"T_4a88b_level0_col3\" class=\"col_heading level0 col3\" >Winter</th>\n",
       "    </tr>\n",
       "  </thead>\n",
       "  <tbody>\n",
       "    <tr>\n",
       "      <th id=\"T_4a88b_level0_row0\" class=\"row_heading level0 row0\" >Sailboat</th>\n",
       "      <td id=\"T_4a88b_row0_col0\" class=\"data row0 col0\" >40.000000</td>\n",
       "      <td id=\"T_4a88b_row0_col1\" class=\"data row0 col1\" >60.000000</td>\n",
       "      <td id=\"T_4a88b_row0_col2\" class=\"data row0 col2\" >75.000000</td>\n",
       "      <td id=\"T_4a88b_row0_col3\" class=\"data row0 col3\" >25.000000</td>\n",
       "    </tr>\n",
       "    <tr>\n",
       "      <th id=\"T_4a88b_level0_row1\" class=\"row_heading level0 row1\" >Surfboard</th>\n",
       "      <td id=\"T_4a88b_row1_col0\" class=\"data row1 col0\" >330.000000</td>\n",
       "      <td id=\"T_4a88b_row1_col1\" class=\"data row1 col1\" >220.000000</td>\n",
       "      <td id=\"T_4a88b_row1_col2\" class=\"data row1 col2\" >120.000000</td>\n",
       "      <td id=\"T_4a88b_row1_col3\" class=\"data row1 col3\" >20.000000</td>\n",
       "    </tr>\n",
       "  </tbody>\n",
       "</table>\n"
      ],
      "text/plain": [
       "<pandas.io.formats.style.Styler at 0x7f9374e37e50>"
      ]
     },
     "metadata": {},
     "output_type": "display_data"
    },
    {
     "data": {
      "text/html": [
       "<style type=\"text/css\">\n",
       "</style>\n",
       "<table id=\"T_2e565\">\n",
       "  <caption>Sell</caption>\n",
       "  <thead>\n",
       "    <tr>\n",
       "      <th class=\"blank level0\" >&nbsp;</th>\n",
       "      <th id=\"T_2e565_level0_col0\" class=\"col_heading level0 col0\" >Spring</th>\n",
       "      <th id=\"T_2e565_level0_col1\" class=\"col_heading level0 col1\" >Summer</th>\n",
       "      <th id=\"T_2e565_level0_col2\" class=\"col_heading level0 col2\" >Autumn</th>\n",
       "      <th id=\"T_2e565_level0_col3\" class=\"col_heading level0 col3\" >Winter</th>\n",
       "    </tr>\n",
       "  </thead>\n",
       "  <tbody>\n",
       "    <tr>\n",
       "      <th id=\"T_2e565_level0_row0\" class=\"row_heading level0 row0\" >Sailboat</th>\n",
       "      <td id=\"T_2e565_row0_col0\" class=\"data row0 col0\" >40.000000</td>\n",
       "      <td id=\"T_2e565_row0_col1\" class=\"data row0 col1\" >60.000000</td>\n",
       "      <td id=\"T_2e565_row0_col2\" class=\"data row0 col2\" >75.000000</td>\n",
       "      <td id=\"T_2e565_row0_col3\" class=\"data row0 col3\" >25.000000</td>\n",
       "    </tr>\n",
       "    <tr>\n",
       "      <th id=\"T_2e565_level0_row1\" class=\"row_heading level0 row1\" >Surfboard</th>\n",
       "      <td id=\"T_2e565_row1_col0\" class=\"data row1 col0\" >190.000000</td>\n",
       "      <td id=\"T_2e565_row1_col1\" class=\"data row1 col1\" >350.000000</td>\n",
       "      <td id=\"T_2e565_row1_col2\" class=\"data row1 col2\" >130.000000</td>\n",
       "      <td id=\"T_2e565_row1_col3\" class=\"data row1 col3\" >20.000000</td>\n",
       "    </tr>\n",
       "  </tbody>\n",
       "</table>\n"
      ],
      "text/plain": [
       "<pandas.io.formats.style.Styler at 0x7f93a4f6ecb0>"
      ]
     },
     "metadata": {},
     "output_type": "display_data"
    },
    {
     "data": {
      "text/html": [
       "<style type=\"text/css\">\n",
       "</style>\n",
       "<table id=\"T_3d16b\">\n",
       "  <caption>Inventory</caption>\n",
       "  <thead>\n",
       "    <tr>\n",
       "      <th class=\"blank level0\" >&nbsp;</th>\n",
       "      <th id=\"T_3d16b_level0_col0\" class=\"col_heading level0 col0\" >Spring</th>\n",
       "      <th id=\"T_3d16b_level0_col1\" class=\"col_heading level0 col1\" >Summer</th>\n",
       "      <th id=\"T_3d16b_level0_col2\" class=\"col_heading level0 col2\" >Autumn</th>\n",
       "      <th id=\"T_3d16b_level0_col3\" class=\"col_heading level0 col3\" >Winter</th>\n",
       "    </tr>\n",
       "  </thead>\n",
       "  <tbody>\n",
       "    <tr>\n",
       "      <th id=\"T_3d16b_level0_row0\" class=\"row_heading level0 row0\" >Sailboat</th>\n",
       "      <td id=\"T_3d16b_row0_col0\" class=\"data row0 col0\" >0.000000</td>\n",
       "      <td id=\"T_3d16b_row0_col1\" class=\"data row0 col1\" >0.000000</td>\n",
       "      <td id=\"T_3d16b_row0_col2\" class=\"data row0 col2\" >0.000000</td>\n",
       "      <td id=\"T_3d16b_row0_col3\" class=\"data row0 col3\" >0.000000</td>\n",
       "    </tr>\n",
       "    <tr>\n",
       "      <th id=\"T_3d16b_level0_row1\" class=\"row_heading level0 row1\" >Surfboard</th>\n",
       "      <td id=\"T_3d16b_row1_col0\" class=\"data row1 col0\" >140.000000</td>\n",
       "      <td id=\"T_3d16b_row1_col1\" class=\"data row1 col1\" >10.000000</td>\n",
       "      <td id=\"T_3d16b_row1_col2\" class=\"data row1 col2\" >0.000000</td>\n",
       "      <td id=\"T_3d16b_row1_col3\" class=\"data row1 col3\" >0.000000</td>\n",
       "    </tr>\n",
       "  </tbody>\n",
       "</table>\n"
      ],
      "text/plain": [
       "<pandas.io.formats.style.Styler at 0x7f9374c9e7d0>"
      ]
     },
     "metadata": {},
     "output_type": "display_data"
    }
   ],
   "source": [
    "# Add the solutions into a dataframe\n",
    "\n",
    "make_df = pd.DataFrame(data = prob.getSolution(make), index = product_names, columns = season_names)\n",
    "sell_df = pd.DataFrame(data = prob.getSolution(sell), index = product_names, columns = season_names)\n",
    "inventory_df = pd.DataFrame(data = prob.getSolution(inventory), index = product_names, columns = season_names)\n",
    "\n",
    "make_df = make_df.style.set_caption('Make')\n",
    "sell_df = sell_df.style.set_caption('Sell')\n",
    "inventory_df = inventory_df.style.set_caption('Inventory')\n",
    "\n",
    "display(make_df)\n",
    "display(sell_df)\n",
    "display(inventory_df)"
   ]
  },
  {
   "cell_type": "markdown",
   "id": "ad2d16df",
   "metadata": {},
   "source": [
    "In some cases we might want to use dictionaries to define our decision variables. Lets consider the sudoku problem from week. We will start off by defining the dimension of the sudoku puzzle and by creating the initial puzzle."
   ]
  },
  {
   "cell_type": "code",
   "execution_count": 16,
   "id": "c32daee5",
   "metadata": {},
   "outputs": [],
   "source": [
    "# The input is a starting grid where the unknown numbers are replaced by zero\n",
    "# q is the dimension of the sub blocks\n",
    "q = 3\n",
    "\n",
    "starting_grid = \\\n",
    " [[8, 0, 0, 0, 0, 0, 0, 0, 0],\n",
    "  [0, 0, 3, 6, 0, 0, 0, 0, 0],\n",
    "  [0, 7, 0, 0, 9, 0, 2, 0, 0],\n",
    "  [0, 5, 0, 0, 0, 7, 0, 0, 0],\n",
    "  [0, 0, 0, 0, 4, 5, 7, 0, 0],\n",
    "  [0, 0, 0, 1, 0, 0, 0, 3, 0],\n",
    "  [0, 0, 1, 0, 0, 0, 0, 6, 8],\n",
    "  [0, 0, 8, 5, 0, 0, 0, 1, 0],\n",
    "  [0, 9, 0, 0, 0, 0, 4, 0, 0]]"
   ]
  },
  {
   "cell_type": "markdown",
   "id": "40413bf2",
   "metadata": {},
   "source": [
    "We will now define our decision variables $x_{i,j,k}$ as a dictionary."
   ]
  },
  {
   "cell_type": "code",
   "execution_count": 17,
   "id": "d4543ab0",
   "metadata": {},
   "outputs": [
    {
     "name": "stdout",
     "output_type": "stream",
     "text": [
      "{(0, 0, 0): x0_0_0, (0, 0, 1): x0_0_1, (0, 0, 2): x0_0_2, (0, 0, 3): x0_0_3, (0, 0, 4): x0_0_4, (0, 0, 5): x0_0_5, (0, 0, 6): x0_0_6, (0, 0, 7): x0_0_7, (0, 0, 8): x0_0_8, (0, 1, 0): x0_1_0, (0, 1, 1): x0_1_1, (0, 1, 2): x0_1_2, (0, 1, 3): x0_1_3, (0, 1, 4): x0_1_4, (0, 1, 5): x0_1_5, (0, 1, 6): x0_1_6, (0, 1, 7): x0_1_7, (0, 1, 8): x0_1_8, (0, 2, 0): x0_2_0, (0, 2, 1): x0_2_1, (0, 2, 2): x0_2_2, (0, 2, 3): x0_2_3, (0, 2, 4): x0_2_4, (0, 2, 5): x0_2_5, (0, 2, 6): x0_2_6, (0, 2, 7): x0_2_7, (0, 2, 8): x0_2_8, (0, 3, 0): x0_3_0, (0, 3, 1): x0_3_1, (0, 3, 2): x0_3_2, (0, 3, 3): x0_3_3, (0, 3, 4): x0_3_4, (0, 3, 5): x0_3_5, (0, 3, 6): x0_3_6, (0, 3, 7): x0_3_7, (0, 3, 8): x0_3_8, (0, 4, 0): x0_4_0, (0, 4, 1): x0_4_1, (0, 4, 2): x0_4_2, (0, 4, 3): x0_4_3, (0, 4, 4): x0_4_4, (0, 4, 5): x0_4_5, (0, 4, 6): x0_4_6, (0, 4, 7): x0_4_7, (0, 4, 8): x0_4_8, (0, 5, 0): x0_5_0, (0, 5, 1): x0_5_1, (0, 5, 2): x0_5_2, (0, 5, 3): x0_5_3, (0, 5, 4): x0_5_4, (0, 5, 5): x0_5_5, (0, 5, 6): x0_5_6, (0, 5, 7): x0_5_7, (0, 5, 8): x0_5_8, (0, 6, 0): x0_6_0, (0, 6, 1): x0_6_1, (0, 6, 2): x0_6_2, (0, 6, 3): x0_6_3, (0, 6, 4): x0_6_4, (0, 6, 5): x0_6_5, (0, 6, 6): x0_6_6, (0, 6, 7): x0_6_7, (0, 6, 8): x0_6_8, (0, 7, 0): x0_7_0, (0, 7, 1): x0_7_1, (0, 7, 2): x0_7_2, (0, 7, 3): x0_7_3, (0, 7, 4): x0_7_4, (0, 7, 5): x0_7_5, (0, 7, 6): x0_7_6, (0, 7, 7): x0_7_7, (0, 7, 8): x0_7_8, (0, 8, 0): x0_8_0, (0, 8, 1): x0_8_1, (0, 8, 2): x0_8_2, (0, 8, 3): x0_8_3, (0, 8, 4): x0_8_4, (0, 8, 5): x0_8_5, (0, 8, 6): x0_8_6, (0, 8, 7): x0_8_7, (0, 8, 8): x0_8_8, (1, 0, 0): x1_0_0, (1, 0, 1): x1_0_1, (1, 0, 2): x1_0_2, (1, 0, 3): x1_0_3, (1, 0, 4): x1_0_4, (1, 0, 5): x1_0_5, (1, 0, 6): x1_0_6, (1, 0, 7): x1_0_7, (1, 0, 8): x1_0_8, (1, 1, 0): x1_1_0, (1, 1, 1): x1_1_1, (1, 1, 2): x1_1_2, (1, 1, 3): x1_1_3, (1, 1, 4): x1_1_4, (1, 1, 5): x1_1_5, (1, 1, 6): x1_1_6, (1, 1, 7): x1_1_7, (1, 1, 8): x1_1_8, (1, 2, 0): x1_2_0, (1, 2, 1): x1_2_1, (1, 2, 2): x1_2_2, (1, 2, 3): x1_2_3, (1, 2, 4): x1_2_4, (1, 2, 5): x1_2_5, (1, 2, 6): x1_2_6, (1, 2, 7): x1_2_7, (1, 2, 8): x1_2_8, (1, 3, 0): x1_3_0, (1, 3, 1): x1_3_1, (1, 3, 2): x1_3_2, (1, 3, 3): x1_3_3, (1, 3, 4): x1_3_4, (1, 3, 5): x1_3_5, (1, 3, 6): x1_3_6, (1, 3, 7): x1_3_7, (1, 3, 8): x1_3_8, (1, 4, 0): x1_4_0, (1, 4, 1): x1_4_1, (1, 4, 2): x1_4_2, (1, 4, 3): x1_4_3, (1, 4, 4): x1_4_4, (1, 4, 5): x1_4_5, (1, 4, 6): x1_4_6, (1, 4, 7): x1_4_7, (1, 4, 8): x1_4_8, (1, 5, 0): x1_5_0, (1, 5, 1): x1_5_1, (1, 5, 2): x1_5_2, (1, 5, 3): x1_5_3, (1, 5, 4): x1_5_4, (1, 5, 5): x1_5_5, (1, 5, 6): x1_5_6, (1, 5, 7): x1_5_7, (1, 5, 8): x1_5_8, (1, 6, 0): x1_6_0, (1, 6, 1): x1_6_1, (1, 6, 2): x1_6_2, (1, 6, 3): x1_6_3, (1, 6, 4): x1_6_4, (1, 6, 5): x1_6_5, (1, 6, 6): x1_6_6, (1, 6, 7): x1_6_7, (1, 6, 8): x1_6_8, (1, 7, 0): x1_7_0, (1, 7, 1): x1_7_1, (1, 7, 2): x1_7_2, (1, 7, 3): x1_7_3, (1, 7, 4): x1_7_4, (1, 7, 5): x1_7_5, (1, 7, 6): x1_7_6, (1, 7, 7): x1_7_7, (1, 7, 8): x1_7_8, (1, 8, 0): x1_8_0, (1, 8, 1): x1_8_1, (1, 8, 2): x1_8_2, (1, 8, 3): x1_8_3, (1, 8, 4): x1_8_4, (1, 8, 5): x1_8_5, (1, 8, 6): x1_8_6, (1, 8, 7): x1_8_7, (1, 8, 8): x1_8_8, (2, 0, 0): x2_0_0, (2, 0, 1): x2_0_1, (2, 0, 2): x2_0_2, (2, 0, 3): x2_0_3, (2, 0, 4): x2_0_4, (2, 0, 5): x2_0_5, (2, 0, 6): x2_0_6, (2, 0, 7): x2_0_7, (2, 0, 8): x2_0_8, (2, 1, 0): x2_1_0, (2, 1, 1): x2_1_1, (2, 1, 2): x2_1_2, (2, 1, 3): x2_1_3, (2, 1, 4): x2_1_4, (2, 1, 5): x2_1_5, (2, 1, 6): x2_1_6, (2, 1, 7): x2_1_7, (2, 1, 8): x2_1_8, (2, 2, 0): x2_2_0, (2, 2, 1): x2_2_1, (2, 2, 2): x2_2_2, (2, 2, 3): x2_2_3, (2, 2, 4): x2_2_4, (2, 2, 5): x2_2_5, (2, 2, 6): x2_2_6, (2, 2, 7): x2_2_7, (2, 2, 8): x2_2_8, (2, 3, 0): x2_3_0, (2, 3, 1): x2_3_1, (2, 3, 2): x2_3_2, (2, 3, 3): x2_3_3, (2, 3, 4): x2_3_4, (2, 3, 5): x2_3_5, (2, 3, 6): x2_3_6, (2, 3, 7): x2_3_7, (2, 3, 8): x2_3_8, (2, 4, 0): x2_4_0, (2, 4, 1): x2_4_1, (2, 4, 2): x2_4_2, (2, 4, 3): x2_4_3, (2, 4, 4): x2_4_4, (2, 4, 5): x2_4_5, (2, 4, 6): x2_4_6, (2, 4, 7): x2_4_7, (2, 4, 8): x2_4_8, (2, 5, 0): x2_5_0, (2, 5, 1): x2_5_1, (2, 5, 2): x2_5_2, (2, 5, 3): x2_5_3, (2, 5, 4): x2_5_4, (2, 5, 5): x2_5_5, (2, 5, 6): x2_5_6, (2, 5, 7): x2_5_7, (2, 5, 8): x2_5_8, (2, 6, 0): x2_6_0, (2, 6, 1): x2_6_1, (2, 6, 2): x2_6_2, (2, 6, 3): x2_6_3, (2, 6, 4): x2_6_4, (2, 6, 5): x2_6_5, (2, 6, 6): x2_6_6, (2, 6, 7): x2_6_7, (2, 6, 8): x2_6_8, (2, 7, 0): x2_7_0, (2, 7, 1): x2_7_1, (2, 7, 2): x2_7_2, (2, 7, 3): x2_7_3, (2, 7, 4): x2_7_4, (2, 7, 5): x2_7_5, (2, 7, 6): x2_7_6, (2, 7, 7): x2_7_7, (2, 7, 8): x2_7_8, (2, 8, 0): x2_8_0, (2, 8, 1): x2_8_1, (2, 8, 2): x2_8_2, (2, 8, 3): x2_8_3, (2, 8, 4): x2_8_4, (2, 8, 5): x2_8_5, (2, 8, 6): x2_8_6, (2, 8, 7): x2_8_7, (2, 8, 8): x2_8_8, (3, 0, 0): x3_0_0, (3, 0, 1): x3_0_1, (3, 0, 2): x3_0_2, (3, 0, 3): x3_0_3, (3, 0, 4): x3_0_4, (3, 0, 5): x3_0_5, (3, 0, 6): x3_0_6, (3, 0, 7): x3_0_7, (3, 0, 8): x3_0_8, (3, 1, 0): x3_1_0, (3, 1, 1): x3_1_1, (3, 1, 2): x3_1_2, (3, 1, 3): x3_1_3, (3, 1, 4): x3_1_4, (3, 1, 5): x3_1_5, (3, 1, 6): x3_1_6, (3, 1, 7): x3_1_7, (3, 1, 8): x3_1_8, (3, 2, 0): x3_2_0, (3, 2, 1): x3_2_1, (3, 2, 2): x3_2_2, (3, 2, 3): x3_2_3, (3, 2, 4): x3_2_4, (3, 2, 5): x3_2_5, (3, 2, 6): x3_2_6, (3, 2, 7): x3_2_7, (3, 2, 8): x3_2_8, (3, 3, 0): x3_3_0, (3, 3, 1): x3_3_1, (3, 3, 2): x3_3_2, (3, 3, 3): x3_3_3, (3, 3, 4): x3_3_4, (3, 3, 5): x3_3_5, (3, 3, 6): x3_3_6, (3, 3, 7): x3_3_7, (3, 3, 8): x3_3_8, (3, 4, 0): x3_4_0, (3, 4, 1): x3_4_1, (3, 4, 2): x3_4_2, (3, 4, 3): x3_4_3, (3, 4, 4): x3_4_4, (3, 4, 5): x3_4_5, (3, 4, 6): x3_4_6, (3, 4, 7): x3_4_7, (3, 4, 8): x3_4_8, (3, 5, 0): x3_5_0, (3, 5, 1): x3_5_1, (3, 5, 2): x3_5_2, (3, 5, 3): x3_5_3, (3, 5, 4): x3_5_4, (3, 5, 5): x3_5_5, (3, 5, 6): x3_5_6, (3, 5, 7): x3_5_7, (3, 5, 8): x3_5_8, (3, 6, 0): x3_6_0, (3, 6, 1): x3_6_1, (3, 6, 2): x3_6_2, (3, 6, 3): x3_6_3, (3, 6, 4): x3_6_4, (3, 6, 5): x3_6_5, (3, 6, 6): x3_6_6, (3, 6, 7): x3_6_7, (3, 6, 8): x3_6_8, (3, 7, 0): x3_7_0, (3, 7, 1): x3_7_1, (3, 7, 2): x3_7_2, (3, 7, 3): x3_7_3, (3, 7, 4): x3_7_4, (3, 7, 5): x3_7_5, (3, 7, 6): x3_7_6, (3, 7, 7): x3_7_7, (3, 7, 8): x3_7_8, (3, 8, 0): x3_8_0, (3, 8, 1): x3_8_1, (3, 8, 2): x3_8_2, (3, 8, 3): x3_8_3, (3, 8, 4): x3_8_4, (3, 8, 5): x3_8_5, (3, 8, 6): x3_8_6, (3, 8, 7): x3_8_7, (3, 8, 8): x3_8_8, (4, 0, 0): x4_0_0, (4, 0, 1): x4_0_1, (4, 0, 2): x4_0_2, (4, 0, 3): x4_0_3, (4, 0, 4): x4_0_4, (4, 0, 5): x4_0_5, (4, 0, 6): x4_0_6, (4, 0, 7): x4_0_7, (4, 0, 8): x4_0_8, (4, 1, 0): x4_1_0, (4, 1, 1): x4_1_1, (4, 1, 2): x4_1_2, (4, 1, 3): x4_1_3, (4, 1, 4): x4_1_4, (4, 1, 5): x4_1_5, (4, 1, 6): x4_1_6, (4, 1, 7): x4_1_7, (4, 1, 8): x4_1_8, (4, 2, 0): x4_2_0, (4, 2, 1): x4_2_1, (4, 2, 2): x4_2_2, (4, 2, 3): x4_2_3, (4, 2, 4): x4_2_4, (4, 2, 5): x4_2_5, (4, 2, 6): x4_2_6, (4, 2, 7): x4_2_7, (4, 2, 8): x4_2_8, (4, 3, 0): x4_3_0, (4, 3, 1): x4_3_1, (4, 3, 2): x4_3_2, (4, 3, 3): x4_3_3, (4, 3, 4): x4_3_4, (4, 3, 5): x4_3_5, (4, 3, 6): x4_3_6, (4, 3, 7): x4_3_7, (4, 3, 8): x4_3_8, (4, 4, 0): x4_4_0, (4, 4, 1): x4_4_1, (4, 4, 2): x4_4_2, (4, 4, 3): x4_4_3, (4, 4, 4): x4_4_4, (4, 4, 5): x4_4_5, (4, 4, 6): x4_4_6, (4, 4, 7): x4_4_7, (4, 4, 8): x4_4_8, (4, 5, 0): x4_5_0, (4, 5, 1): x4_5_1, (4, 5, 2): x4_5_2, (4, 5, 3): x4_5_3, (4, 5, 4): x4_5_4, (4, 5, 5): x4_5_5, (4, 5, 6): x4_5_6, (4, 5, 7): x4_5_7, (4, 5, 8): x4_5_8, (4, 6, 0): x4_6_0, (4, 6, 1): x4_6_1, (4, 6, 2): x4_6_2, (4, 6, 3): x4_6_3, (4, 6, 4): x4_6_4, (4, 6, 5): x4_6_5, (4, 6, 6): x4_6_6, (4, 6, 7): x4_6_7, (4, 6, 8): x4_6_8, (4, 7, 0): x4_7_0, (4, 7, 1): x4_7_1, (4, 7, 2): x4_7_2, (4, 7, 3): x4_7_3, (4, 7, 4): x4_7_4, (4, 7, 5): x4_7_5, (4, 7, 6): x4_7_6, (4, 7, 7): x4_7_7, (4, 7, 8): x4_7_8, (4, 8, 0): x4_8_0, (4, 8, 1): x4_8_1, (4, 8, 2): x4_8_2, (4, 8, 3): x4_8_3, (4, 8, 4): x4_8_4, (4, 8, 5): x4_8_5, (4, 8, 6): x4_8_6, (4, 8, 7): x4_8_7, (4, 8, 8): x4_8_8, (5, 0, 0): x5_0_0, (5, 0, 1): x5_0_1, (5, 0, 2): x5_0_2, (5, 0, 3): x5_0_3, (5, 0, 4): x5_0_4, (5, 0, 5): x5_0_5, (5, 0, 6): x5_0_6, (5, 0, 7): x5_0_7, (5, 0, 8): x5_0_8, (5, 1, 0): x5_1_0, (5, 1, 1): x5_1_1, (5, 1, 2): x5_1_2, (5, 1, 3): x5_1_3, (5, 1, 4): x5_1_4, (5, 1, 5): x5_1_5, (5, 1, 6): x5_1_6, (5, 1, 7): x5_1_7, (5, 1, 8): x5_1_8, (5, 2, 0): x5_2_0, (5, 2, 1): x5_2_1, (5, 2, 2): x5_2_2, (5, 2, 3): x5_2_3, (5, 2, 4): x5_2_4, (5, 2, 5): x5_2_5, (5, 2, 6): x5_2_6, (5, 2, 7): x5_2_7, (5, 2, 8): x5_2_8, (5, 3, 0): x5_3_0, (5, 3, 1): x5_3_1, (5, 3, 2): x5_3_2, (5, 3, 3): x5_3_3, (5, 3, 4): x5_3_4, (5, 3, 5): x5_3_5, (5, 3, 6): x5_3_6, (5, 3, 7): x5_3_7, (5, 3, 8): x5_3_8, (5, 4, 0): x5_4_0, (5, 4, 1): x5_4_1, (5, 4, 2): x5_4_2, (5, 4, 3): x5_4_3, (5, 4, 4): x5_4_4, (5, 4, 5): x5_4_5, (5, 4, 6): x5_4_6, (5, 4, 7): x5_4_7, (5, 4, 8): x5_4_8, (5, 5, 0): x5_5_0, (5, 5, 1): x5_5_1, (5, 5, 2): x5_5_2, (5, 5, 3): x5_5_3, (5, 5, 4): x5_5_4, (5, 5, 5): x5_5_5, (5, 5, 6): x5_5_6, (5, 5, 7): x5_5_7, (5, 5, 8): x5_5_8, (5, 6, 0): x5_6_0, (5, 6, 1): x5_6_1, (5, 6, 2): x5_6_2, (5, 6, 3): x5_6_3, (5, 6, 4): x5_6_4, (5, 6, 5): x5_6_5, (5, 6, 6): x5_6_6, (5, 6, 7): x5_6_7, (5, 6, 8): x5_6_8, (5, 7, 0): x5_7_0, (5, 7, 1): x5_7_1, (5, 7, 2): x5_7_2, (5, 7, 3): x5_7_3, (5, 7, 4): x5_7_4, (5, 7, 5): x5_7_5, (5, 7, 6): x5_7_6, (5, 7, 7): x5_7_7, (5, 7, 8): x5_7_8, (5, 8, 0): x5_8_0, (5, 8, 1): x5_8_1, (5, 8, 2): x5_8_2, (5, 8, 3): x5_8_3, (5, 8, 4): x5_8_4, (5, 8, 5): x5_8_5, (5, 8, 6): x5_8_6, (5, 8, 7): x5_8_7, (5, 8, 8): x5_8_8, (6, 0, 0): x6_0_0, (6, 0, 1): x6_0_1, (6, 0, 2): x6_0_2, (6, 0, 3): x6_0_3, (6, 0, 4): x6_0_4, (6, 0, 5): x6_0_5, (6, 0, 6): x6_0_6, (6, 0, 7): x6_0_7, (6, 0, 8): x6_0_8, (6, 1, 0): x6_1_0, (6, 1, 1): x6_1_1, (6, 1, 2): x6_1_2, (6, 1, 3): x6_1_3, (6, 1, 4): x6_1_4, (6, 1, 5): x6_1_5, (6, 1, 6): x6_1_6, (6, 1, 7): x6_1_7, (6, 1, 8): x6_1_8, (6, 2, 0): x6_2_0, (6, 2, 1): x6_2_1, (6, 2, 2): x6_2_2, (6, 2, 3): x6_2_3, (6, 2, 4): x6_2_4, (6, 2, 5): x6_2_5, (6, 2, 6): x6_2_6, (6, 2, 7): x6_2_7, (6, 2, 8): x6_2_8, (6, 3, 0): x6_3_0, (6, 3, 1): x6_3_1, (6, 3, 2): x6_3_2, (6, 3, 3): x6_3_3, (6, 3, 4): x6_3_4, (6, 3, 5): x6_3_5, (6, 3, 6): x6_3_6, (6, 3, 7): x6_3_7, (6, 3, 8): x6_3_8, (6, 4, 0): x6_4_0, (6, 4, 1): x6_4_1, (6, 4, 2): x6_4_2, (6, 4, 3): x6_4_3, (6, 4, 4): x6_4_4, (6, 4, 5): x6_4_5, (6, 4, 6): x6_4_6, (6, 4, 7): x6_4_7, (6, 4, 8): x6_4_8, (6, 5, 0): x6_5_0, (6, 5, 1): x6_5_1, (6, 5, 2): x6_5_2, (6, 5, 3): x6_5_3, (6, 5, 4): x6_5_4, (6, 5, 5): x6_5_5, (6, 5, 6): x6_5_6, (6, 5, 7): x6_5_7, (6, 5, 8): x6_5_8, (6, 6, 0): x6_6_0, (6, 6, 1): x6_6_1, (6, 6, 2): x6_6_2, (6, 6, 3): x6_6_3, (6, 6, 4): x6_6_4, (6, 6, 5): x6_6_5, (6, 6, 6): x6_6_6, (6, 6, 7): x6_6_7, (6, 6, 8): x6_6_8, (6, 7, 0): x6_7_0, (6, 7, 1): x6_7_1, (6, 7, 2): x6_7_2, (6, 7, 3): x6_7_3, (6, 7, 4): x6_7_4, (6, 7, 5): x6_7_5, (6, 7, 6): x6_7_6, (6, 7, 7): x6_7_7, (6, 7, 8): x6_7_8, (6, 8, 0): x6_8_0, (6, 8, 1): x6_8_1, (6, 8, 2): x6_8_2, (6, 8, 3): x6_8_3, (6, 8, 4): x6_8_4, (6, 8, 5): x6_8_5, (6, 8, 6): x6_8_6, (6, 8, 7): x6_8_7, (6, 8, 8): x6_8_8, (7, 0, 0): x7_0_0, (7, 0, 1): x7_0_1, (7, 0, 2): x7_0_2, (7, 0, 3): x7_0_3, (7, 0, 4): x7_0_4, (7, 0, 5): x7_0_5, (7, 0, 6): x7_0_6, (7, 0, 7): x7_0_7, (7, 0, 8): x7_0_8, (7, 1, 0): x7_1_0, (7, 1, 1): x7_1_1, (7, 1, 2): x7_1_2, (7, 1, 3): x7_1_3, (7, 1, 4): x7_1_4, (7, 1, 5): x7_1_5, (7, 1, 6): x7_1_6, (7, 1, 7): x7_1_7, (7, 1, 8): x7_1_8, (7, 2, 0): x7_2_0, (7, 2, 1): x7_2_1, (7, 2, 2): x7_2_2, (7, 2, 3): x7_2_3, (7, 2, 4): x7_2_4, (7, 2, 5): x7_2_5, (7, 2, 6): x7_2_6, (7, 2, 7): x7_2_7, (7, 2, 8): x7_2_8, (7, 3, 0): x7_3_0, (7, 3, 1): x7_3_1, (7, 3, 2): x7_3_2, (7, 3, 3): x7_3_3, (7, 3, 4): x7_3_4, (7, 3, 5): x7_3_5, (7, 3, 6): x7_3_6, (7, 3, 7): x7_3_7, (7, 3, 8): x7_3_8, (7, 4, 0): x7_4_0, (7, 4, 1): x7_4_1, (7, 4, 2): x7_4_2, (7, 4, 3): x7_4_3, (7, 4, 4): x7_4_4, (7, 4, 5): x7_4_5, (7, 4, 6): x7_4_6, (7, 4, 7): x7_4_7, (7, 4, 8): x7_4_8, (7, 5, 0): x7_5_0, (7, 5, 1): x7_5_1, (7, 5, 2): x7_5_2, (7, 5, 3): x7_5_3, (7, 5, 4): x7_5_4, (7, 5, 5): x7_5_5, (7, 5, 6): x7_5_6, (7, 5, 7): x7_5_7, (7, 5, 8): x7_5_8, (7, 6, 0): x7_6_0, (7, 6, 1): x7_6_1, (7, 6, 2): x7_6_2, (7, 6, 3): x7_6_3, (7, 6, 4): x7_6_4, (7, 6, 5): x7_6_5, (7, 6, 6): x7_6_6, (7, 6, 7): x7_6_7, (7, 6, 8): x7_6_8, (7, 7, 0): x7_7_0, (7, 7, 1): x7_7_1, (7, 7, 2): x7_7_2, (7, 7, 3): x7_7_3, (7, 7, 4): x7_7_4, (7, 7, 5): x7_7_5, (7, 7, 6): x7_7_6, (7, 7, 7): x7_7_7, (7, 7, 8): x7_7_8, (7, 8, 0): x7_8_0, (7, 8, 1): x7_8_1, (7, 8, 2): x7_8_2, (7, 8, 3): x7_8_3, (7, 8, 4): x7_8_4, (7, 8, 5): x7_8_5, (7, 8, 6): x7_8_6, (7, 8, 7): x7_8_7, (7, 8, 8): x7_8_8, (8, 0, 0): x8_0_0, (8, 0, 1): x8_0_1, (8, 0, 2): x8_0_2, (8, 0, 3): x8_0_3, (8, 0, 4): x8_0_4, (8, 0, 5): x8_0_5, (8, 0, 6): x8_0_6, (8, 0, 7): x8_0_7, (8, 0, 8): x8_0_8, (8, 1, 0): x8_1_0, (8, 1, 1): x8_1_1, (8, 1, 2): x8_1_2, (8, 1, 3): x8_1_3, (8, 1, 4): x8_1_4, (8, 1, 5): x8_1_5, (8, 1, 6): x8_1_6, (8, 1, 7): x8_1_7, (8, 1, 8): x8_1_8, (8, 2, 0): x8_2_0, (8, 2, 1): x8_2_1, (8, 2, 2): x8_2_2, (8, 2, 3): x8_2_3, (8, 2, 4): x8_2_4, (8, 2, 5): x8_2_5, (8, 2, 6): x8_2_6, (8, 2, 7): x8_2_7, (8, 2, 8): x8_2_8, (8, 3, 0): x8_3_0, (8, 3, 1): x8_3_1, (8, 3, 2): x8_3_2, (8, 3, 3): x8_3_3, (8, 3, 4): x8_3_4, (8, 3, 5): x8_3_5, (8, 3, 6): x8_3_6, (8, 3, 7): x8_3_7, (8, 3, 8): x8_3_8, (8, 4, 0): x8_4_0, (8, 4, 1): x8_4_1, (8, 4, 2): x8_4_2, (8, 4, 3): x8_4_3, (8, 4, 4): x8_4_4, (8, 4, 5): x8_4_5, (8, 4, 6): x8_4_6, (8, 4, 7): x8_4_7, (8, 4, 8): x8_4_8, (8, 5, 0): x8_5_0, (8, 5, 1): x8_5_1, (8, 5, 2): x8_5_2, (8, 5, 3): x8_5_3, (8, 5, 4): x8_5_4, (8, 5, 5): x8_5_5, (8, 5, 6): x8_5_6, (8, 5, 7): x8_5_7, (8, 5, 8): x8_5_8, (8, 6, 0): x8_6_0, (8, 6, 1): x8_6_1, (8, 6, 2): x8_6_2, (8, 6, 3): x8_6_3, (8, 6, 4): x8_6_4, (8, 6, 5): x8_6_5, (8, 6, 6): x8_6_6, (8, 6, 7): x8_6_7, (8, 6, 8): x8_6_8, (8, 7, 0): x8_7_0, (8, 7, 1): x8_7_1, (8, 7, 2): x8_7_2, (8, 7, 3): x8_7_3, (8, 7, 4): x8_7_4, (8, 7, 5): x8_7_5, (8, 7, 6): x8_7_6, (8, 7, 7): x8_7_7, (8, 7, 8): x8_7_8, (8, 8, 0): x8_8_0, (8, 8, 1): x8_8_1, (8, 8, 2): x8_8_2, (8, 8, 3): x8_8_3, (8, 8, 4): x8_8_4, (8, 8, 5): x8_8_5, (8, 8, 6): x8_8_6, (8, 8, 7): x8_8_7, (8, 8, 8): x8_8_8}\n"
     ]
    }
   ],
   "source": [
    "n = q**2  # the size must be the square of the size of the subgrids\n",
    "N = range(n)\n",
    "\n",
    "x = {(i, j, k): xp.var(vartype=xp.binary, name='x{0}_{1}_{2}'.format(i, j, k))\n",
    "     for i in N for j in N for k in N}\n",
    "\n",
    "print(x)"
   ]
  },
  {
   "cell_type": "markdown",
   "id": "cfacb5bf",
   "metadata": {},
   "source": [
    "Before we define our constraints lest define the box index set."
   ]
  },
  {
   "cell_type": "code",
   "execution_count": 18,
   "id": "3590a49e",
   "metadata": {},
   "outputs": [
    {
     "name": "stdout",
     "output_type": "stream",
     "text": [
      "{(0, 0): [(0, 0), (0, 1), (0, 2), (1, 0), (1, 1), (1, 2), (2, 0), (2, 1), (2, 2)], (0, 1): [(0, 3), (0, 4), (0, 5), (1, 3), (1, 4), (1, 5), (2, 3), (2, 4), (2, 5)], (0, 2): [(0, 6), (0, 7), (0, 8), (1, 6), (1, 7), (1, 8), (2, 6), (2, 7), (2, 8)], (1, 0): [(3, 0), (3, 1), (3, 2), (4, 0), (4, 1), (4, 2), (5, 0), (5, 1), (5, 2)], (1, 1): [(3, 3), (3, 4), (3, 5), (4, 3), (4, 4), (4, 5), (5, 3), (5, 4), (5, 5)], (1, 2): [(3, 6), (3, 7), (3, 8), (4, 6), (4, 7), (4, 8), (5, 6), (5, 7), (5, 8)], (2, 0): [(6, 0), (6, 1), (6, 2), (7, 0), (7, 1), (7, 2), (8, 0), (8, 1), (8, 2)], (2, 1): [(6, 3), (6, 4), (6, 5), (7, 3), (7, 4), (7, 5), (8, 3), (8, 4), (8, 5)], (2, 2): [(6, 6), (6, 7), (6, 8), (7, 6), (7, 7), (7, 8), (8, 6), (8, 7), (8, 8)]}\n"
     ]
    }
   ],
   "source": [
    "# define all q^2 subgrids\n",
    "subgrids = {(h, l): [(i, j) for i in range(q*h, q*h + q)\n",
    "            for j in range(q*l, q*l + q)]\n",
    "            for h in range(q)\n",
    "            for l in range(q)}\n",
    "print(subgrids)"
   ]
  },
  {
   "cell_type": "markdown",
   "id": "290e1655",
   "metadata": {},
   "source": [
    "Now lets define all the constraints"
   ]
  },
  {
   "cell_type": "code",
   "execution_count": 19,
   "id": "65dc78e4",
   "metadata": {},
   "outputs": [
    {
     "name": "stdout",
     "output_type": "stream",
     "text": [
      "[R23, R24, R25, R26, R27, R28, R29, R30, R31, R32, R33, R34, R35, R36, R37, R38, R39, R40, R41, R42, R43, R44, R45, R46, R47, R48, R49, R50, R51, R52, R53, R54, R55, R56, R57, R58, R59, R60, R61, R62, R63, R64, R65, R66, R67, R68, R69, R70, R71, R72, R73, R74, R75, R76, R77, R78, R79, R80, R81, R82, R83, R84, R85, R86, R87, R88, R89, R90, R91, R92, R93, R94, R95, R96, R97, R98, R99, R100, R101, R102, R103]\n"
     ]
    }
   ],
   "source": [
    "vertical = [xp.Sum(x[i, j, k] for i in N) == 1 for j in N for k in N]\n",
    "horizontal = [xp.Sum(x[i, j, k] for j in N) == 1 for i in N for k in N]\n",
    "subgrid = [xp.Sum(x[i, j, k] for (i, j) in subgrids[h, l]) == 1\n",
    "           for (h, l) in subgrids.keys() for k in N]\n",
    "\n",
    "# Assign exactly one number to each cell\n",
    "\n",
    "assign = [xp.Sum(x[i, j, k] for k in N) == 1 for i in N for j in N]\n",
    "\n",
    "# Fix those variables that are non-zero in the input grid\n",
    "\n",
    "init = [x[i, j, k] == 1 for k in N for i in N for j in N\n",
    "        if starting_grid[i][j] == k+1]\n",
    "print(vertical)"
   ]
  },
  {
   "cell_type": "markdown",
   "id": "d26ad497",
   "metadata": {},
   "source": [
    "We are now ready to define the problem, add our constraints and decision variables."
   ]
  },
  {
   "cell_type": "code",
   "execution_count": 20,
   "id": "4417feda",
   "metadata": {},
   "outputs": [],
   "source": [
    "# Define the problem\n",
    "p = xp.problem()\n",
    "\n",
    "# Include decision variables\n",
    "p.addVariable(x)\n",
    "\n",
    "# Include constraints\n",
    "p.addConstraint(vertical, horizontal, subgrid, assign, init)"
   ]
  },
  {
   "cell_type": "markdown",
   "id": "c6f42805",
   "metadata": {},
   "source": [
    "Now lets solve the problem!"
   ]
  },
  {
   "cell_type": "code",
   "execution_count": 21,
   "id": "f37cdf8b",
   "metadata": {},
   "outputs": [
    {
     "name": "stdout",
     "output_type": "stream",
     "text": [
      "FICO Xpress v9.2.5, Community, solve started 22:09:43, Nov 22, 2023\n",
      "Heap usage: 584KB (peak 584KB, 301KB system)\n",
      "Minimizing MILP noname using up to 2 threads and up to 7929MB memory, with these control settings:\n",
      "OUTPUTLOG = 1\n",
      "Original problem has:\n",
      "       345 rows          729 cols         2937 elements       729 entities\n",
      "Presolved problem has:\n",
      "       140 rows          200 cols          595 elements       200 entities\n",
      "LP relaxation tightened\n",
      "Presolve finished in 0 seconds\n",
      "Heap usage: 696KB (peak 1021KB, 301KB system)\n",
      "\n",
      "Coefficient range                    original                 solved        \n",
      "  Coefficients   [min,max] : [ 1.00e+00,  1.00e+00] / [ 1.00e+00,  1.00e+00]\n",
      "  RHS and bounds [min,max] : [ 1.00e+00,  1.00e+00] / [ 1.00e+00,  1.00e+00]\n",
      "  Objective      [min,max] : [      0.0,       0.0] / [      0.0,       0.0]\n",
      "Autoscaling applied standard scaling\n",
      "\n",
      "Will try to keep branch and bound tree memory usage below 6.4GB\n",
      "Starting concurrent solve with dual (1 thread)\n",
      "\n",
      " Concurrent-Solve,   0s\n",
      "            Dual        \n",
      "    objective   sum inf \n",
      " P   .0000000   .0000000\n",
      "------- optimal --------\n",
      "Concurrent statistics:\n",
      "      Dual: 224 simplex iterations, 0.00s\n",
      "Optimal solution found\n",
      " \n",
      "   Its         Obj Value      S   Ninf  Nneg        Sum Inf  Time\n",
      "   224           .000000      P      0     0        .000000     0\n",
      "Dual solved problem\n",
      "  224 simplex iterations in 0.00 seconds at time 0\n",
      "\n",
      "Final objective                       : 0.000000000000000e+00\n",
      "  Max primal violation      (abs/rel) : 1.110e-16 / 1.110e-16\n",
      "  Max dual violation        (abs/rel) :       0.0 /       0.0\n",
      "  Max complementarity viol. (abs/rel) :       0.0 /       0.0\n",
      "\n",
      "Starting root cutting & heuristics\n",
      " \n",
      " Its Type    BestSoln    BestBound   Sols    Add    Del     Gap     GInf   Time\n",
      "   1  K                    .000000      0     11      0               76      0\n",
      "   2  K                    .000000      0      0      8               77      0\n",
      "   3  G                    .000000      0     20      0               77      0\n",
      "   4  G                    .000000      0     20     41               57      0\n",
      "Heuristic search 'R' started\n",
      "Heuristic search 'R' stopped\n",
      " \n",
      "Cuts in the matrix         : 2\n",
      "Cut elements in the matrix : 45\n",
      "\n",
      "Starting tree search.\n",
      "Deterministic mode with up to 2 running threads and up to 4 tasks.\n",
      "Heap usage: 3842KB (peak 5962KB, 1234KB system)\n",
      " \n",
      "    Node     BestSoln    BestBound   Sols Active  Depth     Gap     GInf   Time\n",
      "       1                   .000000      0      2      1               62      0\n",
      "       3                   .000000      0      2      3               71      0\n",
      "       4                   .000000      0      2      4               55      0\n",
      "       5                   .000000      0      3      2               62      0\n",
      "       6                   .000000      0      2      4               71      0\n",
      "a      7      .000000      .000000      1      1      5 0.0e+00        0      0\n",
      "STOPPING - MIPRELSTOP target reached (MIPRELSTOP=0.0001  gap=0).\n",
      "       9      .000000      .000000      1      1      5 0.0e+00       62      0\n",
      " *** Search completed ***\n",
      "Uncrunching matrix\n",
      "Final MIP objective                   : 0.000000000000000e-01\n",
      "Final MIP bound                       : 0.000000000000000e-01\n",
      "  Solution time / primaldual integral :      0.51s/ 99.521064%\n",
      "  Number of solutions found / nodes   :         1 /         9\n",
      "  Max primal violation      (abs/rel) :       0.0 /       0.0\n",
      "  Max integer violation     (abs    ) :       0.0\n",
      "Solution:\n",
      " 8 1 2 7 5 3 6 4 9\n",
      " 9 4 3 6 8 2 1 7 5\n",
      " 6 7 5 4 9 1 2 8 3\n",
      " 1 5 4 2 3 7 8 9 6\n",
      " 3 6 9 8 4 5 7 2 1\n",
      " 2 8 7 1 6 9 5 3 4\n",
      " 5 2 1 9 7 4 3 6 8\n",
      " 4 3 8 5 2 6 9 1 7\n",
      " 7 9 6 3 1 8 4 5 2\n"
     ]
    }
   ],
   "source": [
    "p.solve()\n",
    "\n",
    "print('Solution:')\n",
    "\n",
    "for i in N:\n",
    "    for j in N:\n",
    "        l = [k for k in N if p.getSolution(x[i, j, k]) >= 0.5]\n",
    "        assert(len(l) == 1)\n",
    "        print('{0:2d}'.format(1 + l[0]), end='', sep='')\n",
    "    print('')"
   ]
  },
  {
   "cell_type": "code",
   "execution_count": null,
   "id": "391af988",
   "metadata": {},
   "outputs": [],
   "source": []
  }
 ],
 "metadata": {
  "kernelspec": {
   "display_name": "Python 3 (ipykernel)",
   "language": "python",
   "name": "python3"
  },
  "language_info": {
   "codemirror_mode": {
    "name": "ipython",
    "version": 3
   },
   "file_extension": ".py",
   "mimetype": "text/x-python",
   "name": "python",
   "nbconvert_exporter": "python",
   "pygments_lexer": "ipython3",
   "version": "3.10.8"
  },
  "varInspector": {
   "cols": {
    "lenName": 16,
    "lenType": 16,
    "lenVar": 40
   },
   "kernels_config": {
    "python": {
     "delete_cmd_postfix": "",
     "delete_cmd_prefix": "del ",
     "library": "var_list.py",
     "varRefreshCmd": "print(var_dic_list())"
    },
    "r": {
     "delete_cmd_postfix": ") ",
     "delete_cmd_prefix": "rm(",
     "library": "var_list.r",
     "varRefreshCmd": "cat(var_dic_list()) "
    }
   },
   "types_to_exclude": [
    "module",
    "function",
    "builtin_function_or_method",
    "instance",
    "_Feature"
   ],
   "window_display": false
  }
 },
 "nbformat": 4,
 "nbformat_minor": 5
}
